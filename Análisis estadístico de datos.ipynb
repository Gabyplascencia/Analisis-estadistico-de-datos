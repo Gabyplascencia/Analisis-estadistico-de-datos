{
 "cells": [
  {
   "cell_type": "markdown",
   "metadata": {
    "id": "3rYiDeEH0q0f"
   },
   "source": [
    "# ¿Cuál es la mejor tarifa?\n",
    "\n",
    "Trabajas como analista para el operador de telecomunicaciones Megaline. La empresa ofrece a sus clientes dos tarifas de prepago, Surf y Ultimate. El departamento comercial quiere saber cuál de las tarifas genera más ingresos para poder ajustar el presupuesto de publicidad.\n",
    "\n",
    "Vas a realizar un análisis preliminar de las tarifas basado en una selección de clientes relativamente pequeña. Tendrás los datos de 500 clientes de Megaline: quiénes son los clientes, de dónde son, qué tarifa usan, así como la cantidad de llamadas que hicieron y los mensajes de texto que enviaron en 2018. Tu trabajo es analizar el comportamiento de los clientes y determinar qué tarifa de prepago genera más ingresos."
   ]
  },
  {
   "cell_type": "markdown",
   "metadata": {
    "id": "MQi4IPy70q0y"
   },
   "source": [
    "## Inicialización"
   ]
  },
  {
   "cell_type": "code",
   "execution_count": 1,
   "metadata": {
    "id": "MtYIuBxu0q0z"
   },
   "outputs": [],
   "source": [
    "# Cargar todas las librerías necesarias para cargar, leer, graficar y analizar los datas\n",
    "\n",
    "import pandas as pd\n",
    "from math import factorial\n",
    "import numpy as np\n",
    "import seaborn as sns\n",
    "from scipy import stats as st\n",
    "from matplotlib import pyplot as plt\n"
   ]
  },
  {
   "cell_type": "markdown",
   "metadata": {
    "id": "4ysWWC5i0q00"
   },
   "source": [
    "## Cargar datos"
   ]
  },
  {
   "cell_type": "code",
   "execution_count": 2,
   "metadata": {
    "id": "CCqPW7rS0q01"
   },
   "outputs": [],
   "source": [
    "# Carga los archivos de datos en diferentes DataFrames\n",
    "calls=pd.read_csv(\"/datasets/megaline_calls.csv\")\n",
    "\n",
    "internet=pd.read_csv(\"/datasets/megaline_internet.csv\")\n",
    "\n",
    "messages=pd.read_csv(\"/datasets/megaline_messages.csv\") \n",
    "\n",
    "plans=pd.read_csv(\"/datasets/megaline_plans.csv\")\n",
    "\n",
    "users=pd.read_csv(\"/datasets/megaline_users.csv\")\n"
   ]
  },
  {
   "cell_type": "markdown",
   "metadata": {
    "id": "69qqoJ3r0q01"
   },
   "source": [
    "## Preparar los datos"
   ]
  },
  {
   "cell_type": "markdown",
   "metadata": {
    "id": "vUuZw80S0q01"
   },
   "source": [
    "Para este proyecto vamos a analizar 5 datas proporcionados por la compañia con la finalidad de poder hacer los analisis correcto y poder observar el comportamiento de nuestros clientes ante los paquetes proporcionados por dicha empresa y asi evaluar que paquete nos esta generando mejores ganancia y asi tomar las decisiones correctas para futuras campañas de marketing.\n",
    "\n",
    "Como primer paso se revizaran todos los datas en busqueda de dats ausentes, duplicados y asi tener los datas de forma correcta para su analisis profundo posterior."
   ]
  },
  {
   "cell_type": "markdown",
   "metadata": {
    "id": "ohBhimvH0q01"
   },
   "source": [
    "## Tarifas"
   ]
  },
  {
   "cell_type": "code",
   "execution_count": 3,
   "metadata": {
    "id": "GptqP3Q40q02"
   },
   "outputs": [
    {
     "name": "stdout",
     "output_type": "stream",
     "text": [
      "<class 'pandas.core.frame.DataFrame'>\n",
      "RangeIndex: 2 entries, 0 to 1\n",
      "Data columns (total 8 columns):\n",
      " #   Column                 Non-Null Count  Dtype  \n",
      "---  ------                 --------------  -----  \n",
      " 0   messages_included      2 non-null      int64  \n",
      " 1   mb_per_month_included  2 non-null      int64  \n",
      " 2   minutes_included       2 non-null      int64  \n",
      " 3   usd_monthly_pay        2 non-null      int64  \n",
      " 4   usd_per_gb             2 non-null      int64  \n",
      " 5   usd_per_message        2 non-null      float64\n",
      " 6   usd_per_minute         2 non-null      float64\n",
      " 7   plan_name              2 non-null      object \n",
      "dtypes: float64(2), int64(5), object(1)\n",
      "memory usage: 256.0+ bytes\n"
     ]
    }
   ],
   "source": [
    "# Imprime la información general/resumida sobre el DataFrame de las tarifas\n",
    "\n",
    "plans.info()"
   ]
  },
  {
   "cell_type": "code",
   "execution_count": 4,
   "metadata": {
    "id": "64xzjwL70q02"
   },
   "outputs": [
    {
     "name": "stdout",
     "output_type": "stream",
     "text": [
      "   messages_included  mb_per_month_included  minutes_included  \\\n",
      "0                 50                  15360               500   \n",
      "1               1000                  30720              3000   \n",
      "\n",
      "   usd_monthly_pay  usd_per_gb  usd_per_message  usd_per_minute plan_name  \n",
      "0               20          10             0.03            0.03      surf  \n",
      "1               70           7             0.01            0.01  ultimate  \n"
     ]
    }
   ],
   "source": [
    "# Imprime una muestra de los datos para las tarifas\n",
    "\n",
    "print(plans.head())"
   ]
  },
  {
   "cell_type": "markdown",
   "metadata": {
    "id": "mEc_3_hs0q02"
   },
   "source": [
    "En este data solo contamos con la informacion general de los 2 paquetes disponibles en la compañia y los costos y servicios incluidos en cada uno.\n",
    "\n",
    "\n",
    "La información no contiene datos ausentes o duplicados (comparando con los datos explicados en la introducción), el único detalle es que en la columna \"mb_per_month_included\" los datos estan expresados en megabytes y no en gigabytes como se ofrecen en el paquete, este dato no se cambiará ya que en otros datas se expresa en megabites para el conteo de datos consumidos por usuario"
   ]
  },
  {
   "cell_type": "markdown",
   "metadata": {
    "id": "R3C05i1l0q03"
   },
   "source": [
    "## Corregir datos"
   ]
  },
  {
   "cell_type": "markdown",
   "metadata": {
    "id": "bIi8StZI0q03"
   },
   "source": [
    "No se han encontrado datos a corregir en este data aparentes."
   ]
  },
  {
   "cell_type": "code",
   "execution_count": 5,
   "metadata": {},
   "outputs": [
    {
     "name": "stdout",
     "output_type": "stream",
     "text": [
      "   messages_included  mb_per_month_included  minutes_included  \\\n",
      "0                 50                  15360               500   \n",
      "1               1000                  30720              3000   \n",
      "\n",
      "   usd_monthly_pay  usd_per_gb  usd_per_message  usd_per_minute plan_name  \n",
      "0               20          10             0.03            0.03      surf  \n",
      "1               70           7             0.01            0.01  ultimate  \n",
      "<class 'pandas.core.frame.DataFrame'>\n",
      "RangeIndex: 2 entries, 0 to 1\n",
      "Data columns (total 8 columns):\n",
      " #   Column                 Non-Null Count  Dtype  \n",
      "---  ------                 --------------  -----  \n",
      " 0   messages_included      2 non-null      int64  \n",
      " 1   mb_per_month_included  2 non-null      int64  \n",
      " 2   minutes_included       2 non-null      int64  \n",
      " 3   usd_monthly_pay        2 non-null      int64  \n",
      " 4   usd_per_gb             2 non-null      int64  \n",
      " 5   usd_per_message        2 non-null      float64\n",
      " 6   usd_per_minute         2 non-null      float64\n",
      " 7   plan_name              2 non-null      object \n",
      "dtypes: float64(2), int64(5), object(1)\n",
      "memory usage: 256.0+ bytes\n"
     ]
    }
   ],
   "source": [
    "print(plans.head())\n",
    "plans.info()"
   ]
  },
  {
   "cell_type": "markdown",
   "metadata": {
    "id": "1n2X6WXf0q04"
   },
   "source": [
    "## Usuarios/as"
   ]
  },
  {
   "cell_type": "code",
   "execution_count": 6,
   "metadata": {
    "id": "2NgjWFqx0q05"
   },
   "outputs": [
    {
     "name": "stdout",
     "output_type": "stream",
     "text": [
      "<class 'pandas.core.frame.DataFrame'>\n",
      "RangeIndex: 500 entries, 0 to 499\n",
      "Data columns (total 8 columns):\n",
      " #   Column      Non-Null Count  Dtype \n",
      "---  ------      --------------  ----- \n",
      " 0   user_id     500 non-null    int64 \n",
      " 1   first_name  500 non-null    object\n",
      " 2   last_name   500 non-null    object\n",
      " 3   age         500 non-null    int64 \n",
      " 4   city        500 non-null    object\n",
      " 5   reg_date    500 non-null    object\n",
      " 6   plan        500 non-null    object\n",
      " 7   churn_date  34 non-null     object\n",
      "dtypes: int64(2), object(6)\n",
      "memory usage: 31.4+ KB\n"
     ]
    }
   ],
   "source": [
    "# Imprime la información general/resumida sobre el DataFrame de usuarios\n",
    "\n",
    "users.info()"
   ]
  },
  {
   "cell_type": "code",
   "execution_count": 7,
   "metadata": {
    "id": "1IN1L9uh0q05"
   },
   "outputs": [
    {
     "name": "stdout",
     "output_type": "stream",
     "text": [
      "   user_id first_name  last_name  age                                    city  \\\n",
      "0     1000   Anamaria      Bauer   45   Atlanta-Sandy Springs-Roswell, GA MSA   \n",
      "1     1001     Mickey  Wilkerson   28         Seattle-Tacoma-Bellevue, WA MSA   \n",
      "2     1002     Carlee    Hoffman   36    Las Vegas-Henderson-Paradise, NV MSA   \n",
      "3     1003   Reynaldo    Jenkins   52                           Tulsa, OK MSA   \n",
      "4     1004    Leonila   Thompson   40         Seattle-Tacoma-Bellevue, WA MSA   \n",
      "5     1005      Livia    Shields   31     Dallas-Fort Worth-Arlington, TX MSA   \n",
      "6     1006     Jesusa   Bradford   73  San Francisco-Oakland-Berkeley, CA MSA   \n",
      "7     1007    Eusebio      Welch   42           Grand Rapids-Kentwood, MI MSA   \n",
      "8     1008      Emely    Hoffman   53       Orlando-Kissimmee-Sanford, FL MSA   \n",
      "9     1009      Gerry     Little   19  San Jose-Sunnyvale-Santa Clara, CA MSA   \n",
      "\n",
      "     reg_date      plan  churn_date  \n",
      "0  2018-12-24  ultimate         NaN  \n",
      "1  2018-08-13      surf         NaN  \n",
      "2  2018-10-21      surf         NaN  \n",
      "3  2018-01-28      surf         NaN  \n",
      "4  2018-05-23      surf         NaN  \n",
      "5  2018-11-29      surf         NaN  \n",
      "6  2018-11-27  ultimate  2018-12-18  \n",
      "7  2018-07-11      surf         NaN  \n",
      "8  2018-08-03  ultimate         NaN  \n",
      "9  2018-04-22      surf         NaN  \n"
     ]
    }
   ],
   "source": [
    "# Imprime una muestra de datos para usuarios\n",
    "\n",
    "print(users.head(10))"
   ]
  },
  {
   "cell_type": "markdown",
   "metadata": {
    "id": "dCZoUq4f0q06"
   },
   "source": [
    "Para este data, el \"id\" esta en número enteros, se podria pasar a obj ya que son datos que identifican a los usuarios, al ser un dato cualitativo se puede hacer el cambio.\n",
    "\n",
    "\n",
    "La columna \"reg_date\" tiene un formato a/m/d s se suguiere el cambio ya que el formato indicado no es el correcto, se encuentra como obj, se debe pasar a datetime.\n",
    "\n",
    "\n",
    "Ya por último en la último columna \"churn_date\" se nos advirtio de los valores ausentes ya que estos indican que el usuario seguía activo en el momento de extraer el data para su analisis, se puede colocar un espacio vacío o 0 en vez de valores Nan, por comodidad visual, pero estos datos faltantes si tienen una justificación en el data y no deben ser eliminados."
   ]
  },
  {
   "cell_type": "markdown",
   "metadata": {
    "id": "BX5FQh_I0q06"
   },
   "source": [
    "### Corregir los datos"
   ]
  },
  {
   "cell_type": "markdown",
   "metadata": {
    "id": "8OdKMwJv0q06"
   },
   "source": [
    "Se cambiara el tipo de formatos en las columnas necesarias.\n",
    "\n",
    "Valores ausentes a espacio vacío o 0 para evitar confusiones a la hora de interpretar."
   ]
  },
  {
   "cell_type": "code",
   "execution_count": 8,
   "metadata": {
    "id": "yUqX-K0C0q07"
   },
   "outputs": [],
   "source": [
    "#cambio de tipo de dato con la funcion astype() para convertir a int a obj\n",
    "users[\"user_id\"]=users[\"user_id\"].astype(\"str\")"
   ]
  },
  {
   "cell_type": "code",
   "execution_count": 9,
   "metadata": {},
   "outputs": [],
   "source": [
    "#cambio de tipo de dato para convertir a tipo fecha\n",
    "users[\"reg_date\"]=pd.to_datetime(users[\"reg_date\"] , format=\"%Y-%m-%d\")"
   ]
  },
  {
   "cell_type": "code",
   "execution_count": 10,
   "metadata": {},
   "outputs": [
    {
     "name": "stdout",
     "output_type": "stream",
     "text": [
      "0\n"
     ]
    }
   ],
   "source": [
    "#buscar filas duplicadas, solo para verificar el dato\n",
    "print(users.duplicated().sum())"
   ]
  },
  {
   "cell_type": "code",
   "execution_count": 11,
   "metadata": {},
   "outputs": [
    {
     "name": "stdout",
     "output_type": "stream",
     "text": [
      "<class 'pandas.core.frame.DataFrame'>\n",
      "RangeIndex: 500 entries, 0 to 499\n",
      "Data columns (total 8 columns):\n",
      " #   Column      Non-Null Count  Dtype         \n",
      "---  ------      --------------  -----         \n",
      " 0   user_id     500 non-null    object        \n",
      " 1   first_name  500 non-null    object        \n",
      " 2   last_name   500 non-null    object        \n",
      " 3   age         500 non-null    int64         \n",
      " 4   city        500 non-null    object        \n",
      " 5   reg_date    500 non-null    datetime64[ns]\n",
      " 6   plan        500 non-null    object        \n",
      " 7   churn_date  34 non-null     object        \n",
      "dtypes: datetime64[ns](1), int64(1), object(6)\n",
      "memory usage: 31.4+ KB\n",
      "  user_id first_name  last_name  age                                    city  \\\n",
      "0    1000   Anamaria      Bauer   45   Atlanta-Sandy Springs-Roswell, GA MSA   \n",
      "1    1001     Mickey  Wilkerson   28         Seattle-Tacoma-Bellevue, WA MSA   \n",
      "2    1002     Carlee    Hoffman   36    Las Vegas-Henderson-Paradise, NV MSA   \n",
      "3    1003   Reynaldo    Jenkins   52                           Tulsa, OK MSA   \n",
      "4    1004    Leonila   Thompson   40         Seattle-Tacoma-Bellevue, WA MSA   \n",
      "5    1005      Livia    Shields   31     Dallas-Fort Worth-Arlington, TX MSA   \n",
      "6    1006     Jesusa   Bradford   73  San Francisco-Oakland-Berkeley, CA MSA   \n",
      "7    1007    Eusebio      Welch   42           Grand Rapids-Kentwood, MI MSA   \n",
      "8    1008      Emely    Hoffman   53       Orlando-Kissimmee-Sanford, FL MSA   \n",
      "9    1009      Gerry     Little   19  San Jose-Sunnyvale-Santa Clara, CA MSA   \n",
      "\n",
      "    reg_date      plan  churn_date  \n",
      "0 2018-12-24  ultimate         NaN  \n",
      "1 2018-08-13      surf         NaN  \n",
      "2 2018-10-21      surf         NaN  \n",
      "3 2018-01-28      surf         NaN  \n",
      "4 2018-05-23      surf         NaN  \n",
      "5 2018-11-29      surf         NaN  \n",
      "6 2018-11-27  ultimate  2018-12-18  \n",
      "7 2018-07-11      surf         NaN  \n",
      "8 2018-08-03  ultimate         NaN  \n",
      "9 2018-04-22      surf         NaN  \n"
     ]
    }
   ],
   "source": [
    "#imprime info y head para verificar los cambios\n",
    "users.info()\n",
    "print(users.head(10))"
   ]
  },
  {
   "cell_type": "markdown",
   "metadata": {
    "id": "ycwuARJp0q07"
   },
   "source": [
    "### Enriquecer los datos"
   ]
  },
  {
   "cell_type": "markdown",
   "metadata": {
    "id": "96NIh4CJ0q08"
   },
   "source": [
    "Se agregará una columna para abreviar la ciudad para su analisis posterior."
   ]
  },
  {
   "cell_type": "code",
   "execution_count": 12,
   "metadata": {},
   "outputs": [],
   "source": [
    "#quitar MSA de los paises para mejor lectura de los datos\n",
    "if users[\"city\"].str.endswith(\" MSA\").mean() == 1:\n",
    "    users[\"city\"] = users[\"city\"].str[:-4]\n",
    "   "
   ]
  },
  {
   "cell_type": "markdown",
   "metadata": {
    "id": "o7MeKCid0q08"
   },
   "source": [
    "## Llamadas"
   ]
  },
  {
   "cell_type": "code",
   "execution_count": 13,
   "metadata": {
    "id": "6dDlnoDm0q08"
   },
   "outputs": [
    {
     "name": "stdout",
     "output_type": "stream",
     "text": [
      "<class 'pandas.core.frame.DataFrame'>\n",
      "RangeIndex: 137735 entries, 0 to 137734\n",
      "Data columns (total 4 columns):\n",
      " #   Column     Non-Null Count   Dtype  \n",
      "---  ------     --------------   -----  \n",
      " 0   id         137735 non-null  object \n",
      " 1   user_id    137735 non-null  int64  \n",
      " 2   call_date  137735 non-null  object \n",
      " 3   duration   137735 non-null  float64\n",
      "dtypes: float64(1), int64(1), object(2)\n",
      "memory usage: 4.2+ MB\n"
     ]
    }
   ],
   "source": [
    "# Imprime la información general/resumida sobre el DataFrame de las llamadas\n",
    "calls.info()"
   ]
  },
  {
   "cell_type": "code",
   "execution_count": 14,
   "metadata": {
    "id": "kuh1vlNB0q09"
   },
   "outputs": [
    {
     "name": "stdout",
     "output_type": "stream",
     "text": [
      "         id  user_id   call_date  duration\n",
      "0   1000_93     1000  2018-12-27      8.52\n",
      "1  1000_145     1000  2018-12-27     13.66\n",
      "2  1000_247     1000  2018-12-27     14.48\n",
      "3  1000_309     1000  2018-12-28      5.76\n",
      "4  1000_380     1000  2018-12-30      4.22\n",
      "5  1000_388     1000  2018-12-31      2.20\n",
      "6  1000_510     1000  2018-12-27      5.75\n",
      "7  1000_521     1000  2018-12-28     14.18\n",
      "8  1000_530     1000  2018-12-28      5.77\n",
      "9  1000_544     1000  2018-12-26      4.40\n"
     ]
    }
   ],
   "source": [
    "# Imprime una muestra de datos para las llamadas\n",
    "print(calls.head(10))\n"
   ]
  },
  {
   "cell_type": "markdown",
   "metadata": {
    "id": "DOAxYJSx0q09"
   },
   "source": [
    "Los datos observados contienen errores similares a las tablas pasadas, tipo de datos incorrectos (datetime, objetc) y en este caso los minutos de llamada estan en decimales, y el cobro se hace por minutos totales enteros, se debe evaluar si redondearlos a numeros enteros no tendrá consecuencias posteriormente.\n",
    "\n",
    "No existen aparentemente ausencia de datos."
   ]
  },
  {
   "cell_type": "markdown",
   "metadata": {
    "id": "S7hzxmbX0q0-"
   },
   "source": [
    "### Corregir los datos"
   ]
  },
  {
   "cell_type": "markdown",
   "metadata": {
    "id": "YxWyAjD20q0-"
   },
   "source": [
    "Se cambiará el tipo de dato de las columnas necesarias y se verificará si no existen duplicados."
   ]
  },
  {
   "cell_type": "code",
   "execution_count": 15,
   "metadata": {
    "id": "S2r8xA4f0q0-"
   },
   "outputs": [],
   "source": [
    "#cambio de tipo de dato con la funcion astype() para convertir a int a obj\n",
    "calls[\"user_id\"]=calls[\"user_id\"].astype(\"str\")"
   ]
  },
  {
   "cell_type": "code",
   "execution_count": 16,
   "metadata": {},
   "outputs": [],
   "source": [
    "#cambio de tipo de dato para convertir a tipo fecha\n",
    "calls[\"call_date\"]=pd.to_datetime(calls[\"call_date\"] , format=\"%Y-%m-%d\")"
   ]
  },
  {
   "cell_type": "code",
   "execution_count": 17,
   "metadata": {},
   "outputs": [
    {
     "name": "stdout",
     "output_type": "stream",
     "text": [
      "0\n"
     ]
    }
   ],
   "source": [
    "#buscar filas duplicadas, solo para verificar el dato\n",
    "print(calls.duplicated().sum())"
   ]
  },
  {
   "cell_type": "code",
   "execution_count": 18,
   "metadata": {},
   "outputs": [
    {
     "name": "stdout",
     "output_type": "stream",
     "text": [
      "<class 'pandas.core.frame.DataFrame'>\n",
      "RangeIndex: 137735 entries, 0 to 137734\n",
      "Data columns (total 4 columns):\n",
      " #   Column     Non-Null Count   Dtype         \n",
      "---  ------     --------------   -----         \n",
      " 0   id         137735 non-null  object        \n",
      " 1   user_id    137735 non-null  object        \n",
      " 2   call_date  137735 non-null  datetime64[ns]\n",
      " 3   duration   137735 non-null  float64       \n",
      "dtypes: datetime64[ns](1), float64(1), object(2)\n",
      "memory usage: 4.2+ MB\n"
     ]
    }
   ],
   "source": [
    "#llama info para corroborar los cambios \n",
    "calls.info()"
   ]
  },
  {
   "cell_type": "markdown",
   "metadata": {
    "id": "KrMgTrlG0q0_"
   },
   "source": [
    "### Enriquecer los datos"
   ]
  },
  {
   "cell_type": "markdown",
   "metadata": {
    "id": "a9MbmEvE0q0_"
   },
   "source": [
    "Creará una nueva columna filtrando el mes en que fueron realizadas las llamadas para su analisis posterior."
   ]
  },
  {
   "cell_type": "code",
   "execution_count": 19,
   "metadata": {
    "id": "iZ1avpA_0q0_"
   },
   "outputs": [],
   "source": [
    "# Crear una nueva columna 'mes' que extraiga el mes de la columna 'calls_date'\n",
    "calls['month'] = calls['call_date'].dt.month"
   ]
  },
  {
   "cell_type": "code",
   "execution_count": 20,
   "metadata": {},
   "outputs": [
    {
     "name": "stdout",
     "output_type": "stream",
     "text": [
      "<class 'pandas.core.frame.DataFrame'>\n",
      "RangeIndex: 137735 entries, 0 to 137734\n",
      "Data columns (total 5 columns):\n",
      " #   Column     Non-Null Count   Dtype         \n",
      "---  ------     --------------   -----         \n",
      " 0   id         137735 non-null  object        \n",
      " 1   user_id    137735 non-null  object        \n",
      " 2   call_date  137735 non-null  datetime64[ns]\n",
      " 3   duration   137735 non-null  float64       \n",
      " 4   month      137735 non-null  int64         \n",
      "dtypes: datetime64[ns](1), float64(1), int64(1), object(2)\n",
      "memory usage: 5.3+ MB\n",
      "         id user_id  call_date  duration  month\n",
      "0   1000_93    1000 2018-12-27      8.52     12\n",
      "1  1000_145    1000 2018-12-27     13.66     12\n",
      "2  1000_247    1000 2018-12-27     14.48     12\n",
      "3  1000_309    1000 2018-12-28      5.76     12\n",
      "4  1000_380    1000 2018-12-30      4.22     12\n"
     ]
    }
   ],
   "source": [
    "calls.info()\n",
    "print(calls.head())"
   ]
  },
  {
   "cell_type": "markdown",
   "metadata": {
    "id": "mOUZSi180q0_"
   },
   "source": [
    "## Mensajes"
   ]
  },
  {
   "cell_type": "code",
   "execution_count": 21,
   "metadata": {
    "id": "R-bYJpdV0q1A"
   },
   "outputs": [
    {
     "name": "stdout",
     "output_type": "stream",
     "text": [
      "<class 'pandas.core.frame.DataFrame'>\n",
      "RangeIndex: 76051 entries, 0 to 76050\n",
      "Data columns (total 3 columns):\n",
      " #   Column        Non-Null Count  Dtype \n",
      "---  ------        --------------  ----- \n",
      " 0   id            76051 non-null  object\n",
      " 1   user_id       76051 non-null  int64 \n",
      " 2   message_date  76051 non-null  object\n",
      "dtypes: int64(1), object(2)\n",
      "memory usage: 1.7+ MB\n"
     ]
    }
   ],
   "source": [
    "# Imprime la información general/resumida sobre el DataFrame de los mensajes\n",
    "messages.info()"
   ]
  },
  {
   "cell_type": "code",
   "execution_count": 22,
   "metadata": {
    "id": "mCEl2iGE0q1A"
   },
   "outputs": [
    {
     "name": "stdout",
     "output_type": "stream",
     "text": [
      "          id  user_id message_date\n",
      "0   1000_125     1000   2018-12-27\n",
      "1   1000_160     1000   2018-12-31\n",
      "2   1000_223     1000   2018-12-31\n",
      "3   1000_251     1000   2018-12-27\n",
      "4   1000_255     1000   2018-12-26\n",
      "5   1000_346     1000   2018-12-29\n",
      "6   1000_386     1000   2018-12-30\n",
      "7   1000_413     1000   2018-12-31\n",
      "8   1000_502     1000   2018-12-27\n",
      "9   1000_525     1000   2018-12-28\n",
      "10  1000_567     1000   2018-12-25\n",
      "11    1001_1     1001   2018-11-14\n",
      "12    1001_2     1001   2018-08-17\n",
      "13    1001_5     1001   2018-12-05\n",
      "14    1001_7     1001   2018-11-28\n",
      "15    1001_9     1001   2018-10-23\n",
      "16   1001_10     1001   2018-09-01\n",
      "17   1001_11     1001   2018-11-18\n",
      "18   1001_17     1001   2018-12-11\n",
      "19   1001_18     1001   2018-10-01\n",
      "20   1001_19     1001   2018-09-13\n",
      "21   1001_21     1001   2018-12-30\n",
      "22   1001_23     1001   2018-08-23\n",
      "23   1001_25     1001   2018-10-10\n",
      "24   1001_30     1001   2018-12-14\n",
      "25   1001_32     1001   2018-09-11\n",
      "26   1001_34     1001   2018-10-09\n",
      "27   1001_35     1001   2018-09-18\n",
      "28   1001_37     1001   2018-09-06\n",
      "29   1001_39     1001   2018-09-13\n"
     ]
    }
   ],
   "source": [
    "# Imprime una muestra de datos para los mensajes\n",
    "print(messages.head(30))"
   ]
  },
  {
   "cell_type": "markdown",
   "metadata": {
    "id": "04xDj7KH0q1A"
   },
   "source": [
    "Como se ha visto anteriormente, algunas columnas vienen con un tipo de dato incorrecto y sin la presencia aparente de valores asuentes."
   ]
  },
  {
   "cell_type": "markdown",
   "metadata": {
    "id": "Sprfak900q1B"
   },
   "source": [
    "### Corregir los datos"
   ]
  },
  {
   "cell_type": "markdown",
   "metadata": {
    "id": "eGw7d9j10q1B"
   },
   "source": [
    "Se corregira la columna ID para que sea un obj y meesage_date a tipo datetime.\n",
    "\n",
    "Se corroborará la presencia de filas duplicadas."
   ]
  },
  {
   "cell_type": "code",
   "execution_count": 23,
   "metadata": {
    "id": "vsllvkoa0q1B"
   },
   "outputs": [],
   "source": [
    "#cambio de tipo de dato con la funcion astype() para convertir a int a obj\n",
    "messages[\"user_id\"]=messages[\"user_id\"].astype(\"str\")"
   ]
  },
  {
   "cell_type": "code",
   "execution_count": 24,
   "metadata": {},
   "outputs": [],
   "source": [
    "#cambio de tipo de dato para convertir a tipo fecha\n",
    "messages[\"message_date\"]=pd.to_datetime(messages[\"message_date\"] , format=\"%Y-%m-%d\")"
   ]
  },
  {
   "cell_type": "code",
   "execution_count": 25,
   "metadata": {},
   "outputs": [
    {
     "name": "stdout",
     "output_type": "stream",
     "text": [
      "0\n"
     ]
    }
   ],
   "source": [
    "#buscar filas duplicadas, solo para verificar el dato\n",
    "print(messages.duplicated().sum())"
   ]
  },
  {
   "cell_type": "code",
   "execution_count": 26,
   "metadata": {},
   "outputs": [
    {
     "name": "stdout",
     "output_type": "stream",
     "text": [
      "<class 'pandas.core.frame.DataFrame'>\n",
      "RangeIndex: 76051 entries, 0 to 76050\n",
      "Data columns (total 3 columns):\n",
      " #   Column        Non-Null Count  Dtype         \n",
      "---  ------        --------------  -----         \n",
      " 0   id            76051 non-null  object        \n",
      " 1   user_id       76051 non-null  object        \n",
      " 2   message_date  76051 non-null  datetime64[ns]\n",
      "dtypes: datetime64[ns](1), object(2)\n",
      "memory usage: 1.7+ MB\n"
     ]
    }
   ],
   "source": [
    "#llama info para corroborar los cambios \n",
    "messages.info()"
   ]
  },
  {
   "cell_type": "markdown",
   "metadata": {
    "id": "HvLid7iD0q1B"
   },
   "source": [
    "### Enriquecer los datos"
   ]
  },
  {
   "cell_type": "markdown",
   "metadata": {
    "id": "8nhPFKIe0q1C"
   },
   "source": [
    "Se agregará una nueva columna con el mes filtrado para su analisis posterior."
   ]
  },
  {
   "cell_type": "code",
   "execution_count": 27,
   "metadata": {
    "id": "zYEXZac10q1C"
   },
   "outputs": [],
   "source": [
    "# Crear una nueva columna 'month' que extraiga el mes de la columna 'messages_date'\n",
    "messages['month'] = messages['message_date'].dt.month"
   ]
  },
  {
   "cell_type": "code",
   "execution_count": 28,
   "metadata": {},
   "outputs": [
    {
     "name": "stdout",
     "output_type": "stream",
     "text": [
      "<class 'pandas.core.frame.DataFrame'>\n",
      "RangeIndex: 76051 entries, 0 to 76050\n",
      "Data columns (total 4 columns):\n",
      " #   Column        Non-Null Count  Dtype         \n",
      "---  ------        --------------  -----         \n",
      " 0   id            76051 non-null  object        \n",
      " 1   user_id       76051 non-null  object        \n",
      " 2   message_date  76051 non-null  datetime64[ns]\n",
      " 3   month         76051 non-null  int64         \n",
      "dtypes: datetime64[ns](1), int64(1), object(2)\n",
      "memory usage: 2.3+ MB\n",
      "         id user_id message_date  month\n",
      "0  1000_125    1000   2018-12-27     12\n",
      "1  1000_160    1000   2018-12-31     12\n",
      "2  1000_223    1000   2018-12-31     12\n",
      "3  1000_251    1000   2018-12-27     12\n",
      "4  1000_255    1000   2018-12-26     12\n"
     ]
    }
   ],
   "source": [
    "messages.info()\n",
    "print(messages.head())"
   ]
  },
  {
   "cell_type": "markdown",
   "metadata": {
    "id": "bStkaxn40q1C"
   },
   "source": [
    "## Internet"
   ]
  },
  {
   "cell_type": "code",
   "execution_count": 29,
   "metadata": {
    "id": "e-Uz5qyn0q1C"
   },
   "outputs": [
    {
     "name": "stdout",
     "output_type": "stream",
     "text": [
      "<class 'pandas.core.frame.DataFrame'>\n",
      "RangeIndex: 104825 entries, 0 to 104824\n",
      "Data columns (total 4 columns):\n",
      " #   Column        Non-Null Count   Dtype  \n",
      "---  ------        --------------   -----  \n",
      " 0   id            104825 non-null  object \n",
      " 1   user_id       104825 non-null  int64  \n",
      " 2   session_date  104825 non-null  object \n",
      " 3   mb_used       104825 non-null  float64\n",
      "dtypes: float64(1), int64(1), object(2)\n",
      "memory usage: 3.2+ MB\n"
     ]
    }
   ],
   "source": [
    "# Imprime la información general/resumida sobre el DataFrame de internet\n",
    "internet.info()"
   ]
  },
  {
   "cell_type": "code",
   "execution_count": 30,
   "metadata": {
    "id": "9r3x_XLw0q1C"
   },
   "outputs": [
    {
     "name": "stdout",
     "output_type": "stream",
     "text": [
      "          id  user_id session_date  mb_used\n",
      "0    1000_13     1000   2018-12-29    89.86\n",
      "1   1000_204     1000   2018-12-31     0.00\n",
      "2   1000_379     1000   2018-12-28   660.40\n",
      "3   1000_413     1000   2018-12-26   270.99\n",
      "4   1000_442     1000   2018-12-27   880.22\n",
      "5     1001_0     1001   2018-08-24   284.68\n",
      "6     1001_3     1001   2018-12-09   656.04\n",
      "7     1001_4     1001   2018-11-04    16.97\n",
      "8    1001_10     1001   2018-11-27   135.18\n",
      "9    1001_15     1001   2018-12-13   761.92\n",
      "10   1001_16     1001   2018-10-28   501.53\n",
      "11   1001_17     1001   2018-09-05   727.29\n",
      "12   1001_24     1001   2018-09-05   622.03\n",
      "13   1001_25     1001   2018-10-14   310.43\n",
      "14   1001_26     1001   2018-09-17     0.00\n",
      "15   1001_27     1001   2018-12-13   149.17\n",
      "16   1001_28     1001   2018-10-17     0.00\n",
      "17   1001_29     1001   2018-10-09  1067.99\n",
      "18   1001_30     1001   2018-12-27   157.20\n",
      "19   1001_33     1001   2018-09-27   236.40\n"
     ]
    }
   ],
   "source": [
    "# Imprime una muestra de datos para el tráfico de internet\n",
    "print(internet.head(20))"
   ]
  },
  {
   "cell_type": "markdown",
   "metadata": {
    "id": "EzOG5ik30q1D"
   },
   "source": [
    "Los datos estan en un formato incorrecto como en las tablas pasadas.\n",
    "En la columna \"mb_used\" los datos estan representados en megabytes y no en giga, se dejará este datos para que cuadre con la tabla de plan y no perder datos del consumo de intener de los clientes al convertir los datos a enteros."
   ]
  },
  {
   "cell_type": "markdown",
   "metadata": {
    "id": "yA0tkPFg0q1D"
   },
   "source": [
    "### Corregir los datos"
   ]
  },
  {
   "cell_type": "markdown",
   "metadata": {
    "id": "zlZMuIEK0q1D"
   },
   "source": [
    "Cambio de tipo de texto en las columnas necesarias.\n",
    "\n",
    "Corrobar no existan filas duplicadas."
   ]
  },
  {
   "cell_type": "code",
   "execution_count": 31,
   "metadata": {
    "id": "zVeanzdd0q1E"
   },
   "outputs": [],
   "source": [
    "#cambio de tipo de dato con la funcion astype() para convertir a int a obj\n",
    "internet[\"user_id\"]=internet[\"user_id\"].astype(\"str\")"
   ]
  },
  {
   "cell_type": "code",
   "execution_count": 32,
   "metadata": {},
   "outputs": [],
   "source": [
    "#cambio de tipo de dato para convertir a tipo fecha\n",
    "internet[\"session_date\"]=pd.to_datetime(internet[\"session_date\"] , format=\"%Y-%m-%d\")"
   ]
  },
  {
   "cell_type": "code",
   "execution_count": 33,
   "metadata": {},
   "outputs": [
    {
     "name": "stdout",
     "output_type": "stream",
     "text": [
      "0\n"
     ]
    }
   ],
   "source": [
    "#buscar filas duplicadas, solo para verificar el dato\n",
    "print(internet.duplicated().sum())"
   ]
  },
  {
   "cell_type": "code",
   "execution_count": 34,
   "metadata": {},
   "outputs": [
    {
     "name": "stdout",
     "output_type": "stream",
     "text": [
      "<class 'pandas.core.frame.DataFrame'>\n",
      "RangeIndex: 104825 entries, 0 to 104824\n",
      "Data columns (total 4 columns):\n",
      " #   Column        Non-Null Count   Dtype         \n",
      "---  ------        --------------   -----         \n",
      " 0   id            104825 non-null  object        \n",
      " 1   user_id       104825 non-null  object        \n",
      " 2   session_date  104825 non-null  datetime64[ns]\n",
      " 3   mb_used       104825 non-null  float64       \n",
      "dtypes: datetime64[ns](1), float64(1), object(2)\n",
      "memory usage: 3.2+ MB\n"
     ]
    }
   ],
   "source": [
    "#llama info para corroborar los cambios \n",
    "internet.info()"
   ]
  },
  {
   "cell_type": "markdown",
   "metadata": {
    "id": "e8_mLF4a0q1E"
   },
   "source": [
    "### Enriquecer los datos"
   ]
  },
  {
   "cell_type": "markdown",
   "metadata": {
    "id": "xhNdn2tE0q1E"
   },
   "source": [
    "Se creará una nueva columna filtrando el mes para analizar los mg usados por mes para su analisis popsterior."
   ]
  },
  {
   "cell_type": "code",
   "execution_count": 35,
   "metadata": {
    "id": "ESiYPIEK0q1E"
   },
   "outputs": [],
   "source": [
    "# Crear una nueva columna 'month' que extraiga el mes de la columna 'session_date'\n",
    "internet['month'] = internet['session_date'].dt.month"
   ]
  },
  {
   "cell_type": "code",
   "execution_count": 36,
   "metadata": {},
   "outputs": [
    {
     "name": "stdout",
     "output_type": "stream",
     "text": [
      "<class 'pandas.core.frame.DataFrame'>\n",
      "RangeIndex: 104825 entries, 0 to 104824\n",
      "Data columns (total 5 columns):\n",
      " #   Column        Non-Null Count   Dtype         \n",
      "---  ------        --------------   -----         \n",
      " 0   id            104825 non-null  object        \n",
      " 1   user_id       104825 non-null  object        \n",
      " 2   session_date  104825 non-null  datetime64[ns]\n",
      " 3   mb_used       104825 non-null  float64       \n",
      " 4   month         104825 non-null  int64         \n",
      "dtypes: datetime64[ns](1), float64(1), int64(1), object(2)\n",
      "memory usage: 4.0+ MB\n",
      "         id user_id session_date  mb_used  month\n",
      "0   1000_13    1000   2018-12-29    89.86     12\n",
      "1  1000_204    1000   2018-12-31     0.00     12\n",
      "2  1000_379    1000   2018-12-28   660.40     12\n",
      "3  1000_413    1000   2018-12-26   270.99     12\n",
      "4  1000_442    1000   2018-12-27   880.22     12\n"
     ]
    }
   ],
   "source": [
    "internet.info()\n",
    "print(internet.head())"
   ]
  },
  {
   "cell_type": "markdown",
   "metadata": {
    "id": "3UA2cqIW0q1E"
   },
   "source": [
    "## Estudiar las condiciones de las tarifas"
   ]
  },
  {
   "cell_type": "code",
   "execution_count": 37,
   "metadata": {
    "id": "i409op8p0q1F"
   },
   "outputs": [
    {
     "name": "stdout",
     "output_type": "stream",
     "text": [
      "   messages_included  mb_per_month_included  minutes_included  \\\n",
      "0                 50                  15360               500   \n",
      "1               1000                  30720              3000   \n",
      "\n",
      "   usd_monthly_pay  usd_per_gb  usd_per_message  usd_per_minute plan_name  \n",
      "0               20          10             0.03            0.03      surf  \n",
      "1               70           7             0.01            0.01  ultimate  \n"
     ]
    }
   ],
   "source": [
    "# Imprime las condiciones de la tarifa y asegúrate de que te quedan claras\n",
    "print(plans)"
   ]
  },
  {
   "cell_type": "markdown",
   "metadata": {
    "id": "hMR1tP5d0q1F"
   },
   "source": [
    "## Agregar datos por usuario\n",
    "\n",
    "Se agruparán los datos por usuario y por periodo para que solo haya un registro por usuario y por periodo. Esto facilitará mucho el análisis posterior.Ya que con esto el análisis por cliente será más detallado y exacto."
   ]
  },
  {
   "cell_type": "code",
   "execution_count": 38,
   "metadata": {
    "id": "A332cedB0q1G"
   },
   "outputs": [],
   "source": [
    "# Calcula el número de llamadas hechas por cada usuario al mes. Guarda el resultado.\n",
    "#agrupan por id del ususario, contando el total de id de llamadas hechas. \n",
    "total_calls=calls.groupby([\"user_id\",\"month\"])[\"id\"].count()"
   ]
  },
  {
   "cell_type": "code",
   "execution_count": 39,
   "metadata": {},
   "outputs": [
    {
     "data": {
      "text/plain": [
       "user_id  month\n",
       "1000     12       16\n",
       "1001     8        27\n",
       "         9        49\n",
       "         10       65\n",
       "         11       64\n",
       "                  ..\n",
       "1498     12       39\n",
       "1499     9        41\n",
       "         10       53\n",
       "         11       45\n",
       "         12       65\n",
       "Name: id, Length: 2258, dtype: int64"
      ]
     },
     "execution_count": 39,
     "metadata": {},
     "output_type": "execute_result"
    }
   ],
   "source": [
    "total_calls"
   ]
  },
  {
   "cell_type": "code",
   "execution_count": 40,
   "metadata": {
    "id": "aw2cmuql0q1G"
   },
   "outputs": [],
   "source": [
    "# Calcula la cantidad de minutos usados por cada usuario al mes. Guarda el resultado.\n",
    "#suman los minutos registrados en la duracion de las llamadas\n",
    "duration_calls=calls.groupby([\"user_id\",\"month\"])[\"duration\"].sum()"
   ]
  },
  {
   "cell_type": "code",
   "execution_count": 41,
   "metadata": {},
   "outputs": [
    {
     "data": {
      "text/plain": [
       "user_id  month\n",
       "1000     12       116.83\n",
       "1001     8        171.14\n",
       "         9        297.69\n",
       "         10       374.11\n",
       "         11       404.59\n",
       "                   ...  \n",
       "1498     12       324.77\n",
       "1499     9        330.37\n",
       "         10       363.28\n",
       "         11       288.56\n",
       "         12       468.10\n",
       "Name: duration, Length: 2258, dtype: float64"
      ]
     },
     "execution_count": 41,
     "metadata": {},
     "output_type": "execute_result"
    }
   ],
   "source": [
    "duration_calls"
   ]
  },
  {
   "cell_type": "code",
   "execution_count": 42,
   "metadata": {
    "id": "CcQvNHn60q1G"
   },
   "outputs": [],
   "source": [
    "# Calcula el número de mensajes enviados por cada usuario al mes. Guarda el resultado.\n",
    "#cuenta el id de los mensajes hechos pos usuario\n",
    "total_messages=messages.groupby([\"user_id\",\"month\"])[\"id\"].count()"
   ]
  },
  {
   "cell_type": "code",
   "execution_count": 43,
   "metadata": {
    "id": "H1AqN2eG0q1H"
   },
   "outputs": [],
   "source": [
    "# Calcula el volumen del tráfico de Internet usado por cada usuario al mes. Guarda el resultado.\n",
    "#suman lo mb usados por usuario registrados en su cuenta\n",
    "total_internet=internet.groupby([\"user_id\",\"month\"])[\"mb_used\"].sum()"
   ]
  },
  {
   "cell_type": "markdown",
   "metadata": {
    "id": "VDfYXnj80q1H"
   },
   "source": [
    "Se unieron todos los datos agrupados en un data para registar el consumo por cliente de todos los servicios totales por mes."
   ]
  },
  {
   "cell_type": "code",
   "execution_count": 44,
   "metadata": {
    "id": "FW99ykyf0q1H"
   },
   "outputs": [],
   "source": [
    "# Fusiona los datos de llamadas, minutos, mensajes e Internet con base en user_id y month\n",
    "#uso de concat para unir los agrupados,esto e sposible ya que siempre se agrupo por \"user_id\"\n",
    "data_concat=pd.concat([total_calls, duration_calls,total_messages, total_internet], axis=\"columns\")"
   ]
  },
  {
   "cell_type": "code",
   "execution_count": 45,
   "metadata": {},
   "outputs": [],
   "source": [
    "data_concat=data_concat.reset_index()"
   ]
  },
  {
   "cell_type": "code",
   "execution_count": 46,
   "metadata": {},
   "outputs": [
    {
     "data": {
      "text/html": [
       "<div>\n",
       "<style scoped>\n",
       "    .dataframe tbody tr th:only-of-type {\n",
       "        vertical-align: middle;\n",
       "    }\n",
       "\n",
       "    .dataframe tbody tr th {\n",
       "        vertical-align: top;\n",
       "    }\n",
       "\n",
       "    .dataframe thead th {\n",
       "        text-align: right;\n",
       "    }\n",
       "</style>\n",
       "<table border=\"1\" class=\"dataframe\">\n",
       "  <thead>\n",
       "    <tr style=\"text-align: right;\">\n",
       "      <th></th>\n",
       "      <th>user_id</th>\n",
       "      <th>month</th>\n",
       "      <th>id</th>\n",
       "      <th>duration</th>\n",
       "      <th>id</th>\n",
       "      <th>mb_used</th>\n",
       "    </tr>\n",
       "  </thead>\n",
       "  <tbody>\n",
       "    <tr>\n",
       "      <th>0</th>\n",
       "      <td>1000</td>\n",
       "      <td>12</td>\n",
       "      <td>16.0</td>\n",
       "      <td>116.83</td>\n",
       "      <td>11.0</td>\n",
       "      <td>1901.47</td>\n",
       "    </tr>\n",
       "    <tr>\n",
       "      <th>1</th>\n",
       "      <td>1001</td>\n",
       "      <td>8</td>\n",
       "      <td>27.0</td>\n",
       "      <td>171.14</td>\n",
       "      <td>30.0</td>\n",
       "      <td>6919.15</td>\n",
       "    </tr>\n",
       "    <tr>\n",
       "      <th>2</th>\n",
       "      <td>1001</td>\n",
       "      <td>9</td>\n",
       "      <td>49.0</td>\n",
       "      <td>297.69</td>\n",
       "      <td>44.0</td>\n",
       "      <td>13314.82</td>\n",
       "    </tr>\n",
       "    <tr>\n",
       "      <th>3</th>\n",
       "      <td>1001</td>\n",
       "      <td>10</td>\n",
       "      <td>65.0</td>\n",
       "      <td>374.11</td>\n",
       "      <td>53.0</td>\n",
       "      <td>22330.49</td>\n",
       "    </tr>\n",
       "    <tr>\n",
       "      <th>4</th>\n",
       "      <td>1001</td>\n",
       "      <td>11</td>\n",
       "      <td>64.0</td>\n",
       "      <td>404.59</td>\n",
       "      <td>36.0</td>\n",
       "      <td>18504.30</td>\n",
       "    </tr>\n",
       "    <tr>\n",
       "      <th>...</th>\n",
       "      <td>...</td>\n",
       "      <td>...</td>\n",
       "      <td>...</td>\n",
       "      <td>...</td>\n",
       "      <td>...</td>\n",
       "      <td>...</td>\n",
       "    </tr>\n",
       "    <tr>\n",
       "      <th>2288</th>\n",
       "      <td>1498</td>\n",
       "      <td>12</td>\n",
       "      <td>39.0</td>\n",
       "      <td>324.77</td>\n",
       "      <td>NaN</td>\n",
       "      <td>23137.69</td>\n",
       "    </tr>\n",
       "    <tr>\n",
       "      <th>2289</th>\n",
       "      <td>1499</td>\n",
       "      <td>9</td>\n",
       "      <td>41.0</td>\n",
       "      <td>330.37</td>\n",
       "      <td>NaN</td>\n",
       "      <td>12984.76</td>\n",
       "    </tr>\n",
       "    <tr>\n",
       "      <th>2290</th>\n",
       "      <td>1499</td>\n",
       "      <td>10</td>\n",
       "      <td>53.0</td>\n",
       "      <td>363.28</td>\n",
       "      <td>NaN</td>\n",
       "      <td>19492.43</td>\n",
       "    </tr>\n",
       "    <tr>\n",
       "      <th>2291</th>\n",
       "      <td>1499</td>\n",
       "      <td>11</td>\n",
       "      <td>45.0</td>\n",
       "      <td>288.56</td>\n",
       "      <td>NaN</td>\n",
       "      <td>16813.83</td>\n",
       "    </tr>\n",
       "    <tr>\n",
       "      <th>2292</th>\n",
       "      <td>1499</td>\n",
       "      <td>12</td>\n",
       "      <td>65.0</td>\n",
       "      <td>468.10</td>\n",
       "      <td>NaN</td>\n",
       "      <td>22059.21</td>\n",
       "    </tr>\n",
       "  </tbody>\n",
       "</table>\n",
       "<p>2293 rows × 6 columns</p>\n",
       "</div>"
      ],
      "text/plain": [
       "     user_id  month    id  duration    id   mb_used\n",
       "0       1000     12  16.0    116.83  11.0   1901.47\n",
       "1       1001      8  27.0    171.14  30.0   6919.15\n",
       "2       1001      9  49.0    297.69  44.0  13314.82\n",
       "3       1001     10  65.0    374.11  53.0  22330.49\n",
       "4       1001     11  64.0    404.59  36.0  18504.30\n",
       "...      ...    ...   ...       ...   ...       ...\n",
       "2288    1498     12  39.0    324.77   NaN  23137.69\n",
       "2289    1499      9  41.0    330.37   NaN  12984.76\n",
       "2290    1499     10  53.0    363.28   NaN  19492.43\n",
       "2291    1499     11  45.0    288.56   NaN  16813.83\n",
       "2292    1499     12  65.0    468.10   NaN  22059.21\n",
       "\n",
       "[2293 rows x 6 columns]"
      ]
     },
     "execution_count": 46,
     "metadata": {},
     "output_type": "execute_result"
    }
   ],
   "source": [
    "data_concat"
   ]
  },
  {
   "cell_type": "code",
   "execution_count": 47,
   "metadata": {},
   "outputs": [
    {
     "data": {
      "text/html": [
       "<div>\n",
       "<style scoped>\n",
       "    .dataframe tbody tr th:only-of-type {\n",
       "        vertical-align: middle;\n",
       "    }\n",
       "\n",
       "    .dataframe tbody tr th {\n",
       "        vertical-align: top;\n",
       "    }\n",
       "\n",
       "    .dataframe thead th {\n",
       "        text-align: right;\n",
       "    }\n",
       "</style>\n",
       "<table border=\"1\" class=\"dataframe\">\n",
       "  <thead>\n",
       "    <tr style=\"text-align: right;\">\n",
       "      <th></th>\n",
       "      <th>user_id</th>\n",
       "      <th>month</th>\n",
       "      <th>total_calls_per_user</th>\n",
       "      <th>total_min_calls</th>\n",
       "      <th>total_messages_per_user</th>\n",
       "      <th>total_mg_per_user</th>\n",
       "    </tr>\n",
       "  </thead>\n",
       "  <tbody>\n",
       "    <tr>\n",
       "      <th>0</th>\n",
       "      <td>1000</td>\n",
       "      <td>12</td>\n",
       "      <td>16.0</td>\n",
       "      <td>116.83</td>\n",
       "      <td>11.0</td>\n",
       "      <td>1901.47</td>\n",
       "    </tr>\n",
       "    <tr>\n",
       "      <th>1</th>\n",
       "      <td>1001</td>\n",
       "      <td>8</td>\n",
       "      <td>27.0</td>\n",
       "      <td>171.14</td>\n",
       "      <td>30.0</td>\n",
       "      <td>6919.15</td>\n",
       "    </tr>\n",
       "    <tr>\n",
       "      <th>2</th>\n",
       "      <td>1001</td>\n",
       "      <td>9</td>\n",
       "      <td>49.0</td>\n",
       "      <td>297.69</td>\n",
       "      <td>44.0</td>\n",
       "      <td>13314.82</td>\n",
       "    </tr>\n",
       "    <tr>\n",
       "      <th>3</th>\n",
       "      <td>1001</td>\n",
       "      <td>10</td>\n",
       "      <td>65.0</td>\n",
       "      <td>374.11</td>\n",
       "      <td>53.0</td>\n",
       "      <td>22330.49</td>\n",
       "    </tr>\n",
       "    <tr>\n",
       "      <th>4</th>\n",
       "      <td>1001</td>\n",
       "      <td>11</td>\n",
       "      <td>64.0</td>\n",
       "      <td>404.59</td>\n",
       "      <td>36.0</td>\n",
       "      <td>18504.30</td>\n",
       "    </tr>\n",
       "    <tr>\n",
       "      <th>...</th>\n",
       "      <td>...</td>\n",
       "      <td>...</td>\n",
       "      <td>...</td>\n",
       "      <td>...</td>\n",
       "      <td>...</td>\n",
       "      <td>...</td>\n",
       "    </tr>\n",
       "    <tr>\n",
       "      <th>2288</th>\n",
       "      <td>1498</td>\n",
       "      <td>12</td>\n",
       "      <td>39.0</td>\n",
       "      <td>324.77</td>\n",
       "      <td>NaN</td>\n",
       "      <td>23137.69</td>\n",
       "    </tr>\n",
       "    <tr>\n",
       "      <th>2289</th>\n",
       "      <td>1499</td>\n",
       "      <td>9</td>\n",
       "      <td>41.0</td>\n",
       "      <td>330.37</td>\n",
       "      <td>NaN</td>\n",
       "      <td>12984.76</td>\n",
       "    </tr>\n",
       "    <tr>\n",
       "      <th>2290</th>\n",
       "      <td>1499</td>\n",
       "      <td>10</td>\n",
       "      <td>53.0</td>\n",
       "      <td>363.28</td>\n",
       "      <td>NaN</td>\n",
       "      <td>19492.43</td>\n",
       "    </tr>\n",
       "    <tr>\n",
       "      <th>2291</th>\n",
       "      <td>1499</td>\n",
       "      <td>11</td>\n",
       "      <td>45.0</td>\n",
       "      <td>288.56</td>\n",
       "      <td>NaN</td>\n",
       "      <td>16813.83</td>\n",
       "    </tr>\n",
       "    <tr>\n",
       "      <th>2292</th>\n",
       "      <td>1499</td>\n",
       "      <td>12</td>\n",
       "      <td>65.0</td>\n",
       "      <td>468.10</td>\n",
       "      <td>NaN</td>\n",
       "      <td>22059.21</td>\n",
       "    </tr>\n",
       "  </tbody>\n",
       "</table>\n",
       "<p>2293 rows × 6 columns</p>\n",
       "</div>"
      ],
      "text/plain": [
       "     user_id  month  total_calls_per_user  total_min_calls  \\\n",
       "0       1000     12                  16.0           116.83   \n",
       "1       1001      8                  27.0           171.14   \n",
       "2       1001      9                  49.0           297.69   \n",
       "3       1001     10                  65.0           374.11   \n",
       "4       1001     11                  64.0           404.59   \n",
       "...      ...    ...                   ...              ...   \n",
       "2288    1498     12                  39.0           324.77   \n",
       "2289    1499      9                  41.0           330.37   \n",
       "2290    1499     10                  53.0           363.28   \n",
       "2291    1499     11                  45.0           288.56   \n",
       "2292    1499     12                  65.0           468.10   \n",
       "\n",
       "      total_messages_per_user  total_mg_per_user  \n",
       "0                        11.0            1901.47  \n",
       "1                        30.0            6919.15  \n",
       "2                        44.0           13314.82  \n",
       "3                        53.0           22330.49  \n",
       "4                        36.0           18504.30  \n",
       "...                       ...                ...  \n",
       "2288                      NaN           23137.69  \n",
       "2289                      NaN           12984.76  \n",
       "2290                      NaN           19492.43  \n",
       "2291                      NaN           16813.83  \n",
       "2292                      NaN           22059.21  \n",
       "\n",
       "[2293 rows x 6 columns]"
      ]
     },
     "execution_count": 47,
     "metadata": {},
     "output_type": "execute_result"
    }
   ],
   "source": [
    "#cambian los nombre de las columnas para mejor lectura del nuevo data\n",
    "data_concat.columns=[\"user_id\",\"month\",\"total_calls_per_user\",\"total_min_calls\",\"total_messages_per_user\", \"total_mg_per_user\"]\n",
    "data_concat"
   ]
  },
  {
   "cell_type": "code",
   "execution_count": 48,
   "metadata": {
    "id": "0dNOXHag0q1H"
   },
   "outputs": [],
   "source": [
    "#crear un nuevo data con los datos del user_id para unirlo posteriormente a la info de las tarifas\n",
    "user_resume=users[[\"user_id\",\"plan\",\"city\"]]"
   ]
  },
  {
   "cell_type": "code",
   "execution_count": 49,
   "metadata": {},
   "outputs": [
    {
     "data": {
      "text/html": [
       "<div>\n",
       "<style scoped>\n",
       "    .dataframe tbody tr th:only-of-type {\n",
       "        vertical-align: middle;\n",
       "    }\n",
       "\n",
       "    .dataframe tbody tr th {\n",
       "        vertical-align: top;\n",
       "    }\n",
       "\n",
       "    .dataframe thead th {\n",
       "        text-align: right;\n",
       "    }\n",
       "</style>\n",
       "<table border=\"1\" class=\"dataframe\">\n",
       "  <thead>\n",
       "    <tr style=\"text-align: right;\">\n",
       "      <th></th>\n",
       "      <th>user_id</th>\n",
       "      <th>plan</th>\n",
       "      <th>city</th>\n",
       "    </tr>\n",
       "  </thead>\n",
       "  <tbody>\n",
       "    <tr>\n",
       "      <th>0</th>\n",
       "      <td>1000</td>\n",
       "      <td>ultimate</td>\n",
       "      <td>Atlanta-Sandy Springs-Roswell, GA</td>\n",
       "    </tr>\n",
       "    <tr>\n",
       "      <th>1</th>\n",
       "      <td>1001</td>\n",
       "      <td>surf</td>\n",
       "      <td>Seattle-Tacoma-Bellevue, WA</td>\n",
       "    </tr>\n",
       "    <tr>\n",
       "      <th>2</th>\n",
       "      <td>1002</td>\n",
       "      <td>surf</td>\n",
       "      <td>Las Vegas-Henderson-Paradise, NV</td>\n",
       "    </tr>\n",
       "    <tr>\n",
       "      <th>3</th>\n",
       "      <td>1003</td>\n",
       "      <td>surf</td>\n",
       "      <td>Tulsa, OK</td>\n",
       "    </tr>\n",
       "    <tr>\n",
       "      <th>4</th>\n",
       "      <td>1004</td>\n",
       "      <td>surf</td>\n",
       "      <td>Seattle-Tacoma-Bellevue, WA</td>\n",
       "    </tr>\n",
       "    <tr>\n",
       "      <th>...</th>\n",
       "      <td>...</td>\n",
       "      <td>...</td>\n",
       "      <td>...</td>\n",
       "    </tr>\n",
       "    <tr>\n",
       "      <th>495</th>\n",
       "      <td>1495</td>\n",
       "      <td>surf</td>\n",
       "      <td>New York-Newark-Jersey City, NY-NJ-PA</td>\n",
       "    </tr>\n",
       "    <tr>\n",
       "      <th>496</th>\n",
       "      <td>1496</td>\n",
       "      <td>surf</td>\n",
       "      <td>New Orleans-Metairie, LA</td>\n",
       "    </tr>\n",
       "    <tr>\n",
       "      <th>497</th>\n",
       "      <td>1497</td>\n",
       "      <td>ultimate</td>\n",
       "      <td>Los Angeles-Long Beach-Anaheim, CA</td>\n",
       "    </tr>\n",
       "    <tr>\n",
       "      <th>498</th>\n",
       "      <td>1498</td>\n",
       "      <td>surf</td>\n",
       "      <td>New York-Newark-Jersey City, NY-NJ-PA</td>\n",
       "    </tr>\n",
       "    <tr>\n",
       "      <th>499</th>\n",
       "      <td>1499</td>\n",
       "      <td>surf</td>\n",
       "      <td>Orlando-Kissimmee-Sanford, FL</td>\n",
       "    </tr>\n",
       "  </tbody>\n",
       "</table>\n",
       "<p>500 rows × 3 columns</p>\n",
       "</div>"
      ],
      "text/plain": [
       "    user_id      plan                                   city\n",
       "0      1000  ultimate      Atlanta-Sandy Springs-Roswell, GA\n",
       "1      1001      surf            Seattle-Tacoma-Bellevue, WA\n",
       "2      1002      surf       Las Vegas-Henderson-Paradise, NV\n",
       "3      1003      surf                              Tulsa, OK\n",
       "4      1004      surf            Seattle-Tacoma-Bellevue, WA\n",
       "..      ...       ...                                    ...\n",
       "495    1495      surf  New York-Newark-Jersey City, NY-NJ-PA\n",
       "496    1496      surf               New Orleans-Metairie, LA\n",
       "497    1497  ultimate     Los Angeles-Long Beach-Anaheim, CA\n",
       "498    1498      surf  New York-Newark-Jersey City, NY-NJ-PA\n",
       "499    1499      surf          Orlando-Kissimmee-Sanford, FL\n",
       "\n",
       "[500 rows x 3 columns]"
      ]
     },
     "execution_count": 49,
     "metadata": {},
     "output_type": "execute_result"
    }
   ],
   "source": [
    "user_resume"
   ]
  },
  {
   "cell_type": "code",
   "execution_count": 50,
   "metadata": {},
   "outputs": [],
   "source": [
    "#une los datos de cada user con su id, el plan contratado y los sevicios incluidos según el plan.\n",
    "data_merge=user_resume.merge(plans, left_on=\"plan\", right_on=\"plan_name\")\n",
    "data_merge=data_merge.drop(\"plan_name\", axis=\"columns\")"
   ]
  },
  {
   "cell_type": "code",
   "execution_count": 51,
   "metadata": {},
   "outputs": [
    {
     "data": {
      "text/html": [
       "<div>\n",
       "<style scoped>\n",
       "    .dataframe tbody tr th:only-of-type {\n",
       "        vertical-align: middle;\n",
       "    }\n",
       "\n",
       "    .dataframe tbody tr th {\n",
       "        vertical-align: top;\n",
       "    }\n",
       "\n",
       "    .dataframe thead th {\n",
       "        text-align: right;\n",
       "    }\n",
       "</style>\n",
       "<table border=\"1\" class=\"dataframe\">\n",
       "  <thead>\n",
       "    <tr style=\"text-align: right;\">\n",
       "      <th></th>\n",
       "      <th>user_id</th>\n",
       "      <th>plan</th>\n",
       "      <th>city</th>\n",
       "      <th>messages_included</th>\n",
       "      <th>mb_per_month_included</th>\n",
       "      <th>minutes_included</th>\n",
       "      <th>usd_monthly_pay</th>\n",
       "      <th>usd_per_gb</th>\n",
       "      <th>usd_per_message</th>\n",
       "      <th>usd_per_minute</th>\n",
       "    </tr>\n",
       "  </thead>\n",
       "  <tbody>\n",
       "    <tr>\n",
       "      <th>0</th>\n",
       "      <td>1000</td>\n",
       "      <td>ultimate</td>\n",
       "      <td>Atlanta-Sandy Springs-Roswell, GA</td>\n",
       "      <td>1000</td>\n",
       "      <td>30720</td>\n",
       "      <td>3000</td>\n",
       "      <td>70</td>\n",
       "      <td>7</td>\n",
       "      <td>0.01</td>\n",
       "      <td>0.01</td>\n",
       "    </tr>\n",
       "    <tr>\n",
       "      <th>1</th>\n",
       "      <td>1006</td>\n",
       "      <td>ultimate</td>\n",
       "      <td>San Francisco-Oakland-Berkeley, CA</td>\n",
       "      <td>1000</td>\n",
       "      <td>30720</td>\n",
       "      <td>3000</td>\n",
       "      <td>70</td>\n",
       "      <td>7</td>\n",
       "      <td>0.01</td>\n",
       "      <td>0.01</td>\n",
       "    </tr>\n",
       "    <tr>\n",
       "      <th>2</th>\n",
       "      <td>1008</td>\n",
       "      <td>ultimate</td>\n",
       "      <td>Orlando-Kissimmee-Sanford, FL</td>\n",
       "      <td>1000</td>\n",
       "      <td>30720</td>\n",
       "      <td>3000</td>\n",
       "      <td>70</td>\n",
       "      <td>7</td>\n",
       "      <td>0.01</td>\n",
       "      <td>0.01</td>\n",
       "    </tr>\n",
       "    <tr>\n",
       "      <th>3</th>\n",
       "      <td>1011</td>\n",
       "      <td>ultimate</td>\n",
       "      <td>Cleveland-Elyria, OH</td>\n",
       "      <td>1000</td>\n",
       "      <td>30720</td>\n",
       "      <td>3000</td>\n",
       "      <td>70</td>\n",
       "      <td>7</td>\n",
       "      <td>0.01</td>\n",
       "      <td>0.01</td>\n",
       "    </tr>\n",
       "    <tr>\n",
       "      <th>4</th>\n",
       "      <td>1013</td>\n",
       "      <td>ultimate</td>\n",
       "      <td>Knoxville, TN</td>\n",
       "      <td>1000</td>\n",
       "      <td>30720</td>\n",
       "      <td>3000</td>\n",
       "      <td>70</td>\n",
       "      <td>7</td>\n",
       "      <td>0.01</td>\n",
       "      <td>0.01</td>\n",
       "    </tr>\n",
       "    <tr>\n",
       "      <th>...</th>\n",
       "      <td>...</td>\n",
       "      <td>...</td>\n",
       "      <td>...</td>\n",
       "      <td>...</td>\n",
       "      <td>...</td>\n",
       "      <td>...</td>\n",
       "      <td>...</td>\n",
       "      <td>...</td>\n",
       "      <td>...</td>\n",
       "      <td>...</td>\n",
       "    </tr>\n",
       "    <tr>\n",
       "      <th>495</th>\n",
       "      <td>1494</td>\n",
       "      <td>surf</td>\n",
       "      <td>New York-Newark-Jersey City, NY-NJ-PA</td>\n",
       "      <td>50</td>\n",
       "      <td>15360</td>\n",
       "      <td>500</td>\n",
       "      <td>20</td>\n",
       "      <td>10</td>\n",
       "      <td>0.03</td>\n",
       "      <td>0.03</td>\n",
       "    </tr>\n",
       "    <tr>\n",
       "      <th>496</th>\n",
       "      <td>1495</td>\n",
       "      <td>surf</td>\n",
       "      <td>New York-Newark-Jersey City, NY-NJ-PA</td>\n",
       "      <td>50</td>\n",
       "      <td>15360</td>\n",
       "      <td>500</td>\n",
       "      <td>20</td>\n",
       "      <td>10</td>\n",
       "      <td>0.03</td>\n",
       "      <td>0.03</td>\n",
       "    </tr>\n",
       "    <tr>\n",
       "      <th>497</th>\n",
       "      <td>1496</td>\n",
       "      <td>surf</td>\n",
       "      <td>New Orleans-Metairie, LA</td>\n",
       "      <td>50</td>\n",
       "      <td>15360</td>\n",
       "      <td>500</td>\n",
       "      <td>20</td>\n",
       "      <td>10</td>\n",
       "      <td>0.03</td>\n",
       "      <td>0.03</td>\n",
       "    </tr>\n",
       "    <tr>\n",
       "      <th>498</th>\n",
       "      <td>1498</td>\n",
       "      <td>surf</td>\n",
       "      <td>New York-Newark-Jersey City, NY-NJ-PA</td>\n",
       "      <td>50</td>\n",
       "      <td>15360</td>\n",
       "      <td>500</td>\n",
       "      <td>20</td>\n",
       "      <td>10</td>\n",
       "      <td>0.03</td>\n",
       "      <td>0.03</td>\n",
       "    </tr>\n",
       "    <tr>\n",
       "      <th>499</th>\n",
       "      <td>1499</td>\n",
       "      <td>surf</td>\n",
       "      <td>Orlando-Kissimmee-Sanford, FL</td>\n",
       "      <td>50</td>\n",
       "      <td>15360</td>\n",
       "      <td>500</td>\n",
       "      <td>20</td>\n",
       "      <td>10</td>\n",
       "      <td>0.03</td>\n",
       "      <td>0.03</td>\n",
       "    </tr>\n",
       "  </tbody>\n",
       "</table>\n",
       "<p>500 rows × 10 columns</p>\n",
       "</div>"
      ],
      "text/plain": [
       "    user_id      plan                                   city  \\\n",
       "0      1000  ultimate      Atlanta-Sandy Springs-Roswell, GA   \n",
       "1      1006  ultimate     San Francisco-Oakland-Berkeley, CA   \n",
       "2      1008  ultimate          Orlando-Kissimmee-Sanford, FL   \n",
       "3      1011  ultimate                   Cleveland-Elyria, OH   \n",
       "4      1013  ultimate                          Knoxville, TN   \n",
       "..      ...       ...                                    ...   \n",
       "495    1494      surf  New York-Newark-Jersey City, NY-NJ-PA   \n",
       "496    1495      surf  New York-Newark-Jersey City, NY-NJ-PA   \n",
       "497    1496      surf               New Orleans-Metairie, LA   \n",
       "498    1498      surf  New York-Newark-Jersey City, NY-NJ-PA   \n",
       "499    1499      surf          Orlando-Kissimmee-Sanford, FL   \n",
       "\n",
       "     messages_included  mb_per_month_included  minutes_included  \\\n",
       "0                 1000                  30720              3000   \n",
       "1                 1000                  30720              3000   \n",
       "2                 1000                  30720              3000   \n",
       "3                 1000                  30720              3000   \n",
       "4                 1000                  30720              3000   \n",
       "..                 ...                    ...               ...   \n",
       "495                 50                  15360               500   \n",
       "496                 50                  15360               500   \n",
       "497                 50                  15360               500   \n",
       "498                 50                  15360               500   \n",
       "499                 50                  15360               500   \n",
       "\n",
       "     usd_monthly_pay  usd_per_gb  usd_per_message  usd_per_minute  \n",
       "0                 70           7             0.01            0.01  \n",
       "1                 70           7             0.01            0.01  \n",
       "2                 70           7             0.01            0.01  \n",
       "3                 70           7             0.01            0.01  \n",
       "4                 70           7             0.01            0.01  \n",
       "..               ...         ...              ...             ...  \n",
       "495               20          10             0.03            0.03  \n",
       "496               20          10             0.03            0.03  \n",
       "497               20          10             0.03            0.03  \n",
       "498               20          10             0.03            0.03  \n",
       "499               20          10             0.03            0.03  \n",
       "\n",
       "[500 rows x 10 columns]"
      ]
     },
     "execution_count": 51,
     "metadata": {},
     "output_type": "execute_result"
    }
   ],
   "source": [
    "data_merge"
   ]
  },
  {
   "cell_type": "code",
   "execution_count": 52,
   "metadata": {},
   "outputs": [],
   "source": [
    "# Añade la información de la tarifa\n",
    "#uso merge para unir ambas datas\n",
    "#une los datas donde se agruparon llamadas, msm, data de cada usuario con el plan que les corresponde y sus sevicios incluidos para calcular sus ingresos.\n",
    "data_final = data_merge.merge(data_concat, left_on=\"user_id\", right_on=\"user_id\")"
   ]
  },
  {
   "cell_type": "code",
   "execution_count": 53,
   "metadata": {},
   "outputs": [
    {
     "name": "stdout",
     "output_type": "stream",
     "text": [
      "<class 'pandas.core.frame.DataFrame'>\n",
      "Int64Index: 2293 entries, 0 to 2292\n",
      "Data columns (total 15 columns):\n",
      " #   Column                   Non-Null Count  Dtype  \n",
      "---  ------                   --------------  -----  \n",
      " 0   user_id                  2293 non-null   object \n",
      " 1   plan                     2293 non-null   object \n",
      " 2   city                     2293 non-null   object \n",
      " 3   messages_included        2293 non-null   int64  \n",
      " 4   mb_per_month_included    2293 non-null   int64  \n",
      " 5   minutes_included         2293 non-null   int64  \n",
      " 6   usd_monthly_pay          2293 non-null   int64  \n",
      " 7   usd_per_gb               2293 non-null   int64  \n",
      " 8   usd_per_message          2293 non-null   float64\n",
      " 9   usd_per_minute           2293 non-null   float64\n",
      " 10  month                    2293 non-null   int64  \n",
      " 11  total_calls_per_user     2258 non-null   float64\n",
      " 12  total_min_calls          2258 non-null   float64\n",
      " 13  total_messages_per_user  1806 non-null   float64\n",
      " 14  total_mg_per_user        2277 non-null   float64\n",
      "dtypes: float64(6), int64(6), object(3)\n",
      "memory usage: 286.6+ KB\n"
     ]
    },
    {
     "data": {
      "text/html": [
       "<div>\n",
       "<style scoped>\n",
       "    .dataframe tbody tr th:only-of-type {\n",
       "        vertical-align: middle;\n",
       "    }\n",
       "\n",
       "    .dataframe tbody tr th {\n",
       "        vertical-align: top;\n",
       "    }\n",
       "\n",
       "    .dataframe thead th {\n",
       "        text-align: right;\n",
       "    }\n",
       "</style>\n",
       "<table border=\"1\" class=\"dataframe\">\n",
       "  <thead>\n",
       "    <tr style=\"text-align: right;\">\n",
       "      <th></th>\n",
       "      <th>user_id</th>\n",
       "      <th>plan</th>\n",
       "      <th>city</th>\n",
       "      <th>messages_included</th>\n",
       "      <th>mb_per_month_included</th>\n",
       "      <th>minutes_included</th>\n",
       "      <th>usd_monthly_pay</th>\n",
       "      <th>usd_per_gb</th>\n",
       "      <th>usd_per_message</th>\n",
       "      <th>usd_per_minute</th>\n",
       "      <th>month</th>\n",
       "      <th>total_calls_per_user</th>\n",
       "      <th>total_min_calls</th>\n",
       "      <th>total_messages_per_user</th>\n",
       "      <th>total_mg_per_user</th>\n",
       "    </tr>\n",
       "  </thead>\n",
       "  <tbody>\n",
       "    <tr>\n",
       "      <th>0</th>\n",
       "      <td>1000</td>\n",
       "      <td>ultimate</td>\n",
       "      <td>Atlanta-Sandy Springs-Roswell, GA</td>\n",
       "      <td>1000</td>\n",
       "      <td>30720</td>\n",
       "      <td>3000</td>\n",
       "      <td>70</td>\n",
       "      <td>7</td>\n",
       "      <td>0.01</td>\n",
       "      <td>0.01</td>\n",
       "      <td>12</td>\n",
       "      <td>16.0</td>\n",
       "      <td>116.83</td>\n",
       "      <td>11.0</td>\n",
       "      <td>1901.47</td>\n",
       "    </tr>\n",
       "    <tr>\n",
       "      <th>1</th>\n",
       "      <td>1006</td>\n",
       "      <td>ultimate</td>\n",
       "      <td>San Francisco-Oakland-Berkeley, CA</td>\n",
       "      <td>1000</td>\n",
       "      <td>30720</td>\n",
       "      <td>3000</td>\n",
       "      <td>70</td>\n",
       "      <td>7</td>\n",
       "      <td>0.01</td>\n",
       "      <td>0.01</td>\n",
       "      <td>11</td>\n",
       "      <td>2.0</td>\n",
       "      <td>9.32</td>\n",
       "      <td>15.0</td>\n",
       "      <td>2068.37</td>\n",
       "    </tr>\n",
       "    <tr>\n",
       "      <th>2</th>\n",
       "      <td>1006</td>\n",
       "      <td>ultimate</td>\n",
       "      <td>San Francisco-Oakland-Berkeley, CA</td>\n",
       "      <td>1000</td>\n",
       "      <td>30720</td>\n",
       "      <td>3000</td>\n",
       "      <td>70</td>\n",
       "      <td>7</td>\n",
       "      <td>0.01</td>\n",
       "      <td>0.01</td>\n",
       "      <td>12</td>\n",
       "      <td>9.0</td>\n",
       "      <td>54.79</td>\n",
       "      <td>139.0</td>\n",
       "      <td>32118.82</td>\n",
       "    </tr>\n",
       "    <tr>\n",
       "      <th>3</th>\n",
       "      <td>1008</td>\n",
       "      <td>ultimate</td>\n",
       "      <td>Orlando-Kissimmee-Sanford, FL</td>\n",
       "      <td>1000</td>\n",
       "      <td>30720</td>\n",
       "      <td>3000</td>\n",
       "      <td>70</td>\n",
       "      <td>7</td>\n",
       "      <td>0.01</td>\n",
       "      <td>0.01</td>\n",
       "      <td>10</td>\n",
       "      <td>71.0</td>\n",
       "      <td>450.21</td>\n",
       "      <td>21.0</td>\n",
       "      <td>17106.99</td>\n",
       "    </tr>\n",
       "    <tr>\n",
       "      <th>4</th>\n",
       "      <td>1008</td>\n",
       "      <td>ultimate</td>\n",
       "      <td>Orlando-Kissimmee-Sanford, FL</td>\n",
       "      <td>1000</td>\n",
       "      <td>30720</td>\n",
       "      <td>3000</td>\n",
       "      <td>70</td>\n",
       "      <td>7</td>\n",
       "      <td>0.01</td>\n",
       "      <td>0.01</td>\n",
       "      <td>11</td>\n",
       "      <td>63.0</td>\n",
       "      <td>422.81</td>\n",
       "      <td>37.0</td>\n",
       "      <td>23676.72</td>\n",
       "    </tr>\n",
       "    <tr>\n",
       "      <th>...</th>\n",
       "      <td>...</td>\n",
       "      <td>...</td>\n",
       "      <td>...</td>\n",
       "      <td>...</td>\n",
       "      <td>...</td>\n",
       "      <td>...</td>\n",
       "      <td>...</td>\n",
       "      <td>...</td>\n",
       "      <td>...</td>\n",
       "      <td>...</td>\n",
       "      <td>...</td>\n",
       "      <td>...</td>\n",
       "      <td>...</td>\n",
       "      <td>...</td>\n",
       "      <td>...</td>\n",
       "    </tr>\n",
       "    <tr>\n",
       "      <th>2288</th>\n",
       "      <td>1498</td>\n",
       "      <td>surf</td>\n",
       "      <td>New York-Newark-Jersey City, NY-NJ-PA</td>\n",
       "      <td>50</td>\n",
       "      <td>15360</td>\n",
       "      <td>500</td>\n",
       "      <td>20</td>\n",
       "      <td>10</td>\n",
       "      <td>0.03</td>\n",
       "      <td>0.03</td>\n",
       "      <td>12</td>\n",
       "      <td>39.0</td>\n",
       "      <td>324.77</td>\n",
       "      <td>NaN</td>\n",
       "      <td>23137.69</td>\n",
       "    </tr>\n",
       "    <tr>\n",
       "      <th>2289</th>\n",
       "      <td>1499</td>\n",
       "      <td>surf</td>\n",
       "      <td>Orlando-Kissimmee-Sanford, FL</td>\n",
       "      <td>50</td>\n",
       "      <td>15360</td>\n",
       "      <td>500</td>\n",
       "      <td>20</td>\n",
       "      <td>10</td>\n",
       "      <td>0.03</td>\n",
       "      <td>0.03</td>\n",
       "      <td>9</td>\n",
       "      <td>41.0</td>\n",
       "      <td>330.37</td>\n",
       "      <td>NaN</td>\n",
       "      <td>12984.76</td>\n",
       "    </tr>\n",
       "    <tr>\n",
       "      <th>2290</th>\n",
       "      <td>1499</td>\n",
       "      <td>surf</td>\n",
       "      <td>Orlando-Kissimmee-Sanford, FL</td>\n",
       "      <td>50</td>\n",
       "      <td>15360</td>\n",
       "      <td>500</td>\n",
       "      <td>20</td>\n",
       "      <td>10</td>\n",
       "      <td>0.03</td>\n",
       "      <td>0.03</td>\n",
       "      <td>10</td>\n",
       "      <td>53.0</td>\n",
       "      <td>363.28</td>\n",
       "      <td>NaN</td>\n",
       "      <td>19492.43</td>\n",
       "    </tr>\n",
       "    <tr>\n",
       "      <th>2291</th>\n",
       "      <td>1499</td>\n",
       "      <td>surf</td>\n",
       "      <td>Orlando-Kissimmee-Sanford, FL</td>\n",
       "      <td>50</td>\n",
       "      <td>15360</td>\n",
       "      <td>500</td>\n",
       "      <td>20</td>\n",
       "      <td>10</td>\n",
       "      <td>0.03</td>\n",
       "      <td>0.03</td>\n",
       "      <td>11</td>\n",
       "      <td>45.0</td>\n",
       "      <td>288.56</td>\n",
       "      <td>NaN</td>\n",
       "      <td>16813.83</td>\n",
       "    </tr>\n",
       "    <tr>\n",
       "      <th>2292</th>\n",
       "      <td>1499</td>\n",
       "      <td>surf</td>\n",
       "      <td>Orlando-Kissimmee-Sanford, FL</td>\n",
       "      <td>50</td>\n",
       "      <td>15360</td>\n",
       "      <td>500</td>\n",
       "      <td>20</td>\n",
       "      <td>10</td>\n",
       "      <td>0.03</td>\n",
       "      <td>0.03</td>\n",
       "      <td>12</td>\n",
       "      <td>65.0</td>\n",
       "      <td>468.10</td>\n",
       "      <td>NaN</td>\n",
       "      <td>22059.21</td>\n",
       "    </tr>\n",
       "  </tbody>\n",
       "</table>\n",
       "<p>2293 rows × 15 columns</p>\n",
       "</div>"
      ],
      "text/plain": [
       "     user_id      plan                                   city  \\\n",
       "0       1000  ultimate      Atlanta-Sandy Springs-Roswell, GA   \n",
       "1       1006  ultimate     San Francisco-Oakland-Berkeley, CA   \n",
       "2       1006  ultimate     San Francisco-Oakland-Berkeley, CA   \n",
       "3       1008  ultimate          Orlando-Kissimmee-Sanford, FL   \n",
       "4       1008  ultimate          Orlando-Kissimmee-Sanford, FL   \n",
       "...      ...       ...                                    ...   \n",
       "2288    1498      surf  New York-Newark-Jersey City, NY-NJ-PA   \n",
       "2289    1499      surf          Orlando-Kissimmee-Sanford, FL   \n",
       "2290    1499      surf          Orlando-Kissimmee-Sanford, FL   \n",
       "2291    1499      surf          Orlando-Kissimmee-Sanford, FL   \n",
       "2292    1499      surf          Orlando-Kissimmee-Sanford, FL   \n",
       "\n",
       "      messages_included  mb_per_month_included  minutes_included  \\\n",
       "0                  1000                  30720              3000   \n",
       "1                  1000                  30720              3000   \n",
       "2                  1000                  30720              3000   \n",
       "3                  1000                  30720              3000   \n",
       "4                  1000                  30720              3000   \n",
       "...                 ...                    ...               ...   \n",
       "2288                 50                  15360               500   \n",
       "2289                 50                  15360               500   \n",
       "2290                 50                  15360               500   \n",
       "2291                 50                  15360               500   \n",
       "2292                 50                  15360               500   \n",
       "\n",
       "      usd_monthly_pay  usd_per_gb  usd_per_message  usd_per_minute  month  \\\n",
       "0                  70           7             0.01            0.01     12   \n",
       "1                  70           7             0.01            0.01     11   \n",
       "2                  70           7             0.01            0.01     12   \n",
       "3                  70           7             0.01            0.01     10   \n",
       "4                  70           7             0.01            0.01     11   \n",
       "...               ...         ...              ...             ...    ...   \n",
       "2288               20          10             0.03            0.03     12   \n",
       "2289               20          10             0.03            0.03      9   \n",
       "2290               20          10             0.03            0.03     10   \n",
       "2291               20          10             0.03            0.03     11   \n",
       "2292               20          10             0.03            0.03     12   \n",
       "\n",
       "      total_calls_per_user  total_min_calls  total_messages_per_user  \\\n",
       "0                     16.0           116.83                     11.0   \n",
       "1                      2.0             9.32                     15.0   \n",
       "2                      9.0            54.79                    139.0   \n",
       "3                     71.0           450.21                     21.0   \n",
       "4                     63.0           422.81                     37.0   \n",
       "...                    ...              ...                      ...   \n",
       "2288                  39.0           324.77                      NaN   \n",
       "2289                  41.0           330.37                      NaN   \n",
       "2290                  53.0           363.28                      NaN   \n",
       "2291                  45.0           288.56                      NaN   \n",
       "2292                  65.0           468.10                      NaN   \n",
       "\n",
       "      total_mg_per_user  \n",
       "0               1901.47  \n",
       "1               2068.37  \n",
       "2              32118.82  \n",
       "3              17106.99  \n",
       "4              23676.72  \n",
       "...                 ...  \n",
       "2288           23137.69  \n",
       "2289           12984.76  \n",
       "2290           19492.43  \n",
       "2291           16813.83  \n",
       "2292           22059.21  \n",
       "\n",
       "[2293 rows x 15 columns]"
      ]
     },
     "execution_count": 53,
     "metadata": {},
     "output_type": "execute_result"
    }
   ],
   "source": [
    "data_final.info()\n",
    "data_final"
   ]
  },
  {
   "cell_type": "markdown",
   "metadata": {
    "id": "1IwGo4wg0q1I"
   },
   "source": [
    "[Calcula los ingresos mensuales por usuario (resta el límite del paquete gratuito del número total de llamadas, mensajes de texto y datos; multiplica el resultado por el valor del plan de llamadas; añade la tarifa mensual en función del plan de llamadas). Nota: Dadas las condiciones del plan, ¡esto podría no ser tan trivial como un par de líneas! Así que no pasa nada si dedicas algo de tiempo a ello.]"
   ]
  },
  {
   "cell_type": "code",
   "execution_count": 54,
   "metadata": {},
   "outputs": [],
   "source": [
    "#crear una función personalizada para calcular el precio a pagar mensual por usuario\n",
    "\n",
    "def calcular_ingresos_mensuales(data_final):\n",
    "    \n",
    "    # Calcular el uso por encima del límite\n",
    "    data_final[\"llamadas_excedentes\"] = max(data_final[\"total_min_calls\"] - data_final[\"minutes_included\"])\n",
    "    data_final[\"mensajes_excedentes\"] = max(data_final[\"total_messages_per_user\"] - data_final[\"messages_included\"])\n",
    "    data_final[\"datos_excedentes\"] = max(data_final[\"total_mg_per_user\"] - data_final[\"mb_per_month_included\"])\n",
    "    \n",
    "    # Calcular ingresos por uso extra de cada servicio\n",
    "    data_final[\"pagos_extras\"] = (data_final[\"llamadas_excedentes\"] * data_final[\"usd_per_minute\"]) + \\\n",
    "                          (data_final[\"mensajes_excedentes\"] * data_final[\"usd_per_message\"]) + \\\n",
    "                          (data_final[\"datos_excedentes\"] * data_final[\"usd_per_gb\"])  # Cada uno con el valor correspondiente a su variable\n",
    "    \n",
    "    # Calcular ingresos totales\n",
    "    data_final[\"pago_total\"] = data_final[\"pagos_extras\"] + data_final[\"usd_monthly_pay\"]\n",
    "    \n",
    "    return data_final"
   ]
  },
  {
   "cell_type": "code",
   "execution_count": 55,
   "metadata": {
    "id": "5FGCf_c60q1I"
   },
   "outputs": [],
   "source": [
    "# Calcula el ingreso mensual para cada usuario\n",
    "#Crea un nueva columna con el costo total a pagar por mes por usuario\n",
    "\n",
    "data_final['pago_total'] = calcular_ingresos_mensuales(data_final)"
   ]
  },
  {
   "cell_type": "code",
   "execution_count": 56,
   "metadata": {},
   "outputs": [
    {
     "data": {
      "text/html": [
       "<div>\n",
       "<style scoped>\n",
       "    .dataframe tbody tr th:only-of-type {\n",
       "        vertical-align: middle;\n",
       "    }\n",
       "\n",
       "    .dataframe tbody tr th {\n",
       "        vertical-align: top;\n",
       "    }\n",
       "\n",
       "    .dataframe thead th {\n",
       "        text-align: right;\n",
       "    }\n",
       "</style>\n",
       "<table border=\"1\" class=\"dataframe\">\n",
       "  <thead>\n",
       "    <tr style=\"text-align: right;\">\n",
       "      <th></th>\n",
       "      <th>user_id</th>\n",
       "      <th>plan</th>\n",
       "      <th>city</th>\n",
       "      <th>messages_included</th>\n",
       "      <th>mb_per_month_included</th>\n",
       "      <th>minutes_included</th>\n",
       "      <th>usd_monthly_pay</th>\n",
       "      <th>usd_per_gb</th>\n",
       "      <th>usd_per_message</th>\n",
       "      <th>usd_per_minute</th>\n",
       "      <th>month</th>\n",
       "      <th>total_calls_per_user</th>\n",
       "      <th>total_min_calls</th>\n",
       "      <th>total_messages_per_user</th>\n",
       "      <th>total_mg_per_user</th>\n",
       "      <th>llamadas_excedentes</th>\n",
       "      <th>mensajes_excedentes</th>\n",
       "      <th>datos_excedentes</th>\n",
       "      <th>pagos_extras</th>\n",
       "      <th>pago_total</th>\n",
       "    </tr>\n",
       "  </thead>\n",
       "  <tbody>\n",
       "    <tr>\n",
       "      <th>0</th>\n",
       "      <td>1000</td>\n",
       "      <td>ultimate</td>\n",
       "      <td>Atlanta-Sandy Springs-Roswell, GA</td>\n",
       "      <td>1000</td>\n",
       "      <td>30720</td>\n",
       "      <td>3000</td>\n",
       "      <td>70</td>\n",
       "      <td>7</td>\n",
       "      <td>0.01</td>\n",
       "      <td>0.01</td>\n",
       "      <td>12</td>\n",
       "      <td>16.0</td>\n",
       "      <td>116.83</td>\n",
       "      <td>11.0</td>\n",
       "      <td>1901.47</td>\n",
       "      <td>931.22</td>\n",
       "      <td>216.0</td>\n",
       "      <td>55571.59</td>\n",
       "      <td>389012.6022</td>\n",
       "      <td>1000</td>\n",
       "    </tr>\n",
       "    <tr>\n",
       "      <th>1</th>\n",
       "      <td>1006</td>\n",
       "      <td>ultimate</td>\n",
       "      <td>San Francisco-Oakland-Berkeley, CA</td>\n",
       "      <td>1000</td>\n",
       "      <td>30720</td>\n",
       "      <td>3000</td>\n",
       "      <td>70</td>\n",
       "      <td>7</td>\n",
       "      <td>0.01</td>\n",
       "      <td>0.01</td>\n",
       "      <td>11</td>\n",
       "      <td>2.0</td>\n",
       "      <td>9.32</td>\n",
       "      <td>15.0</td>\n",
       "      <td>2068.37</td>\n",
       "      <td>931.22</td>\n",
       "      <td>216.0</td>\n",
       "      <td>55571.59</td>\n",
       "      <td>389012.6022</td>\n",
       "      <td>1006</td>\n",
       "    </tr>\n",
       "    <tr>\n",
       "      <th>2</th>\n",
       "      <td>1006</td>\n",
       "      <td>ultimate</td>\n",
       "      <td>San Francisco-Oakland-Berkeley, CA</td>\n",
       "      <td>1000</td>\n",
       "      <td>30720</td>\n",
       "      <td>3000</td>\n",
       "      <td>70</td>\n",
       "      <td>7</td>\n",
       "      <td>0.01</td>\n",
       "      <td>0.01</td>\n",
       "      <td>12</td>\n",
       "      <td>9.0</td>\n",
       "      <td>54.79</td>\n",
       "      <td>139.0</td>\n",
       "      <td>32118.82</td>\n",
       "      <td>931.22</td>\n",
       "      <td>216.0</td>\n",
       "      <td>55571.59</td>\n",
       "      <td>389012.6022</td>\n",
       "      <td>1006</td>\n",
       "    </tr>\n",
       "    <tr>\n",
       "      <th>3</th>\n",
       "      <td>1008</td>\n",
       "      <td>ultimate</td>\n",
       "      <td>Orlando-Kissimmee-Sanford, FL</td>\n",
       "      <td>1000</td>\n",
       "      <td>30720</td>\n",
       "      <td>3000</td>\n",
       "      <td>70</td>\n",
       "      <td>7</td>\n",
       "      <td>0.01</td>\n",
       "      <td>0.01</td>\n",
       "      <td>10</td>\n",
       "      <td>71.0</td>\n",
       "      <td>450.21</td>\n",
       "      <td>21.0</td>\n",
       "      <td>17106.99</td>\n",
       "      <td>931.22</td>\n",
       "      <td>216.0</td>\n",
       "      <td>55571.59</td>\n",
       "      <td>389012.6022</td>\n",
       "      <td>1008</td>\n",
       "    </tr>\n",
       "    <tr>\n",
       "      <th>4</th>\n",
       "      <td>1008</td>\n",
       "      <td>ultimate</td>\n",
       "      <td>Orlando-Kissimmee-Sanford, FL</td>\n",
       "      <td>1000</td>\n",
       "      <td>30720</td>\n",
       "      <td>3000</td>\n",
       "      <td>70</td>\n",
       "      <td>7</td>\n",
       "      <td>0.01</td>\n",
       "      <td>0.01</td>\n",
       "      <td>11</td>\n",
       "      <td>63.0</td>\n",
       "      <td>422.81</td>\n",
       "      <td>37.0</td>\n",
       "      <td>23676.72</td>\n",
       "      <td>931.22</td>\n",
       "      <td>216.0</td>\n",
       "      <td>55571.59</td>\n",
       "      <td>389012.6022</td>\n",
       "      <td>1008</td>\n",
       "    </tr>\n",
       "    <tr>\n",
       "      <th>...</th>\n",
       "      <td>...</td>\n",
       "      <td>...</td>\n",
       "      <td>...</td>\n",
       "      <td>...</td>\n",
       "      <td>...</td>\n",
       "      <td>...</td>\n",
       "      <td>...</td>\n",
       "      <td>...</td>\n",
       "      <td>...</td>\n",
       "      <td>...</td>\n",
       "      <td>...</td>\n",
       "      <td>...</td>\n",
       "      <td>...</td>\n",
       "      <td>...</td>\n",
       "      <td>...</td>\n",
       "      <td>...</td>\n",
       "      <td>...</td>\n",
       "      <td>...</td>\n",
       "      <td>...</td>\n",
       "      <td>...</td>\n",
       "    </tr>\n",
       "    <tr>\n",
       "      <th>2288</th>\n",
       "      <td>1498</td>\n",
       "      <td>surf</td>\n",
       "      <td>New York-Newark-Jersey City, NY-NJ-PA</td>\n",
       "      <td>50</td>\n",
       "      <td>15360</td>\n",
       "      <td>500</td>\n",
       "      <td>20</td>\n",
       "      <td>10</td>\n",
       "      <td>0.03</td>\n",
       "      <td>0.03</td>\n",
       "      <td>12</td>\n",
       "      <td>39.0</td>\n",
       "      <td>324.77</td>\n",
       "      <td>NaN</td>\n",
       "      <td>23137.69</td>\n",
       "      <td>931.22</td>\n",
       "      <td>216.0</td>\n",
       "      <td>55571.59</td>\n",
       "      <td>555750.3166</td>\n",
       "      <td>1498</td>\n",
       "    </tr>\n",
       "    <tr>\n",
       "      <th>2289</th>\n",
       "      <td>1499</td>\n",
       "      <td>surf</td>\n",
       "      <td>Orlando-Kissimmee-Sanford, FL</td>\n",
       "      <td>50</td>\n",
       "      <td>15360</td>\n",
       "      <td>500</td>\n",
       "      <td>20</td>\n",
       "      <td>10</td>\n",
       "      <td>0.03</td>\n",
       "      <td>0.03</td>\n",
       "      <td>9</td>\n",
       "      <td>41.0</td>\n",
       "      <td>330.37</td>\n",
       "      <td>NaN</td>\n",
       "      <td>12984.76</td>\n",
       "      <td>931.22</td>\n",
       "      <td>216.0</td>\n",
       "      <td>55571.59</td>\n",
       "      <td>555750.3166</td>\n",
       "      <td>1499</td>\n",
       "    </tr>\n",
       "    <tr>\n",
       "      <th>2290</th>\n",
       "      <td>1499</td>\n",
       "      <td>surf</td>\n",
       "      <td>Orlando-Kissimmee-Sanford, FL</td>\n",
       "      <td>50</td>\n",
       "      <td>15360</td>\n",
       "      <td>500</td>\n",
       "      <td>20</td>\n",
       "      <td>10</td>\n",
       "      <td>0.03</td>\n",
       "      <td>0.03</td>\n",
       "      <td>10</td>\n",
       "      <td>53.0</td>\n",
       "      <td>363.28</td>\n",
       "      <td>NaN</td>\n",
       "      <td>19492.43</td>\n",
       "      <td>931.22</td>\n",
       "      <td>216.0</td>\n",
       "      <td>55571.59</td>\n",
       "      <td>555750.3166</td>\n",
       "      <td>1499</td>\n",
       "    </tr>\n",
       "    <tr>\n",
       "      <th>2291</th>\n",
       "      <td>1499</td>\n",
       "      <td>surf</td>\n",
       "      <td>Orlando-Kissimmee-Sanford, FL</td>\n",
       "      <td>50</td>\n",
       "      <td>15360</td>\n",
       "      <td>500</td>\n",
       "      <td>20</td>\n",
       "      <td>10</td>\n",
       "      <td>0.03</td>\n",
       "      <td>0.03</td>\n",
       "      <td>11</td>\n",
       "      <td>45.0</td>\n",
       "      <td>288.56</td>\n",
       "      <td>NaN</td>\n",
       "      <td>16813.83</td>\n",
       "      <td>931.22</td>\n",
       "      <td>216.0</td>\n",
       "      <td>55571.59</td>\n",
       "      <td>555750.3166</td>\n",
       "      <td>1499</td>\n",
       "    </tr>\n",
       "    <tr>\n",
       "      <th>2292</th>\n",
       "      <td>1499</td>\n",
       "      <td>surf</td>\n",
       "      <td>Orlando-Kissimmee-Sanford, FL</td>\n",
       "      <td>50</td>\n",
       "      <td>15360</td>\n",
       "      <td>500</td>\n",
       "      <td>20</td>\n",
       "      <td>10</td>\n",
       "      <td>0.03</td>\n",
       "      <td>0.03</td>\n",
       "      <td>12</td>\n",
       "      <td>65.0</td>\n",
       "      <td>468.10</td>\n",
       "      <td>NaN</td>\n",
       "      <td>22059.21</td>\n",
       "      <td>931.22</td>\n",
       "      <td>216.0</td>\n",
       "      <td>55571.59</td>\n",
       "      <td>555750.3166</td>\n",
       "      <td>1499</td>\n",
       "    </tr>\n",
       "  </tbody>\n",
       "</table>\n",
       "<p>2293 rows × 20 columns</p>\n",
       "</div>"
      ],
      "text/plain": [
       "     user_id      plan                                   city  \\\n",
       "0       1000  ultimate      Atlanta-Sandy Springs-Roswell, GA   \n",
       "1       1006  ultimate     San Francisco-Oakland-Berkeley, CA   \n",
       "2       1006  ultimate     San Francisco-Oakland-Berkeley, CA   \n",
       "3       1008  ultimate          Orlando-Kissimmee-Sanford, FL   \n",
       "4       1008  ultimate          Orlando-Kissimmee-Sanford, FL   \n",
       "...      ...       ...                                    ...   \n",
       "2288    1498      surf  New York-Newark-Jersey City, NY-NJ-PA   \n",
       "2289    1499      surf          Orlando-Kissimmee-Sanford, FL   \n",
       "2290    1499      surf          Orlando-Kissimmee-Sanford, FL   \n",
       "2291    1499      surf          Orlando-Kissimmee-Sanford, FL   \n",
       "2292    1499      surf          Orlando-Kissimmee-Sanford, FL   \n",
       "\n",
       "      messages_included  mb_per_month_included  minutes_included  \\\n",
       "0                  1000                  30720              3000   \n",
       "1                  1000                  30720              3000   \n",
       "2                  1000                  30720              3000   \n",
       "3                  1000                  30720              3000   \n",
       "4                  1000                  30720              3000   \n",
       "...                 ...                    ...               ...   \n",
       "2288                 50                  15360               500   \n",
       "2289                 50                  15360               500   \n",
       "2290                 50                  15360               500   \n",
       "2291                 50                  15360               500   \n",
       "2292                 50                  15360               500   \n",
       "\n",
       "      usd_monthly_pay  usd_per_gb  usd_per_message  usd_per_minute  month  \\\n",
       "0                  70           7             0.01            0.01     12   \n",
       "1                  70           7             0.01            0.01     11   \n",
       "2                  70           7             0.01            0.01     12   \n",
       "3                  70           7             0.01            0.01     10   \n",
       "4                  70           7             0.01            0.01     11   \n",
       "...               ...         ...              ...             ...    ...   \n",
       "2288               20          10             0.03            0.03     12   \n",
       "2289               20          10             0.03            0.03      9   \n",
       "2290               20          10             0.03            0.03     10   \n",
       "2291               20          10             0.03            0.03     11   \n",
       "2292               20          10             0.03            0.03     12   \n",
       "\n",
       "      total_calls_per_user  total_min_calls  total_messages_per_user  \\\n",
       "0                     16.0           116.83                     11.0   \n",
       "1                      2.0             9.32                     15.0   \n",
       "2                      9.0            54.79                    139.0   \n",
       "3                     71.0           450.21                     21.0   \n",
       "4                     63.0           422.81                     37.0   \n",
       "...                    ...              ...                      ...   \n",
       "2288                  39.0           324.77                      NaN   \n",
       "2289                  41.0           330.37                      NaN   \n",
       "2290                  53.0           363.28                      NaN   \n",
       "2291                  45.0           288.56                      NaN   \n",
       "2292                  65.0           468.10                      NaN   \n",
       "\n",
       "      total_mg_per_user  llamadas_excedentes  mensajes_excedentes  \\\n",
       "0               1901.47               931.22                216.0   \n",
       "1               2068.37               931.22                216.0   \n",
       "2              32118.82               931.22                216.0   \n",
       "3              17106.99               931.22                216.0   \n",
       "4              23676.72               931.22                216.0   \n",
       "...                 ...                  ...                  ...   \n",
       "2288           23137.69               931.22                216.0   \n",
       "2289           12984.76               931.22                216.0   \n",
       "2290           19492.43               931.22                216.0   \n",
       "2291           16813.83               931.22                216.0   \n",
       "2292           22059.21               931.22                216.0   \n",
       "\n",
       "      datos_excedentes  pagos_extras pago_total  \n",
       "0             55571.59   389012.6022       1000  \n",
       "1             55571.59   389012.6022       1006  \n",
       "2             55571.59   389012.6022       1006  \n",
       "3             55571.59   389012.6022       1008  \n",
       "4             55571.59   389012.6022       1008  \n",
       "...                ...           ...        ...  \n",
       "2288          55571.59   555750.3166       1498  \n",
       "2289          55571.59   555750.3166       1499  \n",
       "2290          55571.59   555750.3166       1499  \n",
       "2291          55571.59   555750.3166       1499  \n",
       "2292          55571.59   555750.3166       1499  \n",
       "\n",
       "[2293 rows x 20 columns]"
      ]
     },
     "execution_count": 56,
     "metadata": {},
     "output_type": "execute_result"
    }
   ],
   "source": [
    "data_final\n"
   ]
  },
  {
   "cell_type": "code",
   "execution_count": 57,
   "metadata": {},
   "outputs": [],
   "source": [
    "#convertir la columna de del pago final en int para su uso posterior en calculos y graficas\n",
    "data_final[\"pago_total\"]=data_final[\"pago_total\"].astype(\"int\")"
   ]
  },
  {
   "cell_type": "markdown",
   "metadata": {
    "id": "-jtyHzJb0q1I"
   },
   "source": [
    "## Estudia el comportamiento de usuario"
   ]
  },
  {
   "cell_type": "markdown",
   "metadata": {
    "id": "AxU3Y0N70q1J"
   },
   "source": [
    "Analizaremos el comportamiento de los usuarios ya con el cálculo de su comportamiento en relación a sus planes, se añadirán gráficas que ayuden a explicar el comportamiento de los usuarios comparando las tarifas para conocer cual es más rentable.\n",
    "Compararemos en todo momento ambas tarifas para conocer cual nos deja mejores beneficios como empresa."
   ]
  },
  {
   "cell_type": "markdown",
   "metadata": {
    "id": "vtW4CJEe0q1J"
   },
   "source": [
    "### Llamadas"
   ]
  },
  {
   "cell_type": "code",
   "execution_count": 58,
   "metadata": {
    "id": "Jf5v5--k0q1J"
   },
   "outputs": [
    {
     "data": {
      "image/png": "[encoded data removed]",
      "text/plain": [
       "<Figure size 640x480 with 1 Axes>"
      ]
     },
     "metadata": {},
     "output_type": "display_data"
    }
   ],
   "source": [
    "# Compara la duración promedio de llamadas por cada plan y por cada mes. Traza un gráfico de barras para visualizarla.\n",
    "#se agrupan pos plan y mes para su visualiacion en las graficas\n",
    "final_calls=data_final.groupby([\"month\",\"plan\"])[\"total_min_calls\"].count()\n",
    "#manda a visualizar la graficas con ambos planes\n",
    "final_calls.plot(x=\"plan\", xlabel=\"Llamadas por paquete mensuamente\",ylabel=\"Cantidad de llamadas por paquete mensual\", kind=\"bar\", color=\"pink\")\n",
    "\n",
    "plt.show()"
   ]
  },
  {
   "cell_type": "code",
   "execution_count": 59,
   "metadata": {
    "id": "QoLqW1S_0q1J"
   },
   "outputs": [
    {
     "data": {
      "image/png": "[encoded data removed]",
      "text/plain": [
       "<Figure size 640x480 with 1 Axes>"
      ]
     },
     "metadata": {},
     "output_type": "display_data"
    }
   ],
   "source": [
    "# Compara el número de minutos mensuales que necesitan los usuarios de cada plan. Traza un histograma.\n",
    "#se filtra cada plan con el numero total de llamas hechas y se realiza el codigo de histograma\n",
    "data_final[data_final[\"plan\"]== \"surf\"][\"total_min_calls\"].plot(kind= \"hist\", bins=20, alpha=0.8, color= \"pink\")\n",
    "data_final[data_final[\"plan\"]== \"ultimate\"][\"total_min_calls\"].plot(kind= \"hist\", bins=20, color= \"purple\")\n",
    "\n",
    "#añade informacion al gráfico para mejor visualización\n",
    "plt.legend([\"Plan Surf\", \"Plan Ultimate\"])\n",
    "plt.xlabel(\"LLamadas por mes\")\n",
    "plt.ylabel(\"Cantidad de llamadas\")\n",
    "plt.show()"
   ]
  },
  {
   "cell_type": "markdown",
   "metadata": {
    "id": "bLS9T8OH0q1K"
   },
   "source": [
    "Se buscará analizar l amedia y la varianza de los usuarios para verificar si ambos planes se comportan de manera similar en cuanto a las llamadas realizadas y analizar su comportamiento."
   ]
  },
  {
   "cell_type": "code",
   "execution_count": 60,
   "metadata": {
    "id": "oSndbAnt0q1K"
   },
   "outputs": [],
   "source": [
    "# Calcula la media y la varianza de la duración mensual de llamadas.\n",
    "calls_mean= data_final[\"total_min_calls\"].mean()\n",
    "calls_var= np.var(data_final[\"total_min_calls\"])"
   ]
  },
  {
   "cell_type": "code",
   "execution_count": 61,
   "metadata": {},
   "outputs": [
    {
     "name": "stdout",
     "output_type": "stream",
     "text": [
      "La media de las llamadas es: 411.4925863596103\n",
      "La varianza de las llamadas es: 48067.00576337274\n"
     ]
    }
   ],
   "source": [
    "print(\"La media de las llamadas es:\" , calls_mean)\n",
    "print(\"La varianza de las llamadas es:\", calls_var)"
   ]
  },
  {
   "cell_type": "code",
   "execution_count": 62,
   "metadata": {
    "id": "nZzoRUKc0q1K"
   },
   "outputs": [
    {
     "data": {
      "image/png": "[encoded data removed]",
      "text/plain": [
       "<Figure size 1500x700 with 1 Axes>"
      ]
     },
     "metadata": {},
     "output_type": "display_data"
    }
   ],
   "source": [
    "# Traza un diagrama de caja para visualizar la distribución de la duración mensual de llamadas\n",
    "plt.figure(figsize=(15,7))\n",
    "sns.boxplot(data=data_final, x=\"plan\", y=\"total_min_calls\", color=\"pink\")\n",
    "plt.title(\"Comparacion de las llamadas totales en ambos planes\")\n",
    "plt.show()"
   ]
  },
  {
   "cell_type": "markdown",
   "metadata": {
    "id": "r627zBO50q1K"
   },
   "source": [
    "Conclusiones:\n",
    "\n",
    "Los usuarios del plan surf tienden a realizar mas llamadas si comparamos su uso mensualmente en las gráficas de barras.\n",
    "Ambos grupos tienen un patron muy similar en el uso solo varia por la mayor demanda del servicio por los usuraios del plan surf.\n",
    "Al analizar la caja vemos que sus valores son muy similares, los datos pasados pueden estarse viendo afectados por todos los valores atipicos que presentan ambos grupos. Pero en su promedio ambos grupos se comportan de manera muy similar."
   ]
  },
  {
   "cell_type": "markdown",
   "metadata": {
    "id": "8idKy8Wh0q1L"
   },
   "source": [
    "### Mensajes"
   ]
  },
  {
   "cell_type": "code",
   "execution_count": 63,
   "metadata": {
    "id": "NXLxiTit0q1L"
   },
   "outputs": [
    {
     "data": {
      "text/plain": [
       "<AxesSubplot:xlabel='Mensajes realizados mensualmente por plan'>"
      ]
     },
     "execution_count": 63,
     "metadata": {},
     "output_type": "execute_result"
    },
    {
     "data": {
      "image/png": "[encoded data removed]",
      "text/plain": [
       "<Figure size 640x480 with 1 Axes>"
      ]
     },
     "metadata": {},
     "output_type": "display_data"
    }
   ],
   "source": [
    "# Compara la cantidad promedio de mensajes por cada plan y por cada mes. Traza un gráfico de barras para visualizarla.\n",
    "#crea un filtro para el mes y el plan y analizar los mensajes totales realizados mensualmente por ambos grupos.\n",
    "final_msm=data_final.groupby([\"month\",\"plan\"])[\"total_messages_per_user\"].sum()\n",
    "#manda a llamar el grafico de barras para ambos grupos a analizar\n",
    "final_msm.plot(x=\"plan\", xlabel=\"Mensajes realizados mensualmente por plan\", kind=\"bar\", color=\"blue\")"
   ]
  },
  {
   "cell_type": "code",
   "execution_count": 64,
   "metadata": {
    "id": "GRI_R7xF0q1L"
   },
   "outputs": [
    {
     "data": {
      "image/png": "[encoded data removed]",
      "text/plain": [
       "<Figure size 640x480 with 1 Axes>"
      ]
     },
     "metadata": {},
     "output_type": "display_data"
    }
   ],
   "source": [
    "# Compara el número de mensajes mensuales que necesitan los usuarios de cada plan. Traza un histograma.\n",
    "#se crea un filtro para buscar los datos por plan sobre los mensajes y se crea el histograma para cada plan\n",
    "data_final[data_final[\"plan\"]== \"surf\"][\"total_messages_per_user\"].plot(kind= \"hist\", bins=20, alpha=0.8, color= \"blue\")\n",
    "data_final[data_final[\"plan\"]== \"ultimate\"][\"total_messages_per_user\"].plot(kind= \"hist\", bins=20, color= \"orange\")\n",
    "\n",
    "#añade informacion al gráfico para mejor visualización de ambos planes en la misma gráfica\n",
    "plt.legend([\"Plan Surf\", \"Plan Ultimate\"])\n",
    "plt.xlabel(\"Total de mensajes por mes\")\n",
    "plt.ylabel(\"Cantidad de mensajes realizados\")\n",
    "plt.show()"
   ]
  },
  {
   "cell_type": "code",
   "execution_count": 65,
   "metadata": {
    "id": "dtFwCGAp0q1M"
   },
   "outputs": [],
   "source": [
    "# Calcula la media y la varianza de la cantidad mensual de mensajes.\n",
    "msm_mean= data_final[\"total_messages_per_user\"].mean()\n",
    "msm_var= np.var(data_final[\"total_messages_per_user\"])"
   ]
  },
  {
   "cell_type": "code",
   "execution_count": 66,
   "metadata": {},
   "outputs": [
    {
     "name": "stdout",
     "output_type": "stream",
     "text": [
      "La media de los mensajes es: 42.110188261351055\n",
      "La varianza de los mensajes es: 1096.5210811384227\n"
     ]
    }
   ],
   "source": [
    "print(\"La media de los mensajes es:\" , msm_mean)\n",
    "print(\"La varianza de los mensajes es:\", msm_var)"
   ]
  },
  {
   "cell_type": "code",
   "execution_count": 67,
   "metadata": {},
   "outputs": [
    {
     "data": {
      "image/png": "[encoded data removed]",
      "text/plain": [
       "<Figure size 1500x700 with 1 Axes>"
      ]
     },
     "metadata": {},
     "output_type": "display_data"
    }
   ],
   "source": [
    "# Traza un diagrama de caja para visualizar la distribución de la cantidad mensual de mmensajes\n",
    "plt.figure(figsize=(15,7))\n",
    "sns.boxplot(data=data_final, x=\"plan\", y=\"total_messages_per_user\", color=\"lightskyblue\")\n",
    "plt.title(\"Comparacion de los mensajes totales en ambos planes\")\n",
    "plt.show()"
   ]
  },
  {
   "cell_type": "markdown",
   "metadata": {
    "id": "390SSL480q1M"
   },
   "source": [
    "Conclusiones:\n",
    "\n",
    "Al igual que con las llamadas lo usuarios del plan Surf realian mas mensajes que aquellos usuarios en el plan Ultimate.\n",
    "Ambos usuarios nuevamente tienen una tendencia muy similar en su uso\n",
    "La grafica de caja nos indica la militud en sus cifras, aunque el plan Ultimate mueste un Q3 mayor al plan surf, es importante considerar los valores atipicos del plan surf que estan en mayor cantidad y puedan estar afectando nuestra grafica para su comparacion entre ambos planes."
   ]
  },
  {
   "cell_type": "markdown",
   "metadata": {
    "id": "42YSypXz0q1M"
   },
   "source": [
    "### Internet"
   ]
  },
  {
   "cell_type": "code",
   "execution_count": 68,
   "metadata": {
    "id": "lSuKPtjh0q1M"
   },
   "outputs": [
    {
     "data": {
      "text/plain": [
       "<AxesSubplot:xlabel='Uso mg por usuario'>"
      ]
     },
     "execution_count": 68,
     "metadata": {},
     "output_type": "execute_result"
    },
    {
     "data": {
      "image/png": "[encoded data removed]",
      "text/plain": [
       "<Figure size 640x480 with 1 Axes>"
      ]
     },
     "metadata": {},
     "output_type": "display_data"
    }
   ],
   "source": [
    "# Compara la cantidad promedio de internet usado por cada plan y por cada mes. Traza un gráfico de barras para visualizarla.\n",
    "#fcrea un filtro para separar por mes y plan el uso de los mg de los usuarios y poder graficarlos\n",
    "final_int=data_final.groupby([\"month\",\"plan\"])[\"total_mg_per_user\"].sum()\n",
    "#manda a crear la grafica con ambos planes dentro del mismo grafico\n",
    "final_int.plot(x=\"plan\", xlabel=\"Uso mg por usuario\", kind=\"bar\", color=\"green\")"
   ]
  },
  {
   "cell_type": "code",
   "execution_count": 69,
   "metadata": {
    "id": "wnh8jYXi0q1N"
   },
   "outputs": [
    {
     "data": {
      "image/png": "[encoded data removed]",
      "text/plain": [
       "<Figure size 640x480 with 1 Axes>"
      ]
     },
     "metadata": {},
     "output_type": "display_data"
    }
   ],
   "source": [
    "# Compara el internet mensuales que necesitan los usuarios de cada plan. Traza un histograma.\n",
    "#crea un filtro para cada plan y se manda la orden de crear un histograma para cada uno\n",
    "data_final[data_final[\"plan\"]== \"surf\"][\"total_mg_per_user\"].plot(kind= \"hist\", bins=20, alpha=0.8, color= \"green\")\n",
    "data_final[data_final[\"plan\"]== \"ultimate\"][\"total_mg_per_user\"].plot(kind= \"hist\", bins=20, alpha= 0.85, color= \"yellow\")\n",
    "\n",
    "#añade informacion al gráfico para mejor visualización\n",
    "plt.legend([\"Plan Surf\", \"Plan Ultimate\"])\n",
    "plt.xlabel(\"Mg usados\")\n",
    "plt.show()"
   ]
  },
  {
   "cell_type": "code",
   "execution_count": 70,
   "metadata": {
    "id": "5VlyJ9ry0q1N"
   },
   "outputs": [],
   "source": [
    "# Calcula la media y la varianza de la cantidad mensual de internet.\n",
    "int_mean= data_final[\"total_mg_per_user\"].mean()\n",
    "int_var= np.var(data_final[\"total_mg_per_user\"])"
   ]
  },
  {
   "cell_type": "code",
   "execution_count": 71,
   "metadata": {},
   "outputs": [
    {
     "name": "stdout",
     "output_type": "stream",
     "text": [
      "La media de los gb usados es: 16882.197501097933\n",
      "La varianza de los gb usados es: 61906313.93878115\n"
     ]
    }
   ],
   "source": [
    "print(\"La media de los gb usados es:\" , int_mean)\n",
    "print(\"La varianza de los gb usados es:\", int_var)"
   ]
  },
  {
   "cell_type": "code",
   "execution_count": 72,
   "metadata": {},
   "outputs": [
    {
     "data": {
      "image/png": "[encoded data removed]",
      "text/plain": [
       "<Figure size 1500x700 with 1 Axes>"
      ]
     },
     "metadata": {},
     "output_type": "display_data"
    }
   ],
   "source": [
    "# Traza un diagrama de caja para visualizar la distribución de la cantidad mensual de internet\n",
    "plt.figure(figsize=(15,7))\n",
    "sns.boxplot(data=data_final, x=\"plan\", y=\"total_mg_per_user\", color=\"yellowgreen\")\n",
    "plt.title(\"Comparación de los Mg usados en ambos planes\")\n",
    "plt.show()"
   ]
  },
  {
   "cell_type": "markdown",
   "metadata": {
    "id": "UN9zwuMP0q1N"
   },
   "source": [
    "Conclusion:\n",
    "Nuevamente los usuarios del plan Surf son aquellos que nos muestran mayor uso de datos en comparacion con ambos grupos.\n",
    "Ambos grupos tienen un atron de uso muy similar visto en el histograma, solo con frecuencias difernetes.\n",
    "En la graica de caja podemos observar que ambos planes tienen datsos parcticamente similares, lo que ha concordados con las llamadas y los mensajes, lo que nos habla de que aparentenete no existen diferencias entre ambos grupos hasta el moemnto."
   ]
  },
  {
   "cell_type": "markdown",
   "metadata": {
    "id": "tCijq3260q1N"
   },
   "source": [
    "## Ingreso"
   ]
  },
  {
   "cell_type": "markdown",
   "metadata": {
    "id": "9nq5IAcy0q1O"
   },
   "source": [
    "[Del mismo modo que has estudiado el comportamiento de los usuarios, describe estadísticamente los ingresos de los planes.]"
   ]
  },
  {
   "cell_type": "code",
   "execution_count": 73,
   "metadata": {
    "id": "tz-dq_V00q1O"
   },
   "outputs": [
    {
     "data": {
      "text/plain": [
       "<AxesSubplot:xlabel='pago total por plan', ylabel='cantidad de usuarios que pagaron'>"
      ]
     },
     "execution_count": 73,
     "metadata": {},
     "output_type": "execute_result"
    },
    {
     "data": {
      "image/png": "[encoded data removed]",
      "text/plain": [
       "<Figure size 640x480 with 1 Axes>"
      ]
     },
     "metadata": {},
     "output_type": "display_data"
    }
   ],
   "source": [
    "# Compara la cantidad promedio de ingreso por cada plan y por cada mes. Traza un gráfico de barras para visualizarla.\n",
    "#se agrupa en mes y plan para poder analizar el pago de ambos planes\n",
    "final_ing=data_final.groupby([\"month\",\"plan\"])[\"pago_total\"].sum()\n",
    "#manda a graficar ambos planes en la misma grafica\n",
    "final_ing.plot(x=\"plan\", xlabel=\"pago total por plan\", ylabel=\"cantidad de usuarios que pagaron\", kind=\"bar\", color=\"orange\")"
   ]
  },
  {
   "cell_type": "code",
   "execution_count": 74,
   "metadata": {
    "id": "0Y1v8ZUz0q1P"
   },
   "outputs": [
    {
     "data": {
      "image/png": "[encoded data removed]",
      "text/plain": [
       "<Figure size 640x480 with 1 Axes>"
      ]
     },
     "metadata": {},
     "output_type": "display_data"
    }
   ],
   "source": [
    "# Compara el pago total mensual. Traza un histograma.\n",
    "#crea un filtro para separar por planes y cada uno tenga su histograma\n",
    "data_final[data_final[\"plan\"]== \"surf\"][\"pago_total\"].plot(kind= \"hist\", alpha=0.8, color= \"orange\")\n",
    "data_final[data_final[\"plan\"]== \"ultimate\"][\"pago_total\"].plot(kind= \"hist\", color= \"red\")\n",
    "\n",
    "#añade informacion al gráfico para mejor visualización\n",
    "plt.legend([\"Plan Surf\", \"Plan Ultimate\"])\n",
    "plt.xlabel(\"pagos mensuales por plan\")\n",
    "plt.show()"
   ]
  },
  {
   "cell_type": "code",
   "execution_count": 75,
   "metadata": {
    "id": "bYmwxyVh0q1P"
   },
   "outputs": [],
   "source": [
    "# Calcula la media y la varianza del ingreso mensual de cada plan.\n",
    "total_mean= data_final[\"pago_total\"].mean()\n",
    "total_var= np.var(data_final[\"pago_total\"])"
   ]
  },
  {
   "cell_type": "code",
   "execution_count": 76,
   "metadata": {},
   "outputs": [
    {
     "name": "stdout",
     "output_type": "stream",
     "text": [
      "La media de los gb usados es: 1246.0758831225469\n",
      "La varianza de los gb usados es: 20454.92926137666\n"
     ]
    }
   ],
   "source": [
    "print(\"La media de los gb usados es:\" , total_mean)\n",
    "print(\"La varianza de los gb usados es:\", total_var)"
   ]
  },
  {
   "cell_type": "code",
   "execution_count": 77,
   "metadata": {},
   "outputs": [
    {
     "data": {
      "image/png": "[encoded data removed]",
      "text/plain": [
       "<Figure size 1500x700 with 1 Axes>"
      ]
     },
     "metadata": {},
     "output_type": "display_data"
    }
   ],
   "source": [
    "# Traza un diagrama de caja para visualizar la distribución de la cantidad mensual de ingreso por plan\n",
    "plt.figure(figsize=(15,7))\n",
    "sns.boxplot(data=data_final, x=\"pago_total\", y=\"plan\", color=\"wheat\")\n",
    "plt.title(\"Comparación del pago de los usuarios para ambos planes\")\n",
    "plt.show()"
   ]
  },
  {
   "cell_type": "markdown",
   "metadata": {
    "id": "KAFidcXZ0q1P"
   },
   "source": [
    "Conclusion:\n",
    "A diferencia de las otras graficas el pago total de los usuarios por plan es muy diferente.\n",
    "Los usuarios del plan Surf son aquellos que tiene mayor pago, esto no significa que sea mejor plan pues ese pago extra puede ser por sobrepasar la cantidad de mensajes, llamadas o mg limites.\n",
    "No existe un patron en relacion a ambos planes con el pago.\n",
    "La caja nos muestra que los usuarios de Surf si tienen mayores pagos. Se debe realiar una comparacion de ambos planes en relacion de los pagos extras para conocer si esa es el motivo de estas graficas."
   ]
  },
  {
   "cell_type": "markdown",
   "metadata": {
    "id": "ajJ7VKeI0q1Q"
   },
   "source": [
    "## Prueba las hipótesis estadísticas"
   ]
  },
  {
   "cell_type": "markdown",
   "metadata": {
    "id": "AdXAZ-yL0q1Q"
   },
   "source": [
    "Para comparar los ingresos de los usuarios en los diferentes planes, podemos usar una prueba estadística adecuada para comparar las medias de ambos grupos. En este caso, podemos utilizar la prueba t de Student."
   ]
  },
  {
   "cell_type": "markdown",
   "metadata": {
    "id": "IQwa_hsh0q1Q"
   },
   "source": [
    "Interpretaremos los resultados para determinar si hay una diferencia significativa en los ingresos entre los planes.\n",
    "\n",
    "H0: No hay diferencia entre los ingresos promedio procedentes de los usuarios de los planes de llamada Ultimate y Surf.\n",
    "\n",
    "H1: Los ingresos promedio procedentes de los usuarios de los planes de llamada Ultimate y Surf no generan los mismos ingresos\n",
    "\n",
    "\n",
    "Definine un alpha= 0.05"
   ]
  },
  {
   "cell_type": "code",
   "execution_count": 80,
   "metadata": {
    "id": "nFoPNlPq0q1R"
   },
   "outputs": [
    {
     "name": "stdout",
     "output_type": "stream",
     "text": [
      "Valor p: 0.10040153974445241\n",
      "No se rechaza la Ho\n"
     ]
    }
   ],
   "source": [
    "# Prueba las hipótesis\n",
    "# Separar los datos por plan para su analisis\n",
    "surf = data_final[data_final['plan'] == 'surf']['pago_total']\n",
    "ultimate= data_final[data_final['plan'] == 'ultimate']['pago_total']\n",
    "\n",
    "#coloca un nivel de significancia estadistica critica del 5%\n",
    "alpha= 0.05\n",
    "\n",
    "results=st.ttest_ind(surf, ultimate)\n",
    "\n",
    "#imrime el valor p\n",
    "print(\"Valor p:\", results.pvalue)\n",
    "\n",
    "if results.pvalue < alpha:\n",
    "    print(\"Se rechaza la Ho\")\n",
    "    \n",
    "else:\n",
    "    print(\"No se rechaza la Ho\")"
   ]
  },
  {
   "cell_type": "markdown",
   "metadata": {
    "id": "tCcAruM60q1R"
   },
   "source": [
    "Ahora se probara la hipótesis de que el ingreso promedio de los usuarios del área NY-NJ es diferente al de los usuarios de otras regiones."
   ]
  },
  {
   "cell_type": "markdown",
   "metadata": {
    "id": "LsBgitqj0q1R"
   },
   "source": [
    "H0: No hay diferencia entre los ingresos promedio procedentes de Ny-NJ y los otros estados.\n",
    "\n",
    "H1: Los ingresos promedio procedentes de los usuarios de NY-NJ no generan los mismos ingresos en comparación con los ingresos de otros estados.\n",
    "\n",
    "Alpha=0.05\n"
   ]
  },
  {
   "cell_type": "code",
   "execution_count": 86,
   "metadata": {
    "id": "Cqcj7wrZ0q1S"
   },
   "outputs": [
    {
     "name": "stdout",
     "output_type": "stream",
     "text": [
      "Valor p: 0.10040153974445241\n",
      "No se rechaza la Ho\n"
     ]
    }
   ],
   "source": [
    "# Prueba las hipótesis\n",
    "#filtro para los estados seleccionados\n",
    "filtro_estados = (data_final['city'].str.contains(\"NY\") | data_final['city'].str.contains(\"NJ\"))\n",
    "estados_usa= data_final[~filtro_estados][\"pago_total\"]\n",
    "\n",
    "\n",
    "#coloca un nivel de significancia estadistica critica del 5%\n",
    "alpha= 0.05\n",
    "\n",
    "#prueba t-test\n",
    "results=st.ttest_ind(surf, ultimate)\n",
    "\n",
    "#imrime el valor p\n",
    "print(\"Valor p:\", results.pvalue)\n",
    "\n",
    "if results.pvalue < alpha:\n",
    "    print(\"Se rechaza la Ho\")\n",
    "    \n",
    "else:\n",
    "    print(\"No se rechaza la Ho\")\n"
   ]
  },
  {
   "cell_type": "markdown",
   "metadata": {
    "id": "bbTR8UQO0q1T"
   },
   "source": [
    "## Conclusión general\n",
    "\n",
    "Los planes Surf Y Ultimate generan diferentes fuentes de ingreso. Lo que nos permite rechazar la Ho, ya que los graficos nos demouestran las diferencias significativas en cada ambito analizado.\n",
    "\n",
    "\n",
    "Aunque el plan Surf nos muestra mayores ingresos se debe analizar el origen de este, encuentro la teoria de que esto esta sucediendo a que es más facil exceder los servicios que da el plpan, haciendo que los usuarios tengan que pagar siempre más por su paquete telefonico. De esta teoria podrían analiarse potenciales clientes que se puedan pasar al plan ULTIMATE, esto con el objetivo de mejorar el servicio y asi poder observar que plan es en realdad el que mejores ingresos da sin contar con los cargos extra generados por usuario.\n",
    "\n",
    "Queda obsrvado que ambos planes en casi toda categoría tienen la misma tendencia de uso, lo que nos lleva a nuevas preguntas sobre si los clientes podrian mejorar sus planes y así tener mayor cantidad de usuarios en Ultimate y tener esos ingresos mejor contabilizados."
   ]
  }
 ],
 "metadata": {
  "ExecuteTimeLog": [
   {
    "duration": 828,
    "start_time": "2021-11-16T09:21:11.304Z"
   },
   {
    "duration": 893,
    "start_time": "2021-11-16T09:21:17.728Z"
   },
   {
    "duration": 1150,
    "start_time": "2021-11-16T09:21:29.568Z"
   },
   {
    "duration": 3,
    "start_time": "2021-11-16T09:24:14.495Z"
   },
   {
    "duration": 120,
    "start_time": "2021-11-16T09:24:46.630Z"
   },
   {
    "duration": 3,
    "start_time": "2021-11-16T09:28:27.882Z"
   },
   {
    "duration": 4,
    "start_time": "2021-11-16T09:29:54.281Z"
   },
   {
    "duration": 3,
    "start_time": "2021-11-16T09:30:45.936Z"
   },
   {
    "duration": 4,
    "start_time": "2021-11-16T09:31:06.300Z"
   },
   {
    "duration": 113,
    "start_time": "2021-11-16T09:31:37.208Z"
   },
   {
    "duration": 143,
    "start_time": "2021-11-16T09:31:48.656Z"
   },
   {
    "duration": 98,
    "start_time": "2021-11-16T09:31:55.678Z"
   },
   {
    "duration": 3,
    "start_time": "2021-11-16T09:32:08.535Z"
   },
   {
    "duration": 111,
    "start_time": "2021-11-16T09:32:10.120Z"
   },
   {
    "duration": 3,
    "start_time": "2021-11-16T09:32:15.732Z"
   },
   {
    "duration": 4,
    "start_time": "2021-11-16T09:32:29.423Z"
   },
   {
    "duration": 3,
    "start_time": "2021-11-16T10:03:03.074Z"
   },
   {
    "duration": 3,
    "start_time": "2021-11-16T10:10:01.288Z"
   },
   {
    "duration": 3,
    "start_time": "2021-11-16T10:10:46.923Z"
   },
   {
    "duration": 121,
    "start_time": "2021-11-16T10:37:46.494Z"
   },
   {
    "duration": 125,
    "start_time": "2021-11-16T10:38:20.632Z"
   },
   {
    "duration": 112,
    "start_time": "2021-11-16T10:46:53.001Z"
   },
   {
    "duration": 110,
    "start_time": "2021-11-16T10:48:25.775Z"
   },
   {
    "duration": 3,
    "start_time": "2021-11-16T10:50:18.720Z"
   },
   {
    "duration": 4,
    "start_time": "2021-11-16T10:50:37.649Z"
   },
   {
    "duration": 2,
    "start_time": "2021-11-16T10:50:51.884Z"
   },
   {
    "duration": 3,
    "start_time": "2021-11-16T10:51:56.237Z"
   },
   {
    "duration": 101,
    "start_time": "2021-11-16T10:53:13.791Z"
   },
   {
    "duration": 3,
    "start_time": "2021-11-16T10:55:59.186Z"
   },
   {
    "duration": 3,
    "start_time": "2021-11-16T10:56:10.751Z"
   },
   {
    "duration": 3,
    "start_time": "2021-11-16T10:56:49.038Z"
   },
   {
    "duration": 3,
    "start_time": "2021-11-16T10:56:49.174Z"
   },
   {
    "duration": 4,
    "start_time": "2021-11-16T10:56:49.414Z"
   },
   {
    "duration": 3,
    "start_time": "2021-11-16T10:56:49.680Z"
   },
   {
    "duration": 3,
    "start_time": "2021-11-16T10:56:50.370Z"
   },
   {
    "duration": 114,
    "start_time": "2021-11-16T10:59:34.518Z"
   },
   {
    "duration": 3,
    "start_time": "2021-11-16T11:01:41.201Z"
   },
   {
    "duration": 116,
    "start_time": "2021-11-16T11:01:48.754Z"
   },
   {
    "duration": 3,
    "start_time": "2021-11-16T11:02:16.685Z"
   },
   {
    "duration": 3,
    "start_time": "2021-11-16T11:02:19.479Z"
   },
   {
    "duration": 3,
    "start_time": "2021-11-16T11:02:47.067Z"
   },
   {
    "duration": 3,
    "start_time": "2021-11-16T11:02:49.353Z"
   },
   {
    "duration": 3,
    "start_time": "2021-11-16T11:03:07.835Z"
   },
   {
    "duration": 3,
    "start_time": "2021-11-16T11:03:07.953Z"
   },
   {
    "duration": 112,
    "start_time": "2021-11-16T11:07:52.072Z"
   },
   {
    "duration": 187,
    "start_time": "2021-11-16T11:09:23.468Z"
   },
   {
    "duration": 4,
    "start_time": "2021-11-16T11:10:01.455Z"
   },
   {
    "duration": 3,
    "start_time": "2021-11-16T11:10:05.069Z"
   },
   {
    "duration": 4,
    "start_time": "2021-11-16T11:10:13.376Z"
   },
   {
    "duration": 3,
    "start_time": "2021-11-16T11:10:14.434Z"
   },
   {
    "duration": 3,
    "start_time": "2021-11-16T11:10:22.853Z"
   },
   {
    "duration": 4,
    "start_time": "2021-11-16T11:27:29.279Z"
   },
   {
    "duration": 4,
    "start_time": "2021-11-16T11:29:08.919Z"
   },
   {
    "duration": 118,
    "start_time": "2021-11-16T11:29:46.703Z"
   },
   {
    "duration": 437,
    "start_time": "2021-11-16T11:36:02.181Z"
   },
   {
    "duration": 157,
    "start_time": "2021-11-16T11:36:14.388Z"
   },
   {
    "duration": 207,
    "start_time": "2021-11-16T11:47:15.898Z"
   },
   {
    "duration": 3,
    "start_time": "2021-11-16T11:53:52.092Z"
   },
   {
    "duration": 3,
    "start_time": "2021-11-16T11:53:52.236Z"
   },
   {
    "duration": 3,
    "start_time": "2021-11-16T11:59:12.005Z"
   },
   {
    "duration": 112,
    "start_time": "2021-11-16T12:00:33.446Z"
   },
   {
    "duration": 3,
    "start_time": "2021-11-16T12:02:14.453Z"
   },
   {
    "duration": 3,
    "start_time": "2021-11-16T12:02:39.512Z"
   },
   {
    "duration": 106,
    "start_time": "2021-11-16T12:03:03.460Z"
   },
   {
    "duration": 3,
    "start_time": "2021-11-17T20:37:21.139Z"
   },
   {
    "duration": 3,
    "start_time": "2021-11-17T20:37:22.229Z"
   },
   {
    "duration": 3,
    "start_time": "2021-11-17T20:38:38.806Z"
   },
   {
    "duration": 3,
    "start_time": "2021-11-17T20:38:41.958Z"
   },
   {
    "duration": 3,
    "start_time": "2021-11-17T20:43:46.551Z"
   },
   {
    "duration": 4,
    "start_time": "2021-11-17T20:58:21.835Z"
   },
   {
    "duration": 3,
    "start_time": "2021-11-17T20:59:21.872Z"
   },
   {
    "duration": 4,
    "start_time": "2021-11-17T20:59:45.352Z"
   },
   {
    "duration": 4,
    "start_time": "2021-11-17T20:59:49.646Z"
   },
   {
    "duration": 159,
    "start_time": "2021-11-17T21:02:26.949Z"
   },
   {
    "duration": 3,
    "start_time": "2021-11-17T21:03:53.461Z"
   },
   {
    "duration": 3,
    "start_time": "2021-11-17T21:03:53.694Z"
   },
   {
    "duration": 3,
    "start_time": "2021-11-17T21:05:28.145Z"
   },
   {
    "duration": 116,
    "start_time": "2021-11-17T21:05:57.787Z"
   },
   {
    "duration": 3,
    "start_time": "2021-11-17T21:06:37.993Z"
   },
   {
    "duration": 3,
    "start_time": "2021-11-17T21:06:38.261Z"
   },
   {
    "duration": 3,
    "start_time": "2021-11-17T21:11:54.358Z"
   },
   {
    "duration": 3,
    "start_time": "2021-11-17T21:12:43.846Z"
   },
   {
    "duration": 4,
    "start_time": "2021-11-17T21:13:08.773Z"
   },
   {
    "duration": 3,
    "start_time": "2021-11-17T21:14:44.441Z"
   },
   {
    "duration": 3,
    "start_time": "2021-11-17T21:15:42.059Z"
   },
   {
    "duration": 4,
    "start_time": "2021-11-17T21:15:51.995Z"
   },
   {
    "duration": 3,
    "start_time": "2021-11-17T21:15:53.923Z"
   },
   {
    "duration": 3,
    "start_time": "2021-11-17T21:15:55.282Z"
   },
   {
    "duration": 3,
    "start_time": "2021-11-17T21:16:28.492Z"
   },
   {
    "duration": 3,
    "start_time": "2021-11-17T21:16:32.603Z"
   },
   {
    "duration": 3,
    "start_time": "2021-11-17T21:17:06.941Z"
   },
   {
    "duration": 98,
    "start_time": "2021-11-17T21:18:05.733Z"
   },
   {
    "duration": 4,
    "start_time": "2021-11-17T21:21:35.255Z"
   },
   {
    "duration": 3,
    "start_time": "2021-11-17T21:21:37.804Z"
   },
   {
    "duration": 4,
    "start_time": "2021-11-17T21:23:06.071Z"
   },
   {
    "duration": 3,
    "start_time": "2021-11-17T21:23:24.799Z"
   },
   {
    "duration": 3,
    "start_time": "2021-11-17T21:23:32.591Z"
   },
   {
    "duration": 98,
    "start_time": "2021-11-17T21:28:31.559Z"
   },
   {
    "duration": 3,
    "start_time": "2021-11-17T21:28:45.448Z"
   },
   {
    "duration": 3,
    "start_time": "2021-11-17T21:29:17.303Z"
   },
   {
    "duration": 3,
    "start_time": "2021-11-17T21:29:29.617Z"
   },
   {
    "duration": 3,
    "start_time": "2021-11-17T21:29:32.681Z"
   },
   {
    "duration": 3,
    "start_time": "2021-11-17T21:36:11.474Z"
   },
   {
    "duration": 3,
    "start_time": "2021-11-17T21:36:14.791Z"
   },
   {
    "duration": 3,
    "start_time": "2021-11-17T21:36:53.943Z"
   },
   {
    "duration": 3,
    "start_time": "2021-11-17T21:36:56.165Z"
   },
   {
    "duration": 4,
    "start_time": "2021-11-17T21:37:16.590Z"
   },
   {
    "duration": 3,
    "start_time": "2021-11-17T21:37:22.702Z"
   },
   {
    "duration": 4,
    "start_time": "2021-11-17T21:38:03.479Z"
   },
   {
    "duration": 3,
    "start_time": "2021-11-17T21:38:08.601Z"
   },
   {
    "duration": 3,
    "start_time": "2021-11-17T21:38:12.928Z"
   },
   {
    "duration": 3,
    "start_time": "2021-11-17T21:38:48.896Z"
   },
   {
    "duration": 2,
    "start_time": "2021-11-17T21:38:49.171Z"
   },
   {
    "duration": 4,
    "start_time": "2021-11-17T21:39:57.889Z"
   },
   {
    "duration": 3,
    "start_time": "2021-11-17T21:39:58.057Z"
   },
   {
    "duration": 3,
    "start_time": "2021-11-17T21:41:20.108Z"
   },
   {
    "duration": 3,
    "start_time": "2021-11-17T21:41:20.629Z"
   },
   {
    "duration": 3,
    "start_time": "2021-11-17T21:42:49.136Z"
   },
   {
    "duration": 3,
    "start_time": "2021-11-17T21:43:15.137Z"
   },
   {
    "duration": 4,
    "start_time": "2021-11-17T21:43:16.766Z"
   },
   {
    "duration": 4,
    "start_time": "2021-11-17T21:43:31.711Z"
   },
   {
    "duration": 3,
    "start_time": "2021-11-17T21:43:36.312Z"
   },
   {
    "duration": 4,
    "start_time": "2021-11-17T21:45:08.825Z"
   },
   {
    "duration": 4,
    "start_time": "2021-11-17T21:45:10.119Z"
   },
   {
    "duration": 4,
    "start_time": "2021-11-17T21:45:13.748Z"
   },
   {
    "duration": 3,
    "start_time": "2021-11-17T21:45:22.219Z"
   },
   {
    "duration": 3,
    "start_time": "2021-11-17T21:45:33.412Z"
   },
   {
    "duration": 2,
    "start_time": "2021-11-17T21:46:01.885Z"
   },
   {
    "duration": 3,
    "start_time": "2021-11-17T21:46:03.628Z"
   },
   {
    "duration": 107,
    "start_time": "2021-11-17T21:47:32.512Z"
   },
   {
    "duration": 103,
    "start_time": "2021-11-17T21:50:36.243Z"
   },
   {
    "duration": 3,
    "start_time": "2021-11-18T06:28:31.440Z"
   },
   {
    "duration": 3,
    "start_time": "2021-11-18T06:29:00.168Z"
   },
   {
    "duration": 3,
    "start_time": "2021-11-18T06:31:27.008Z"
   },
   {
    "duration": 2,
    "start_time": "2021-11-18T06:35:34.288Z"
   },
   {
    "duration": 2,
    "start_time": "2021-11-18T06:38:04.527Z"
   },
   {
    "duration": 2484,
    "start_time": "2024-09-27T16:26:50.044Z"
   },
   {
    "duration": 208,
    "start_time": "2024-09-27T16:31:20.136Z"
   },
   {
    "duration": 10,
    "start_time": "2024-09-27T16:32:12.810Z"
   },
   {
    "duration": 6,
    "start_time": "2024-09-27T16:32:27.929Z"
   },
   {
    "duration": 6,
    "start_time": "2024-09-27T16:32:38.342Z"
   },
   {
    "duration": 5,
    "start_time": "2024-09-27T16:33:24.945Z"
   },
   {
    "duration": 8,
    "start_time": "2024-09-27T16:34:21.890Z"
   },
   {
    "duration": 5,
    "start_time": "2024-09-27T16:34:42.914Z"
   },
   {
    "duration": 17,
    "start_time": "2024-09-27T16:34:59.863Z"
   },
   {
    "duration": 5,
    "start_time": "2024-09-27T16:35:19.074Z"
   },
   {
    "duration": 2472,
    "start_time": "2024-09-27T17:27:25.766Z"
   },
   {
    "duration": 227,
    "start_time": "2024-09-27T17:35:17.430Z"
   },
   {
    "duration": 756,
    "start_time": "2024-09-27T17:35:30.248Z"
   },
   {
    "duration": 222,
    "start_time": "2024-09-27T17:35:31.006Z"
   },
   {
    "duration": 9,
    "start_time": "2024-09-27T17:35:31.230Z"
   },
   {
    "duration": 6,
    "start_time": "2024-09-27T17:35:31.242Z"
   },
   {
    "duration": 8,
    "start_time": "2024-09-27T17:35:31.249Z"
   },
   {
    "duration": 6,
    "start_time": "2024-09-27T17:35:31.259Z"
   },
   {
    "duration": 15,
    "start_time": "2024-09-27T17:35:31.267Z"
   },
   {
    "duration": 4,
    "start_time": "2024-09-27T17:35:31.283Z"
   },
   {
    "duration": 35,
    "start_time": "2024-09-27T17:35:31.289Z"
   },
   {
    "duration": 1,
    "start_time": "2024-09-27T17:35:31.328Z"
   },
   {
    "duration": 2,
    "start_time": "2024-09-27T17:35:31.331Z"
   },
   {
    "duration": 3,
    "start_time": "2024-09-27T17:35:31.335Z"
   },
   {
    "duration": 3,
    "start_time": "2024-09-27T17:35:31.339Z"
   },
   {
    "duration": 2,
    "start_time": "2024-09-27T17:35:31.344Z"
   },
   {
    "duration": 2,
    "start_time": "2024-09-27T17:35:31.348Z"
   },
   {
    "duration": 3,
    "start_time": "2024-09-27T17:35:31.352Z"
   },
   {
    "duration": 3,
    "start_time": "2024-09-27T17:35:31.356Z"
   },
   {
    "duration": 4,
    "start_time": "2024-09-27T17:35:31.360Z"
   },
   {
    "duration": 3,
    "start_time": "2024-09-27T17:35:31.365Z"
   },
   {
    "duration": 3,
    "start_time": "2024-09-27T17:35:31.369Z"
   },
   {
    "duration": 50,
    "start_time": "2024-09-27T17:35:31.374Z"
   },
   {
    "duration": 3,
    "start_time": "2024-09-27T17:35:31.425Z"
   },
   {
    "duration": 3,
    "start_time": "2024-09-27T17:35:31.429Z"
   },
   {
    "duration": 3,
    "start_time": "2024-09-27T17:35:31.433Z"
   },
   {
    "duration": 2,
    "start_time": "2024-09-27T17:35:31.438Z"
   },
   {
    "duration": 2,
    "start_time": "2024-09-27T17:35:31.442Z"
   },
   {
    "duration": 2,
    "start_time": "2024-09-27T17:35:31.446Z"
   },
   {
    "duration": 2,
    "start_time": "2024-09-27T17:35:31.451Z"
   },
   {
    "duration": 4,
    "start_time": "2024-09-27T17:46:31.481Z"
   },
   {
    "duration": 5,
    "start_time": "2024-09-27T17:46:51.483Z"
   },
   {
    "duration": 784,
    "start_time": "2024-09-27T17:47:20.921Z"
   },
   {
    "duration": 159,
    "start_time": "2024-09-27T17:47:21.707Z"
   },
   {
    "duration": 10,
    "start_time": "2024-09-27T17:47:21.867Z"
   },
   {
    "duration": 10,
    "start_time": "2024-09-27T17:47:21.881Z"
   },
   {
    "duration": 4,
    "start_time": "2024-09-27T17:47:21.894Z"
   },
   {
    "duration": 5,
    "start_time": "2024-09-27T17:47:21.900Z"
   },
   {
    "duration": 17,
    "start_time": "2024-09-27T17:47:21.907Z"
   },
   {
    "duration": 9,
    "start_time": "2024-09-27T17:47:21.926Z"
   },
   {
    "duration": 5,
    "start_time": "2024-09-27T17:47:21.936Z"
   },
   {
    "duration": 15,
    "start_time": "2024-09-27T17:47:21.944Z"
   },
   {
    "duration": 3,
    "start_time": "2024-09-27T17:47:21.960Z"
   },
   {
    "duration": 2,
    "start_time": "2024-09-27T17:47:21.965Z"
   },
   {
    "duration": 2,
    "start_time": "2024-09-27T17:47:21.969Z"
   },
   {
    "duration": 2,
    "start_time": "2024-09-27T17:47:21.973Z"
   },
   {
    "duration": 2,
    "start_time": "2024-09-27T17:47:21.977Z"
   },
   {
    "duration": 2,
    "start_time": "2024-09-27T17:47:22.023Z"
   },
   {
    "duration": 3,
    "start_time": "2024-09-27T17:47:22.026Z"
   },
   {
    "duration": 2,
    "start_time": "2024-09-27T17:47:22.031Z"
   },
   {
    "duration": 2,
    "start_time": "2024-09-27T17:47:22.035Z"
   },
   {
    "duration": 2,
    "start_time": "2024-09-27T17:47:22.040Z"
   },
   {
    "duration": 2,
    "start_time": "2024-09-27T17:47:22.043Z"
   },
   {
    "duration": 2,
    "start_time": "2024-09-27T17:47:22.047Z"
   },
   {
    "duration": 2,
    "start_time": "2024-09-27T17:47:22.051Z"
   },
   {
    "duration": 2,
    "start_time": "2024-09-27T17:47:22.055Z"
   },
   {
    "duration": 2,
    "start_time": "2024-09-27T17:47:22.059Z"
   },
   {
    "duration": 3,
    "start_time": "2024-09-27T17:47:22.062Z"
   },
   {
    "duration": 2,
    "start_time": "2024-09-27T17:47:22.066Z"
   },
   {
    "duration": 53,
    "start_time": "2024-09-27T17:47:22.072Z"
   },
   {
    "duration": 3,
    "start_time": "2024-09-27T17:47:22.126Z"
   },
   {
    "duration": 2,
    "start_time": "2024-09-27T17:47:22.130Z"
   },
   {
    "duration": 2,
    "start_time": "2024-09-27T17:47:22.134Z"
   },
   {
    "duration": 4,
    "start_time": "2024-09-27T17:47:54.035Z"
   },
   {
    "duration": 709,
    "start_time": "2024-09-27T17:48:10.110Z"
   },
   {
    "duration": 157,
    "start_time": "2024-09-27T17:48:13.068Z"
   },
   {
    "duration": 9,
    "start_time": "2024-09-27T17:48:19.484Z"
   },
   {
    "duration": 6,
    "start_time": "2024-09-27T17:48:24.430Z"
   },
   {
    "duration": 2,
    "start_time": "2024-09-27T17:48:28.644Z"
   },
   {
    "duration": 3,
    "start_time": "2024-09-27T17:48:32.996Z"
   },
   {
    "duration": 5,
    "start_time": "2024-09-27T17:48:37.284Z"
   },
   {
    "duration": 4,
    "start_time": "2024-09-27T17:49:00.783Z"
   },
   {
    "duration": 5,
    "start_time": "2024-09-27T17:49:04.377Z"
   },
   {
    "duration": 8,
    "start_time": "2024-09-27T17:52:51.323Z"
   },
   {
    "duration": 5,
    "start_time": "2024-09-27T17:53:01.359Z"
   },
   {
    "duration": 5,
    "start_time": "2024-09-27T18:14:14.662Z"
   },
   {
    "duration": 4,
    "start_time": "2024-09-27T18:14:24.330Z"
   },
   {
    "duration": 5,
    "start_time": "2024-09-27T18:20:51.867Z"
   },
   {
    "duration": 6,
    "start_time": "2024-09-27T18:27:05.488Z"
   },
   {
    "duration": 364,
    "start_time": "2024-09-27T18:27:14.682Z"
   },
   {
    "duration": 68,
    "start_time": "2024-09-27T18:28:02.764Z"
   },
   {
    "duration": 3,
    "start_time": "2024-09-27T18:28:25.410Z"
   },
   {
    "duration": 3,
    "start_time": "2024-09-27T18:29:30.786Z"
   },
   {
    "duration": 143,
    "start_time": "2024-09-27T18:30:06.925Z"
   },
   {
    "duration": 75,
    "start_time": "2024-09-27T18:31:28.033Z"
   },
   {
    "duration": 67,
    "start_time": "2024-09-27T18:32:29.783Z"
   },
   {
    "duration": 776,
    "start_time": "2024-09-27T18:33:15.733Z"
   },
   {
    "duration": 160,
    "start_time": "2024-09-27T18:33:16.511Z"
   },
   {
    "duration": 9,
    "start_time": "2024-09-27T18:33:16.672Z"
   },
   {
    "duration": 7,
    "start_time": "2024-09-27T18:33:16.683Z"
   },
   {
    "duration": 3,
    "start_time": "2024-09-27T18:33:16.691Z"
   },
   {
    "duration": 4,
    "start_time": "2024-09-27T18:33:16.696Z"
   },
   {
    "duration": 5,
    "start_time": "2024-09-27T18:33:16.701Z"
   },
   {
    "duration": 22,
    "start_time": "2024-09-27T18:33:16.707Z"
   },
   {
    "duration": 5,
    "start_time": "2024-09-27T18:33:16.731Z"
   },
   {
    "duration": 3,
    "start_time": "2024-09-27T18:33:16.739Z"
   },
   {
    "duration": 4,
    "start_time": "2024-09-27T18:33:16.744Z"
   },
   {
    "duration": 3,
    "start_time": "2024-09-27T18:33:16.750Z"
   },
   {
    "duration": 425,
    "start_time": "2024-09-27T18:33:16.754Z"
   },
   {
    "duration": 0,
    "start_time": "2024-09-27T18:33:17.182Z"
   },
   {
    "duration": 0,
    "start_time": "2024-09-27T18:33:17.183Z"
   },
   {
    "duration": 0,
    "start_time": "2024-09-27T18:33:17.185Z"
   },
   {
    "duration": 0,
    "start_time": "2024-09-27T18:33:17.187Z"
   },
   {
    "duration": 0,
    "start_time": "2024-09-27T18:33:17.188Z"
   },
   {
    "duration": 0,
    "start_time": "2024-09-27T18:33:17.190Z"
   },
   {
    "duration": 0,
    "start_time": "2024-09-27T18:33:17.191Z"
   },
   {
    "duration": 0,
    "start_time": "2024-09-27T18:33:17.192Z"
   },
   {
    "duration": 0,
    "start_time": "2024-09-27T18:33:17.194Z"
   },
   {
    "duration": 0,
    "start_time": "2024-09-27T18:33:17.195Z"
   },
   {
    "duration": 0,
    "start_time": "2024-09-27T18:33:17.197Z"
   },
   {
    "duration": 0,
    "start_time": "2024-09-27T18:33:17.224Z"
   },
   {
    "duration": 0,
    "start_time": "2024-09-27T18:33:17.226Z"
   },
   {
    "duration": 0,
    "start_time": "2024-09-27T18:33:17.228Z"
   },
   {
    "duration": 0,
    "start_time": "2024-09-27T18:33:17.229Z"
   },
   {
    "duration": 1,
    "start_time": "2024-09-27T18:33:17.230Z"
   },
   {
    "duration": 0,
    "start_time": "2024-09-27T18:33:17.232Z"
   },
   {
    "duration": 0,
    "start_time": "2024-09-27T18:33:17.233Z"
   },
   {
    "duration": 0,
    "start_time": "2024-09-27T18:33:17.234Z"
   },
   {
    "duration": 0,
    "start_time": "2024-09-27T18:33:17.235Z"
   },
   {
    "duration": 0,
    "start_time": "2024-09-27T18:33:17.236Z"
   },
   {
    "duration": 0,
    "start_time": "2024-09-27T18:33:17.237Z"
   },
   {
    "duration": 0,
    "start_time": "2024-09-27T18:33:17.238Z"
   },
   {
    "duration": 0,
    "start_time": "2024-09-27T18:33:17.239Z"
   },
   {
    "duration": 6,
    "start_time": "2024-09-27T18:33:38.909Z"
   },
   {
    "duration": 9,
    "start_time": "2024-09-27T18:33:41.970Z"
   },
   {
    "duration": 9,
    "start_time": "2024-09-27T18:33:51.472Z"
   },
   {
    "duration": 3,
    "start_time": "2024-09-27T18:34:20.824Z"
   },
   {
    "duration": 65,
    "start_time": "2024-09-27T18:34:24.466Z"
   },
   {
    "duration": 3,
    "start_time": "2024-09-27T18:34:37.236Z"
   },
   {
    "duration": 12,
    "start_time": "2024-09-27T18:35:06.859Z"
   },
   {
    "duration": 16,
    "start_time": "2024-09-27T18:35:56.794Z"
   },
   {
    "duration": 5,
    "start_time": "2024-09-27T18:36:34.578Z"
   },
   {
    "duration": 12,
    "start_time": "2024-09-27T18:37:25.338Z"
   },
   {
    "duration": 5,
    "start_time": "2024-09-27T18:37:47.395Z"
   },
   {
    "duration": 156,
    "start_time": "2024-09-28T14:15:29.863Z"
   },
   {
    "duration": 2456,
    "start_time": "2024-09-28T14:15:41.376Z"
   },
   {
    "duration": 220,
    "start_time": "2024-09-28T14:15:43.834Z"
   },
   {
    "duration": 10,
    "start_time": "2024-09-28T14:15:44.056Z"
   },
   {
    "duration": 6,
    "start_time": "2024-09-28T14:15:44.068Z"
   },
   {
    "duration": 2,
    "start_time": "2024-09-28T14:15:44.076Z"
   },
   {
    "duration": 3,
    "start_time": "2024-09-28T14:15:44.080Z"
   },
   {
    "duration": 4,
    "start_time": "2024-09-28T14:15:44.085Z"
   },
   {
    "duration": 8,
    "start_time": "2024-09-28T14:15:44.091Z"
   },
   {
    "duration": 5,
    "start_time": "2024-09-28T14:15:44.100Z"
   },
   {
    "duration": 36,
    "start_time": "2024-09-28T14:15:44.108Z"
   },
   {
    "duration": 4,
    "start_time": "2024-09-28T14:15:44.145Z"
   },
   {
    "duration": 2,
    "start_time": "2024-09-28T14:15:44.151Z"
   },
   {
    "duration": 5,
    "start_time": "2024-09-28T14:15:44.155Z"
   },
   {
    "duration": 10,
    "start_time": "2024-09-28T14:15:44.161Z"
   },
   {
    "duration": 390,
    "start_time": "2024-09-28T14:15:44.173Z"
   },
   {
    "duration": 0,
    "start_time": "2024-09-28T14:15:44.565Z"
   },
   {
    "duration": 0,
    "start_time": "2024-09-28T14:15:44.566Z"
   },
   {
    "duration": 0,
    "start_time": "2024-09-28T14:15:44.567Z"
   },
   {
    "duration": 0,
    "start_time": "2024-09-28T14:15:44.568Z"
   },
   {
    "duration": 0,
    "start_time": "2024-09-28T14:15:44.569Z"
   },
   {
    "duration": 0,
    "start_time": "2024-09-28T14:15:44.570Z"
   },
   {
    "duration": 0,
    "start_time": "2024-09-28T14:15:44.574Z"
   },
   {
    "duration": 0,
    "start_time": "2024-09-28T14:15:44.575Z"
   },
   {
    "duration": 0,
    "start_time": "2024-09-28T14:15:44.577Z"
   },
   {
    "duration": 0,
    "start_time": "2024-09-28T14:15:44.579Z"
   },
   {
    "duration": 0,
    "start_time": "2024-09-28T14:15:44.580Z"
   },
   {
    "duration": 0,
    "start_time": "2024-09-28T14:15:44.581Z"
   },
   {
    "duration": 0,
    "start_time": "2024-09-28T14:15:44.582Z"
   },
   {
    "duration": 0,
    "start_time": "2024-09-28T14:15:44.583Z"
   },
   {
    "duration": 0,
    "start_time": "2024-09-28T14:15:44.584Z"
   },
   {
    "duration": 0,
    "start_time": "2024-09-28T14:15:44.586Z"
   },
   {
    "duration": 0,
    "start_time": "2024-09-28T14:15:44.587Z"
   },
   {
    "duration": 0,
    "start_time": "2024-09-28T14:15:44.589Z"
   },
   {
    "duration": 0,
    "start_time": "2024-09-28T14:15:44.589Z"
   },
   {
    "duration": 0,
    "start_time": "2024-09-28T14:15:44.590Z"
   },
   {
    "duration": 0,
    "start_time": "2024-09-28T14:15:44.592Z"
   },
   {
    "duration": 0,
    "start_time": "2024-09-28T14:15:44.593Z"
   },
   {
    "duration": 16,
    "start_time": "2024-09-28T14:17:06.679Z"
   },
   {
    "duration": 5,
    "start_time": "2024-09-28T14:17:24.012Z"
   },
   {
    "duration": 69,
    "start_time": "2024-09-28T14:21:14.815Z"
   },
   {
    "duration": 17,
    "start_time": "2024-09-28T14:22:45.416Z"
   },
   {
    "duration": 31,
    "start_time": "2024-09-28T14:24:24.916Z"
   },
   {
    "duration": 16,
    "start_time": "2024-09-28T14:26:22.503Z"
   },
   {
    "duration": 13,
    "start_time": "2024-09-28T14:28:18.497Z"
   },
   {
    "duration": 5,
    "start_time": "2024-09-28T14:28:29.555Z"
   },
   {
    "duration": 36,
    "start_time": "2024-09-28T14:32:33.440Z"
   },
   {
    "duration": 403,
    "start_time": "2024-09-28T14:33:15.435Z"
   },
   {
    "duration": 45,
    "start_time": "2024-09-28T14:33:28.638Z"
   },
   {
    "duration": 11,
    "start_time": "2024-09-28T14:33:45.841Z"
   },
   {
    "duration": 16,
    "start_time": "2024-09-28T14:34:10.505Z"
   },
   {
    "duration": 12,
    "start_time": "2024-09-28T14:34:33.387Z"
   },
   {
    "duration": 16,
    "start_time": "2024-09-28T14:34:51.244Z"
   },
   {
    "duration": 13,
    "start_time": "2024-09-28T14:35:15.802Z"
   },
   {
    "duration": 5,
    "start_time": "2024-09-28T14:35:21.202Z"
   },
   {
    "duration": 714,
    "start_time": "2024-09-28T14:44:21.325Z"
   },
   {
    "duration": 154,
    "start_time": "2024-09-28T14:44:22.044Z"
   },
   {
    "duration": 10,
    "start_time": "2024-09-28T14:44:22.199Z"
   },
   {
    "duration": 6,
    "start_time": "2024-09-28T14:44:22.212Z"
   },
   {
    "duration": 9,
    "start_time": "2024-09-28T14:44:22.219Z"
   },
   {
    "duration": 8,
    "start_time": "2024-09-28T14:44:22.242Z"
   },
   {
    "duration": 5,
    "start_time": "2024-09-28T14:44:22.252Z"
   },
   {
    "duration": 3,
    "start_time": "2024-09-28T14:44:22.259Z"
   },
   {
    "duration": 4,
    "start_time": "2024-09-28T14:44:22.263Z"
   },
   {
    "duration": 3,
    "start_time": "2024-09-28T14:44:22.270Z"
   },
   {
    "duration": 4,
    "start_time": "2024-09-28T14:44:22.275Z"
   },
   {
    "duration": 11,
    "start_time": "2024-09-28T14:44:22.281Z"
   },
   {
    "duration": 454,
    "start_time": "2024-09-28T14:44:22.294Z"
   },
   {
    "duration": 0,
    "start_time": "2024-09-28T14:44:22.750Z"
   },
   {
    "duration": 0,
    "start_time": "2024-09-28T14:44:22.752Z"
   },
   {
    "duration": 0,
    "start_time": "2024-09-28T14:44:22.753Z"
   },
   {
    "duration": 0,
    "start_time": "2024-09-28T14:44:22.754Z"
   },
   {
    "duration": 0,
    "start_time": "2024-09-28T14:44:22.755Z"
   },
   {
    "duration": 0,
    "start_time": "2024-09-28T14:44:22.756Z"
   },
   {
    "duration": 0,
    "start_time": "2024-09-28T14:44:22.758Z"
   },
   {
    "duration": 0,
    "start_time": "2024-09-28T14:44:22.759Z"
   },
   {
    "duration": 0,
    "start_time": "2024-09-28T14:44:22.760Z"
   },
   {
    "duration": 0,
    "start_time": "2024-09-28T14:44:22.761Z"
   },
   {
    "duration": 0,
    "start_time": "2024-09-28T14:44:22.762Z"
   },
   {
    "duration": 0,
    "start_time": "2024-09-28T14:44:22.764Z"
   },
   {
    "duration": 0,
    "start_time": "2024-09-28T14:44:22.765Z"
   },
   {
    "duration": 0,
    "start_time": "2024-09-28T14:44:22.766Z"
   },
   {
    "duration": 0,
    "start_time": "2024-09-28T14:44:22.767Z"
   },
   {
    "duration": 0,
    "start_time": "2024-09-28T14:44:22.769Z"
   },
   {
    "duration": 0,
    "start_time": "2024-09-28T14:44:22.770Z"
   },
   {
    "duration": 0,
    "start_time": "2024-09-28T14:44:22.771Z"
   },
   {
    "duration": 0,
    "start_time": "2024-09-28T14:44:22.772Z"
   },
   {
    "duration": 0,
    "start_time": "2024-09-28T14:44:22.773Z"
   },
   {
    "duration": 0,
    "start_time": "2024-09-28T14:44:22.774Z"
   },
   {
    "duration": 0,
    "start_time": "2024-09-28T14:44:22.775Z"
   },
   {
    "duration": 0,
    "start_time": "2024-09-28T14:44:22.775Z"
   },
   {
    "duration": 0,
    "start_time": "2024-09-28T14:44:22.777Z"
   },
   {
    "duration": 0,
    "start_time": "2024-09-28T14:44:22.778Z"
   },
   {
    "duration": 0,
    "start_time": "2024-09-28T14:44:22.779Z"
   },
   {
    "duration": 0,
    "start_time": "2024-09-28T14:44:22.780Z"
   },
   {
    "duration": 0,
    "start_time": "2024-09-28T14:44:22.781Z"
   },
   {
    "duration": 0,
    "start_time": "2024-09-28T14:44:22.781Z"
   },
   {
    "duration": 0,
    "start_time": "2024-09-28T14:44:22.782Z"
   },
   {
    "duration": 0,
    "start_time": "2024-09-28T14:44:22.783Z"
   },
   {
    "duration": 15,
    "start_time": "2024-09-28T14:45:22.915Z"
   },
   {
    "duration": 5,
    "start_time": "2024-09-28T14:45:25.678Z"
   },
   {
    "duration": 63,
    "start_time": "2024-09-28T14:45:33.053Z"
   },
   {
    "duration": 16,
    "start_time": "2024-09-28T14:45:34.881Z"
   },
   {
    "duration": 497,
    "start_time": "2024-09-28T14:45:36.038Z"
   },
   {
    "duration": 28,
    "start_time": "2024-09-28T14:45:46.806Z"
   },
   {
    "duration": 16,
    "start_time": "2024-09-28T14:45:50.377Z"
   },
   {
    "duration": 13,
    "start_time": "2024-09-28T14:45:57.451Z"
   },
   {
    "duration": 5,
    "start_time": "2024-09-28T14:46:00.652Z"
   },
   {
    "duration": 36,
    "start_time": "2024-09-28T14:46:07.391Z"
   },
   {
    "duration": 10,
    "start_time": "2024-09-28T14:46:08.310Z"
   },
   {
    "duration": 17,
    "start_time": "2024-09-28T14:46:09.252Z"
   },
   {
    "duration": 12,
    "start_time": "2024-09-28T14:46:12.123Z"
   },
   {
    "duration": 16,
    "start_time": "2024-09-28T14:46:18.223Z"
   },
   {
    "duration": 5,
    "start_time": "2024-09-28T14:46:22.147Z"
   },
   {
    "duration": 49,
    "start_time": "2024-09-28T14:47:59.695Z"
   },
   {
    "duration": 13,
    "start_time": "2024-09-28T14:48:52.075Z"
   },
   {
    "duration": 35,
    "start_time": "2024-09-28T14:49:12.685Z"
   },
   {
    "duration": 14,
    "start_time": "2024-09-28T14:49:34.294Z"
   },
   {
    "duration": 5,
    "start_time": "2024-09-28T14:50:17.797Z"
   },
   {
    "duration": 157,
    "start_time": "2024-09-30T15:42:03.568Z"
   },
   {
    "duration": 2474,
    "start_time": "2024-09-30T15:42:12.494Z"
   },
   {
    "duration": 239,
    "start_time": "2024-09-30T15:42:14.970Z"
   },
   {
    "duration": 10,
    "start_time": "2024-09-30T15:42:15.211Z"
   },
   {
    "duration": 5,
    "start_time": "2024-09-30T15:42:15.224Z"
   },
   {
    "duration": 9,
    "start_time": "2024-09-30T15:42:15.231Z"
   },
   {
    "duration": 8,
    "start_time": "2024-09-30T15:42:15.242Z"
   },
   {
    "duration": 5,
    "start_time": "2024-09-30T15:42:15.252Z"
   },
   {
    "duration": 3,
    "start_time": "2024-09-30T15:42:15.259Z"
   },
   {
    "duration": 4,
    "start_time": "2024-09-30T15:42:15.264Z"
   },
   {
    "duration": 3,
    "start_time": "2024-09-30T15:42:15.270Z"
   },
   {
    "duration": 5,
    "start_time": "2024-09-30T15:42:15.274Z"
   },
   {
    "duration": 53,
    "start_time": "2024-09-30T15:42:15.280Z"
   },
   {
    "duration": 370,
    "start_time": "2024-09-30T15:42:15.334Z"
   },
   {
    "duration": 0,
    "start_time": "2024-09-30T15:42:15.706Z"
   },
   {
    "duration": 0,
    "start_time": "2024-09-30T15:42:15.707Z"
   },
   {
    "duration": 0,
    "start_time": "2024-09-30T15:42:15.708Z"
   },
   {
    "duration": 0,
    "start_time": "2024-09-30T15:42:15.709Z"
   },
   {
    "duration": 0,
    "start_time": "2024-09-30T15:42:15.710Z"
   },
   {
    "duration": 0,
    "start_time": "2024-09-30T15:42:15.712Z"
   },
   {
    "duration": 0,
    "start_time": "2024-09-30T15:42:15.724Z"
   },
   {
    "duration": 0,
    "start_time": "2024-09-30T15:42:15.726Z"
   },
   {
    "duration": 0,
    "start_time": "2024-09-30T15:42:15.728Z"
   },
   {
    "duration": 0,
    "start_time": "2024-09-30T15:42:15.729Z"
   },
   {
    "duration": 0,
    "start_time": "2024-09-30T15:42:15.731Z"
   },
   {
    "duration": 0,
    "start_time": "2024-09-30T15:42:15.732Z"
   },
   {
    "duration": 0,
    "start_time": "2024-09-30T15:42:15.734Z"
   },
   {
    "duration": 0,
    "start_time": "2024-09-30T15:42:15.736Z"
   },
   {
    "duration": 0,
    "start_time": "2024-09-30T15:42:15.737Z"
   },
   {
    "duration": 0,
    "start_time": "2024-09-30T15:42:15.739Z"
   },
   {
    "duration": 0,
    "start_time": "2024-09-30T15:42:15.740Z"
   },
   {
    "duration": 0,
    "start_time": "2024-09-30T15:42:15.742Z"
   },
   {
    "duration": 0,
    "start_time": "2024-09-30T15:42:15.743Z"
   },
   {
    "duration": 0,
    "start_time": "2024-09-30T15:42:15.745Z"
   },
   {
    "duration": 0,
    "start_time": "2024-09-30T15:42:15.746Z"
   },
   {
    "duration": 0,
    "start_time": "2024-09-30T15:42:15.748Z"
   },
   {
    "duration": 0,
    "start_time": "2024-09-30T15:42:15.749Z"
   },
   {
    "duration": 0,
    "start_time": "2024-09-30T15:42:15.751Z"
   },
   {
    "duration": 0,
    "start_time": "2024-09-30T15:42:15.752Z"
   },
   {
    "duration": 0,
    "start_time": "2024-09-30T15:42:15.754Z"
   },
   {
    "duration": 0,
    "start_time": "2024-09-30T15:42:15.756Z"
   },
   {
    "duration": 0,
    "start_time": "2024-09-30T15:42:15.757Z"
   },
   {
    "duration": 0,
    "start_time": "2024-09-30T15:42:15.759Z"
   },
   {
    "duration": 0,
    "start_time": "2024-09-30T15:42:15.760Z"
   },
   {
    "duration": 0,
    "start_time": "2024-09-30T15:42:15.762Z"
   },
   {
    "duration": 0,
    "start_time": "2024-09-30T15:42:15.763Z"
   },
   {
    "duration": 0,
    "start_time": "2024-09-30T15:42:15.764Z"
   },
   {
    "duration": 0,
    "start_time": "2024-09-30T15:42:15.824Z"
   },
   {
    "duration": 0,
    "start_time": "2024-09-30T15:42:15.825Z"
   },
   {
    "duration": 15,
    "start_time": "2024-09-30T15:43:32.581Z"
   },
   {
    "duration": 5,
    "start_time": "2024-09-30T15:43:36.556Z"
   },
   {
    "duration": 65,
    "start_time": "2024-09-30T15:43:42.102Z"
   },
   {
    "duration": 16,
    "start_time": "2024-09-30T15:43:43.072Z"
   },
   {
    "duration": 568,
    "start_time": "2024-09-30T15:43:43.875Z"
   },
   {
    "duration": 28,
    "start_time": "2024-09-30T15:43:44.623Z"
   },
   {
    "duration": 15,
    "start_time": "2024-09-30T15:43:46.254Z"
   },
   {
    "duration": 13,
    "start_time": "2024-09-30T15:43:53.709Z"
   },
   {
    "duration": 4,
    "start_time": "2024-09-30T15:43:55.696Z"
   },
   {
    "duration": 35,
    "start_time": "2024-09-30T15:44:02.086Z"
   },
   {
    "duration": 10,
    "start_time": "2024-09-30T15:44:02.671Z"
   },
   {
    "duration": 17,
    "start_time": "2024-09-30T15:44:03.175Z"
   },
   {
    "duration": 12,
    "start_time": "2024-09-30T15:44:03.602Z"
   },
   {
    "duration": 15,
    "start_time": "2024-09-30T15:44:09.144Z"
   },
   {
    "duration": 5,
    "start_time": "2024-09-30T15:44:09.994Z"
   },
   {
    "duration": 47,
    "start_time": "2024-09-30T15:44:20.888Z"
   },
   {
    "duration": 13,
    "start_time": "2024-09-30T15:44:21.422Z"
   },
   {
    "duration": 34,
    "start_time": "2024-09-30T15:44:21.947Z"
   },
   {
    "duration": 13,
    "start_time": "2024-09-30T15:44:25.014Z"
   },
   {
    "duration": 4,
    "start_time": "2024-09-30T15:44:30.774Z"
   },
   {
    "duration": 13,
    "start_time": "2024-09-30T15:44:36.018Z"
   },
   {
    "duration": 11,
    "start_time": "2024-09-30T15:45:31.624Z"
   },
   {
    "duration": 12,
    "start_time": "2024-09-30T15:46:25.151Z"
   },
   {
    "duration": 9,
    "start_time": "2024-09-30T15:46:30.337Z"
   },
   {
    "duration": 8,
    "start_time": "2024-09-30T15:47:19.023Z"
   },
   {
    "duration": 4,
    "start_time": "2024-09-30T16:14:56.836Z"
   },
   {
    "duration": 3,
    "start_time": "2024-09-30T16:15:19.776Z"
   },
   {
    "duration": 65,
    "start_time": "2024-09-30T16:15:42.528Z"
   },
   {
    "duration": 10,
    "start_time": "2024-09-30T16:15:44.840Z"
   },
   {
    "duration": 49,
    "start_time": "2024-09-30T16:15:51.667Z"
   },
   {
    "duration": 8,
    "start_time": "2024-09-30T16:15:52.854Z"
   },
   {
    "duration": 3,
    "start_time": "2024-09-30T16:15:55.205Z"
   },
   {
    "duration": 4,
    "start_time": "2024-09-30T16:15:56.331Z"
   },
   {
    "duration": 5,
    "start_time": "2024-09-30T16:16:31.874Z"
   },
   {
    "duration": 6,
    "start_time": "2024-09-30T16:16:32.925Z"
   },
   {
    "duration": 5,
    "start_time": "2024-09-30T16:19:28.905Z"
   },
   {
    "duration": 7,
    "start_time": "2024-09-30T16:19:35.847Z"
   },
   {
    "duration": 14,
    "start_time": "2024-09-30T16:20:16.713Z"
   },
   {
    "duration": 15,
    "start_time": "2024-09-30T16:20:35.845Z"
   },
   {
    "duration": 10,
    "start_time": "2024-09-30T16:21:30.982Z"
   },
   {
    "duration": 9,
    "start_time": "2024-09-30T16:21:31.496Z"
   },
   {
    "duration": 9,
    "start_time": "2024-09-30T16:21:58.259Z"
   },
   {
    "duration": 4,
    "start_time": "2024-09-30T16:22:00.084Z"
   },
   {
    "duration": 6,
    "start_time": "2024-09-30T16:22:01.120Z"
   },
   {
    "duration": 6,
    "start_time": "2024-09-30T16:26:26.005Z"
   },
   {
    "duration": 6,
    "start_time": "2024-09-30T16:26:47.574Z"
   },
   {
    "duration": 6,
    "start_time": "2024-09-30T16:29:10.640Z"
   },
   {
    "duration": 2473,
    "start_time": "2024-09-30T18:38:20.064Z"
   },
   {
    "duration": 237,
    "start_time": "2024-09-30T18:38:22.539Z"
   },
   {
    "duration": 9,
    "start_time": "2024-09-30T18:38:22.778Z"
   },
   {
    "duration": 6,
    "start_time": "2024-09-30T18:38:22.789Z"
   },
   {
    "duration": 9,
    "start_time": "2024-09-30T18:38:22.797Z"
   },
   {
    "duration": 9,
    "start_time": "2024-09-30T18:38:22.807Z"
   },
   {
    "duration": 7,
    "start_time": "2024-09-30T18:38:22.817Z"
   },
   {
    "duration": 2,
    "start_time": "2024-09-30T18:38:22.826Z"
   },
   {
    "duration": 3,
    "start_time": "2024-09-30T18:38:22.830Z"
   },
   {
    "duration": 3,
    "start_time": "2024-09-30T18:38:22.836Z"
   },
   {
    "duration": 4,
    "start_time": "2024-09-30T18:38:22.841Z"
   },
   {
    "duration": 10,
    "start_time": "2024-09-30T18:38:22.847Z"
   },
   {
    "duration": 463,
    "start_time": "2024-09-30T18:38:22.858Z"
   },
   {
    "duration": 0,
    "start_time": "2024-09-30T18:38:23.323Z"
   },
   {
    "duration": 0,
    "start_time": "2024-09-30T18:38:23.325Z"
   },
   {
    "duration": 0,
    "start_time": "2024-09-30T18:38:23.327Z"
   },
   {
    "duration": 0,
    "start_time": "2024-09-30T18:38:23.328Z"
   },
   {
    "duration": 0,
    "start_time": "2024-09-30T18:38:23.330Z"
   },
   {
    "duration": 0,
    "start_time": "2024-09-30T18:38:23.331Z"
   },
   {
    "duration": 0,
    "start_time": "2024-09-30T18:38:23.332Z"
   },
   {
    "duration": 0,
    "start_time": "2024-09-30T18:38:23.334Z"
   },
   {
    "duration": 0,
    "start_time": "2024-09-30T18:38:23.336Z"
   },
   {
    "duration": 0,
    "start_time": "2024-09-30T18:38:23.337Z"
   },
   {
    "duration": 0,
    "start_time": "2024-09-30T18:38:23.339Z"
   },
   {
    "duration": 0,
    "start_time": "2024-09-30T18:38:23.341Z"
   },
   {
    "duration": 0,
    "start_time": "2024-09-30T18:38:23.342Z"
   },
   {
    "duration": 0,
    "start_time": "2024-09-30T18:38:23.343Z"
   },
   {
    "duration": 0,
    "start_time": "2024-09-30T18:38:23.345Z"
   },
   {
    "duration": 0,
    "start_time": "2024-09-30T18:38:23.346Z"
   },
   {
    "duration": 0,
    "start_time": "2024-09-30T18:38:23.347Z"
   },
   {
    "duration": 0,
    "start_time": "2024-09-30T18:38:23.348Z"
   },
   {
    "duration": 0,
    "start_time": "2024-09-30T18:38:23.349Z"
   },
   {
    "duration": 0,
    "start_time": "2024-09-30T18:38:23.351Z"
   },
   {
    "duration": 0,
    "start_time": "2024-09-30T18:38:23.352Z"
   },
   {
    "duration": 0,
    "start_time": "2024-09-30T18:38:23.353Z"
   },
   {
    "duration": 0,
    "start_time": "2024-09-30T18:38:23.354Z"
   },
   {
    "duration": 0,
    "start_time": "2024-09-30T18:38:23.356Z"
   },
   {
    "duration": 0,
    "start_time": "2024-09-30T18:38:23.357Z"
   },
   {
    "duration": 0,
    "start_time": "2024-09-30T18:38:23.357Z"
   },
   {
    "duration": 0,
    "start_time": "2024-09-30T18:38:23.358Z"
   },
   {
    "duration": 0,
    "start_time": "2024-09-30T18:38:23.358Z"
   },
   {
    "duration": 0,
    "start_time": "2024-09-30T18:38:23.359Z"
   },
   {
    "duration": 0,
    "start_time": "2024-09-30T18:38:23.360Z"
   },
   {
    "duration": 0,
    "start_time": "2024-09-30T18:38:23.404Z"
   },
   {
    "duration": 0,
    "start_time": "2024-09-30T18:38:23.406Z"
   },
   {
    "duration": 0,
    "start_time": "2024-09-30T18:38:23.407Z"
   },
   {
    "duration": 0,
    "start_time": "2024-09-30T18:38:23.409Z"
   },
   {
    "duration": 0,
    "start_time": "2024-09-30T18:38:23.412Z"
   },
   {
    "duration": 0,
    "start_time": "2024-09-30T18:38:23.413Z"
   },
   {
    "duration": 0,
    "start_time": "2024-09-30T18:38:23.414Z"
   },
   {
    "duration": 144,
    "start_time": "2024-09-30T18:39:36.702Z"
   },
   {
    "duration": 3,
    "start_time": "2024-09-30T18:40:05.936Z"
   },
   {
    "duration": 5,
    "start_time": "2024-09-30T18:40:06.968Z"
   },
   {
    "duration": 12,
    "start_time": "2024-09-30T18:40:07.606Z"
   },
   {
    "duration": 70,
    "start_time": "2024-09-30T18:40:32.989Z"
   },
   {
    "duration": 108,
    "start_time": "2024-09-30T18:41:01.230Z"
   },
   {
    "duration": 16,
    "start_time": "2024-09-30T18:41:10.997Z"
   },
   {
    "duration": 4,
    "start_time": "2024-09-30T18:41:14.466Z"
   },
   {
    "duration": 62,
    "start_time": "2024-09-30T18:41:19.080Z"
   },
   {
    "duration": 17,
    "start_time": "2024-09-30T18:41:21.685Z"
   },
   {
    "duration": 517,
    "start_time": "2024-09-30T18:41:24.120Z"
   },
   {
    "duration": 0,
    "start_time": "2024-09-30T18:41:24.639Z"
   },
   {
    "duration": 42,
    "start_time": "2024-09-30T18:41:32.060Z"
   },
   {
    "duration": 28,
    "start_time": "2024-09-30T18:42:16.066Z"
   },
   {
    "duration": 16,
    "start_time": "2024-09-30T18:42:17.020Z"
   },
   {
    "duration": 11,
    "start_time": "2024-09-30T18:42:23.840Z"
   },
   {
    "duration": 4,
    "start_time": "2024-09-30T18:42:24.480Z"
   },
   {
    "duration": 36,
    "start_time": "2024-09-30T18:42:34.895Z"
   },
   {
    "duration": 10,
    "start_time": "2024-09-30T18:42:35.612Z"
   },
   {
    "duration": 15,
    "start_time": "2024-09-30T18:42:36.554Z"
   },
   {
    "duration": 12,
    "start_time": "2024-09-30T18:42:37.636Z"
   },
   {
    "duration": 15,
    "start_time": "2024-09-30T18:42:42.240Z"
   },
   {
    "duration": 4,
    "start_time": "2024-09-30T18:42:42.742Z"
   },
   {
    "duration": 47,
    "start_time": "2024-09-30T18:42:47.446Z"
   },
   {
    "duration": 12,
    "start_time": "2024-09-30T18:42:47.958Z"
   },
   {
    "duration": 33,
    "start_time": "2024-09-30T18:42:48.440Z"
   },
   {
    "duration": 14,
    "start_time": "2024-09-30T18:42:49.515Z"
   },
   {
    "duration": 5,
    "start_time": "2024-09-30T18:42:54.932Z"
   },
   {
    "duration": 13,
    "start_time": "2024-09-30T18:43:03.947Z"
   },
   {
    "duration": 176,
    "start_time": "2024-09-30T18:45:21.148Z"
   },
   {
    "duration": 76,
    "start_time": "2024-09-30T18:48:08.197Z"
   },
   {
    "duration": 14,
    "start_time": "2024-09-30T18:49:27.703Z"
   },
   {
    "duration": 6,
    "start_time": "2024-09-30T18:49:53.525Z"
   },
   {
    "duration": 2692,
    "start_time": "2024-10-01T00:55:42.143Z"
   },
   {
    "duration": 277,
    "start_time": "2024-10-01T00:55:44.837Z"
   },
   {
    "duration": 10,
    "start_time": "2024-10-01T00:55:45.116Z"
   },
   {
    "duration": 5,
    "start_time": "2024-10-01T00:55:45.129Z"
   },
   {
    "duration": 9,
    "start_time": "2024-10-01T00:55:45.136Z"
   },
   {
    "duration": 8,
    "start_time": "2024-10-01T00:55:45.147Z"
   },
   {
    "duration": 6,
    "start_time": "2024-10-01T00:55:45.156Z"
   },
   {
    "duration": 3,
    "start_time": "2024-10-01T00:55:45.164Z"
   },
   {
    "duration": 5,
    "start_time": "2024-10-01T00:55:45.169Z"
   },
   {
    "duration": 3,
    "start_time": "2024-10-01T00:55:45.178Z"
   },
   {
    "duration": 7,
    "start_time": "2024-10-01T00:55:45.183Z"
   },
   {
    "duration": 13,
    "start_time": "2024-10-01T00:55:45.192Z"
   },
   {
    "duration": 380,
    "start_time": "2024-10-01T00:55:45.207Z"
   },
   {
    "duration": 0,
    "start_time": "2024-10-01T00:55:45.590Z"
   },
   {
    "duration": 0,
    "start_time": "2024-10-01T00:55:45.591Z"
   },
   {
    "duration": 0,
    "start_time": "2024-10-01T00:55:45.592Z"
   },
   {
    "duration": 0,
    "start_time": "2024-10-01T00:55:45.593Z"
   },
   {
    "duration": 0,
    "start_time": "2024-10-01T00:55:45.595Z"
   },
   {
    "duration": 0,
    "start_time": "2024-10-01T00:55:45.597Z"
   },
   {
    "duration": 0,
    "start_time": "2024-10-01T00:55:45.598Z"
   },
   {
    "duration": 0,
    "start_time": "2024-10-01T00:55:45.599Z"
   },
   {
    "duration": 0,
    "start_time": "2024-10-01T00:55:45.600Z"
   },
   {
    "duration": 0,
    "start_time": "2024-10-01T00:55:45.601Z"
   },
   {
    "duration": 0,
    "start_time": "2024-10-01T00:55:45.602Z"
   },
   {
    "duration": 0,
    "start_time": "2024-10-01T00:55:45.603Z"
   },
   {
    "duration": 0,
    "start_time": "2024-10-01T00:55:45.606Z"
   },
   {
    "duration": 0,
    "start_time": "2024-10-01T00:55:45.607Z"
   },
   {
    "duration": 0,
    "start_time": "2024-10-01T00:55:45.608Z"
   },
   {
    "duration": 0,
    "start_time": "2024-10-01T00:55:45.609Z"
   },
   {
    "duration": 0,
    "start_time": "2024-10-01T00:55:45.643Z"
   },
   {
    "duration": 0,
    "start_time": "2024-10-01T00:55:45.645Z"
   },
   {
    "duration": 0,
    "start_time": "2024-10-01T00:55:45.646Z"
   },
   {
    "duration": 0,
    "start_time": "2024-10-01T00:55:45.647Z"
   },
   {
    "duration": 0,
    "start_time": "2024-10-01T00:55:45.649Z"
   },
   {
    "duration": 0,
    "start_time": "2024-10-01T00:55:45.650Z"
   },
   {
    "duration": 0,
    "start_time": "2024-10-01T00:55:45.652Z"
   },
   {
    "duration": 0,
    "start_time": "2024-10-01T00:55:45.654Z"
   },
   {
    "duration": 0,
    "start_time": "2024-10-01T00:55:45.656Z"
   },
   {
    "duration": 0,
    "start_time": "2024-10-01T00:55:45.657Z"
   },
   {
    "duration": 0,
    "start_time": "2024-10-01T00:55:45.659Z"
   },
   {
    "duration": 0,
    "start_time": "2024-10-01T00:55:45.660Z"
   },
   {
    "duration": 0,
    "start_time": "2024-10-01T00:55:45.662Z"
   },
   {
    "duration": 0,
    "start_time": "2024-10-01T00:55:45.664Z"
   },
   {
    "duration": 0,
    "start_time": "2024-10-01T00:55:45.666Z"
   },
   {
    "duration": 0,
    "start_time": "2024-10-01T00:55:45.667Z"
   },
   {
    "duration": 0,
    "start_time": "2024-10-01T00:55:45.668Z"
   },
   {
    "duration": 0,
    "start_time": "2024-10-01T00:55:45.670Z"
   },
   {
    "duration": 0,
    "start_time": "2024-10-01T00:55:45.671Z"
   },
   {
    "duration": 0,
    "start_time": "2024-10-01T00:55:45.672Z"
   },
   {
    "duration": 0,
    "start_time": "2024-10-01T00:55:45.674Z"
   },
   {
    "duration": 17,
    "start_time": "2024-10-01T00:56:03.699Z"
   },
   {
    "duration": 5,
    "start_time": "2024-10-01T00:56:07.547Z"
   },
   {
    "duration": 64,
    "start_time": "2024-10-01T00:56:11.435Z"
   },
   {
    "duration": 17,
    "start_time": "2024-10-01T00:56:12.402Z"
   },
   {
    "duration": 34,
    "start_time": "2024-10-01T00:56:13.803Z"
   },
   {
    "duration": 18,
    "start_time": "2024-10-01T00:56:14.869Z"
   },
   {
    "duration": 12,
    "start_time": "2024-10-01T00:56:21.149Z"
   },
   {
    "duration": 5,
    "start_time": "2024-10-01T00:56:22.787Z"
   },
   {
    "duration": 37,
    "start_time": "2024-10-01T00:56:26.761Z"
   },
   {
    "duration": 12,
    "start_time": "2024-10-01T00:56:28.255Z"
   },
   {
    "duration": 18,
    "start_time": "2024-10-01T00:56:29.186Z"
   },
   {
    "duration": 15,
    "start_time": "2024-10-01T00:56:30.102Z"
   },
   {
    "duration": 14,
    "start_time": "2024-10-01T00:56:35.337Z"
   },
   {
    "duration": 5,
    "start_time": "2024-10-01T00:56:36.613Z"
   },
   {
    "duration": 48,
    "start_time": "2024-10-01T00:56:45.119Z"
   },
   {
    "duration": 13,
    "start_time": "2024-10-01T00:56:46.047Z"
   },
   {
    "duration": 37,
    "start_time": "2024-10-01T00:56:46.950Z"
   },
   {
    "duration": 14,
    "start_time": "2024-10-01T00:56:48.478Z"
   },
   {
    "duration": 5,
    "start_time": "2024-10-01T00:56:54.907Z"
   },
   {
    "duration": 18,
    "start_time": "2024-10-01T00:57:18.806Z"
   },
   {
    "duration": 7,
    "start_time": "2024-10-01T00:57:22.117Z"
   },
   {
    "duration": 5,
    "start_time": "2024-10-01T01:04:52.079Z"
   },
   {
    "duration": 14,
    "start_time": "2024-10-01T01:05:15.015Z"
   },
   {
    "duration": 2644,
    "start_time": "2024-10-01T19:57:14.081Z"
   },
   {
    "duration": 237,
    "start_time": "2024-10-01T19:57:16.727Z"
   },
   {
    "duration": 10,
    "start_time": "2024-10-01T19:57:16.966Z"
   },
   {
    "duration": 7,
    "start_time": "2024-10-01T19:57:16.978Z"
   },
   {
    "duration": 10,
    "start_time": "2024-10-01T19:57:16.986Z"
   },
   {
    "duration": 8,
    "start_time": "2024-10-01T19:57:16.998Z"
   },
   {
    "duration": 6,
    "start_time": "2024-10-01T19:57:17.007Z"
   },
   {
    "duration": 3,
    "start_time": "2024-10-01T19:57:17.015Z"
   },
   {
    "duration": 4,
    "start_time": "2024-10-01T19:57:17.019Z"
   },
   {
    "duration": 5,
    "start_time": "2024-10-01T19:57:17.027Z"
   },
   {
    "duration": 11,
    "start_time": "2024-10-01T19:57:17.034Z"
   },
   {
    "duration": 15,
    "start_time": "2024-10-01T19:57:17.047Z"
   },
   {
    "duration": 5,
    "start_time": "2024-10-01T19:57:17.063Z"
   },
   {
    "duration": 97,
    "start_time": "2024-10-01T19:57:17.069Z"
   },
   {
    "duration": 18,
    "start_time": "2024-10-01T19:57:17.167Z"
   },
   {
    "duration": 56,
    "start_time": "2024-10-01T19:57:17.186Z"
   },
   {
    "duration": 16,
    "start_time": "2024-10-01T19:57:17.244Z"
   },
   {
    "duration": 601,
    "start_time": "2024-10-01T19:57:17.262Z"
   },
   {
    "duration": 0,
    "start_time": "2024-10-01T19:57:17.866Z"
   },
   {
    "duration": 0,
    "start_time": "2024-10-01T19:57:17.868Z"
   },
   {
    "duration": 0,
    "start_time": "2024-10-01T19:57:17.869Z"
   },
   {
    "duration": 0,
    "start_time": "2024-10-01T19:57:17.871Z"
   },
   {
    "duration": 0,
    "start_time": "2024-10-01T19:57:17.872Z"
   },
   {
    "duration": 0,
    "start_time": "2024-10-01T19:57:17.874Z"
   },
   {
    "duration": 0,
    "start_time": "2024-10-01T19:57:17.875Z"
   },
   {
    "duration": 0,
    "start_time": "2024-10-01T19:57:17.877Z"
   },
   {
    "duration": 0,
    "start_time": "2024-10-01T19:57:17.878Z"
   },
   {
    "duration": 0,
    "start_time": "2024-10-01T19:57:17.880Z"
   },
   {
    "duration": 0,
    "start_time": "2024-10-01T19:57:17.881Z"
   },
   {
    "duration": 0,
    "start_time": "2024-10-01T19:57:17.883Z"
   },
   {
    "duration": 0,
    "start_time": "2024-10-01T19:57:17.912Z"
   },
   {
    "duration": 0,
    "start_time": "2024-10-01T19:57:17.914Z"
   },
   {
    "duration": 0,
    "start_time": "2024-10-01T19:57:17.916Z"
   },
   {
    "duration": 1,
    "start_time": "2024-10-01T19:57:17.916Z"
   },
   {
    "duration": 0,
    "start_time": "2024-10-01T19:57:17.918Z"
   },
   {
    "duration": 0,
    "start_time": "2024-10-01T19:57:17.919Z"
   },
   {
    "duration": 0,
    "start_time": "2024-10-01T19:57:17.920Z"
   },
   {
    "duration": 0,
    "start_time": "2024-10-01T19:57:17.921Z"
   },
   {
    "duration": 0,
    "start_time": "2024-10-01T19:57:17.922Z"
   },
   {
    "duration": 0,
    "start_time": "2024-10-01T19:57:17.924Z"
   },
   {
    "duration": 0,
    "start_time": "2024-10-01T19:57:17.925Z"
   },
   {
    "duration": 0,
    "start_time": "2024-10-01T19:57:17.928Z"
   },
   {
    "duration": 0,
    "start_time": "2024-10-01T19:57:17.929Z"
   },
   {
    "duration": 0,
    "start_time": "2024-10-01T19:57:17.930Z"
   },
   {
    "duration": 0,
    "start_time": "2024-10-01T19:57:17.932Z"
   },
   {
    "duration": 0,
    "start_time": "2024-10-01T19:57:17.934Z"
   },
   {
    "duration": 0,
    "start_time": "2024-10-01T19:57:17.936Z"
   },
   {
    "duration": 0,
    "start_time": "2024-10-01T19:57:17.937Z"
   },
   {
    "duration": 0,
    "start_time": "2024-10-01T19:57:17.938Z"
   },
   {
    "duration": 0,
    "start_time": "2024-10-01T19:57:17.939Z"
   },
   {
    "duration": 0,
    "start_time": "2024-10-01T19:57:17.941Z"
   },
   {
    "duration": 0,
    "start_time": "2024-10-01T19:57:17.942Z"
   },
   {
    "duration": 9,
    "start_time": "2024-10-01T19:59:40.873Z"
   },
   {
    "duration": 17,
    "start_time": "2024-10-01T20:00:16.434Z"
   },
   {
    "duration": 13,
    "start_time": "2024-10-01T20:00:28.283Z"
   },
   {
    "duration": 5,
    "start_time": "2024-10-01T20:00:29.842Z"
   },
   {
    "duration": 36,
    "start_time": "2024-10-01T20:00:38.157Z"
   },
   {
    "duration": 11,
    "start_time": "2024-10-01T20:00:39.028Z"
   },
   {
    "duration": 15,
    "start_time": "2024-10-01T20:00:40.220Z"
   },
   {
    "duration": 12,
    "start_time": "2024-10-01T20:00:41.720Z"
   },
   {
    "duration": 16,
    "start_time": "2024-10-01T20:00:47.875Z"
   },
   {
    "duration": 80,
    "start_time": "2024-10-01T20:00:53.979Z"
   },
   {
    "duration": 6,
    "start_time": "2024-10-01T20:01:03.577Z"
   },
   {
    "duration": 14,
    "start_time": "2024-10-01T20:01:31.153Z"
   },
   {
    "duration": 14,
    "start_time": "2024-10-01T20:01:39.803Z"
   },
   {
    "duration": 5,
    "start_time": "2024-10-01T20:01:40.910Z"
   },
   {
    "duration": 48,
    "start_time": "2024-10-01T20:01:48.317Z"
   },
   {
    "duration": 13,
    "start_time": "2024-10-01T20:01:49.191Z"
   },
   {
    "duration": 38,
    "start_time": "2024-10-01T20:01:50.017Z"
   },
   {
    "duration": 14,
    "start_time": "2024-10-01T20:01:50.939Z"
   },
   {
    "duration": 45,
    "start_time": "2024-10-01T20:01:56.082Z"
   },
   {
    "duration": 7,
    "start_time": "2024-10-01T20:02:07.360Z"
   },
   {
    "duration": 16,
    "start_time": "2024-10-01T20:02:31.282Z"
   },
   {
    "duration": 5,
    "start_time": "2024-10-01T20:02:42.800Z"
   },
   {
    "duration": 19,
    "start_time": "2024-10-01T20:02:53.784Z"
   },
   {
    "duration": 6,
    "start_time": "2024-10-01T20:02:55.171Z"
   },
   {
    "duration": 16,
    "start_time": "2024-10-01T20:03:39.881Z"
   },
   {
    "duration": 3,
    "start_time": "2024-10-01T20:03:49.937Z"
   },
   {
    "duration": 12,
    "start_time": "2024-10-01T20:03:54.357Z"
   },
   {
    "duration": 11,
    "start_time": "2024-10-01T20:04:13.735Z"
   },
   {
    "duration": 16,
    "start_time": "2024-10-01T20:04:30.521Z"
   },
   {
    "duration": 9,
    "start_time": "2024-10-01T20:04:36.364Z"
   },
   {
    "duration": 8,
    "start_time": "2024-10-01T20:04:44.103Z"
   },
   {
    "duration": 403,
    "start_time": "2024-10-01T20:05:15.319Z"
   },
   {
    "duration": 9,
    "start_time": "2024-10-01T20:05:47.237Z"
   },
   {
    "duration": 160,
    "start_time": "2024-10-01T20:12:09.610Z"
   },
   {
    "duration": 20,
    "start_time": "2024-10-01T20:12:17.524Z"
   },
   {
    "duration": 22,
    "start_time": "2024-10-01T20:16:01.241Z"
   },
   {
    "duration": 23,
    "start_time": "2024-10-01T20:16:54.101Z"
   },
   {
    "duration": 20,
    "start_time": "2024-10-01T20:18:55.504Z"
   },
   {
    "duration": 20,
    "start_time": "2024-10-01T20:19:30.442Z"
   },
   {
    "duration": 7,
    "start_time": "2024-10-01T20:26:27.665Z"
   },
   {
    "duration": 1179,
    "start_time": "2024-10-01T20:27:01.929Z"
   },
   {
    "duration": 157,
    "start_time": "2024-10-01T23:39:59.359Z"
   },
   {
    "duration": 2489,
    "start_time": "2024-10-01T23:40:07.995Z"
   },
   {
    "duration": 251,
    "start_time": "2024-10-01T23:40:10.487Z"
   },
   {
    "duration": 9,
    "start_time": "2024-10-01T23:40:10.741Z"
   },
   {
    "duration": 5,
    "start_time": "2024-10-01T23:40:10.752Z"
   },
   {
    "duration": 9,
    "start_time": "2024-10-01T23:40:10.760Z"
   },
   {
    "duration": 8,
    "start_time": "2024-10-01T23:40:10.771Z"
   },
   {
    "duration": 5,
    "start_time": "2024-10-01T23:40:10.781Z"
   },
   {
    "duration": 3,
    "start_time": "2024-10-01T23:40:10.788Z"
   },
   {
    "duration": 3,
    "start_time": "2024-10-01T23:40:10.793Z"
   },
   {
    "duration": 5,
    "start_time": "2024-10-01T23:40:10.798Z"
   },
   {
    "duration": 10,
    "start_time": "2024-10-01T23:40:10.804Z"
   },
   {
    "duration": 54,
    "start_time": "2024-10-01T23:40:10.816Z"
   },
   {
    "duration": 5,
    "start_time": "2024-10-01T23:40:10.872Z"
   },
   {
    "duration": 62,
    "start_time": "2024-10-01T23:40:10.881Z"
   },
   {
    "duration": 34,
    "start_time": "2024-10-01T23:40:10.945Z"
   },
   {
    "duration": 30,
    "start_time": "2024-10-01T23:40:10.980Z"
   },
   {
    "duration": 16,
    "start_time": "2024-10-01T23:40:11.011Z"
   },
   {
    "duration": 8,
    "start_time": "2024-10-01T23:40:11.028Z"
   },
   {
    "duration": 1896,
    "start_time": "2024-10-01T23:40:11.037Z"
   },
   {
    "duration": 0,
    "start_time": "2024-10-01T23:40:12.936Z"
   },
   {
    "duration": 0,
    "start_time": "2024-10-01T23:40:12.938Z"
   },
   {
    "duration": 0,
    "start_time": "2024-10-01T23:40:12.939Z"
   },
   {
    "duration": 0,
    "start_time": "2024-10-01T23:40:12.941Z"
   },
   {
    "duration": 0,
    "start_time": "2024-10-01T23:40:12.943Z"
   },
   {
    "duration": 0,
    "start_time": "2024-10-01T23:40:12.944Z"
   },
   {
    "duration": 0,
    "start_time": "2024-10-01T23:40:12.946Z"
   },
   {
    "duration": 0,
    "start_time": "2024-10-01T23:40:12.947Z"
   },
   {
    "duration": 0,
    "start_time": "2024-10-01T23:40:12.970Z"
   },
   {
    "duration": 0,
    "start_time": "2024-10-01T23:40:12.971Z"
   },
   {
    "duration": 0,
    "start_time": "2024-10-01T23:40:12.972Z"
   },
   {
    "duration": 0,
    "start_time": "2024-10-01T23:40:12.974Z"
   },
   {
    "duration": 0,
    "start_time": "2024-10-01T23:40:12.975Z"
   },
   {
    "duration": 0,
    "start_time": "2024-10-01T23:40:12.976Z"
   },
   {
    "duration": 0,
    "start_time": "2024-10-01T23:40:12.977Z"
   },
   {
    "duration": 0,
    "start_time": "2024-10-01T23:40:12.978Z"
   },
   {
    "duration": 0,
    "start_time": "2024-10-01T23:40:12.979Z"
   },
   {
    "duration": 0,
    "start_time": "2024-10-01T23:40:12.980Z"
   },
   {
    "duration": 0,
    "start_time": "2024-10-01T23:40:12.981Z"
   },
   {
    "duration": 0,
    "start_time": "2024-10-01T23:40:12.981Z"
   },
   {
    "duration": 0,
    "start_time": "2024-10-01T23:40:12.982Z"
   },
   {
    "duration": 0,
    "start_time": "2024-10-01T23:40:12.983Z"
   },
   {
    "duration": 0,
    "start_time": "2024-10-01T23:40:12.984Z"
   },
   {
    "duration": 0,
    "start_time": "2024-10-01T23:40:12.985Z"
   },
   {
    "duration": 0,
    "start_time": "2024-10-01T23:40:12.986Z"
   },
   {
    "duration": 0,
    "start_time": "2024-10-01T23:40:12.987Z"
   },
   {
    "duration": 0,
    "start_time": "2024-10-01T23:40:12.988Z"
   },
   {
    "duration": 0,
    "start_time": "2024-10-01T23:40:12.989Z"
   },
   {
    "duration": 0,
    "start_time": "2024-10-01T23:40:12.991Z"
   },
   {
    "duration": 0,
    "start_time": "2024-10-01T23:40:12.992Z"
   },
   {
    "duration": 0,
    "start_time": "2024-10-01T23:40:12.993Z"
   },
   {
    "duration": 0,
    "start_time": "2024-10-01T23:40:12.994Z"
   },
   {
    "duration": 0,
    "start_time": "2024-10-01T23:40:12.995Z"
   },
   {
    "duration": 0,
    "start_time": "2024-10-01T23:40:12.996Z"
   },
   {
    "duration": 0,
    "start_time": "2024-10-01T23:40:12.997Z"
   },
   {
    "duration": 0,
    "start_time": "2024-10-01T23:40:12.998Z"
   },
   {
    "duration": 8,
    "start_time": "2024-10-01T23:40:23.104Z"
   },
   {
    "duration": 8,
    "start_time": "2024-10-01T23:40:50.597Z"
   },
   {
    "duration": 18,
    "start_time": "2024-10-01T23:50:03.219Z"
   },
   {
    "duration": 14,
    "start_time": "2024-10-01T23:50:04.730Z"
   },
   {
    "duration": 4,
    "start_time": "2024-10-01T23:50:05.546Z"
   },
   {
    "duration": 35,
    "start_time": "2024-10-01T23:50:20.528Z"
   },
   {
    "duration": 11,
    "start_time": "2024-10-01T23:50:20.710Z"
   },
   {
    "duration": 14,
    "start_time": "2024-10-01T23:50:20.926Z"
   },
   {
    "duration": 15,
    "start_time": "2024-10-01T23:50:21.133Z"
   },
   {
    "duration": 6,
    "start_time": "2024-10-01T23:50:21.700Z"
   },
   {
    "duration": 15,
    "start_time": "2024-10-01T23:50:21.901Z"
   },
   {
    "duration": 13,
    "start_time": "2024-10-01T23:50:22.260Z"
   },
   {
    "duration": 5,
    "start_time": "2024-10-01T23:50:22.492Z"
   },
   {
    "duration": 48,
    "start_time": "2024-10-01T23:50:23.211Z"
   },
   {
    "duration": 13,
    "start_time": "2024-10-01T23:50:23.415Z"
   },
   {
    "duration": 30,
    "start_time": "2024-10-01T23:50:23.627Z"
   },
   {
    "duration": 15,
    "start_time": "2024-10-01T23:50:23.815Z"
   },
   {
    "duration": 7,
    "start_time": "2024-10-01T23:50:24.344Z"
   },
   {
    "duration": 16,
    "start_time": "2024-10-01T23:50:24.607Z"
   },
   {
    "duration": 5,
    "start_time": "2024-10-01T23:50:25.175Z"
   },
   {
    "duration": 15,
    "start_time": "2024-10-01T23:50:25.537Z"
   },
   {
    "duration": 12,
    "start_time": "2024-10-01T23:50:25.738Z"
   },
   {
    "duration": 10,
    "start_time": "2024-10-01T23:50:25.940Z"
   },
   {
    "duration": 10,
    "start_time": "2024-10-01T23:50:26.145Z"
   },
   {
    "duration": 20,
    "start_time": "2024-10-01T23:50:26.518Z"
   },
   {
    "duration": 7,
    "start_time": "2024-10-01T23:50:26.719Z"
   },
   {
    "duration": 8,
    "start_time": "2024-10-01T23:50:27.050Z"
   },
   {
    "duration": 20,
    "start_time": "2024-10-01T23:50:27.455Z"
   },
   {
    "duration": 9,
    "start_time": "2024-10-01T23:50:27.638Z"
   },
   {
    "duration": 8,
    "start_time": "2024-10-01T23:50:27.894Z"
   },
   {
    "duration": 2,
    "start_time": "2024-10-01T23:50:28.414Z"
   },
   {
    "duration": 15,
    "start_time": "2024-10-01T23:51:20.333Z"
   },
   {
    "duration": 13,
    "start_time": "2024-10-01T23:51:43.173Z"
   },
   {
    "duration": 7,
    "start_time": "2024-10-01T23:51:48.531Z"
   },
   {
    "duration": 6,
    "start_time": "2024-10-01T23:52:37.763Z"
   },
   {
    "duration": 63,
    "start_time": "2024-10-01T23:56:57.585Z"
   },
   {
    "duration": 3,
    "start_time": "2024-10-01T23:58:08.917Z"
   },
   {
    "duration": 10,
    "start_time": "2024-10-01T23:58:47.372Z"
   },
   {
    "duration": 5,
    "start_time": "2024-10-02T00:04:34.503Z"
   },
   {
    "duration": 14,
    "start_time": "2024-10-02T00:04:58.709Z"
   },
   {
    "duration": 747,
    "start_time": "2024-10-02T00:10:10.850Z"
   },
   {
    "duration": 160,
    "start_time": "2024-10-02T00:10:11.599Z"
   },
   {
    "duration": 11,
    "start_time": "2024-10-02T00:10:11.760Z"
   },
   {
    "duration": 5,
    "start_time": "2024-10-02T00:10:11.773Z"
   },
   {
    "duration": 9,
    "start_time": "2024-10-02T00:10:11.780Z"
   },
   {
    "duration": 8,
    "start_time": "2024-10-02T00:10:11.790Z"
   },
   {
    "duration": 4,
    "start_time": "2024-10-02T00:10:11.800Z"
   },
   {
    "duration": 4,
    "start_time": "2024-10-02T00:10:11.806Z"
   },
   {
    "duration": 4,
    "start_time": "2024-10-02T00:10:11.812Z"
   },
   {
    "duration": 4,
    "start_time": "2024-10-02T00:10:11.820Z"
   },
   {
    "duration": 52,
    "start_time": "2024-10-02T00:10:11.826Z"
   },
   {
    "duration": 16,
    "start_time": "2024-10-02T00:10:11.880Z"
   },
   {
    "duration": 4,
    "start_time": "2024-10-02T00:10:11.898Z"
   },
   {
    "duration": 87,
    "start_time": "2024-10-02T00:10:11.905Z"
   },
   {
    "duration": 16,
    "start_time": "2024-10-02T00:10:11.993Z"
   },
   {
    "duration": 30,
    "start_time": "2024-10-02T00:10:12.011Z"
   },
   {
    "duration": 32,
    "start_time": "2024-10-02T00:10:12.043Z"
   },
   {
    "duration": 8,
    "start_time": "2024-10-02T00:10:12.076Z"
   },
   {
    "duration": 18,
    "start_time": "2024-10-02T00:10:12.085Z"
   },
   {
    "duration": 12,
    "start_time": "2024-10-02T00:10:12.104Z"
   },
   {
    "duration": 4,
    "start_time": "2024-10-02T00:10:12.119Z"
   },
   {
    "duration": 61,
    "start_time": "2024-10-02T00:10:12.124Z"
   },
   {
    "duration": 10,
    "start_time": "2024-10-02T00:10:12.188Z"
   },
   {
    "duration": 15,
    "start_time": "2024-10-02T00:10:12.199Z"
   },
   {
    "duration": 12,
    "start_time": "2024-10-02T00:10:12.216Z"
   },
   {
    "duration": 5,
    "start_time": "2024-10-02T00:10:12.230Z"
   },
   {
    "duration": 43,
    "start_time": "2024-10-02T00:10:12.236Z"
   },
   {
    "duration": 13,
    "start_time": "2024-10-02T00:10:12.283Z"
   },
   {
    "duration": 6,
    "start_time": "2024-10-02T00:10:12.297Z"
   },
   {
    "duration": 67,
    "start_time": "2024-10-02T00:10:12.305Z"
   },
   {
    "duration": 13,
    "start_time": "2024-10-02T00:10:12.373Z"
   },
   {
    "duration": 35,
    "start_time": "2024-10-02T00:10:12.388Z"
   },
   {
    "duration": 15,
    "start_time": "2024-10-02T00:10:12.424Z"
   },
   {
    "duration": 31,
    "start_time": "2024-10-02T00:10:12.441Z"
   },
   {
    "duration": 16,
    "start_time": "2024-10-02T00:10:12.473Z"
   },
   {
    "duration": 4,
    "start_time": "2024-10-02T00:10:12.492Z"
   },
   {
    "duration": 23,
    "start_time": "2024-10-02T00:10:12.498Z"
   },
   {
    "duration": 10,
    "start_time": "2024-10-02T00:10:12.524Z"
   },
   {
    "duration": 42,
    "start_time": "2024-10-02T00:10:12.537Z"
   },
   {
    "duration": 7,
    "start_time": "2024-10-02T00:10:12.581Z"
   },
   {
    "duration": 11,
    "start_time": "2024-10-02T00:10:12.589Z"
   },
   {
    "duration": 10,
    "start_time": "2024-10-02T00:10:12.601Z"
   },
   {
    "duration": 16,
    "start_time": "2024-10-02T00:10:12.613Z"
   },
   {
    "duration": 9,
    "start_time": "2024-10-02T00:10:12.631Z"
   },
   {
    "duration": 7,
    "start_time": "2024-10-02T00:10:12.670Z"
   },
   {
    "duration": 144,
    "start_time": "2024-10-02T00:10:12.679Z"
   },
   {
    "duration": 0,
    "start_time": "2024-10-02T00:10:12.824Z"
   },
   {
    "duration": 0,
    "start_time": "2024-10-02T00:10:12.825Z"
   },
   {
    "duration": 0,
    "start_time": "2024-10-02T00:10:12.827Z"
   },
   {
    "duration": 0,
    "start_time": "2024-10-02T00:10:12.827Z"
   },
   {
    "duration": 0,
    "start_time": "2024-10-02T00:10:12.829Z"
   },
   {
    "duration": 0,
    "start_time": "2024-10-02T00:10:12.830Z"
   },
   {
    "duration": 0,
    "start_time": "2024-10-02T00:10:12.832Z"
   },
   {
    "duration": 0,
    "start_time": "2024-10-02T00:10:12.833Z"
   },
   {
    "duration": 0,
    "start_time": "2024-10-02T00:10:12.834Z"
   },
   {
    "duration": 0,
    "start_time": "2024-10-02T00:10:12.835Z"
   },
   {
    "duration": 0,
    "start_time": "2024-10-02T00:10:12.836Z"
   },
   {
    "duration": 0,
    "start_time": "2024-10-02T00:10:12.837Z"
   },
   {
    "duration": 0,
    "start_time": "2024-10-02T00:10:12.839Z"
   },
   {
    "duration": 3,
    "start_time": "2024-10-02T00:12:14.401Z"
   },
   {
    "duration": 9,
    "start_time": "2024-10-02T00:12:27.498Z"
   },
   {
    "duration": 5,
    "start_time": "2024-10-02T00:13:04.720Z"
   },
   {
    "duration": 13,
    "start_time": "2024-10-02T00:13:19.356Z"
   },
   {
    "duration": 20,
    "start_time": "2024-10-02T00:14:49.199Z"
   },
   {
    "duration": 19,
    "start_time": "2024-10-02T00:16:05.161Z"
   },
   {
    "duration": 2452,
    "start_time": "2024-10-02T16:46:02.422Z"
   },
   {
    "duration": 332,
    "start_time": "2024-10-02T16:46:04.876Z"
   },
   {
    "duration": 10,
    "start_time": "2024-10-02T16:46:05.209Z"
   },
   {
    "duration": 6,
    "start_time": "2024-10-02T16:46:05.221Z"
   },
   {
    "duration": 9,
    "start_time": "2024-10-02T16:46:05.228Z"
   },
   {
    "duration": 8,
    "start_time": "2024-10-02T16:46:05.239Z"
   },
   {
    "duration": 6,
    "start_time": "2024-10-02T16:46:05.249Z"
   },
   {
    "duration": 3,
    "start_time": "2024-10-02T16:46:05.257Z"
   },
   {
    "duration": 4,
    "start_time": "2024-10-02T16:46:05.262Z"
   },
   {
    "duration": 4,
    "start_time": "2024-10-02T16:46:05.272Z"
   },
   {
    "duration": 10,
    "start_time": "2024-10-02T16:46:05.278Z"
   },
   {
    "duration": 15,
    "start_time": "2024-10-02T16:46:05.290Z"
   },
   {
    "duration": 5,
    "start_time": "2024-10-02T16:46:05.306Z"
   },
   {
    "duration": 93,
    "start_time": "2024-10-02T16:46:05.313Z"
   },
   {
    "duration": 17,
    "start_time": "2024-10-02T16:46:05.408Z"
   },
   {
    "duration": 44,
    "start_time": "2024-10-02T16:46:05.426Z"
   },
   {
    "duration": 16,
    "start_time": "2024-10-02T16:46:05.472Z"
   },
   {
    "duration": 8,
    "start_time": "2024-10-02T16:46:05.490Z"
   },
   {
    "duration": 18,
    "start_time": "2024-10-02T16:46:05.499Z"
   },
   {
    "duration": 12,
    "start_time": "2024-10-02T16:46:05.518Z"
   },
   {
    "duration": 4,
    "start_time": "2024-10-02T16:46:05.531Z"
   },
   {
    "duration": 69,
    "start_time": "2024-10-02T16:46:05.537Z"
   },
   {
    "duration": 10,
    "start_time": "2024-10-02T16:46:05.608Z"
   },
   {
    "duration": 14,
    "start_time": "2024-10-02T16:46:05.620Z"
   },
   {
    "duration": 33,
    "start_time": "2024-10-02T16:46:05.637Z"
   },
   {
    "duration": 6,
    "start_time": "2024-10-02T16:46:05.672Z"
   },
   {
    "duration": 14,
    "start_time": "2024-10-02T16:46:05.680Z"
   },
   {
    "duration": 14,
    "start_time": "2024-10-02T16:46:05.699Z"
   },
   {
    "duration": 5,
    "start_time": "2024-10-02T16:46:05.715Z"
   },
   {
    "duration": 78,
    "start_time": "2024-10-02T16:46:05.722Z"
   },
   {
    "duration": 14,
    "start_time": "2024-10-02T16:46:05.802Z"
   },
   {
    "duration": 34,
    "start_time": "2024-10-02T16:46:05.818Z"
   },
   {
    "duration": 13,
    "start_time": "2024-10-02T16:46:05.871Z"
   },
   {
    "duration": 6,
    "start_time": "2024-10-02T16:46:05.886Z"
   },
   {
    "duration": 15,
    "start_time": "2024-10-02T16:46:05.894Z"
   },
   {
    "duration": 4,
    "start_time": "2024-10-02T16:46:05.911Z"
   },
   {
    "duration": 18,
    "start_time": "2024-10-02T16:46:05.917Z"
   },
   {
    "duration": 38,
    "start_time": "2024-10-02T16:46:05.937Z"
   },
   {
    "duration": 14,
    "start_time": "2024-10-02T16:46:05.976Z"
   },
   {
    "duration": 6,
    "start_time": "2024-10-02T16:46:05.992Z"
   },
   {
    "duration": 10,
    "start_time": "2024-10-02T16:46:05.999Z"
   },
   {
    "duration": 11,
    "start_time": "2024-10-02T16:46:06.011Z"
   },
   {
    "duration": 46,
    "start_time": "2024-10-02T16:46:06.024Z"
   },
   {
    "duration": 9,
    "start_time": "2024-10-02T16:46:06.072Z"
   },
   {
    "duration": 7,
    "start_time": "2024-10-02T16:46:06.083Z"
   },
   {
    "duration": 4,
    "start_time": "2024-10-02T16:46:06.093Z"
   },
   {
    "duration": 7,
    "start_time": "2024-10-02T16:46:06.099Z"
   },
   {
    "duration": 5,
    "start_time": "2024-10-02T16:46:06.109Z"
   },
   {
    "duration": 12,
    "start_time": "2024-10-02T16:46:06.116Z"
   },
   {
    "duration": 193,
    "start_time": "2024-10-02T16:46:06.130Z"
   },
   {
    "duration": 0,
    "start_time": "2024-10-02T16:46:06.325Z"
   },
   {
    "duration": 0,
    "start_time": "2024-10-02T16:46:06.326Z"
   },
   {
    "duration": 0,
    "start_time": "2024-10-02T16:46:06.328Z"
   },
   {
    "duration": 0,
    "start_time": "2024-10-02T16:46:06.329Z"
   },
   {
    "duration": 0,
    "start_time": "2024-10-02T16:46:06.330Z"
   },
   {
    "duration": 0,
    "start_time": "2024-10-02T16:46:06.331Z"
   },
   {
    "duration": 0,
    "start_time": "2024-10-02T16:46:06.332Z"
   },
   {
    "duration": 0,
    "start_time": "2024-10-02T16:46:06.334Z"
   },
   {
    "duration": 0,
    "start_time": "2024-10-02T16:46:06.335Z"
   },
   {
    "duration": 7,
    "start_time": "2024-10-02T16:53:25.252Z"
   },
   {
    "duration": 13,
    "start_time": "2024-10-02T16:53:26.786Z"
   },
   {
    "duration": 8,
    "start_time": "2024-10-02T16:55:31.410Z"
   },
   {
    "duration": 18,
    "start_time": "2024-10-02T16:55:40.720Z"
   },
   {
    "duration": 13,
    "start_time": "2024-10-02T16:56:01.175Z"
   },
   {
    "duration": 7,
    "start_time": "2024-10-02T16:57:37.929Z"
   },
   {
    "duration": 6,
    "start_time": "2024-10-02T17:08:58.350Z"
   },
   {
    "duration": 25,
    "start_time": "2024-10-02T17:12:19.744Z"
   },
   {
    "duration": 5,
    "start_time": "2024-10-02T17:32:36.388Z"
   },
   {
    "duration": 106,
    "start_time": "2024-10-02T17:36:57.922Z"
   },
   {
    "duration": 29888,
    "start_time": "2024-10-02T17:37:08.319Z"
   },
   {
    "duration": 30057,
    "start_time": "2024-10-02T17:38:01.660Z"
   },
   {
    "duration": 31161,
    "start_time": "2024-10-02T17:40:18.724Z"
   },
   {
    "duration": 2634,
    "start_time": "2024-10-02T19:38:00.536Z"
   },
   {
    "duration": 291,
    "start_time": "2024-10-02T19:38:03.172Z"
   },
   {
    "duration": 9,
    "start_time": "2024-10-02T19:38:03.465Z"
   },
   {
    "duration": 7,
    "start_time": "2024-10-02T19:38:03.478Z"
   },
   {
    "duration": 11,
    "start_time": "2024-10-02T19:38:03.487Z"
   },
   {
    "duration": 8,
    "start_time": "2024-10-02T19:38:03.501Z"
   },
   {
    "duration": 7,
    "start_time": "2024-10-02T19:38:03.531Z"
   },
   {
    "duration": 4,
    "start_time": "2024-10-02T19:38:03.540Z"
   },
   {
    "duration": 5,
    "start_time": "2024-10-02T19:38:03.545Z"
   },
   {
    "duration": 4,
    "start_time": "2024-10-02T19:38:03.553Z"
   },
   {
    "duration": 11,
    "start_time": "2024-10-02T19:38:03.559Z"
   },
   {
    "duration": 679,
    "start_time": "2024-10-02T19:38:03.572Z"
   },
   {
    "duration": 0,
    "start_time": "2024-10-02T19:38:04.254Z"
   },
   {
    "duration": 0,
    "start_time": "2024-10-02T19:38:04.256Z"
   },
   {
    "duration": 0,
    "start_time": "2024-10-02T19:38:04.257Z"
   },
   {
    "duration": 0,
    "start_time": "2024-10-02T19:38:04.258Z"
   },
   {
    "duration": 0,
    "start_time": "2024-10-02T19:38:04.260Z"
   },
   {
    "duration": 0,
    "start_time": "2024-10-02T19:38:04.261Z"
   },
   {
    "duration": 0,
    "start_time": "2024-10-02T19:38:04.263Z"
   },
   {
    "duration": 0,
    "start_time": "2024-10-02T19:38:04.264Z"
   },
   {
    "duration": 0,
    "start_time": "2024-10-02T19:38:04.265Z"
   },
   {
    "duration": 0,
    "start_time": "2024-10-02T19:38:04.267Z"
   },
   {
    "duration": 0,
    "start_time": "2024-10-02T19:38:04.269Z"
   },
   {
    "duration": 0,
    "start_time": "2024-10-02T19:38:04.270Z"
   },
   {
    "duration": 0,
    "start_time": "2024-10-02T19:38:04.271Z"
   },
   {
    "duration": 0,
    "start_time": "2024-10-02T19:38:04.274Z"
   },
   {
    "duration": 0,
    "start_time": "2024-10-02T19:38:04.275Z"
   },
   {
    "duration": 0,
    "start_time": "2024-10-02T19:38:04.277Z"
   },
   {
    "duration": 0,
    "start_time": "2024-10-02T19:38:04.278Z"
   },
   {
    "duration": 0,
    "start_time": "2024-10-02T19:38:04.279Z"
   },
   {
    "duration": 0,
    "start_time": "2024-10-02T19:38:04.281Z"
   },
   {
    "duration": 0,
    "start_time": "2024-10-02T19:38:04.282Z"
   },
   {
    "duration": 0,
    "start_time": "2024-10-02T19:38:04.283Z"
   },
   {
    "duration": 0,
    "start_time": "2024-10-02T19:38:04.284Z"
   },
   {
    "duration": 0,
    "start_time": "2024-10-02T19:38:04.285Z"
   },
   {
    "duration": 0,
    "start_time": "2024-10-02T19:38:04.286Z"
   },
   {
    "duration": 0,
    "start_time": "2024-10-02T19:38:04.333Z"
   },
   {
    "duration": 0,
    "start_time": "2024-10-02T19:38:04.334Z"
   },
   {
    "duration": 0,
    "start_time": "2024-10-02T19:38:04.335Z"
   },
   {
    "duration": 0,
    "start_time": "2024-10-02T19:38:04.335Z"
   },
   {
    "duration": 0,
    "start_time": "2024-10-02T19:38:04.336Z"
   },
   {
    "duration": 0,
    "start_time": "2024-10-02T19:38:04.337Z"
   },
   {
    "duration": 0,
    "start_time": "2024-10-02T19:38:04.338Z"
   },
   {
    "duration": 0,
    "start_time": "2024-10-02T19:38:04.339Z"
   },
   {
    "duration": 0,
    "start_time": "2024-10-02T19:38:04.340Z"
   },
   {
    "duration": 0,
    "start_time": "2024-10-02T19:38:04.341Z"
   },
   {
    "duration": 0,
    "start_time": "2024-10-02T19:38:04.342Z"
   },
   {
    "duration": 0,
    "start_time": "2024-10-02T19:38:04.343Z"
   },
   {
    "duration": 0,
    "start_time": "2024-10-02T19:38:04.344Z"
   },
   {
    "duration": 0,
    "start_time": "2024-10-02T19:38:04.345Z"
   },
   {
    "duration": 0,
    "start_time": "2024-10-02T19:38:04.346Z"
   },
   {
    "duration": 0,
    "start_time": "2024-10-02T19:38:04.348Z"
   },
   {
    "duration": 0,
    "start_time": "2024-10-02T19:38:04.349Z"
   },
   {
    "duration": 0,
    "start_time": "2024-10-02T19:38:04.350Z"
   },
   {
    "duration": 0,
    "start_time": "2024-10-02T19:38:04.351Z"
   },
   {
    "duration": 0,
    "start_time": "2024-10-02T19:38:04.352Z"
   },
   {
    "duration": 0,
    "start_time": "2024-10-02T19:38:04.353Z"
   },
   {
    "duration": 0,
    "start_time": "2024-10-02T19:38:04.355Z"
   },
   {
    "duration": 0,
    "start_time": "2024-10-02T19:38:04.357Z"
   },
   {
    "duration": 0,
    "start_time": "2024-10-02T19:38:04.358Z"
   },
   {
    "duration": 0,
    "start_time": "2024-10-02T19:38:04.359Z"
   },
   {
    "duration": 0,
    "start_time": "2024-10-02T19:38:04.360Z"
   },
   {
    "duration": 0,
    "start_time": "2024-10-02T19:38:04.361Z"
   },
   {
    "duration": 0,
    "start_time": "2024-10-02T19:38:04.362Z"
   },
   {
    "duration": 0,
    "start_time": "2024-10-02T19:38:04.363Z"
   },
   {
    "duration": 0,
    "start_time": "2024-10-02T19:38:04.364Z"
   },
   {
    "duration": 0,
    "start_time": "2024-10-02T19:38:04.365Z"
   },
   {
    "duration": 0,
    "start_time": "2024-10-02T19:38:04.366Z"
   },
   {
    "duration": 0,
    "start_time": "2024-10-02T19:38:04.367Z"
   },
   {
    "duration": 0,
    "start_time": "2024-10-02T19:38:04.368Z"
   },
   {
    "duration": 0,
    "start_time": "2024-10-02T19:38:04.369Z"
   },
   {
    "duration": 0,
    "start_time": "2024-10-02T19:38:04.370Z"
   },
   {
    "duration": 16,
    "start_time": "2024-10-02T19:38:17.242Z"
   },
   {
    "duration": 4,
    "start_time": "2024-10-02T19:38:17.880Z"
   },
   {
    "duration": 63,
    "start_time": "2024-10-02T19:38:22.429Z"
   },
   {
    "duration": 17,
    "start_time": "2024-10-02T19:38:22.926Z"
   },
   {
    "duration": 32,
    "start_time": "2024-10-02T19:38:23.728Z"
   },
   {
    "duration": 17,
    "start_time": "2024-10-02T19:38:23.912Z"
   },
   {
    "duration": 8,
    "start_time": "2024-10-02T19:38:24.441Z"
   },
   {
    "duration": 19,
    "start_time": "2024-10-02T19:38:24.627Z"
   },
   {
    "duration": 14,
    "start_time": "2024-10-02T19:38:24.974Z"
   },
   {
    "duration": 5,
    "start_time": "2024-10-02T19:38:25.195Z"
   },
   {
    "duration": 35,
    "start_time": "2024-10-02T19:38:25.858Z"
   },
   {
    "duration": 11,
    "start_time": "2024-10-02T19:38:26.050Z"
   },
   {
    "duration": 16,
    "start_time": "2024-10-02T19:38:26.252Z"
   },
   {
    "duration": 12,
    "start_time": "2024-10-02T19:38:26.440Z"
   },
   {
    "duration": 6,
    "start_time": "2024-10-02T19:38:31.466Z"
   },
   {
    "duration": 15,
    "start_time": "2024-10-02T19:38:31.656Z"
   },
   {
    "duration": 14,
    "start_time": "2024-10-02T19:38:32.024Z"
   },
   {
    "duration": 5,
    "start_time": "2024-10-02T19:38:32.214Z"
   },
   {
    "duration": 49,
    "start_time": "2024-10-02T19:38:32.924Z"
   },
   {
    "duration": 13,
    "start_time": "2024-10-02T19:38:33.087Z"
   },
   {
    "duration": 36,
    "start_time": "2024-10-02T19:38:37.121Z"
   },
   {
    "duration": 14,
    "start_time": "2024-10-02T19:38:37.308Z"
   },
   {
    "duration": 7,
    "start_time": "2024-10-02T19:38:39.400Z"
   },
   {
    "duration": 16,
    "start_time": "2024-10-02T19:38:40.238Z"
   },
   {
    "duration": 5,
    "start_time": "2024-10-02T19:38:43.101Z"
   },
   {
    "duration": 20,
    "start_time": "2024-10-02T19:38:56.497Z"
   },
   {
    "duration": 8,
    "start_time": "2024-10-02T19:38:57.126Z"
   },
   {
    "duration": 18,
    "start_time": "2024-10-02T19:38:58.132Z"
   },
   {
    "duration": 7,
    "start_time": "2024-10-02T19:38:58.802Z"
   },
   {
    "duration": 11,
    "start_time": "2024-10-02T19:38:59.405Z"
   },
   {
    "duration": 13,
    "start_time": "2024-10-02T19:39:00.258Z"
   },
   {
    "duration": 17,
    "start_time": "2024-10-02T19:39:01.630Z"
   },
   {
    "duration": 8,
    "start_time": "2024-10-02T19:39:02.567Z"
   },
   {
    "duration": 9,
    "start_time": "2024-10-02T19:39:03.732Z"
   },
   {
    "duration": 4,
    "start_time": "2024-10-02T19:39:05.183Z"
   },
   {
    "duration": 8,
    "start_time": "2024-10-02T19:39:06.742Z"
   },
   {
    "duration": 5,
    "start_time": "2024-10-02T19:39:07.848Z"
   },
   {
    "duration": 12,
    "start_time": "2024-10-02T19:39:08.674Z"
   },
   {
    "duration": 7,
    "start_time": "2024-10-02T19:39:09.222Z"
   },
   {
    "duration": 23,
    "start_time": "2024-10-02T19:39:11.016Z"
   },
   {
    "duration": 9,
    "start_time": "2024-10-02T19:43:09.329Z"
   },
   {
    "duration": 4,
    "start_time": "2024-10-02T19:47:33.168Z"
   },
   {
    "duration": 81,
    "start_time": "2024-10-02T19:54:54.173Z"
   },
   {
    "duration": 2693,
    "start_time": "2024-10-02T20:22:31.838Z"
   },
   {
    "duration": 244,
    "start_time": "2024-10-02T20:22:34.534Z"
   },
   {
    "duration": 10,
    "start_time": "2024-10-02T20:22:34.780Z"
   },
   {
    "duration": 7,
    "start_time": "2024-10-02T20:22:34.792Z"
   },
   {
    "duration": 10,
    "start_time": "2024-10-02T20:22:34.801Z"
   },
   {
    "duration": 8,
    "start_time": "2024-10-02T20:22:34.812Z"
   },
   {
    "duration": 14,
    "start_time": "2024-10-02T20:22:34.821Z"
   },
   {
    "duration": 3,
    "start_time": "2024-10-02T20:22:34.837Z"
   },
   {
    "duration": 3,
    "start_time": "2024-10-02T20:22:34.842Z"
   },
   {
    "duration": 5,
    "start_time": "2024-10-02T20:22:34.848Z"
   },
   {
    "duration": 12,
    "start_time": "2024-10-02T20:22:34.854Z"
   },
   {
    "duration": 14,
    "start_time": "2024-10-02T20:22:34.868Z"
   },
   {
    "duration": 4,
    "start_time": "2024-10-02T20:22:34.884Z"
   },
   {
    "duration": 101,
    "start_time": "2024-10-02T20:22:34.890Z"
   },
   {
    "duration": 19,
    "start_time": "2024-10-02T20:22:34.992Z"
   },
   {
    "duration": 47,
    "start_time": "2024-10-02T20:22:35.013Z"
   },
   {
    "duration": 16,
    "start_time": "2024-10-02T20:22:35.062Z"
   },
   {
    "duration": 8,
    "start_time": "2024-10-02T20:22:35.080Z"
   },
   {
    "duration": 44,
    "start_time": "2024-10-02T20:22:35.090Z"
   },
   {
    "duration": 12,
    "start_time": "2024-10-02T20:22:35.137Z"
   },
   {
    "duration": 4,
    "start_time": "2024-10-02T20:22:35.150Z"
   },
   {
    "duration": 36,
    "start_time": "2024-10-02T20:22:35.157Z"
   },
   {
    "duration": 36,
    "start_time": "2024-10-02T20:22:35.195Z"
   },
   {
    "duration": 16,
    "start_time": "2024-10-02T20:22:35.233Z"
   },
   {
    "duration": 12,
    "start_time": "2024-10-02T20:22:35.250Z"
   },
   {
    "duration": 6,
    "start_time": "2024-10-02T20:22:35.264Z"
   },
   {
    "duration": 14,
    "start_time": "2024-10-02T20:22:35.271Z"
   },
   {
    "duration": 45,
    "start_time": "2024-10-02T20:22:35.291Z"
   },
   {
    "duration": 5,
    "start_time": "2024-10-02T20:22:35.339Z"
   },
   {
    "duration": 52,
    "start_time": "2024-10-02T20:22:35.346Z"
   },
   {
    "duration": 31,
    "start_time": "2024-10-02T20:22:35.400Z"
   },
   {
    "duration": 35,
    "start_time": "2024-10-02T20:22:35.433Z"
   },
   {
    "duration": 14,
    "start_time": "2024-10-02T20:22:35.471Z"
   },
   {
    "duration": 6,
    "start_time": "2024-10-02T20:22:35.487Z"
   },
   {
    "duration": 41,
    "start_time": "2024-10-02T20:22:35.495Z"
   },
   {
    "duration": 5,
    "start_time": "2024-10-02T20:22:35.538Z"
   },
   {
    "duration": 20,
    "start_time": "2024-10-02T20:22:35.544Z"
   },
   {
    "duration": 7,
    "start_time": "2024-10-02T20:22:35.566Z"
   },
   {
    "duration": 16,
    "start_time": "2024-10-02T20:22:35.575Z"
   },
   {
    "duration": 6,
    "start_time": "2024-10-02T20:22:35.593Z"
   },
   {
    "duration": 11,
    "start_time": "2024-10-02T20:22:35.632Z"
   },
   {
    "duration": 10,
    "start_time": "2024-10-02T20:22:35.645Z"
   },
   {
    "duration": 16,
    "start_time": "2024-10-02T20:22:35.657Z"
   },
   {
    "duration": 7,
    "start_time": "2024-10-02T20:22:35.675Z"
   },
   {
    "duration": 8,
    "start_time": "2024-10-02T20:22:35.683Z"
   },
   {
    "duration": 4,
    "start_time": "2024-10-02T20:22:35.692Z"
   },
   {
    "duration": 8,
    "start_time": "2024-10-02T20:22:35.732Z"
   },
   {
    "duration": 6,
    "start_time": "2024-10-02T20:22:35.742Z"
   },
   {
    "duration": 12,
    "start_time": "2024-10-02T20:22:35.749Z"
   },
   {
    "duration": 6,
    "start_time": "2024-10-02T20:22:35.763Z"
   },
   {
    "duration": 24,
    "start_time": "2024-10-02T20:22:35.770Z"
   },
   {
    "duration": 37,
    "start_time": "2024-10-02T20:22:35.796Z"
   },
   {
    "duration": 520,
    "start_time": "2024-10-02T20:22:35.835Z"
   },
   {
    "duration": 0,
    "start_time": "2024-10-02T20:22:36.357Z"
   },
   {
    "duration": 1,
    "start_time": "2024-10-02T20:22:36.358Z"
   },
   {
    "duration": 0,
    "start_time": "2024-10-02T20:22:36.359Z"
   },
   {
    "duration": 0,
    "start_time": "2024-10-02T20:22:36.361Z"
   },
   {
    "duration": 0,
    "start_time": "2024-10-02T20:22:36.362Z"
   },
   {
    "duration": 0,
    "start_time": "2024-10-02T20:22:36.363Z"
   },
   {
    "duration": 0,
    "start_time": "2024-10-02T20:22:36.365Z"
   },
   {
    "duration": 0,
    "start_time": "2024-10-02T20:22:36.367Z"
   },
   {
    "duration": 0,
    "start_time": "2024-10-02T20:22:36.368Z"
   },
   {
    "duration": 0,
    "start_time": "2024-10-02T20:22:36.369Z"
   },
   {
    "duration": 0,
    "start_time": "2024-10-02T20:22:36.371Z"
   },
   {
    "duration": 0,
    "start_time": "2024-10-02T20:22:36.372Z"
   },
   {
    "duration": 0,
    "start_time": "2024-10-02T20:22:36.373Z"
   },
   {
    "duration": 0,
    "start_time": "2024-10-02T20:22:36.375Z"
   },
   {
    "duration": 0,
    "start_time": "2024-10-02T20:22:36.376Z"
   },
   {
    "duration": 0,
    "start_time": "2024-10-02T20:22:36.377Z"
   },
   {
    "duration": 0,
    "start_time": "2024-10-02T20:22:36.378Z"
   },
   {
    "duration": 0,
    "start_time": "2024-10-02T20:22:36.380Z"
   },
   {
    "duration": 31411,
    "start_time": "2024-10-02T20:24:20.913Z"
   },
   {
    "duration": 217,
    "start_time": "2024-10-02T20:26:28.854Z"
   },
   {
    "duration": 13,
    "start_time": "2024-10-02T20:27:49.734Z"
   },
   {
    "duration": 294,
    "start_time": "2024-10-02T20:29:34.214Z"
   },
   {
    "duration": 213,
    "start_time": "2024-10-02T20:30:38.734Z"
   },
   {
    "duration": 219,
    "start_time": "2024-10-02T20:31:18.125Z"
   },
   {
    "duration": 6021,
    "start_time": "2024-10-02T20:31:40.628Z"
   },
   {
    "duration": 5593,
    "start_time": "2024-10-02T20:32:00.685Z"
   },
   {
    "duration": 114,
    "start_time": "2024-10-02T20:32:43.139Z"
   },
   {
    "duration": 6,
    "start_time": "2024-10-02T20:37:00.405Z"
   },
   {
    "duration": 3,
    "start_time": "2024-10-02T20:37:59.259Z"
   },
   {
    "duration": 12,
    "start_time": "2024-10-02T20:38:38.624Z"
   },
   {
    "duration": 75,
    "start_time": "2024-10-02T20:39:25.267Z"
   },
   {
    "duration": 5541,
    "start_time": "2024-10-02T20:47:40.334Z"
   },
   {
    "duration": 112,
    "start_time": "2024-10-02T20:48:28.422Z"
   },
   {
    "duration": 3,
    "start_time": "2024-10-02T20:49:11.910Z"
   },
   {
    "duration": 3,
    "start_time": "2024-10-02T20:49:49.970Z"
   },
   {
    "duration": 5,
    "start_time": "2024-10-02T20:50:17.275Z"
   },
   {
    "duration": 71,
    "start_time": "2024-10-02T20:50:33.833Z"
   },
   {
    "duration": 6185,
    "start_time": "2024-10-02T20:51:50.673Z"
   },
   {
    "duration": 124,
    "start_time": "2024-10-02T20:52:23.030Z"
   },
   {
    "duration": 5,
    "start_time": "2024-10-02T20:53:04.474Z"
   },
   {
    "duration": 4,
    "start_time": "2024-10-02T20:53:34.823Z"
   },
   {
    "duration": 72,
    "start_time": "2024-10-02T20:54:03.974Z"
   },
   {
    "duration": 8,
    "start_time": "2024-10-04T21:36:45.780Z"
   },
   {
    "duration": 158,
    "start_time": "2024-10-08T00:28:43.964Z"
   },
   {
    "duration": 16,
    "start_time": "2024-10-08T00:28:54.682Z"
   },
   {
    "duration": 2457,
    "start_time": "2024-10-08T00:29:10.360Z"
   },
   {
    "duration": 269,
    "start_time": "2024-10-08T00:29:12.819Z"
   },
   {
    "duration": 10,
    "start_time": "2024-10-08T00:29:13.089Z"
   },
   {
    "duration": 7,
    "start_time": "2024-10-08T00:29:13.101Z"
   },
   {
    "duration": 9,
    "start_time": "2024-10-08T00:29:13.110Z"
   },
   {
    "duration": 7,
    "start_time": "2024-10-08T00:29:13.121Z"
   },
   {
    "duration": 5,
    "start_time": "2024-10-08T00:29:13.130Z"
   },
   {
    "duration": 3,
    "start_time": "2024-10-08T00:29:13.137Z"
   },
   {
    "duration": 3,
    "start_time": "2024-10-08T00:29:13.142Z"
   },
   {
    "duration": 5,
    "start_time": "2024-10-08T00:29:13.147Z"
   },
   {
    "duration": 11,
    "start_time": "2024-10-08T00:29:13.153Z"
   },
   {
    "duration": 47,
    "start_time": "2024-10-08T00:29:13.166Z"
   },
   {
    "duration": 5,
    "start_time": "2024-10-08T00:29:13.215Z"
   },
   {
    "duration": 61,
    "start_time": "2024-10-08T00:29:13.224Z"
   },
   {
    "duration": 34,
    "start_time": "2024-10-08T00:29:13.287Z"
   },
   {
    "duration": 31,
    "start_time": "2024-10-08T00:29:13.323Z"
   },
   {
    "duration": 15,
    "start_time": "2024-10-08T00:29:13.356Z"
   },
   {
    "duration": 8,
    "start_time": "2024-10-08T00:29:13.372Z"
   },
   {
    "duration": 42,
    "start_time": "2024-10-08T00:29:13.381Z"
   },
   {
    "duration": 11,
    "start_time": "2024-10-08T00:29:13.425Z"
   },
   {
    "duration": 4,
    "start_time": "2024-10-08T00:29:13.438Z"
   },
   {
    "duration": 35,
    "start_time": "2024-10-08T00:29:13.444Z"
   },
   {
    "duration": 36,
    "start_time": "2024-10-08T00:29:13.480Z"
   },
   {
    "duration": 16,
    "start_time": "2024-10-08T00:29:13.518Z"
   },
   {
    "duration": 12,
    "start_time": "2024-10-08T00:29:13.536Z"
   },
   {
    "duration": 5,
    "start_time": "2024-10-08T00:29:13.549Z"
   },
   {
    "duration": 13,
    "start_time": "2024-10-08T00:29:13.556Z"
   },
   {
    "duration": 42,
    "start_time": "2024-10-08T00:29:13.571Z"
   },
   {
    "duration": 5,
    "start_time": "2024-10-08T00:29:13.614Z"
   },
   {
    "duration": 47,
    "start_time": "2024-10-08T00:29:13.622Z"
   },
   {
    "duration": 14,
    "start_time": "2024-10-08T00:29:13.671Z"
   },
   {
    "duration": 57,
    "start_time": "2024-10-08T00:29:13.686Z"
   },
   {
    "duration": 15,
    "start_time": "2024-10-08T00:29:13.745Z"
   },
   {
    "duration": 6,
    "start_time": "2024-10-08T00:29:13.762Z"
   },
   {
    "duration": 42,
    "start_time": "2024-10-08T00:29:13.770Z"
   },
   {
    "duration": 5,
    "start_time": "2024-10-08T00:29:13.814Z"
   },
   {
    "duration": 20,
    "start_time": "2024-10-08T00:29:13.821Z"
   },
   {
    "duration": 7,
    "start_time": "2024-10-08T00:29:13.843Z"
   },
   {
    "duration": 15,
    "start_time": "2024-10-08T00:29:13.853Z"
   },
   {
    "duration": 9,
    "start_time": "2024-10-08T00:29:13.870Z"
   },
   {
    "duration": 10,
    "start_time": "2024-10-08T00:29:13.913Z"
   },
   {
    "duration": 11,
    "start_time": "2024-10-08T00:29:13.925Z"
   },
   {
    "duration": 74,
    "start_time": "2024-10-08T00:29:13.938Z"
   },
   {
    "duration": 7,
    "start_time": "2024-10-08T00:29:14.013Z"
   },
   {
    "duration": 7,
    "start_time": "2024-10-08T00:29:14.022Z"
   },
   {
    "duration": 4,
    "start_time": "2024-10-08T00:29:14.030Z"
   },
   {
    "duration": 9,
    "start_time": "2024-10-08T00:29:14.035Z"
   },
   {
    "duration": 7,
    "start_time": "2024-10-08T00:29:14.045Z"
   },
   {
    "duration": 12,
    "start_time": "2024-10-08T00:29:14.054Z"
   },
   {
    "duration": 45,
    "start_time": "2024-10-08T00:29:14.068Z"
   },
   {
    "duration": 23,
    "start_time": "2024-10-08T00:29:14.115Z"
   },
   {
    "duration": 4,
    "start_time": "2024-10-08T00:29:14.140Z"
   },
   {
    "duration": 502,
    "start_time": "2024-10-08T00:29:14.146Z"
   },
   {
    "duration": 0,
    "start_time": "2024-10-08T00:29:14.650Z"
   },
   {
    "duration": 0,
    "start_time": "2024-10-08T00:29:14.652Z"
   },
   {
    "duration": 0,
    "start_time": "2024-10-08T00:29:14.653Z"
   },
   {
    "duration": 0,
    "start_time": "2024-10-08T00:29:14.655Z"
   },
   {
    "duration": 0,
    "start_time": "2024-10-08T00:29:14.656Z"
   },
   {
    "duration": 0,
    "start_time": "2024-10-08T00:29:14.657Z"
   },
   {
    "duration": 0,
    "start_time": "2024-10-08T00:29:14.658Z"
   },
   {
    "duration": 0,
    "start_time": "2024-10-08T00:29:14.659Z"
   },
   {
    "duration": 0,
    "start_time": "2024-10-08T00:29:14.660Z"
   },
   {
    "duration": 0,
    "start_time": "2024-10-08T00:29:14.661Z"
   },
   {
    "duration": 0,
    "start_time": "2024-10-08T00:29:14.662Z"
   },
   {
    "duration": 0,
    "start_time": "2024-10-08T00:29:14.663Z"
   },
   {
    "duration": 0,
    "start_time": "2024-10-08T00:29:14.664Z"
   },
   {
    "duration": 0,
    "start_time": "2024-10-08T00:29:14.665Z"
   },
   {
    "duration": 0,
    "start_time": "2024-10-08T00:29:14.666Z"
   },
   {
    "duration": 0,
    "start_time": "2024-10-08T00:29:14.667Z"
   },
   {
    "duration": 0,
    "start_time": "2024-10-08T00:29:14.668Z"
   },
   {
    "duration": 0,
    "start_time": "2024-10-08T00:29:14.669Z"
   },
   {
    "duration": 0,
    "start_time": "2024-10-08T00:29:14.713Z"
   },
   {
    "duration": 0,
    "start_time": "2024-10-08T00:29:14.715Z"
   },
   {
    "duration": 0,
    "start_time": "2024-10-08T00:29:14.716Z"
   },
   {
    "duration": 77,
    "start_time": "2024-10-08T00:29:43.483Z"
   },
   {
    "duration": 3,
    "start_time": "2024-10-08T00:30:33.519Z"
   },
   {
    "duration": 158,
    "start_time": "2024-10-08T00:30:33.530Z"
   },
   {
    "duration": 8,
    "start_time": "2024-10-08T00:30:33.691Z"
   },
   {
    "duration": 11,
    "start_time": "2024-10-08T00:30:33.701Z"
   },
   {
    "duration": 10,
    "start_time": "2024-10-08T00:30:33.714Z"
   },
   {
    "duration": 8,
    "start_time": "2024-10-08T00:30:33.727Z"
   },
   {
    "duration": 5,
    "start_time": "2024-10-08T00:30:33.737Z"
   },
   {
    "duration": 3,
    "start_time": "2024-10-08T00:30:33.744Z"
   },
   {
    "duration": 4,
    "start_time": "2024-10-08T00:30:33.748Z"
   },
   {
    "duration": 4,
    "start_time": "2024-10-08T00:30:33.754Z"
   },
   {
    "duration": 10,
    "start_time": "2024-10-08T00:30:33.760Z"
   },
   {
    "duration": 16,
    "start_time": "2024-10-08T00:30:33.813Z"
   },
   {
    "duration": 5,
    "start_time": "2024-10-08T00:30:33.831Z"
   },
   {
    "duration": 81,
    "start_time": "2024-10-08T00:30:33.838Z"
   },
   {
    "duration": 17,
    "start_time": "2024-10-08T00:30:33.921Z"
   },
   {
    "duration": 31,
    "start_time": "2024-10-08T00:30:33.939Z"
   },
   {
    "duration": 41,
    "start_time": "2024-10-08T00:30:33.973Z"
   },
   {
    "duration": 8,
    "start_time": "2024-10-08T00:30:34.016Z"
   },
   {
    "duration": 18,
    "start_time": "2024-10-08T00:30:34.026Z"
   },
   {
    "duration": 12,
    "start_time": "2024-10-08T00:30:34.046Z"
   },
   {
    "duration": 4,
    "start_time": "2024-10-08T00:30:34.060Z"
   },
   {
    "duration": 67,
    "start_time": "2024-10-08T00:30:34.067Z"
   },
   {
    "duration": 10,
    "start_time": "2024-10-08T00:30:34.138Z"
   },
   {
    "duration": 16,
    "start_time": "2024-10-08T00:30:34.149Z"
   },
   {
    "duration": 16,
    "start_time": "2024-10-08T00:30:34.166Z"
   },
   {
    "duration": 30,
    "start_time": "2024-10-08T00:30:34.185Z"
   },
   {
    "duration": 17,
    "start_time": "2024-10-08T00:30:34.217Z"
   },
   {
    "duration": 13,
    "start_time": "2024-10-08T00:30:34.236Z"
   },
   {
    "duration": 5,
    "start_time": "2024-10-08T00:30:34.251Z"
   },
   {
    "duration": 75,
    "start_time": "2024-10-08T00:30:34.257Z"
   },
   {
    "duration": 13,
    "start_time": "2024-10-08T00:30:34.335Z"
   },
   {
    "duration": 33,
    "start_time": "2024-10-08T00:30:34.350Z"
   },
   {
    "duration": 33,
    "start_time": "2024-10-08T00:30:34.385Z"
   },
   {
    "duration": 6,
    "start_time": "2024-10-08T00:30:34.420Z"
   },
   {
    "duration": 15,
    "start_time": "2024-10-08T00:30:34.428Z"
   },
   {
    "duration": 4,
    "start_time": "2024-10-08T00:30:34.445Z"
   },
   {
    "duration": 19,
    "start_time": "2024-10-08T00:30:34.451Z"
   },
   {
    "duration": 39,
    "start_time": "2024-10-08T00:30:34.472Z"
   },
   {
    "duration": 17,
    "start_time": "2024-10-08T00:30:34.513Z"
   },
   {
    "duration": 6,
    "start_time": "2024-10-08T00:30:34.532Z"
   },
   {
    "duration": 11,
    "start_time": "2024-10-08T00:30:34.542Z"
   },
   {
    "duration": 10,
    "start_time": "2024-10-08T00:30:34.555Z"
   },
   {
    "duration": 16,
    "start_time": "2024-10-08T00:30:34.567Z"
   },
   {
    "duration": 32,
    "start_time": "2024-10-08T00:30:34.585Z"
   },
   {
    "duration": 7,
    "start_time": "2024-10-08T00:30:34.619Z"
   },
   {
    "duration": 4,
    "start_time": "2024-10-08T00:30:34.628Z"
   },
   {
    "duration": 8,
    "start_time": "2024-10-08T00:30:34.634Z"
   },
   {
    "duration": 5,
    "start_time": "2024-10-08T00:30:34.644Z"
   },
   {
    "duration": 10,
    "start_time": "2024-10-08T00:30:34.651Z"
   },
   {
    "duration": 6,
    "start_time": "2024-10-08T00:30:34.662Z"
   },
   {
    "duration": 65,
    "start_time": "2024-10-08T00:30:34.669Z"
   },
   {
    "duration": 3,
    "start_time": "2024-10-08T00:30:34.736Z"
   },
   {
    "duration": 32,
    "start_time": "2024-10-08T00:30:34.743Z"
   },
   {
    "duration": 0,
    "start_time": "2024-10-08T00:30:34.776Z"
   },
   {
    "duration": 0,
    "start_time": "2024-10-08T00:30:34.777Z"
   },
   {
    "duration": 0,
    "start_time": "2024-10-08T00:30:34.778Z"
   },
   {
    "duration": 0,
    "start_time": "2024-10-08T00:30:34.780Z"
   },
   {
    "duration": 3,
    "start_time": "2024-10-08T00:45:11.848Z"
   },
   {
    "duration": 16,
    "start_time": "2024-10-08T00:45:24.947Z"
   },
   {
    "duration": 42,
    "start_time": "2024-10-08T00:46:39.032Z"
   },
   {
    "duration": 14,
    "start_time": "2024-10-08T00:47:32.515Z"
   },
   {
    "duration": 749,
    "start_time": "2024-10-08T00:47:43.105Z"
   },
   {
    "duration": 167,
    "start_time": "2024-10-08T00:47:43.856Z"
   },
   {
    "duration": 10,
    "start_time": "2024-10-08T00:47:44.025Z"
   },
   {
    "duration": 5,
    "start_time": "2024-10-08T00:47:44.037Z"
   },
   {
    "duration": 10,
    "start_time": "2024-10-08T00:47:44.044Z"
   },
   {
    "duration": 8,
    "start_time": "2024-10-08T00:47:44.056Z"
   },
   {
    "duration": 6,
    "start_time": "2024-10-08T00:47:44.065Z"
   },
   {
    "duration": 39,
    "start_time": "2024-10-08T00:47:44.073Z"
   },
   {
    "duration": 4,
    "start_time": "2024-10-08T00:47:44.113Z"
   },
   {
    "duration": 5,
    "start_time": "2024-10-08T00:47:44.120Z"
   },
   {
    "duration": 11,
    "start_time": "2024-10-08T00:47:44.126Z"
   },
   {
    "duration": 15,
    "start_time": "2024-10-08T00:47:44.138Z"
   },
   {
    "duration": 5,
    "start_time": "2024-10-08T00:47:44.155Z"
   },
   {
    "duration": 97,
    "start_time": "2024-10-08T00:47:44.161Z"
   },
   {
    "duration": 16,
    "start_time": "2024-10-08T00:47:44.260Z"
   },
   {
    "duration": 43,
    "start_time": "2024-10-08T00:47:44.278Z"
   },
   {
    "duration": 15,
    "start_time": "2024-10-08T00:47:44.323Z"
   },
   {
    "duration": 8,
    "start_time": "2024-10-08T00:47:44.340Z"
   },
   {
    "duration": 18,
    "start_time": "2024-10-08T00:47:44.349Z"
   },
   {
    "duration": 11,
    "start_time": "2024-10-08T00:47:44.368Z"
   },
   {
    "duration": 30,
    "start_time": "2024-10-08T00:47:44.381Z"
   },
   {
    "duration": 35,
    "start_time": "2024-10-08T00:47:44.413Z"
   },
   {
    "duration": 10,
    "start_time": "2024-10-08T00:47:44.450Z"
   },
   {
    "duration": 15,
    "start_time": "2024-10-08T00:47:44.462Z"
   },
   {
    "duration": 36,
    "start_time": "2024-10-08T00:47:44.478Z"
   },
   {
    "duration": 6,
    "start_time": "2024-10-08T00:47:44.515Z"
   },
   {
    "duration": 14,
    "start_time": "2024-10-08T00:47:44.522Z"
   },
   {
    "duration": 14,
    "start_time": "2024-10-08T00:47:44.542Z"
   },
   {
    "duration": 4,
    "start_time": "2024-10-08T00:47:44.558Z"
   },
   {
    "duration": 72,
    "start_time": "2024-10-08T00:47:44.564Z"
   },
   {
    "duration": 12,
    "start_time": "2024-10-08T00:47:44.638Z"
   },
   {
    "duration": 33,
    "start_time": "2024-10-08T00:47:44.652Z"
   },
   {
    "duration": 34,
    "start_time": "2024-10-08T00:47:44.686Z"
   },
   {
    "duration": 7,
    "start_time": "2024-10-08T00:47:44.723Z"
   },
   {
    "duration": 15,
    "start_time": "2024-10-08T00:47:44.732Z"
   },
   {
    "duration": 5,
    "start_time": "2024-10-08T00:47:44.749Z"
   },
   {
    "duration": 18,
    "start_time": "2024-10-08T00:47:44.756Z"
   },
   {
    "duration": 40,
    "start_time": "2024-10-08T00:47:44.776Z"
   },
   {
    "duration": 15,
    "start_time": "2024-10-08T00:47:44.817Z"
   },
   {
    "duration": 7,
    "start_time": "2024-10-08T00:47:44.834Z"
   },
   {
    "duration": 11,
    "start_time": "2024-10-08T00:47:44.842Z"
   },
   {
    "duration": 10,
    "start_time": "2024-10-08T00:47:44.854Z"
   },
   {
    "duration": 16,
    "start_time": "2024-10-08T00:47:44.865Z"
   },
   {
    "duration": 35,
    "start_time": "2024-10-08T00:47:44.882Z"
   },
   {
    "duration": 10,
    "start_time": "2024-10-08T00:47:44.919Z"
   },
   {
    "duration": 4,
    "start_time": "2024-10-08T00:47:44.931Z"
   },
   {
    "duration": 9,
    "start_time": "2024-10-08T00:47:44.936Z"
   },
   {
    "duration": 6,
    "start_time": "2024-10-08T00:47:44.946Z"
   },
   {
    "duration": 12,
    "start_time": "2024-10-08T00:47:44.953Z"
   },
   {
    "duration": 7,
    "start_time": "2024-10-08T00:47:44.967Z"
   },
   {
    "duration": 59,
    "start_time": "2024-10-08T00:47:44.975Z"
   },
   {
    "duration": 4,
    "start_time": "2024-10-08T00:47:45.036Z"
   },
   {
    "duration": 492,
    "start_time": "2024-10-08T00:47:45.041Z"
   },
   {
    "duration": 1,
    "start_time": "2024-10-08T00:47:45.534Z"
   },
   {
    "duration": 0,
    "start_time": "2024-10-08T00:47:45.536Z"
   },
   {
    "duration": 0,
    "start_time": "2024-10-08T00:47:45.537Z"
   },
   {
    "duration": 0,
    "start_time": "2024-10-08T00:47:45.539Z"
   },
   {
    "duration": 0,
    "start_time": "2024-10-08T00:47:45.540Z"
   },
   {
    "duration": 0,
    "start_time": "2024-10-08T00:47:45.541Z"
   },
   {
    "duration": 0,
    "start_time": "2024-10-08T00:47:45.543Z"
   },
   {
    "duration": 0,
    "start_time": "2024-10-08T00:47:45.544Z"
   },
   {
    "duration": 0,
    "start_time": "2024-10-08T00:47:45.544Z"
   },
   {
    "duration": 0,
    "start_time": "2024-10-08T00:47:45.545Z"
   },
   {
    "duration": 0,
    "start_time": "2024-10-08T00:47:45.546Z"
   },
   {
    "duration": 0,
    "start_time": "2024-10-08T00:47:45.547Z"
   },
   {
    "duration": 0,
    "start_time": "2024-10-08T00:47:45.552Z"
   },
   {
    "duration": 0,
    "start_time": "2024-10-08T00:47:45.552Z"
   },
   {
    "duration": 0,
    "start_time": "2024-10-08T00:47:45.553Z"
   },
   {
    "duration": 0,
    "start_time": "2024-10-08T00:47:45.555Z"
   },
   {
    "duration": 0,
    "start_time": "2024-10-08T00:47:45.556Z"
   },
   {
    "duration": 0,
    "start_time": "2024-10-08T00:47:45.558Z"
   },
   {
    "duration": 0,
    "start_time": "2024-10-08T00:47:45.559Z"
   },
   {
    "duration": 0,
    "start_time": "2024-10-08T00:47:45.561Z"
   },
   {
    "duration": 0,
    "start_time": "2024-10-08T00:47:45.562Z"
   },
   {
    "duration": 218,
    "start_time": "2024-10-08T00:50:04.395Z"
   },
   {
    "duration": 44,
    "start_time": "2024-10-08T00:53:21.844Z"
   },
   {
    "duration": 41,
    "start_time": "2024-10-08T00:53:45.909Z"
   },
   {
    "duration": 42,
    "start_time": "2024-10-08T00:54:22.858Z"
   },
   {
    "duration": 2255,
    "start_time": "2024-10-08T00:55:39.205Z"
   },
   {
    "duration": 43,
    "start_time": "2024-10-08T00:56:37.801Z"
   },
   {
    "duration": 44,
    "start_time": "2024-10-08T00:56:47.212Z"
   },
   {
    "duration": 23640,
    "start_time": "2024-10-08T00:57:40.800Z"
   },
   {
    "duration": 3795,
    "start_time": "2024-10-15T00:09:12.555Z"
   },
   {
    "duration": 272,
    "start_time": "2024-10-15T00:09:16.353Z"
   },
   {
    "duration": 20,
    "start_time": "2024-10-15T00:09:16.627Z"
   },
   {
    "duration": 13,
    "start_time": "2024-10-15T00:09:16.653Z"
   },
   {
    "duration": 15,
    "start_time": "2024-10-15T00:09:16.670Z"
   },
   {
    "duration": 10,
    "start_time": "2024-10-15T00:09:16.687Z"
   },
   {
    "duration": 7,
    "start_time": "2024-10-15T00:09:16.699Z"
   },
   {
    "duration": 4,
    "start_time": "2024-10-15T00:09:16.708Z"
   },
   {
    "duration": 4,
    "start_time": "2024-10-15T00:09:16.713Z"
   },
   {
    "duration": 15,
    "start_time": "2024-10-15T00:09:16.721Z"
   },
   {
    "duration": 15,
    "start_time": "2024-10-15T00:09:16.738Z"
   },
   {
    "duration": 24,
    "start_time": "2024-10-15T00:09:16.758Z"
   },
   {
    "duration": 22,
    "start_time": "2024-10-15T00:09:16.784Z"
   },
   {
    "duration": 101,
    "start_time": "2024-10-15T00:09:16.811Z"
   },
   {
    "duration": 29,
    "start_time": "2024-10-15T00:09:16.915Z"
   },
   {
    "duration": 56,
    "start_time": "2024-10-15T00:09:16.945Z"
   },
   {
    "duration": 19,
    "start_time": "2024-10-15T00:09:17.003Z"
   },
   {
    "duration": 13,
    "start_time": "2024-10-15T00:09:17.034Z"
   },
   {
    "duration": 35,
    "start_time": "2024-10-15T00:09:17.052Z"
   },
   {
    "duration": 15,
    "start_time": "2024-10-15T00:09:17.088Z"
   },
   {
    "duration": 6,
    "start_time": "2024-10-15T00:09:17.105Z"
   },
   {
    "duration": 70,
    "start_time": "2024-10-15T00:09:17.113Z"
   },
   {
    "duration": 15,
    "start_time": "2024-10-15T00:09:17.185Z"
   },
   {
    "duration": 40,
    "start_time": "2024-10-15T00:09:17.203Z"
   },
   {
    "duration": 14,
    "start_time": "2024-10-15T00:09:17.245Z"
   },
   {
    "duration": 7,
    "start_time": "2024-10-15T00:09:17.261Z"
   },
   {
    "duration": 20,
    "start_time": "2024-10-15T00:09:17.270Z"
   },
   {
    "duration": 41,
    "start_time": "2024-10-15T00:09:17.297Z"
   },
   {
    "duration": 5,
    "start_time": "2024-10-15T00:09:17.340Z"
   },
   {
    "duration": 50,
    "start_time": "2024-10-15T00:09:17.351Z"
   },
   {
    "duration": 31,
    "start_time": "2024-10-15T00:09:17.403Z"
   },
   {
    "duration": 41,
    "start_time": "2024-10-15T00:09:17.435Z"
   },
   {
    "duration": 16,
    "start_time": "2024-10-15T00:09:17.478Z"
   },
   {
    "duration": 6,
    "start_time": "2024-10-15T00:09:17.496Z"
   },
   {
    "duration": 42,
    "start_time": "2024-10-15T00:09:17.504Z"
   },
   {
    "duration": 6,
    "start_time": "2024-10-15T00:09:17.548Z"
   },
   {
    "duration": 26,
    "start_time": "2024-10-15T00:09:17.556Z"
   },
   {
    "duration": 9,
    "start_time": "2024-10-15T00:09:17.584Z"
   },
   {
    "duration": 48,
    "start_time": "2024-10-15T00:09:17.595Z"
   },
   {
    "duration": 11,
    "start_time": "2024-10-15T00:09:17.645Z"
   },
   {
    "duration": 16,
    "start_time": "2024-10-15T00:09:17.658Z"
   },
   {
    "duration": 20,
    "start_time": "2024-10-15T00:09:17.679Z"
   },
   {
    "duration": 34,
    "start_time": "2024-10-15T00:09:17.702Z"
   },
   {
    "duration": 9,
    "start_time": "2024-10-15T00:09:17.738Z"
   },
   {
    "duration": 9,
    "start_time": "2024-10-15T00:09:17.750Z"
   },
   {
    "duration": 5,
    "start_time": "2024-10-15T00:09:17.761Z"
   },
   {
    "duration": 13,
    "start_time": "2024-10-15T00:09:17.768Z"
   },
   {
    "duration": 6,
    "start_time": "2024-10-15T00:09:17.783Z"
   },
   {
    "duration": 55,
    "start_time": "2024-10-15T00:09:17.791Z"
   },
   {
    "duration": 8,
    "start_time": "2024-10-15T00:09:17.848Z"
   },
   {
    "duration": 28,
    "start_time": "2024-10-15T00:09:17.858Z"
   },
   {
    "duration": 5,
    "start_time": "2024-10-15T00:09:17.889Z"
   },
   {
    "duration": 595,
    "start_time": "2024-10-15T00:09:17.896Z"
   },
   {
    "duration": 0,
    "start_time": "2024-10-15T00:09:18.493Z"
   },
   {
    "duration": 0,
    "start_time": "2024-10-15T00:09:18.494Z"
   },
   {
    "duration": 0,
    "start_time": "2024-10-15T00:09:18.496Z"
   },
   {
    "duration": 0,
    "start_time": "2024-10-15T00:09:18.497Z"
   },
   {
    "duration": 0,
    "start_time": "2024-10-15T00:09:18.498Z"
   },
   {
    "duration": 0,
    "start_time": "2024-10-15T00:09:18.499Z"
   },
   {
    "duration": 0,
    "start_time": "2024-10-15T00:09:18.500Z"
   },
   {
    "duration": 0,
    "start_time": "2024-10-15T00:09:18.501Z"
   },
   {
    "duration": 0,
    "start_time": "2024-10-15T00:09:18.502Z"
   },
   {
    "duration": 0,
    "start_time": "2024-10-15T00:09:18.503Z"
   },
   {
    "duration": 0,
    "start_time": "2024-10-15T00:09:18.505Z"
   },
   {
    "duration": 0,
    "start_time": "2024-10-15T00:09:18.506Z"
   },
   {
    "duration": 0,
    "start_time": "2024-10-15T00:09:18.531Z"
   },
   {
    "duration": 0,
    "start_time": "2024-10-15T00:09:18.532Z"
   },
   {
    "duration": 0,
    "start_time": "2024-10-15T00:09:18.533Z"
   },
   {
    "duration": 0,
    "start_time": "2024-10-15T00:09:18.534Z"
   },
   {
    "duration": 0,
    "start_time": "2024-10-15T00:09:18.535Z"
   },
   {
    "duration": 0,
    "start_time": "2024-10-15T00:09:18.536Z"
   },
   {
    "duration": 0,
    "start_time": "2024-10-15T00:09:18.537Z"
   },
   {
    "duration": 1,
    "start_time": "2024-10-15T00:09:18.538Z"
   },
   {
    "duration": 0,
    "start_time": "2024-10-15T00:09:18.539Z"
   },
   {
    "duration": 2804,
    "start_time": "2024-10-15T22:53:49.643Z"
   },
   {
    "duration": 250,
    "start_time": "2024-10-15T22:53:52.450Z"
   },
   {
    "duration": 10,
    "start_time": "2024-10-15T22:53:52.701Z"
   },
   {
    "duration": 6,
    "start_time": "2024-10-15T22:53:52.713Z"
   },
   {
    "duration": 10,
    "start_time": "2024-10-15T22:53:52.720Z"
   },
   {
    "duration": 10,
    "start_time": "2024-10-15T22:53:52.732Z"
   },
   {
    "duration": 7,
    "start_time": "2024-10-15T22:53:52.743Z"
   },
   {
    "duration": 4,
    "start_time": "2024-10-15T22:53:52.752Z"
   },
   {
    "duration": 4,
    "start_time": "2024-10-15T22:53:52.758Z"
   },
   {
    "duration": 4,
    "start_time": "2024-10-15T22:53:52.765Z"
   },
   {
    "duration": 11,
    "start_time": "2024-10-15T22:53:52.771Z"
   },
   {
    "duration": 63,
    "start_time": "2024-10-15T22:53:52.784Z"
   },
   {
    "duration": 5,
    "start_time": "2024-10-15T22:53:52.849Z"
   },
   {
    "duration": 76,
    "start_time": "2024-10-15T22:53:52.856Z"
   },
   {
    "duration": 18,
    "start_time": "2024-10-15T22:53:52.934Z"
   },
   {
    "duration": 29,
    "start_time": "2024-10-15T22:53:52.955Z"
   },
   {
    "duration": 15,
    "start_time": "2024-10-15T22:53:52.987Z"
   },
   {
    "duration": 21,
    "start_time": "2024-10-15T22:53:53.003Z"
   },
   {
    "duration": 17,
    "start_time": "2024-10-15T22:53:53.026Z"
   },
   {
    "duration": 15,
    "start_time": "2024-10-15T22:53:53.047Z"
   },
   {
    "duration": 6,
    "start_time": "2024-10-15T22:53:53.066Z"
   },
   {
    "duration": 43,
    "start_time": "2024-10-15T22:53:53.077Z"
   },
   {
    "duration": 15,
    "start_time": "2024-10-15T22:53:53.122Z"
   },
   {
    "duration": 21,
    "start_time": "2024-10-15T22:53:53.139Z"
   },
   {
    "duration": 12,
    "start_time": "2024-10-15T22:53:53.161Z"
   },
   {
    "duration": 5,
    "start_time": "2024-10-15T22:53:53.174Z"
   },
   {
    "duration": 12,
    "start_time": "2024-10-15T22:53:53.181Z"
   },
   {
    "duration": 13,
    "start_time": "2024-10-15T22:53:53.223Z"
   },
   {
    "duration": 4,
    "start_time": "2024-10-15T22:53:53.238Z"
   },
   {
    "duration": 47,
    "start_time": "2024-10-15T22:53:53.244Z"
   },
   {
    "duration": 42,
    "start_time": "2024-10-15T22:53:53.293Z"
   },
   {
    "duration": 40,
    "start_time": "2024-10-15T22:53:53.336Z"
   },
   {
    "duration": 14,
    "start_time": "2024-10-15T22:53:53.378Z"
   },
   {
    "duration": 8,
    "start_time": "2024-10-15T22:53:53.394Z"
   },
   {
    "duration": 25,
    "start_time": "2024-10-15T22:53:53.403Z"
   },
   {
    "duration": 4,
    "start_time": "2024-10-15T22:53:53.430Z"
   },
   {
    "duration": 18,
    "start_time": "2024-10-15T22:53:53.435Z"
   },
   {
    "duration": 10,
    "start_time": "2024-10-15T22:53:53.455Z"
   },
   {
    "duration": 14,
    "start_time": "2024-10-15T22:53:53.468Z"
   },
   {
    "duration": 6,
    "start_time": "2024-10-15T22:53:53.484Z"
   },
   {
    "duration": 45,
    "start_time": "2024-10-15T22:53:53.492Z"
   },
   {
    "duration": 14,
    "start_time": "2024-10-15T22:53:53.539Z"
   },
   {
    "duration": 23,
    "start_time": "2024-10-15T22:53:53.555Z"
   },
   {
    "duration": 7,
    "start_time": "2024-10-15T22:53:53.579Z"
   },
   {
    "duration": 9,
    "start_time": "2024-10-15T22:53:53.588Z"
   },
   {
    "duration": 25,
    "start_time": "2024-10-15T22:53:53.599Z"
   },
   {
    "duration": 11,
    "start_time": "2024-10-15T22:53:53.625Z"
   },
   {
    "duration": 8,
    "start_time": "2024-10-15T22:53:53.637Z"
   },
   {
    "duration": 16,
    "start_time": "2024-10-15T22:53:53.646Z"
   },
   {
    "duration": 6,
    "start_time": "2024-10-15T22:53:53.664Z"
   },
   {
    "duration": 28,
    "start_time": "2024-10-15T22:53:53.672Z"
   },
   {
    "duration": 4,
    "start_time": "2024-10-15T22:53:53.701Z"
   },
   {
    "duration": 515,
    "start_time": "2024-10-15T22:53:53.725Z"
   },
   {
    "duration": 0,
    "start_time": "2024-10-15T22:53:54.243Z"
   },
   {
    "duration": 0,
    "start_time": "2024-10-15T22:53:54.244Z"
   },
   {
    "duration": 0,
    "start_time": "2024-10-15T22:53:54.245Z"
   },
   {
    "duration": 0,
    "start_time": "2024-10-15T22:53:54.247Z"
   },
   {
    "duration": 0,
    "start_time": "2024-10-15T22:53:54.248Z"
   },
   {
    "duration": 0,
    "start_time": "2024-10-15T22:53:54.249Z"
   },
   {
    "duration": 0,
    "start_time": "2024-10-15T22:53:54.251Z"
   },
   {
    "duration": 0,
    "start_time": "2024-10-15T22:53:54.252Z"
   },
   {
    "duration": 0,
    "start_time": "2024-10-15T22:53:54.253Z"
   },
   {
    "duration": 0,
    "start_time": "2024-10-15T22:53:54.255Z"
   },
   {
    "duration": 0,
    "start_time": "2024-10-15T22:53:54.256Z"
   },
   {
    "duration": 0,
    "start_time": "2024-10-15T22:53:54.257Z"
   },
   {
    "duration": 0,
    "start_time": "2024-10-15T22:53:54.259Z"
   },
   {
    "duration": 0,
    "start_time": "2024-10-15T22:53:54.260Z"
   },
   {
    "duration": 0,
    "start_time": "2024-10-15T22:53:54.262Z"
   },
   {
    "duration": 0,
    "start_time": "2024-10-15T22:53:54.263Z"
   },
   {
    "duration": 0,
    "start_time": "2024-10-15T22:53:54.264Z"
   },
   {
    "duration": 0,
    "start_time": "2024-10-15T22:53:54.265Z"
   },
   {
    "duration": 0,
    "start_time": "2024-10-15T22:53:54.266Z"
   },
   {
    "duration": 0,
    "start_time": "2024-10-15T22:53:54.267Z"
   },
   {
    "duration": 0,
    "start_time": "2024-10-15T22:53:54.270Z"
   },
   {
    "duration": 4,
    "start_time": "2024-10-15T23:44:42.881Z"
   },
   {
    "duration": 2492,
    "start_time": "2024-10-17T14:15:19.471Z"
   },
   {
    "duration": 208,
    "start_time": "2024-10-17T14:15:21.966Z"
   },
   {
    "duration": 9,
    "start_time": "2024-10-17T14:15:22.176Z"
   },
   {
    "duration": 6,
    "start_time": "2024-10-17T14:15:22.189Z"
   },
   {
    "duration": 9,
    "start_time": "2024-10-17T14:15:22.197Z"
   },
   {
    "duration": 8,
    "start_time": "2024-10-17T14:15:22.209Z"
   },
   {
    "duration": 5,
    "start_time": "2024-10-17T14:15:22.219Z"
   },
   {
    "duration": 3,
    "start_time": "2024-10-17T14:15:22.227Z"
   },
   {
    "duration": 5,
    "start_time": "2024-10-17T14:15:22.231Z"
   },
   {
    "duration": 47,
    "start_time": "2024-10-17T14:15:22.240Z"
   },
   {
    "duration": 11,
    "start_time": "2024-10-17T14:15:22.288Z"
   },
   {
    "duration": 15,
    "start_time": "2024-10-17T14:15:22.301Z"
   },
   {
    "duration": 5,
    "start_time": "2024-10-17T14:15:22.318Z"
   },
   {
    "duration": 82,
    "start_time": "2024-10-17T14:15:22.325Z"
   },
   {
    "duration": 16,
    "start_time": "2024-10-17T14:15:22.409Z"
   },
   {
    "duration": 31,
    "start_time": "2024-10-17T14:15:22.427Z"
   },
   {
    "duration": 33,
    "start_time": "2024-10-17T14:15:22.460Z"
   },
   {
    "duration": 8,
    "start_time": "2024-10-17T14:15:22.495Z"
   },
   {
    "duration": 17,
    "start_time": "2024-10-17T14:15:22.504Z"
   },
   {
    "duration": 11,
    "start_time": "2024-10-17T14:15:22.523Z"
   },
   {
    "duration": 4,
    "start_time": "2024-10-17T14:15:22.536Z"
   },
   {
    "duration": 66,
    "start_time": "2024-10-17T14:15:22.542Z"
   },
   {
    "duration": 11,
    "start_time": "2024-10-17T14:15:22.610Z"
   },
   {
    "duration": 14,
    "start_time": "2024-10-17T14:15:22.622Z"
   },
   {
    "duration": 12,
    "start_time": "2024-10-17T14:15:22.638Z"
   },
   {
    "duration": 6,
    "start_time": "2024-10-17T14:15:22.652Z"
   },
   {
    "duration": 38,
    "start_time": "2024-10-17T14:15:22.659Z"
   },
   {
    "duration": 12,
    "start_time": "2024-10-17T14:15:22.702Z"
   },
   {
    "duration": 4,
    "start_time": "2024-10-17T14:15:22.716Z"
   },
   {
    "duration": 69,
    "start_time": "2024-10-17T14:15:22.722Z"
   },
   {
    "duration": 13,
    "start_time": "2024-10-17T14:15:22.793Z"
   },
   {
    "duration": 36,
    "start_time": "2024-10-17T14:15:22.808Z"
   },
   {
    "duration": 14,
    "start_time": "2024-10-17T14:15:22.845Z"
   },
   {
    "duration": 27,
    "start_time": "2024-10-17T14:15:22.861Z"
   },
   {
    "duration": 16,
    "start_time": "2024-10-17T14:15:22.891Z"
   },
   {
    "duration": 4,
    "start_time": "2024-10-17T14:15:22.909Z"
   },
   {
    "duration": 19,
    "start_time": "2024-10-17T14:15:22.915Z"
   },
   {
    "duration": 7,
    "start_time": "2024-10-17T14:15:22.936Z"
   },
   {
    "duration": 47,
    "start_time": "2024-10-17T14:15:22.945Z"
   },
   {
    "duration": 6,
    "start_time": "2024-10-17T14:15:22.994Z"
   },
   {
    "duration": 10,
    "start_time": "2024-10-17T14:15:23.002Z"
   },
   {
    "duration": 11,
    "start_time": "2024-10-17T14:15:23.013Z"
   },
   {
    "duration": 17,
    "start_time": "2024-10-17T14:15:23.027Z"
   },
   {
    "duration": 7,
    "start_time": "2024-10-17T14:15:23.045Z"
   },
   {
    "duration": 39,
    "start_time": "2024-10-17T14:15:23.054Z"
   },
   {
    "duration": 3,
    "start_time": "2024-10-17T14:15:23.095Z"
   },
   {
    "duration": 9,
    "start_time": "2024-10-17T14:15:23.100Z"
   },
   {
    "duration": 5,
    "start_time": "2024-10-17T14:15:23.111Z"
   },
   {
    "duration": 11,
    "start_time": "2024-10-17T14:15:23.118Z"
   },
   {
    "duration": 8,
    "start_time": "2024-10-17T14:15:23.130Z"
   },
   {
    "duration": 61,
    "start_time": "2024-10-17T14:15:23.139Z"
   },
   {
    "duration": 6,
    "start_time": "2024-10-17T14:15:23.202Z"
   },
   {
    "duration": 0,
    "start_time": "2024-10-17T14:15:23.210Z"
   },
   {
    "duration": 0,
    "start_time": "2024-10-17T14:15:23.211Z"
   },
   {
    "duration": 0,
    "start_time": "2024-10-17T14:15:23.213Z"
   },
   {
    "duration": 1,
    "start_time": "2024-10-17T14:15:23.214Z"
   },
   {
    "duration": 0,
    "start_time": "2024-10-17T14:15:23.216Z"
   },
   {
    "duration": 0,
    "start_time": "2024-10-17T14:15:23.218Z"
   },
   {
    "duration": 0,
    "start_time": "2024-10-17T14:15:23.219Z"
   },
   {
    "duration": 0,
    "start_time": "2024-10-17T14:15:23.221Z"
   },
   {
    "duration": 0,
    "start_time": "2024-10-17T14:15:23.222Z"
   },
   {
    "duration": 0,
    "start_time": "2024-10-17T14:15:23.223Z"
   },
   {
    "duration": 0,
    "start_time": "2024-10-17T14:15:23.225Z"
   },
   {
    "duration": 0,
    "start_time": "2024-10-17T14:15:23.226Z"
   },
   {
    "duration": 0,
    "start_time": "2024-10-17T14:15:23.228Z"
   },
   {
    "duration": 0,
    "start_time": "2024-10-17T14:15:23.230Z"
   },
   {
    "duration": 0,
    "start_time": "2024-10-17T14:15:23.231Z"
   },
   {
    "duration": 0,
    "start_time": "2024-10-17T14:15:23.233Z"
   },
   {
    "duration": 0,
    "start_time": "2024-10-17T14:15:23.234Z"
   },
   {
    "duration": 0,
    "start_time": "2024-10-17T14:15:23.236Z"
   },
   {
    "duration": 0,
    "start_time": "2024-10-17T14:15:23.238Z"
   },
   {
    "duration": 0,
    "start_time": "2024-10-17T14:15:23.287Z"
   },
   {
    "duration": 0,
    "start_time": "2024-10-17T14:15:23.289Z"
   },
   {
    "duration": 0,
    "start_time": "2024-10-17T14:15:23.290Z"
   },
   {
    "duration": 0,
    "start_time": "2024-10-17T14:15:23.292Z"
   },
   {
    "duration": 4,
    "start_time": "2024-10-17T14:28:17.900Z"
   },
   {
    "duration": 133,
    "start_time": "2024-10-17T14:28:31.308Z"
   },
   {
    "duration": 3,
    "start_time": "2024-10-17T14:29:01.202Z"
   },
   {
    "duration": 27,
    "start_time": "2024-10-17T14:29:07.849Z"
   },
   {
    "duration": 17,
    "start_time": "2024-10-17T14:36:09.729Z"
   },
   {
    "duration": 13,
    "start_time": "2024-10-17T14:38:00.718Z"
   },
   {
    "duration": 12,
    "start_time": "2024-10-17T14:40:29.632Z"
   },
   {
    "duration": 112,
    "start_time": "2024-10-17T14:42:20.594Z"
   },
   {
    "duration": 6,
    "start_time": "2024-10-17T14:42:50.610Z"
   },
   {
    "duration": 19,
    "start_time": "2024-10-17T14:42:59.957Z"
   },
   {
    "duration": 6,
    "start_time": "2024-10-17T14:43:41.630Z"
   },
   {
    "duration": 22,
    "start_time": "2024-10-17T14:43:42.900Z"
   },
   {
    "duration": 789,
    "start_time": "2024-10-17T14:43:58.709Z"
   },
   {
    "duration": 158,
    "start_time": "2024-10-17T14:43:59.500Z"
   },
   {
    "duration": 11,
    "start_time": "2024-10-17T14:43:59.660Z"
   },
   {
    "duration": 6,
    "start_time": "2024-10-17T14:43:59.673Z"
   },
   {
    "duration": 14,
    "start_time": "2024-10-17T14:43:59.680Z"
   },
   {
    "duration": 8,
    "start_time": "2024-10-17T14:43:59.696Z"
   },
   {
    "duration": 6,
    "start_time": "2024-10-17T14:43:59.705Z"
   },
   {
    "duration": 4,
    "start_time": "2024-10-17T14:43:59.712Z"
   },
   {
    "duration": 4,
    "start_time": "2024-10-17T14:43:59.717Z"
   },
   {
    "duration": 5,
    "start_time": "2024-10-17T14:43:59.725Z"
   },
   {
    "duration": 12,
    "start_time": "2024-10-17T14:43:59.732Z"
   },
   {
    "duration": 57,
    "start_time": "2024-10-17T14:43:59.745Z"
   },
   {
    "duration": 5,
    "start_time": "2024-10-17T14:43:59.803Z"
   },
   {
    "duration": 77,
    "start_time": "2024-10-17T14:43:59.809Z"
   },
   {
    "duration": 16,
    "start_time": "2024-10-17T14:43:59.889Z"
   },
   {
    "duration": 30,
    "start_time": "2024-10-17T14:43:59.908Z"
   },
   {
    "duration": 16,
    "start_time": "2024-10-17T14:43:59.940Z"
   },
   {
    "duration": 28,
    "start_time": "2024-10-17T14:43:59.958Z"
   },
   {
    "duration": 19,
    "start_time": "2024-10-17T14:43:59.988Z"
   },
   {
    "duration": 11,
    "start_time": "2024-10-17T14:44:00.008Z"
   },
   {
    "duration": 4,
    "start_time": "2024-10-17T14:44:00.021Z"
   },
   {
    "duration": 65,
    "start_time": "2024-10-17T14:44:00.026Z"
   },
   {
    "duration": 10,
    "start_time": "2024-10-17T14:44:00.094Z"
   },
   {
    "duration": 14,
    "start_time": "2024-10-17T14:44:00.106Z"
   },
   {
    "duration": 12,
    "start_time": "2024-10-17T14:44:00.122Z"
   },
   {
    "duration": 6,
    "start_time": "2024-10-17T14:44:00.135Z"
   },
   {
    "duration": 44,
    "start_time": "2024-10-17T14:44:00.143Z"
   },
   {
    "duration": 15,
    "start_time": "2024-10-17T14:44:00.191Z"
   },
   {
    "duration": 5,
    "start_time": "2024-10-17T14:44:00.207Z"
   },
   {
    "duration": 48,
    "start_time": "2024-10-17T14:44:00.214Z"
   },
   {
    "duration": 29,
    "start_time": "2024-10-17T14:44:00.264Z"
   },
   {
    "duration": 34,
    "start_time": "2024-10-17T14:44:00.295Z"
   },
   {
    "duration": 14,
    "start_time": "2024-10-17T14:44:00.331Z"
   },
   {
    "duration": 6,
    "start_time": "2024-10-17T14:44:00.347Z"
   },
   {
    "duration": 44,
    "start_time": "2024-10-17T14:44:00.355Z"
   },
   {
    "duration": 4,
    "start_time": "2024-10-17T14:44:00.401Z"
   },
   {
    "duration": 19,
    "start_time": "2024-10-17T14:44:00.407Z"
   },
   {
    "duration": 7,
    "start_time": "2024-10-17T14:44:00.427Z"
   },
   {
    "duration": 17,
    "start_time": "2024-10-17T14:44:00.436Z"
   },
   {
    "duration": 36,
    "start_time": "2024-10-17T14:44:00.455Z"
   },
   {
    "duration": 12,
    "start_time": "2024-10-17T14:44:00.492Z"
   },
   {
    "duration": 10,
    "start_time": "2024-10-17T14:44:00.505Z"
   },
   {
    "duration": 16,
    "start_time": "2024-10-17T14:44:00.516Z"
   },
   {
    "duration": 13,
    "start_time": "2024-10-17T14:44:00.533Z"
   },
   {
    "duration": 40,
    "start_time": "2024-10-17T14:44:00.547Z"
   },
   {
    "duration": 3,
    "start_time": "2024-10-17T14:44:00.589Z"
   },
   {
    "duration": 7,
    "start_time": "2024-10-17T14:44:00.594Z"
   },
   {
    "duration": 5,
    "start_time": "2024-10-17T14:44:00.603Z"
   },
   {
    "duration": 11,
    "start_time": "2024-10-17T14:44:00.609Z"
   },
   {
    "duration": 5,
    "start_time": "2024-10-17T14:44:00.622Z"
   },
   {
    "duration": 58,
    "start_time": "2024-10-17T14:44:00.629Z"
   },
   {
    "duration": 5,
    "start_time": "2024-10-17T14:44:00.689Z"
   },
   {
    "duration": 132,
    "start_time": "2024-10-17T14:44:00.696Z"
   },
   {
    "duration": 0,
    "start_time": "2024-10-17T14:44:00.830Z"
   },
   {
    "duration": 0,
    "start_time": "2024-10-17T14:44:00.831Z"
   },
   {
    "duration": 0,
    "start_time": "2024-10-17T14:44:00.833Z"
   },
   {
    "duration": 0,
    "start_time": "2024-10-17T14:44:00.834Z"
   },
   {
    "duration": 0,
    "start_time": "2024-10-17T14:44:00.835Z"
   },
   {
    "duration": 0,
    "start_time": "2024-10-17T14:44:00.836Z"
   },
   {
    "duration": 0,
    "start_time": "2024-10-17T14:44:00.837Z"
   },
   {
    "duration": 0,
    "start_time": "2024-10-17T14:44:00.838Z"
   },
   {
    "duration": 0,
    "start_time": "2024-10-17T14:44:00.840Z"
   },
   {
    "duration": 0,
    "start_time": "2024-10-17T14:44:00.842Z"
   },
   {
    "duration": 0,
    "start_time": "2024-10-17T14:44:00.843Z"
   },
   {
    "duration": 0,
    "start_time": "2024-10-17T14:44:00.846Z"
   },
   {
    "duration": 0,
    "start_time": "2024-10-17T14:44:00.847Z"
   },
   {
    "duration": 0,
    "start_time": "2024-10-17T14:44:00.848Z"
   },
   {
    "duration": 0,
    "start_time": "2024-10-17T14:44:00.850Z"
   },
   {
    "duration": 0,
    "start_time": "2024-10-17T14:44:00.887Z"
   },
   {
    "duration": 0,
    "start_time": "2024-10-17T14:44:00.888Z"
   },
   {
    "duration": 0,
    "start_time": "2024-10-17T14:44:00.889Z"
   },
   {
    "duration": 0,
    "start_time": "2024-10-17T14:44:00.891Z"
   },
   {
    "duration": 0,
    "start_time": "2024-10-17T14:44:00.892Z"
   },
   {
    "duration": 0,
    "start_time": "2024-10-17T14:44:00.894Z"
   },
   {
    "duration": 5,
    "start_time": "2024-10-17T14:51:58.487Z"
   },
   {
    "duration": 746,
    "start_time": "2024-10-17T14:52:41.554Z"
   },
   {
    "duration": 156,
    "start_time": "2024-10-17T14:52:42.302Z"
   },
   {
    "duration": 10,
    "start_time": "2024-10-17T14:52:42.459Z"
   },
   {
    "duration": 5,
    "start_time": "2024-10-17T14:52:42.471Z"
   },
   {
    "duration": 13,
    "start_time": "2024-10-17T14:52:42.478Z"
   },
   {
    "duration": 9,
    "start_time": "2024-10-17T14:52:42.493Z"
   },
   {
    "duration": 5,
    "start_time": "2024-10-17T14:52:42.503Z"
   },
   {
    "duration": 4,
    "start_time": "2024-10-17T14:52:42.510Z"
   },
   {
    "duration": 5,
    "start_time": "2024-10-17T14:52:42.516Z"
   },
   {
    "duration": 5,
    "start_time": "2024-10-17T14:52:42.522Z"
   },
   {
    "duration": 10,
    "start_time": "2024-10-17T14:52:42.528Z"
   },
   {
    "duration": 46,
    "start_time": "2024-10-17T14:52:42.540Z"
   },
   {
    "duration": 16,
    "start_time": "2024-10-17T14:52:42.588Z"
   },
   {
    "duration": 4,
    "start_time": "2024-10-17T14:52:42.608Z"
   },
   {
    "duration": 82,
    "start_time": "2024-10-17T14:52:42.614Z"
   },
   {
    "duration": 15,
    "start_time": "2024-10-17T14:52:42.698Z"
   },
   {
    "duration": 31,
    "start_time": "2024-10-17T14:52:42.715Z"
   },
   {
    "duration": 16,
    "start_time": "2024-10-17T14:52:42.748Z"
   },
   {
    "duration": 8,
    "start_time": "2024-10-17T14:52:42.787Z"
   },
   {
    "duration": 16,
    "start_time": "2024-10-17T14:52:42.797Z"
   },
   {
    "duration": 12,
    "start_time": "2024-10-17T14:52:42.815Z"
   },
   {
    "duration": 4,
    "start_time": "2024-10-17T14:52:42.828Z"
   },
   {
    "duration": 63,
    "start_time": "2024-10-17T14:52:42.834Z"
   },
   {
    "duration": 11,
    "start_time": "2024-10-17T14:52:42.898Z"
   },
   {
    "duration": 15,
    "start_time": "2024-10-17T14:52:42.910Z"
   },
   {
    "duration": 13,
    "start_time": "2024-10-17T14:52:42.927Z"
   },
   {
    "duration": 6,
    "start_time": "2024-10-17T14:52:42.942Z"
   },
   {
    "duration": 43,
    "start_time": "2024-10-17T14:52:42.949Z"
   },
   {
    "duration": 13,
    "start_time": "2024-10-17T14:52:42.994Z"
   },
   {
    "duration": 5,
    "start_time": "2024-10-17T14:52:43.009Z"
   },
   {
    "duration": 50,
    "start_time": "2024-10-17T14:52:43.015Z"
   },
   {
    "duration": 28,
    "start_time": "2024-10-17T14:52:43.067Z"
   },
   {
    "duration": 40,
    "start_time": "2024-10-17T14:52:43.097Z"
   },
   {
    "duration": 19,
    "start_time": "2024-10-17T14:52:43.139Z"
   },
   {
    "duration": 32,
    "start_time": "2024-10-17T14:52:43.160Z"
   },
   {
    "duration": 18,
    "start_time": "2024-10-17T14:52:43.195Z"
   },
   {
    "duration": 4,
    "start_time": "2024-10-17T14:52:43.216Z"
   },
   {
    "duration": 20,
    "start_time": "2024-10-17T14:52:43.223Z"
   },
   {
    "duration": 9,
    "start_time": "2024-10-17T14:52:43.245Z"
   },
   {
    "duration": 45,
    "start_time": "2024-10-17T14:52:43.255Z"
   },
   {
    "duration": 6,
    "start_time": "2024-10-17T14:52:43.306Z"
   },
   {
    "duration": 13,
    "start_time": "2024-10-17T14:52:43.314Z"
   },
   {
    "duration": 10,
    "start_time": "2024-10-17T14:52:43.329Z"
   },
   {
    "duration": 16,
    "start_time": "2024-10-17T14:52:43.341Z"
   },
   {
    "duration": 39,
    "start_time": "2024-10-17T14:52:43.358Z"
   },
   {
    "duration": 14,
    "start_time": "2024-10-17T14:52:43.398Z"
   },
   {
    "duration": 5,
    "start_time": "2024-10-17T14:52:43.413Z"
   },
   {
    "duration": 7,
    "start_time": "2024-10-17T14:52:43.421Z"
   },
   {
    "duration": 6,
    "start_time": "2024-10-17T14:52:43.430Z"
   },
   {
    "duration": 14,
    "start_time": "2024-10-17T14:52:43.439Z"
   },
   {
    "duration": 6,
    "start_time": "2024-10-17T14:52:43.488Z"
   },
   {
    "duration": 22,
    "start_time": "2024-10-17T14:52:43.496Z"
   },
   {
    "duration": 4,
    "start_time": "2024-10-17T14:52:43.519Z"
   },
   {
    "duration": 150,
    "start_time": "2024-10-17T14:52:43.524Z"
   },
   {
    "duration": 0,
    "start_time": "2024-10-17T14:52:43.676Z"
   },
   {
    "duration": 0,
    "start_time": "2024-10-17T14:52:43.677Z"
   },
   {
    "duration": 0,
    "start_time": "2024-10-17T14:52:43.678Z"
   },
   {
    "duration": 0,
    "start_time": "2024-10-17T14:52:43.686Z"
   },
   {
    "duration": 0,
    "start_time": "2024-10-17T14:52:43.687Z"
   },
   {
    "duration": 0,
    "start_time": "2024-10-17T14:52:43.688Z"
   },
   {
    "duration": 0,
    "start_time": "2024-10-17T14:52:43.690Z"
   },
   {
    "duration": 0,
    "start_time": "2024-10-17T14:52:43.691Z"
   },
   {
    "duration": 0,
    "start_time": "2024-10-17T14:52:43.692Z"
   },
   {
    "duration": 0,
    "start_time": "2024-10-17T14:52:43.693Z"
   },
   {
    "duration": 0,
    "start_time": "2024-10-17T14:52:43.694Z"
   },
   {
    "duration": 0,
    "start_time": "2024-10-17T14:52:43.695Z"
   },
   {
    "duration": 0,
    "start_time": "2024-10-17T14:52:43.696Z"
   },
   {
    "duration": 0,
    "start_time": "2024-10-17T14:52:43.697Z"
   },
   {
    "duration": 0,
    "start_time": "2024-10-17T14:52:43.698Z"
   },
   {
    "duration": 0,
    "start_time": "2024-10-17T14:52:43.700Z"
   },
   {
    "duration": 0,
    "start_time": "2024-10-17T14:52:43.701Z"
   },
   {
    "duration": 0,
    "start_time": "2024-10-17T14:52:43.702Z"
   },
   {
    "duration": 0,
    "start_time": "2024-10-17T14:52:43.704Z"
   },
   {
    "duration": 0,
    "start_time": "2024-10-17T14:52:43.705Z"
   },
   {
    "duration": 0,
    "start_time": "2024-10-17T14:52:43.706Z"
   },
   {
    "duration": 4,
    "start_time": "2024-10-17T14:54:27.980Z"
   },
   {
    "duration": 169,
    "start_time": "2024-10-17T14:54:30.068Z"
   },
   {
    "duration": 4,
    "start_time": "2024-10-17T14:57:42.301Z"
   },
   {
    "duration": 25,
    "start_time": "2024-10-17T14:57:44.019Z"
   },
   {
    "duration": 4,
    "start_time": "2024-10-17T14:57:51.977Z"
   },
   {
    "duration": 8,
    "start_time": "2024-10-17T14:57:52.640Z"
   },
   {
    "duration": 21,
    "start_time": "2024-10-17T14:58:08.673Z"
   },
   {
    "duration": 5,
    "start_time": "2024-10-17T15:00:55.953Z"
   },
   {
    "duration": 4,
    "start_time": "2024-10-17T15:01:06.449Z"
   },
   {
    "duration": 384,
    "start_time": "2024-10-17T15:01:10.263Z"
   },
   {
    "duration": 12,
    "start_time": "2024-10-17T15:01:45.122Z"
   },
   {
    "duration": 13,
    "start_time": "2024-10-17T15:03:56.021Z"
   },
   {
    "duration": 32,
    "start_time": "2024-10-17T15:04:02.376Z"
   },
   {
    "duration": 822,
    "start_time": "2024-10-17T15:04:27.689Z"
   },
   {
    "duration": 170,
    "start_time": "2024-10-17T15:04:28.513Z"
   },
   {
    "duration": 9,
    "start_time": "2024-10-17T15:04:28.686Z"
   },
   {
    "duration": 7,
    "start_time": "2024-10-17T15:04:28.697Z"
   },
   {
    "duration": 11,
    "start_time": "2024-10-17T15:04:28.705Z"
   },
   {
    "duration": 8,
    "start_time": "2024-10-17T15:04:28.718Z"
   },
   {
    "duration": 6,
    "start_time": "2024-10-17T15:04:28.728Z"
   },
   {
    "duration": 4,
    "start_time": "2024-10-17T15:04:28.736Z"
   },
   {
    "duration": 4,
    "start_time": "2024-10-17T15:04:28.742Z"
   },
   {
    "duration": 6,
    "start_time": "2024-10-17T15:04:28.786Z"
   },
   {
    "duration": 17,
    "start_time": "2024-10-17T15:04:28.794Z"
   },
   {
    "duration": 4,
    "start_time": "2024-10-17T15:04:28.813Z"
   },
   {
    "duration": 15,
    "start_time": "2024-10-17T15:04:28.819Z"
   },
   {
    "duration": 5,
    "start_time": "2024-10-17T15:04:28.836Z"
   },
   {
    "duration": 90,
    "start_time": "2024-10-17T15:04:28.843Z"
   },
   {
    "duration": 16,
    "start_time": "2024-10-17T15:04:28.935Z"
   },
   {
    "duration": 51,
    "start_time": "2024-10-17T15:04:28.953Z"
   },
   {
    "duration": 17,
    "start_time": "2024-10-17T15:04:29.006Z"
   },
   {
    "duration": 9,
    "start_time": "2024-10-17T15:04:29.025Z"
   },
   {
    "duration": 19,
    "start_time": "2024-10-17T15:04:29.035Z"
   },
   {
    "duration": 33,
    "start_time": "2024-10-17T15:04:29.056Z"
   },
   {
    "duration": 5,
    "start_time": "2024-10-17T15:04:29.091Z"
   },
   {
    "duration": 36,
    "start_time": "2024-10-17T15:04:29.097Z"
   },
   {
    "duration": 10,
    "start_time": "2024-10-17T15:04:29.135Z"
   },
   {
    "duration": 40,
    "start_time": "2024-10-17T15:04:29.147Z"
   },
   {
    "duration": 12,
    "start_time": "2024-10-17T15:04:29.189Z"
   },
   {
    "duration": 6,
    "start_time": "2024-10-17T15:04:29.203Z"
   },
   {
    "duration": 14,
    "start_time": "2024-10-17T15:04:29.214Z"
   },
   {
    "duration": 13,
    "start_time": "2024-10-17T15:04:29.230Z"
   },
   {
    "duration": 5,
    "start_time": "2024-10-17T15:04:29.244Z"
   },
   {
    "duration": 83,
    "start_time": "2024-10-17T15:04:29.251Z"
   },
   {
    "duration": 13,
    "start_time": "2024-10-17T15:04:29.335Z"
   },
   {
    "duration": 51,
    "start_time": "2024-10-17T15:04:29.350Z"
   },
   {
    "duration": 14,
    "start_time": "2024-10-17T15:04:29.403Z"
   },
   {
    "duration": 7,
    "start_time": "2024-10-17T15:04:29.419Z"
   },
   {
    "duration": 15,
    "start_time": "2024-10-17T15:04:29.428Z"
   },
   {
    "duration": 4,
    "start_time": "2024-10-17T15:04:29.445Z"
   },
   {
    "duration": 44,
    "start_time": "2024-10-17T15:04:29.451Z"
   },
   {
    "duration": 8,
    "start_time": "2024-10-17T15:04:29.496Z"
   },
   {
    "duration": 17,
    "start_time": "2024-10-17T15:04:29.506Z"
   },
   {
    "duration": 7,
    "start_time": "2024-10-17T15:04:29.524Z"
   },
   {
    "duration": 11,
    "start_time": "2024-10-17T15:04:29.532Z"
   },
   {
    "duration": 42,
    "start_time": "2024-10-17T15:04:29.545Z"
   },
   {
    "duration": 18,
    "start_time": "2024-10-17T15:04:29.588Z"
   },
   {
    "duration": 4,
    "start_time": "2024-10-17T15:04:29.607Z"
   },
   {
    "duration": 146,
    "start_time": "2024-10-17T15:04:29.614Z"
   },
   {
    "duration": 0,
    "start_time": "2024-10-17T15:04:29.762Z"
   },
   {
    "duration": 0,
    "start_time": "2024-10-17T15:04:29.764Z"
   },
   {
    "duration": 0,
    "start_time": "2024-10-17T15:04:29.766Z"
   },
   {
    "duration": 0,
    "start_time": "2024-10-17T15:04:29.768Z"
   },
   {
    "duration": 0,
    "start_time": "2024-10-17T15:04:29.768Z"
   },
   {
    "duration": 0,
    "start_time": "2024-10-17T15:04:29.770Z"
   },
   {
    "duration": 0,
    "start_time": "2024-10-17T15:04:29.770Z"
   },
   {
    "duration": 0,
    "start_time": "2024-10-17T15:04:29.772Z"
   },
   {
    "duration": 0,
    "start_time": "2024-10-17T15:04:29.773Z"
   },
   {
    "duration": 0,
    "start_time": "2024-10-17T15:04:29.787Z"
   },
   {
    "duration": 0,
    "start_time": "2024-10-17T15:04:29.788Z"
   },
   {
    "duration": 0,
    "start_time": "2024-10-17T15:04:29.789Z"
   },
   {
    "duration": 0,
    "start_time": "2024-10-17T15:04:29.790Z"
   },
   {
    "duration": 0,
    "start_time": "2024-10-17T15:04:29.791Z"
   },
   {
    "duration": 0,
    "start_time": "2024-10-17T15:04:29.792Z"
   },
   {
    "duration": 0,
    "start_time": "2024-10-17T15:04:29.793Z"
   },
   {
    "duration": 0,
    "start_time": "2024-10-17T15:04:29.795Z"
   },
   {
    "duration": 0,
    "start_time": "2024-10-17T15:04:29.797Z"
   },
   {
    "duration": 0,
    "start_time": "2024-10-17T15:04:29.798Z"
   },
   {
    "duration": 0,
    "start_time": "2024-10-17T15:04:29.799Z"
   },
   {
    "duration": 0,
    "start_time": "2024-10-17T15:04:29.801Z"
   },
   {
    "duration": 0,
    "start_time": "2024-10-17T15:04:29.802Z"
   },
   {
    "duration": 0,
    "start_time": "2024-10-17T15:04:29.803Z"
   },
   {
    "duration": 0,
    "start_time": "2024-10-17T15:04:29.804Z"
   },
   {
    "duration": 0,
    "start_time": "2024-10-17T15:04:29.806Z"
   },
   {
    "duration": 0,
    "start_time": "2024-10-17T15:04:29.807Z"
   },
   {
    "duration": 0,
    "start_time": "2024-10-17T15:04:29.808Z"
   },
   {
    "duration": 0,
    "start_time": "2024-10-17T15:04:29.810Z"
   },
   {
    "duration": 0,
    "start_time": "2024-10-17T15:04:29.811Z"
   },
   {
    "duration": 0,
    "start_time": "2024-10-17T15:04:29.812Z"
   },
   {
    "duration": 0,
    "start_time": "2024-10-17T15:04:29.813Z"
   },
   {
    "duration": 12,
    "start_time": "2024-10-17T15:05:00.604Z"
   },
   {
    "duration": 12,
    "start_time": "2024-10-17T15:05:40.284Z"
   },
   {
    "duration": 4,
    "start_time": "2024-10-17T15:05:46.066Z"
   },
   {
    "duration": 8,
    "start_time": "2024-10-17T15:05:47.146Z"
   },
   {
    "duration": 6,
    "start_time": "2024-10-17T15:05:51.637Z"
   },
   {
    "duration": 11,
    "start_time": "2024-10-17T15:05:52.261Z"
   },
   {
    "duration": 6,
    "start_time": "2024-10-17T15:05:53.462Z"
   },
   {
    "duration": 25,
    "start_time": "2024-10-17T15:05:54.719Z"
   },
   {
    "duration": 4,
    "start_time": "2024-10-17T15:05:56.836Z"
   },
   {
    "duration": 13,
    "start_time": "2024-10-17T15:05:58.426Z"
   },
   {
    "duration": 21,
    "start_time": "2024-10-17T15:06:00.028Z"
   },
   {
    "duration": 2504,
    "start_time": "2024-10-17T16:06:41.630Z"
   },
   {
    "duration": 211,
    "start_time": "2024-10-17T16:06:44.136Z"
   },
   {
    "duration": 10,
    "start_time": "2024-10-17T16:06:44.348Z"
   },
   {
    "duration": 7,
    "start_time": "2024-10-17T16:06:44.361Z"
   },
   {
    "duration": 10,
    "start_time": "2024-10-17T16:06:44.369Z"
   },
   {
    "duration": 9,
    "start_time": "2024-10-17T16:06:44.381Z"
   },
   {
    "duration": 5,
    "start_time": "2024-10-17T16:06:44.392Z"
   },
   {
    "duration": 3,
    "start_time": "2024-10-17T16:06:44.399Z"
   },
   {
    "duration": 5,
    "start_time": "2024-10-17T16:06:44.404Z"
   },
   {
    "duration": 4,
    "start_time": "2024-10-17T16:06:44.412Z"
   },
   {
    "duration": 10,
    "start_time": "2024-10-17T16:06:44.418Z"
   },
   {
    "duration": 4,
    "start_time": "2024-10-17T16:06:44.430Z"
   },
   {
    "duration": 52,
    "start_time": "2024-10-17T16:06:44.435Z"
   },
   {
    "duration": 5,
    "start_time": "2024-10-17T16:06:44.489Z"
   },
   {
    "duration": 60,
    "start_time": "2024-10-17T16:06:44.496Z"
   },
   {
    "duration": 33,
    "start_time": "2024-10-17T16:06:44.558Z"
   },
   {
    "duration": 30,
    "start_time": "2024-10-17T16:06:44.592Z"
   },
   {
    "duration": 16,
    "start_time": "2024-10-17T16:06:44.624Z"
   },
   {
    "duration": 8,
    "start_time": "2024-10-17T16:06:44.641Z"
   },
   {
    "duration": 42,
    "start_time": "2024-10-17T16:06:44.651Z"
   },
   {
    "duration": 12,
    "start_time": "2024-10-17T16:06:44.696Z"
   },
   {
    "duration": 5,
    "start_time": "2024-10-17T16:06:44.709Z"
   },
   {
    "duration": 35,
    "start_time": "2024-10-17T16:06:44.716Z"
   },
   {
    "duration": 37,
    "start_time": "2024-10-17T16:06:44.752Z"
   },
   {
    "duration": 15,
    "start_time": "2024-10-17T16:06:44.791Z"
   },
   {
    "duration": 12,
    "start_time": "2024-10-17T16:06:44.809Z"
   },
   {
    "duration": 6,
    "start_time": "2024-10-17T16:06:44.823Z"
   },
   {
    "duration": 13,
    "start_time": "2024-10-17T16:06:44.834Z"
   },
   {
    "duration": 46,
    "start_time": "2024-10-17T16:06:44.849Z"
   },
   {
    "duration": 5,
    "start_time": "2024-10-17T16:06:44.896Z"
   },
   {
    "duration": 47,
    "start_time": "2024-10-17T16:06:44.903Z"
   },
   {
    "duration": 13,
    "start_time": "2024-10-17T16:06:44.951Z"
   },
   {
    "duration": 34,
    "start_time": "2024-10-17T16:06:44.987Z"
   },
   {
    "duration": 16,
    "start_time": "2024-10-17T16:06:45.023Z"
   },
   {
    "duration": 7,
    "start_time": "2024-10-17T16:06:45.041Z"
   },
   {
    "duration": 41,
    "start_time": "2024-10-17T16:06:45.049Z"
   },
   {
    "duration": 4,
    "start_time": "2024-10-17T16:06:45.092Z"
   },
   {
    "duration": 19,
    "start_time": "2024-10-17T16:06:45.098Z"
   },
   {
    "duration": 8,
    "start_time": "2024-10-17T16:06:45.119Z"
   },
   {
    "duration": 16,
    "start_time": "2024-10-17T16:06:45.128Z"
   },
   {
    "duration": 8,
    "start_time": "2024-10-17T16:06:45.145Z"
   },
   {
    "duration": 42,
    "start_time": "2024-10-17T16:06:45.154Z"
   },
   {
    "duration": 12,
    "start_time": "2024-10-17T16:06:45.198Z"
   },
   {
    "duration": 15,
    "start_time": "2024-10-17T16:06:45.213Z"
   },
   {
    "duration": 3,
    "start_time": "2024-10-17T16:06:45.230Z"
   },
   {
    "duration": 16,
    "start_time": "2024-10-17T16:06:45.235Z"
   },
   {
    "duration": 37,
    "start_time": "2024-10-17T16:06:45.253Z"
   },
   {
    "duration": 3,
    "start_time": "2024-10-17T16:06:45.292Z"
   },
   {
    "duration": 9,
    "start_time": "2024-10-17T16:06:45.297Z"
   },
   {
    "duration": 7,
    "start_time": "2024-10-17T16:06:45.307Z"
   },
   {
    "duration": 10,
    "start_time": "2024-10-17T16:06:45.317Z"
   },
   {
    "duration": 7,
    "start_time": "2024-10-17T16:06:45.328Z"
   },
   {
    "duration": 54,
    "start_time": "2024-10-17T16:06:45.337Z"
   },
   {
    "duration": 3,
    "start_time": "2024-10-17T16:06:45.393Z"
   },
   {
    "duration": 8,
    "start_time": "2024-10-17T16:06:45.398Z"
   },
   {
    "duration": 20,
    "start_time": "2024-10-17T16:06:45.408Z"
   },
   {
    "duration": 23360,
    "start_time": "2024-10-17T16:06:45.430Z"
   },
   {
    "duration": 108,
    "start_time": "2024-10-17T16:07:08.792Z"
   },
   {
    "duration": 4,
    "start_time": "2024-10-17T16:07:08.903Z"
   },
   {
    "duration": 4,
    "start_time": "2024-10-17T16:07:08.908Z"
   },
   {
    "duration": 90,
    "start_time": "2024-10-17T16:07:08.914Z"
   },
   {
    "duration": 5649,
    "start_time": "2024-10-17T16:07:09.006Z"
   },
   {
    "duration": 105,
    "start_time": "2024-10-17T16:07:14.657Z"
   },
   {
    "duration": 3,
    "start_time": "2024-10-17T16:07:14.764Z"
   },
   {
    "duration": 3,
    "start_time": "2024-10-17T16:07:14.769Z"
   },
   {
    "duration": 67,
    "start_time": "2024-10-17T16:07:14.787Z"
   },
   {
    "duration": 5688,
    "start_time": "2024-10-17T16:07:14.856Z"
   },
   {
    "duration": 132,
    "start_time": "2024-10-17T16:07:20.546Z"
   },
   {
    "duration": 7,
    "start_time": "2024-10-17T16:07:20.680Z"
   },
   {
    "duration": 4,
    "start_time": "2024-10-17T16:07:20.689Z"
   },
   {
    "duration": 68,
    "start_time": "2024-10-17T16:07:20.694Z"
   },
   {
    "duration": 22,
    "start_time": "2024-10-17T16:07:20.764Z"
   },
   {
    "duration": 2,
    "start_time": "2024-10-17T16:07:20.788Z"
   },
   {
    "duration": 2,
    "start_time": "2024-10-17T16:07:20.792Z"
   },
   {
    "duration": 2,
    "start_time": "2024-10-17T16:07:20.796Z"
   },
   {
    "duration": 4,
    "start_time": "2024-10-17T16:07:20.801Z"
   },
   {
    "duration": 4,
    "start_time": "2024-10-17T16:07:20.809Z"
   },
   {
    "duration": 766,
    "start_time": "2024-10-17T16:12:32.984Z"
   },
   {
    "duration": 181,
    "start_time": "2024-10-17T16:13:39.898Z"
   },
   {
    "duration": 186,
    "start_time": "2024-10-17T16:17:37.057Z"
   },
   {
    "duration": 181,
    "start_time": "2024-10-17T16:18:10.113Z"
   },
   {
    "duration": 113,
    "start_time": "2024-10-17T16:18:19.311Z"
   },
   {
    "duration": 141,
    "start_time": "2024-10-17T16:20:11.800Z"
   },
   {
    "duration": 15,
    "start_time": "2024-10-17T16:20:52.708Z"
   },
   {
    "duration": 12,
    "start_time": "2024-10-17T16:21:03.140Z"
   },
   {
    "duration": 21,
    "start_time": "2024-10-17T16:21:19.629Z"
   },
   {
    "duration": 4,
    "start_time": "2024-10-17T16:24:34.288Z"
   },
   {
    "duration": 190,
    "start_time": "2024-10-17T16:24:48.668Z"
   },
   {
    "duration": 118,
    "start_time": "2024-10-17T16:25:55.604Z"
   },
   {
    "duration": 3,
    "start_time": "2024-10-17T16:26:56.911Z"
   },
   {
    "duration": 3,
    "start_time": "2024-10-17T16:27:25.182Z"
   },
   {
    "duration": 4,
    "start_time": "2024-10-17T16:27:26.631Z"
   },
   {
    "duration": 3,
    "start_time": "2024-10-17T16:27:59.439Z"
   },
   {
    "duration": 754,
    "start_time": "2024-10-17T16:28:11.847Z"
   },
   {
    "duration": 153,
    "start_time": "2024-10-17T16:28:12.603Z"
   },
   {
    "duration": 9,
    "start_time": "2024-10-17T16:28:12.757Z"
   },
   {
    "duration": 5,
    "start_time": "2024-10-17T16:28:12.769Z"
   },
   {
    "duration": 17,
    "start_time": "2024-10-17T16:28:12.776Z"
   },
   {
    "duration": 8,
    "start_time": "2024-10-17T16:28:12.795Z"
   },
   {
    "duration": 5,
    "start_time": "2024-10-17T16:28:12.805Z"
   },
   {
    "duration": 3,
    "start_time": "2024-10-17T16:28:12.812Z"
   },
   {
    "duration": 4,
    "start_time": "2024-10-17T16:28:12.816Z"
   },
   {
    "duration": 4,
    "start_time": "2024-10-17T16:28:12.824Z"
   },
   {
    "duration": 11,
    "start_time": "2024-10-17T16:28:12.829Z"
   },
   {
    "duration": 49,
    "start_time": "2024-10-17T16:28:12.841Z"
   },
   {
    "duration": 15,
    "start_time": "2024-10-17T16:28:12.892Z"
   },
   {
    "duration": 4,
    "start_time": "2024-10-17T16:28:12.909Z"
   },
   {
    "duration": 77,
    "start_time": "2024-10-17T16:28:12.915Z"
   },
   {
    "duration": 17,
    "start_time": "2024-10-17T16:28:12.993Z"
   },
   {
    "duration": 32,
    "start_time": "2024-10-17T16:28:13.012Z"
   },
   {
    "duration": 16,
    "start_time": "2024-10-17T16:28:13.046Z"
   },
   {
    "duration": 8,
    "start_time": "2024-10-17T16:28:13.086Z"
   },
   {
    "duration": 19,
    "start_time": "2024-10-17T16:28:13.096Z"
   },
   {
    "duration": 15,
    "start_time": "2024-10-17T16:28:13.117Z"
   },
   {
    "duration": 6,
    "start_time": "2024-10-17T16:28:13.134Z"
   },
   {
    "duration": 70,
    "start_time": "2024-10-17T16:28:13.142Z"
   },
   {
    "duration": 12,
    "start_time": "2024-10-17T16:28:13.214Z"
   },
   {
    "duration": 15,
    "start_time": "2024-10-17T16:28:13.227Z"
   },
   {
    "duration": 12,
    "start_time": "2024-10-17T16:28:13.244Z"
   },
   {
    "duration": 31,
    "start_time": "2024-10-17T16:28:13.258Z"
   },
   {
    "duration": 15,
    "start_time": "2024-10-17T16:28:13.296Z"
   },
   {
    "duration": 14,
    "start_time": "2024-10-17T16:28:13.313Z"
   },
   {
    "duration": 5,
    "start_time": "2024-10-17T16:28:13.328Z"
   },
   {
    "duration": 75,
    "start_time": "2024-10-17T16:28:13.335Z"
   },
   {
    "duration": 12,
    "start_time": "2024-10-17T16:28:13.412Z"
   },
   {
    "duration": 33,
    "start_time": "2024-10-17T16:28:13.426Z"
   },
   {
    "duration": 31,
    "start_time": "2024-10-17T16:28:13.462Z"
   },
   {
    "duration": 7,
    "start_time": "2024-10-17T16:28:13.495Z"
   },
   {
    "duration": 5,
    "start_time": "2024-10-17T16:28:13.504Z"
   },
   {
    "duration": 0,
    "start_time": "2024-10-17T16:28:13.510Z"
   },
   {
    "duration": 0,
    "start_time": "2024-10-17T16:28:13.512Z"
   },
   {
    "duration": 0,
    "start_time": "2024-10-17T16:28:13.513Z"
   },
   {
    "duration": 0,
    "start_time": "2024-10-17T16:28:13.514Z"
   },
   {
    "duration": 0,
    "start_time": "2024-10-17T16:28:13.516Z"
   },
   {
    "duration": 0,
    "start_time": "2024-10-17T16:28:13.517Z"
   },
   {
    "duration": 0,
    "start_time": "2024-10-17T16:28:13.518Z"
   },
   {
    "duration": 0,
    "start_time": "2024-10-17T16:28:13.519Z"
   },
   {
    "duration": 0,
    "start_time": "2024-10-17T16:28:13.520Z"
   },
   {
    "duration": 0,
    "start_time": "2024-10-17T16:28:13.522Z"
   },
   {
    "duration": 0,
    "start_time": "2024-10-17T16:28:13.523Z"
   },
   {
    "duration": 0,
    "start_time": "2024-10-17T16:28:13.524Z"
   },
   {
    "duration": 0,
    "start_time": "2024-10-17T16:28:13.526Z"
   },
   {
    "duration": 0,
    "start_time": "2024-10-17T16:28:13.527Z"
   },
   {
    "duration": 0,
    "start_time": "2024-10-17T16:28:13.528Z"
   },
   {
    "duration": 0,
    "start_time": "2024-10-17T16:28:13.529Z"
   },
   {
    "duration": 0,
    "start_time": "2024-10-17T16:28:13.530Z"
   },
   {
    "duration": 0,
    "start_time": "2024-10-17T16:28:13.531Z"
   },
   {
    "duration": 0,
    "start_time": "2024-10-17T16:28:13.532Z"
   },
   {
    "duration": 0,
    "start_time": "2024-10-17T16:28:13.533Z"
   },
   {
    "duration": 0,
    "start_time": "2024-10-17T16:28:13.534Z"
   },
   {
    "duration": 0,
    "start_time": "2024-10-17T16:28:13.535Z"
   },
   {
    "duration": 0,
    "start_time": "2024-10-17T16:28:13.536Z"
   },
   {
    "duration": 0,
    "start_time": "2024-10-17T16:28:13.587Z"
   },
   {
    "duration": 0,
    "start_time": "2024-10-17T16:28:13.590Z"
   },
   {
    "duration": 0,
    "start_time": "2024-10-17T16:28:13.592Z"
   },
   {
    "duration": 0,
    "start_time": "2024-10-17T16:28:13.592Z"
   },
   {
    "duration": 0,
    "start_time": "2024-10-17T16:28:13.593Z"
   },
   {
    "duration": 0,
    "start_time": "2024-10-17T16:28:13.595Z"
   },
   {
    "duration": 0,
    "start_time": "2024-10-17T16:28:13.596Z"
   },
   {
    "duration": 0,
    "start_time": "2024-10-17T16:28:13.598Z"
   },
   {
    "duration": 0,
    "start_time": "2024-10-17T16:28:13.598Z"
   },
   {
    "duration": 0,
    "start_time": "2024-10-17T16:28:13.599Z"
   },
   {
    "duration": 0,
    "start_time": "2024-10-17T16:28:13.600Z"
   },
   {
    "duration": 0,
    "start_time": "2024-10-17T16:28:13.601Z"
   },
   {
    "duration": 0,
    "start_time": "2024-10-17T16:28:13.602Z"
   },
   {
    "duration": 0,
    "start_time": "2024-10-17T16:28:13.604Z"
   },
   {
    "duration": 0,
    "start_time": "2024-10-17T16:28:13.605Z"
   },
   {
    "duration": 0,
    "start_time": "2024-10-17T16:28:13.606Z"
   },
   {
    "duration": 0,
    "start_time": "2024-10-17T16:28:13.607Z"
   },
   {
    "duration": 0,
    "start_time": "2024-10-17T16:28:13.608Z"
   },
   {
    "duration": 0,
    "start_time": "2024-10-17T16:28:13.609Z"
   },
   {
    "duration": 0,
    "start_time": "2024-10-17T16:28:13.610Z"
   },
   {
    "duration": 17,
    "start_time": "2024-10-17T16:29:16.759Z"
   },
   {
    "duration": 804,
    "start_time": "2024-10-17T16:29:23.895Z"
   },
   {
    "duration": 158,
    "start_time": "2024-10-17T16:29:24.701Z"
   },
   {
    "duration": 9,
    "start_time": "2024-10-17T16:29:24.861Z"
   },
   {
    "duration": 14,
    "start_time": "2024-10-17T16:29:24.873Z"
   },
   {
    "duration": 9,
    "start_time": "2024-10-17T16:29:24.889Z"
   },
   {
    "duration": 8,
    "start_time": "2024-10-17T16:29:24.900Z"
   },
   {
    "duration": 5,
    "start_time": "2024-10-17T16:29:24.910Z"
   },
   {
    "duration": 3,
    "start_time": "2024-10-17T16:29:24.917Z"
   },
   {
    "duration": 3,
    "start_time": "2024-10-17T16:29:24.922Z"
   },
   {
    "duration": 4,
    "start_time": "2024-10-17T16:29:24.929Z"
   },
   {
    "duration": 11,
    "start_time": "2024-10-17T16:29:24.934Z"
   },
   {
    "duration": 4,
    "start_time": "2024-10-17T16:29:24.987Z"
   },
   {
    "duration": 15,
    "start_time": "2024-10-17T16:29:24.993Z"
   },
   {
    "duration": 5,
    "start_time": "2024-10-17T16:29:25.009Z"
   },
   {
    "duration": 94,
    "start_time": "2024-10-17T16:29:25.016Z"
   },
   {
    "duration": 16,
    "start_time": "2024-10-17T16:29:25.112Z"
   },
   {
    "duration": 29,
    "start_time": "2024-10-17T16:29:25.130Z"
   },
   {
    "duration": 36,
    "start_time": "2024-10-17T16:29:25.161Z"
   },
   {
    "duration": 8,
    "start_time": "2024-10-17T16:29:25.199Z"
   },
   {
    "duration": 18,
    "start_time": "2024-10-17T16:29:25.209Z"
   },
   {
    "duration": 11,
    "start_time": "2024-10-17T16:29:25.229Z"
   },
   {
    "duration": 4,
    "start_time": "2024-10-17T16:29:25.242Z"
   },
   {
    "duration": 61,
    "start_time": "2024-10-17T16:29:25.247Z"
   },
   {
    "duration": 10,
    "start_time": "2024-10-17T16:29:25.309Z"
   },
   {
    "duration": 14,
    "start_time": "2024-10-17T16:29:25.321Z"
   },
   {
    "duration": 12,
    "start_time": "2024-10-17T16:29:25.337Z"
   },
   {
    "duration": 5,
    "start_time": "2024-10-17T16:29:25.351Z"
   },
   {
    "duration": 14,
    "start_time": "2024-10-17T16:29:25.388Z"
   },
   {
    "duration": 13,
    "start_time": "2024-10-17T16:29:25.403Z"
   },
   {
    "duration": 4,
    "start_time": "2024-10-17T16:29:25.418Z"
   },
   {
    "duration": 68,
    "start_time": "2024-10-17T16:29:25.424Z"
   },
   {
    "duration": 13,
    "start_time": "2024-10-17T16:29:25.494Z"
   },
   {
    "duration": 32,
    "start_time": "2024-10-17T16:29:25.509Z"
   },
   {
    "duration": 13,
    "start_time": "2024-10-17T16:29:25.543Z"
   },
   {
    "duration": 31,
    "start_time": "2024-10-17T16:29:25.558Z"
   },
   {
    "duration": 17,
    "start_time": "2024-10-17T16:29:25.590Z"
   },
   {
    "duration": 4,
    "start_time": "2024-10-17T16:29:25.608Z"
   },
   {
    "duration": 18,
    "start_time": "2024-10-17T16:29:25.615Z"
   },
   {
    "duration": 7,
    "start_time": "2024-10-17T16:29:25.635Z"
   },
   {
    "duration": 46,
    "start_time": "2024-10-17T16:29:25.643Z"
   },
   {
    "duration": 8,
    "start_time": "2024-10-17T16:29:25.691Z"
   },
   {
    "duration": 11,
    "start_time": "2024-10-17T16:29:25.700Z"
   },
   {
    "duration": 10,
    "start_time": "2024-10-17T16:29:25.713Z"
   },
   {
    "duration": 17,
    "start_time": "2024-10-17T16:29:25.724Z"
   },
   {
    "duration": 4,
    "start_time": "2024-10-17T16:29:25.743Z"
   },
   {
    "duration": 45,
    "start_time": "2024-10-17T16:29:25.750Z"
   },
   {
    "duration": 11,
    "start_time": "2024-10-17T16:29:25.796Z"
   },
   {
    "duration": 3,
    "start_time": "2024-10-17T16:29:25.809Z"
   },
   {
    "duration": 7,
    "start_time": "2024-10-17T16:29:25.814Z"
   },
   {
    "duration": 5,
    "start_time": "2024-10-17T16:29:25.823Z"
   },
   {
    "duration": 11,
    "start_time": "2024-10-17T16:29:25.829Z"
   },
   {
    "duration": 5,
    "start_time": "2024-10-17T16:29:25.842Z"
   },
   {
    "duration": 21,
    "start_time": "2024-10-17T16:29:25.886Z"
   },
   {
    "duration": 3,
    "start_time": "2024-10-17T16:29:25.909Z"
   },
   {
    "duration": 8,
    "start_time": "2024-10-17T16:29:25.914Z"
   },
   {
    "duration": 19,
    "start_time": "2024-10-17T16:29:25.923Z"
   },
   {
    "duration": 3,
    "start_time": "2024-10-17T16:29:25.943Z"
   },
   {
    "duration": 232,
    "start_time": "2024-10-17T16:29:25.948Z"
   },
   {
    "duration": 112,
    "start_time": "2024-10-17T16:29:26.188Z"
   },
   {
    "duration": 4,
    "start_time": "2024-10-17T16:29:26.302Z"
   },
   {
    "duration": 3,
    "start_time": "2024-10-17T16:29:26.308Z"
   },
   {
    "duration": 148,
    "start_time": "2024-10-17T16:29:26.313Z"
   },
   {
    "duration": 189,
    "start_time": "2024-10-17T16:29:26.463Z"
   },
   {
    "duration": 110,
    "start_time": "2024-10-17T16:29:26.655Z"
   },
   {
    "duration": 4,
    "start_time": "2024-10-17T16:29:26.767Z"
   },
   {
    "duration": 3,
    "start_time": "2024-10-17T16:29:26.787Z"
   },
   {
    "duration": 70,
    "start_time": "2024-10-17T16:29:26.792Z"
   },
   {
    "duration": 214,
    "start_time": "2024-10-17T16:29:26.864Z"
   },
   {
    "duration": 130,
    "start_time": "2024-10-17T16:29:27.080Z"
   },
   {
    "duration": 3,
    "start_time": "2024-10-17T16:29:27.212Z"
   },
   {
    "duration": 3,
    "start_time": "2024-10-17T16:29:27.217Z"
   },
   {
    "duration": 91,
    "start_time": "2024-10-17T16:29:27.222Z"
   },
   {
    "duration": 206,
    "start_time": "2024-10-17T16:29:27.314Z"
   },
   {
    "duration": 126,
    "start_time": "2024-10-17T16:29:27.522Z"
   },
   {
    "duration": 4,
    "start_time": "2024-10-17T16:29:27.649Z"
   },
   {
    "duration": 3,
    "start_time": "2024-10-17T16:29:27.654Z"
   },
   {
    "duration": 2,
    "start_time": "2024-10-17T16:29:27.659Z"
   },
   {
    "duration": 2,
    "start_time": "2024-10-17T16:29:27.664Z"
   },
   {
    "duration": 2,
    "start_time": "2024-10-17T16:29:27.686Z"
   },
   {
    "duration": 290,
    "start_time": "2024-10-17T16:34:16.233Z"
   },
   {
    "duration": 140,
    "start_time": "2024-10-17T16:34:32.980Z"
   },
   {
    "duration": 42,
    "start_time": "2024-10-17T16:35:45.701Z"
   },
   {
    "duration": 186,
    "start_time": "2024-10-17T16:53:15.717Z"
   },
   {
    "duration": 108,
    "start_time": "2024-10-17T16:54:59.452Z"
   },
   {
    "duration": 114,
    "start_time": "2024-10-17T16:55:42.924Z"
   },
   {
    "duration": 44,
    "start_time": "2024-10-17T16:55:52.466Z"
   },
   {
    "duration": 6,
    "start_time": "2024-10-17T16:57:05.532Z"
   },
   {
    "duration": 525,
    "start_time": "2024-10-17T16:57:23.867Z"
   },
   {
    "duration": 2688,
    "start_time": "2024-10-18T15:59:03.934Z"
   },
   {
    "duration": 246,
    "start_time": "2024-10-18T15:59:06.625Z"
   },
   {
    "duration": 11,
    "start_time": "2024-10-18T15:59:06.873Z"
   },
   {
    "duration": 7,
    "start_time": "2024-10-18T15:59:06.887Z"
   },
   {
    "duration": 15,
    "start_time": "2024-10-18T15:59:06.895Z"
   },
   {
    "duration": 9,
    "start_time": "2024-10-18T15:59:06.911Z"
   },
   {
    "duration": 7,
    "start_time": "2024-10-18T15:59:06.922Z"
   },
   {
    "duration": 3,
    "start_time": "2024-10-18T15:59:06.931Z"
   },
   {
    "duration": 4,
    "start_time": "2024-10-18T15:59:06.935Z"
   },
   {
    "duration": 4,
    "start_time": "2024-10-18T15:59:06.943Z"
   },
   {
    "duration": 15,
    "start_time": "2024-10-18T15:59:06.949Z"
   },
   {
    "duration": 43,
    "start_time": "2024-10-18T15:59:06.966Z"
   },
   {
    "duration": 22,
    "start_time": "2024-10-18T15:59:07.012Z"
   },
   {
    "duration": 5,
    "start_time": "2024-10-18T15:59:07.036Z"
   },
   {
    "duration": 78,
    "start_time": "2024-10-18T15:59:07.044Z"
   },
   {
    "duration": 18,
    "start_time": "2024-10-18T15:59:07.124Z"
   },
   {
    "duration": 42,
    "start_time": "2024-10-18T15:59:07.144Z"
   },
   {
    "duration": 38,
    "start_time": "2024-10-18T15:59:07.188Z"
   },
   {
    "duration": 8,
    "start_time": "2024-10-18T15:59:07.228Z"
   },
   {
    "duration": 17,
    "start_time": "2024-10-18T15:59:07.238Z"
   },
   {
    "duration": 12,
    "start_time": "2024-10-18T15:59:07.256Z"
   },
   {
    "duration": 8,
    "start_time": "2024-10-18T15:59:07.271Z"
   },
   {
    "duration": 54,
    "start_time": "2024-10-18T15:59:07.286Z"
   },
   {
    "duration": 13,
    "start_time": "2024-10-18T15:59:07.342Z"
   },
   {
    "duration": 16,
    "start_time": "2024-10-18T15:59:07.356Z"
   },
   {
    "duration": 38,
    "start_time": "2024-10-18T15:59:07.374Z"
   },
   {
    "duration": 6,
    "start_time": "2024-10-18T15:59:07.414Z"
   },
   {
    "duration": 14,
    "start_time": "2024-10-18T15:59:07.426Z"
   },
   {
    "duration": 14,
    "start_time": "2024-10-18T15:59:07.442Z"
   },
   {
    "duration": 5,
    "start_time": "2024-10-18T15:59:07.457Z"
   },
   {
    "duration": 85,
    "start_time": "2024-10-18T15:59:07.464Z"
   },
   {
    "duration": 14,
    "start_time": "2024-10-18T15:59:07.551Z"
   },
   {
    "duration": 47,
    "start_time": "2024-10-18T15:59:07.567Z"
   },
   {
    "duration": 15,
    "start_time": "2024-10-18T15:59:07.618Z"
   },
   {
    "duration": 6,
    "start_time": "2024-10-18T15:59:07.635Z"
   },
   {
    "duration": 17,
    "start_time": "2024-10-18T15:59:07.643Z"
   },
   {
    "duration": 4,
    "start_time": "2024-10-18T15:59:07.662Z"
   },
   {
    "duration": 50,
    "start_time": "2024-10-18T15:59:07.668Z"
   },
   {
    "duration": 8,
    "start_time": "2024-10-18T15:59:07.720Z"
   },
   {
    "duration": 21,
    "start_time": "2024-10-18T15:59:07.729Z"
   },
   {
    "duration": 6,
    "start_time": "2024-10-18T15:59:07.752Z"
   },
   {
    "duration": 11,
    "start_time": "2024-10-18T15:59:07.760Z"
   },
   {
    "duration": 40,
    "start_time": "2024-10-18T15:59:07.773Z"
   },
   {
    "duration": 20,
    "start_time": "2024-10-18T15:59:07.815Z"
   },
   {
    "duration": 4,
    "start_time": "2024-10-18T15:59:07.836Z"
   },
   {
    "duration": 12,
    "start_time": "2024-10-18T15:59:07.841Z"
   },
   {
    "duration": 11,
    "start_time": "2024-10-18T15:59:07.855Z"
   },
   {
    "duration": 4,
    "start_time": "2024-10-18T15:59:07.868Z"
   },
   {
    "duration": 41,
    "start_time": "2024-10-18T15:59:07.874Z"
   },
   {
    "duration": 6,
    "start_time": "2024-10-18T15:59:07.917Z"
   },
   {
    "duration": 12,
    "start_time": "2024-10-18T15:59:07.924Z"
   },
   {
    "duration": 6,
    "start_time": "2024-10-18T15:59:07.939Z"
   },
   {
    "duration": 23,
    "start_time": "2024-10-18T15:59:07.947Z"
   },
   {
    "duration": 3,
    "start_time": "2024-10-18T15:59:07.972Z"
   },
   {
    "duration": 33,
    "start_time": "2024-10-18T15:59:07.977Z"
   },
   {
    "duration": 21,
    "start_time": "2024-10-18T15:59:08.011Z"
   },
   {
    "duration": 4,
    "start_time": "2024-10-18T15:59:08.033Z"
   },
   {
    "duration": 271,
    "start_time": "2024-10-18T15:59:08.038Z"
   },
   {
    "duration": 123,
    "start_time": "2024-10-18T15:59:08.312Z"
   },
   {
    "duration": 274,
    "start_time": "2024-10-18T15:59:08.437Z"
   },
   {
    "duration": 0,
    "start_time": "2024-10-18T15:59:08.714Z"
   },
   {
    "duration": 0,
    "start_time": "2024-10-18T15:59:08.716Z"
   },
   {
    "duration": 0,
    "start_time": "2024-10-18T15:59:08.718Z"
   },
   {
    "duration": 1,
    "start_time": "2024-10-18T15:59:08.718Z"
   },
   {
    "duration": 0,
    "start_time": "2024-10-18T15:59:08.719Z"
   },
   {
    "duration": 0,
    "start_time": "2024-10-18T15:59:08.721Z"
   },
   {
    "duration": 0,
    "start_time": "2024-10-18T15:59:08.722Z"
   },
   {
    "duration": 0,
    "start_time": "2024-10-18T15:59:08.724Z"
   },
   {
    "duration": 0,
    "start_time": "2024-10-18T15:59:08.725Z"
   },
   {
    "duration": 0,
    "start_time": "2024-10-18T15:59:08.727Z"
   },
   {
    "duration": 0,
    "start_time": "2024-10-18T15:59:08.729Z"
   },
   {
    "duration": 0,
    "start_time": "2024-10-18T15:59:08.730Z"
   },
   {
    "duration": 0,
    "start_time": "2024-10-18T15:59:08.731Z"
   },
   {
    "duration": 0,
    "start_time": "2024-10-18T15:59:08.733Z"
   },
   {
    "duration": 0,
    "start_time": "2024-10-18T15:59:08.734Z"
   },
   {
    "duration": 0,
    "start_time": "2024-10-18T15:59:08.736Z"
   },
   {
    "duration": 0,
    "start_time": "2024-10-18T15:59:08.737Z"
   },
   {
    "duration": 0,
    "start_time": "2024-10-18T15:59:08.739Z"
   },
   {
    "duration": 0,
    "start_time": "2024-10-18T15:59:08.740Z"
   },
   {
    "duration": 0,
    "start_time": "2024-10-18T15:59:08.741Z"
   },
   {
    "duration": 270,
    "start_time": "2024-10-18T16:00:47.648Z"
   },
   {
    "duration": 157,
    "start_time": "2024-10-18T16:00:58.495Z"
   },
   {
    "duration": 116,
    "start_time": "2024-10-18T16:01:08.784Z"
   },
   {
    "duration": 7,
    "start_time": "2024-10-18T16:27:11.358Z"
   },
   {
    "duration": 161,
    "start_time": "2024-10-18T16:27:21.407Z"
   },
   {
    "duration": 164,
    "start_time": "2024-10-18T16:27:41.298Z"
   },
   {
    "duration": 188,
    "start_time": "2024-10-18T16:29:36.104Z"
   },
   {
    "duration": 191,
    "start_time": "2024-10-18T16:29:53.658Z"
   },
   {
    "duration": 192,
    "start_time": "2024-10-18T16:30:17.594Z"
   },
   {
    "duration": 4,
    "start_time": "2024-10-18T16:30:35.701Z"
   },
   {
    "duration": 3,
    "start_time": "2024-10-18T16:30:37.422Z"
   },
   {
    "duration": 239,
    "start_time": "2024-10-18T16:31:43.693Z"
   },
   {
    "duration": 4,
    "start_time": "2024-10-18T16:31:49.085Z"
   },
   {
    "duration": 4,
    "start_time": "2024-10-18T16:31:49.715Z"
   },
   {
    "duration": 5,
    "start_time": "2024-10-18T16:33:03.785Z"
   },
   {
    "duration": 174,
    "start_time": "2024-10-18T16:33:08.177Z"
   },
   {
    "duration": 4,
    "start_time": "2024-10-18T16:33:12.699Z"
   },
   {
    "duration": 3,
    "start_time": "2024-10-18T16:33:13.464Z"
   },
   {
    "duration": 173,
    "start_time": "2024-10-18T16:34:15.108Z"
   },
   {
    "duration": 3,
    "start_time": "2024-10-18T16:34:16.786Z"
   },
   {
    "duration": 4,
    "start_time": "2024-10-18T16:34:17.239Z"
   },
   {
    "duration": 179,
    "start_time": "2024-10-18T16:35:02.226Z"
   },
   {
    "duration": 148,
    "start_time": "2024-10-18T16:35:20.990Z"
   },
   {
    "duration": 3,
    "start_time": "2024-10-18T16:35:28.423Z"
   },
   {
    "duration": 3,
    "start_time": "2024-10-18T16:35:29.181Z"
   },
   {
    "duration": 2470,
    "start_time": "2024-10-18T19:35:31.359Z"
   },
   {
    "duration": 213,
    "start_time": "2024-10-18T19:35:33.832Z"
   },
   {
    "duration": 10,
    "start_time": "2024-10-18T19:35:34.047Z"
   },
   {
    "duration": 5,
    "start_time": "2024-10-18T19:35:34.059Z"
   },
   {
    "duration": 9,
    "start_time": "2024-10-18T19:35:34.066Z"
   },
   {
    "duration": 7,
    "start_time": "2024-10-18T19:35:34.077Z"
   },
   {
    "duration": 5,
    "start_time": "2024-10-18T19:35:34.087Z"
   },
   {
    "duration": 4,
    "start_time": "2024-10-18T19:35:34.094Z"
   },
   {
    "duration": 4,
    "start_time": "2024-10-18T19:35:34.099Z"
   },
   {
    "duration": 5,
    "start_time": "2024-10-18T19:35:34.108Z"
   },
   {
    "duration": 11,
    "start_time": "2024-10-18T19:35:34.114Z"
   },
   {
    "duration": 3,
    "start_time": "2024-10-18T19:35:34.127Z"
   },
   {
    "duration": 51,
    "start_time": "2024-10-18T19:35:34.132Z"
   },
   {
    "duration": 4,
    "start_time": "2024-10-18T19:35:34.185Z"
   },
   {
    "duration": 79,
    "start_time": "2024-10-18T19:35:34.191Z"
   },
   {
    "duration": 17,
    "start_time": "2024-10-18T19:35:34.272Z"
   },
   {
    "duration": 30,
    "start_time": "2024-10-18T19:35:34.291Z"
   },
   {
    "duration": 16,
    "start_time": "2024-10-18T19:35:34.324Z"
   },
   {
    "duration": 29,
    "start_time": "2024-10-18T19:35:34.341Z"
   },
   {
    "duration": 18,
    "start_time": "2024-10-18T19:35:34.372Z"
   },
   {
    "duration": 13,
    "start_time": "2024-10-18T19:35:34.392Z"
   },
   {
    "duration": 5,
    "start_time": "2024-10-18T19:35:34.407Z"
   },
   {
    "duration": 64,
    "start_time": "2024-10-18T19:35:34.414Z"
   },
   {
    "duration": 11,
    "start_time": "2024-10-18T19:35:34.480Z"
   },
   {
    "duration": 14,
    "start_time": "2024-10-18T19:35:34.492Z"
   },
   {
    "duration": 13,
    "start_time": "2024-10-18T19:35:34.507Z"
   },
   {
    "duration": 5,
    "start_time": "2024-10-18T19:35:34.521Z"
   },
   {
    "duration": 43,
    "start_time": "2024-10-18T19:35:34.532Z"
   },
   {
    "duration": 14,
    "start_time": "2024-10-18T19:35:34.577Z"
   },
   {
    "duration": 4,
    "start_time": "2024-10-18T19:35:34.592Z"
   },
   {
    "duration": 50,
    "start_time": "2024-10-18T19:35:34.598Z"
   },
   {
    "duration": 31,
    "start_time": "2024-10-18T19:35:34.650Z"
   },
   {
    "duration": 34,
    "start_time": "2024-10-18T19:35:34.682Z"
   },
   {
    "duration": 14,
    "start_time": "2024-10-18T19:35:34.717Z"
   },
   {
    "duration": 6,
    "start_time": "2024-10-18T19:35:34.733Z"
   },
   {
    "duration": 44,
    "start_time": "2024-10-18T19:35:34.740Z"
   },
   {
    "duration": 4,
    "start_time": "2024-10-18T19:35:34.786Z"
   },
   {
    "duration": 19,
    "start_time": "2024-10-18T19:35:34.793Z"
   },
   {
    "duration": 16,
    "start_time": "2024-10-18T19:35:34.814Z"
   },
   {
    "duration": 15,
    "start_time": "2024-10-18T19:35:34.834Z"
   },
   {
    "duration": 7,
    "start_time": "2024-10-18T19:35:34.869Z"
   },
   {
    "duration": 16,
    "start_time": "2024-10-18T19:35:34.877Z"
   },
   {
    "duration": 16,
    "start_time": "2024-10-18T19:35:34.895Z"
   },
   {
    "duration": 20,
    "start_time": "2024-10-18T19:35:34.913Z"
   },
   {
    "duration": 4,
    "start_time": "2024-10-18T19:35:34.934Z"
   },
   {
    "duration": 35,
    "start_time": "2024-10-18T19:35:34.940Z"
   },
   {
    "duration": 11,
    "start_time": "2024-10-18T19:35:34.977Z"
   },
   {
    "duration": 3,
    "start_time": "2024-10-18T19:35:34.990Z"
   },
   {
    "duration": 7,
    "start_time": "2024-10-18T19:35:34.995Z"
   },
   {
    "duration": 5,
    "start_time": "2024-10-18T19:35:35.003Z"
   },
   {
    "duration": 11,
    "start_time": "2024-10-18T19:35:35.011Z"
   },
   {
    "duration": 5,
    "start_time": "2024-10-18T19:35:35.025Z"
   },
   {
    "duration": 23,
    "start_time": "2024-10-18T19:35:35.070Z"
   },
   {
    "duration": 3,
    "start_time": "2024-10-18T19:35:35.095Z"
   },
   {
    "duration": 7,
    "start_time": "2024-10-18T19:35:35.100Z"
   },
   {
    "duration": 19,
    "start_time": "2024-10-18T19:35:35.108Z"
   },
   {
    "duration": 4,
    "start_time": "2024-10-18T19:35:35.129Z"
   },
   {
    "duration": 230,
    "start_time": "2024-10-18T19:35:35.134Z"
   },
   {
    "duration": 161,
    "start_time": "2024-10-18T19:35:35.369Z"
   },
   {
    "duration": 4,
    "start_time": "2024-10-18T19:35:35.531Z"
   },
   {
    "duration": 4,
    "start_time": "2024-10-18T19:35:35.537Z"
   },
   {
    "duration": 740,
    "start_time": "2024-10-18T19:35:35.542Z"
   },
   {
    "duration": 191,
    "start_time": "2024-10-18T19:35:36.284Z"
   },
   {
    "duration": 179,
    "start_time": "2024-10-18T19:35:36.477Z"
   },
   {
    "duration": 4,
    "start_time": "2024-10-18T19:35:36.658Z"
   },
   {
    "duration": 10,
    "start_time": "2024-10-18T19:35:36.663Z"
   },
   {
    "duration": 70,
    "start_time": "2024-10-18T19:35:36.676Z"
   },
   {
    "duration": 222,
    "start_time": "2024-10-18T19:35:36.748Z"
   },
   {
    "duration": 176,
    "start_time": "2024-10-18T19:35:36.972Z"
   },
   {
    "duration": 3,
    "start_time": "2024-10-18T19:35:37.149Z"
   },
   {
    "duration": 3,
    "start_time": "2024-10-18T19:35:37.154Z"
   },
   {
    "duration": 75,
    "start_time": "2024-10-18T19:35:37.176Z"
   },
   {
    "duration": 196,
    "start_time": "2024-10-18T19:35:37.253Z"
   },
   {
    "duration": 152,
    "start_time": "2024-10-18T19:35:37.450Z"
   },
   {
    "duration": 3,
    "start_time": "2024-10-18T19:35:37.604Z"
   },
   {
    "duration": 3,
    "start_time": "2024-10-18T19:35:37.609Z"
   },
   {
    "duration": 3,
    "start_time": "2024-10-18T19:35:37.613Z"
   },
   {
    "duration": 3,
    "start_time": "2024-10-18T19:35:37.617Z"
   },
   {
    "duration": 3,
    "start_time": "2024-10-18T19:35:37.621Z"
   },
   {
    "duration": 6,
    "start_time": "2024-10-18T19:37:14.026Z"
   },
   {
    "duration": 904,
    "start_time": "2024-10-18T19:37:21.194Z"
   },
   {
    "duration": 5,
    "start_time": "2024-10-18T19:38:19.115Z"
   },
   {
    "duration": 186,
    "start_time": "2024-10-18T19:39:47.236Z"
   },
   {
    "duration": 5,
    "start_time": "2024-10-18T19:44:55.110Z"
   },
   {
    "duration": 18,
    "start_time": "2024-10-18T19:45:03.348Z"
   },
   {
    "duration": 17,
    "start_time": "2024-10-18T19:45:13.226Z"
   },
   {
    "duration": 801,
    "start_time": "2024-10-18T19:47:04.454Z"
   },
   {
    "duration": 162,
    "start_time": "2024-10-18T19:47:05.257Z"
   },
   {
    "duration": 9,
    "start_time": "2024-10-18T19:47:05.421Z"
   },
   {
    "duration": 6,
    "start_time": "2024-10-18T19:47:05.432Z"
   },
   {
    "duration": 9,
    "start_time": "2024-10-18T19:47:05.440Z"
   },
   {
    "duration": 21,
    "start_time": "2024-10-18T19:47:05.452Z"
   },
   {
    "duration": 6,
    "start_time": "2024-10-18T19:47:05.475Z"
   },
   {
    "duration": 4,
    "start_time": "2024-10-18T19:47:05.483Z"
   },
   {
    "duration": 4,
    "start_time": "2024-10-18T19:47:05.488Z"
   },
   {
    "duration": 7,
    "start_time": "2024-10-18T19:47:05.496Z"
   },
   {
    "duration": 13,
    "start_time": "2024-10-18T19:47:05.504Z"
   },
   {
    "duration": 4,
    "start_time": "2024-10-18T19:47:05.519Z"
   },
   {
    "duration": 51,
    "start_time": "2024-10-18T19:47:05.525Z"
   },
   {
    "duration": 5,
    "start_time": "2024-10-18T19:47:05.577Z"
   },
   {
    "duration": 61,
    "start_time": "2024-10-18T19:47:05.583Z"
   },
   {
    "duration": 32,
    "start_time": "2024-10-18T19:47:05.646Z"
   },
   {
    "duration": 29,
    "start_time": "2024-10-18T19:47:05.680Z"
   },
   {
    "duration": 17,
    "start_time": "2024-10-18T19:47:05.710Z"
   },
   {
    "duration": 8,
    "start_time": "2024-10-18T19:47:05.729Z"
   },
   {
    "duration": 39,
    "start_time": "2024-10-18T19:47:05.739Z"
   },
   {
    "duration": 12,
    "start_time": "2024-10-18T19:47:05.780Z"
   },
   {
    "duration": 5,
    "start_time": "2024-10-18T19:47:05.793Z"
   },
   {
    "duration": 35,
    "start_time": "2024-10-18T19:47:05.800Z"
   },
   {
    "duration": 35,
    "start_time": "2024-10-18T19:47:05.837Z"
   },
   {
    "duration": 17,
    "start_time": "2024-10-18T19:47:05.874Z"
   },
   {
    "duration": 13,
    "start_time": "2024-10-18T19:47:05.893Z"
   },
   {
    "duration": 6,
    "start_time": "2024-10-18T19:47:05.907Z"
   },
   {
    "duration": 13,
    "start_time": "2024-10-18T19:47:05.918Z"
   },
   {
    "duration": 42,
    "start_time": "2024-10-18T19:47:05.933Z"
   },
   {
    "duration": 4,
    "start_time": "2024-10-18T19:47:05.977Z"
   },
   {
    "duration": 47,
    "start_time": "2024-10-18T19:47:05.983Z"
   },
   {
    "duration": 13,
    "start_time": "2024-10-18T19:47:06.032Z"
   },
   {
    "duration": 57,
    "start_time": "2024-10-18T19:47:06.046Z"
   },
   {
    "duration": 14,
    "start_time": "2024-10-18T19:47:06.105Z"
   },
   {
    "duration": 6,
    "start_time": "2024-10-18T19:47:06.121Z"
   },
   {
    "duration": 17,
    "start_time": "2024-10-18T19:47:06.129Z"
   },
   {
    "duration": 4,
    "start_time": "2024-10-18T19:47:06.171Z"
   },
   {
    "duration": 18,
    "start_time": "2024-10-18T19:47:06.177Z"
   },
   {
    "duration": 7,
    "start_time": "2024-10-18T19:47:06.197Z"
   },
   {
    "duration": 16,
    "start_time": "2024-10-18T19:47:06.205Z"
   },
   {
    "duration": 6,
    "start_time": "2024-10-18T19:47:06.223Z"
   },
   {
    "duration": 43,
    "start_time": "2024-10-18T19:47:06.230Z"
   },
   {
    "duration": 10,
    "start_time": "2024-10-18T19:47:06.275Z"
   },
   {
    "duration": 15,
    "start_time": "2024-10-18T19:47:06.287Z"
   },
   {
    "duration": 4,
    "start_time": "2024-10-18T19:47:06.303Z"
   },
   {
    "duration": 11,
    "start_time": "2024-10-18T19:47:06.309Z"
   },
   {
    "duration": 19,
    "start_time": "2024-10-18T19:47:06.322Z"
   },
   {
    "duration": 29,
    "start_time": "2024-10-18T19:47:06.343Z"
   },
   {
    "duration": 8,
    "start_time": "2024-10-18T19:47:06.373Z"
   },
   {
    "duration": 6,
    "start_time": "2024-10-18T19:47:06.384Z"
   },
   {
    "duration": 11,
    "start_time": "2024-10-18T19:47:06.391Z"
   },
   {
    "duration": 5,
    "start_time": "2024-10-18T19:47:06.405Z"
   },
   {
    "duration": 22,
    "start_time": "2024-10-18T19:47:06.412Z"
   },
   {
    "duration": 36,
    "start_time": "2024-10-18T19:47:06.435Z"
   },
   {
    "duration": 8,
    "start_time": "2024-10-18T19:47:06.473Z"
   },
   {
    "duration": 19,
    "start_time": "2024-10-18T19:47:06.483Z"
   },
   {
    "duration": 2,
    "start_time": "2024-10-18T19:47:06.504Z"
   },
   {
    "duration": 298,
    "start_time": "2024-10-18T19:47:06.508Z"
   },
   {
    "duration": 175,
    "start_time": "2024-10-18T19:47:06.807Z"
   },
   {
    "duration": 4,
    "start_time": "2024-10-18T19:47:06.983Z"
   },
   {
    "duration": 3,
    "start_time": "2024-10-18T19:47:06.989Z"
   },
   {
    "duration": 265,
    "start_time": "2024-10-18T19:47:06.995Z"
   },
   {
    "duration": 199,
    "start_time": "2024-10-18T19:47:07.261Z"
   },
   {
    "duration": 168,
    "start_time": "2024-10-18T19:47:07.463Z"
   },
   {
    "duration": 4,
    "start_time": "2024-10-18T19:47:07.634Z"
   },
   {
    "duration": 5,
    "start_time": "2024-10-18T19:47:07.640Z"
   },
   {
    "duration": 92,
    "start_time": "2024-10-18T19:47:07.648Z"
   },
   {
    "duration": 191,
    "start_time": "2024-10-18T19:47:07.741Z"
   },
   {
    "duration": 180,
    "start_time": "2024-10-18T19:47:07.934Z"
   },
   {
    "duration": 4,
    "start_time": "2024-10-18T19:47:08.115Z"
   },
   {
    "duration": 4,
    "start_time": "2024-10-18T19:47:08.121Z"
   },
   {
    "duration": 92,
    "start_time": "2024-10-18T19:47:08.127Z"
   },
   {
    "duration": 293,
    "start_time": "2024-10-18T19:47:08.221Z"
   },
   {
    "duration": 161,
    "start_time": "2024-10-18T19:47:08.516Z"
   },
   {
    "duration": 4,
    "start_time": "2024-10-18T19:47:08.679Z"
   },
   {
    "duration": 3,
    "start_time": "2024-10-18T19:47:08.684Z"
   },
   {
    "duration": 3,
    "start_time": "2024-10-18T19:47:08.688Z"
   },
   {
    "duration": 2,
    "start_time": "2024-10-18T19:47:08.693Z"
   },
   {
    "duration": 2,
    "start_time": "2024-10-18T19:47:08.697Z"
   },
   {
    "duration": 137,
    "start_time": "2024-10-18T19:47:55.730Z"
   },
   {
    "duration": 137,
    "start_time": "2024-10-18T19:48:08.162Z"
   },
   {
    "duration": 137,
    "start_time": "2024-10-18T19:48:28.433Z"
   },
   {
    "duration": 4,
    "start_time": "2024-10-18T19:49:29.089Z"
   },
   {
    "duration": 628,
    "start_time": "2024-10-18T19:49:42.228Z"
   },
   {
    "duration": 131,
    "start_time": "2024-10-18T19:49:52.381Z"
   },
   {
    "duration": 135,
    "start_time": "2024-10-18T19:50:50.083Z"
   },
   {
    "duration": 167,
    "start_time": "2024-10-18T19:52:14.591Z"
   },
   {
    "duration": 138,
    "start_time": "2024-10-18T19:52:38.189Z"
   },
   {
    "duration": 83,
    "start_time": "2024-10-18T19:53:31.496Z"
   },
   {
    "duration": 129,
    "start_time": "2024-10-18T19:54:13.648Z"
   },
   {
    "duration": 133,
    "start_time": "2024-10-18T19:55:36.066Z"
   },
   {
    "duration": 151,
    "start_time": "2024-10-18T19:55:57.137Z"
   },
   {
    "duration": 232,
    "start_time": "2024-10-18T19:56:28.490Z"
   },
   {
    "duration": 129,
    "start_time": "2024-10-18T19:56:55.197Z"
   },
   {
    "duration": 184,
    "start_time": "2024-10-18T20:08:45.679Z"
   },
   {
    "duration": 182,
    "start_time": "2024-10-18T20:09:13.542Z"
   },
   {
    "duration": 180,
    "start_time": "2024-10-18T20:19:37.852Z"
   },
   {
    "duration": 180,
    "start_time": "2024-10-18T20:20:24.940Z"
   },
   {
    "duration": 169,
    "start_time": "2024-10-18T20:20:54.585Z"
   },
   {
    "duration": 198,
    "start_time": "2024-10-18T20:28:30.472Z"
   },
   {
    "duration": 4,
    "start_time": "2024-10-18T20:29:25.669Z"
   },
   {
    "duration": 4,
    "start_time": "2024-10-18T20:29:39.028Z"
   },
   {
    "duration": 196,
    "start_time": "2024-10-18T20:29:51.236Z"
   },
   {
    "duration": 148,
    "start_time": "2024-10-18T20:31:16.888Z"
   },
   {
    "duration": 857,
    "start_time": "2024-10-18T20:39:46.997Z"
   },
   {
    "duration": 154,
    "start_time": "2024-10-18T20:39:47.856Z"
   },
   {
    "duration": 9,
    "start_time": "2024-10-18T20:39:48.012Z"
   },
   {
    "duration": 6,
    "start_time": "2024-10-18T20:39:48.023Z"
   },
   {
    "duration": 10,
    "start_time": "2024-10-18T20:39:48.031Z"
   },
   {
    "duration": 8,
    "start_time": "2024-10-18T20:39:48.042Z"
   },
   {
    "duration": 5,
    "start_time": "2024-10-18T20:39:48.070Z"
   },
   {
    "duration": 3,
    "start_time": "2024-10-18T20:39:48.077Z"
   },
   {
    "duration": 3,
    "start_time": "2024-10-18T20:39:48.082Z"
   },
   {
    "duration": 4,
    "start_time": "2024-10-18T20:39:48.089Z"
   },
   {
    "duration": 10,
    "start_time": "2024-10-18T20:39:48.095Z"
   },
   {
    "duration": 4,
    "start_time": "2024-10-18T20:39:48.106Z"
   },
   {
    "duration": 14,
    "start_time": "2024-10-18T20:39:48.111Z"
   },
   {
    "duration": 44,
    "start_time": "2024-10-18T20:39:48.127Z"
   },
   {
    "duration": 61,
    "start_time": "2024-10-18T20:39:48.173Z"
   },
   {
    "duration": 18,
    "start_time": "2024-10-18T20:39:48.236Z"
   },
   {
    "duration": 30,
    "start_time": "2024-10-18T20:39:48.271Z"
   },
   {
    "duration": 16,
    "start_time": "2024-10-18T20:39:48.303Z"
   },
   {
    "duration": 8,
    "start_time": "2024-10-18T20:39:48.320Z"
   },
   {
    "duration": 44,
    "start_time": "2024-10-18T20:39:48.329Z"
   },
   {
    "duration": 12,
    "start_time": "2024-10-18T20:39:48.375Z"
   },
   {
    "duration": 4,
    "start_time": "2024-10-18T20:39:48.389Z"
   },
   {
    "duration": 35,
    "start_time": "2024-10-18T20:39:48.395Z"
   },
   {
    "duration": 11,
    "start_time": "2024-10-18T20:39:48.432Z"
   },
   {
    "duration": 38,
    "start_time": "2024-10-18T20:39:48.444Z"
   },
   {
    "duration": 13,
    "start_time": "2024-10-18T20:39:48.483Z"
   },
   {
    "duration": 5,
    "start_time": "2024-10-18T20:39:48.497Z"
   },
   {
    "duration": 13,
    "start_time": "2024-10-18T20:39:48.507Z"
   },
   {
    "duration": 14,
    "start_time": "2024-10-18T20:39:48.521Z"
   },
   {
    "duration": 35,
    "start_time": "2024-10-18T20:39:48.536Z"
   },
   {
    "duration": 47,
    "start_time": "2024-10-18T20:39:48.572Z"
   },
   {
    "duration": 13,
    "start_time": "2024-10-18T20:39:48.621Z"
   },
   {
    "duration": 50,
    "start_time": "2024-10-18T20:39:48.635Z"
   },
   {
    "duration": 13,
    "start_time": "2024-10-18T20:39:48.687Z"
   },
   {
    "duration": 7,
    "start_time": "2024-10-18T20:39:48.702Z"
   },
   {
    "duration": 17,
    "start_time": "2024-10-18T20:39:48.710Z"
   },
   {
    "duration": 6,
    "start_time": "2024-10-18T20:39:48.729Z"
   },
   {
    "duration": 49,
    "start_time": "2024-10-18T20:39:48.738Z"
   },
   {
    "duration": 7,
    "start_time": "2024-10-18T20:39:48.788Z"
   },
   {
    "duration": 16,
    "start_time": "2024-10-18T20:39:48.796Z"
   },
   {
    "duration": 6,
    "start_time": "2024-10-18T20:39:48.815Z"
   },
   {
    "duration": 12,
    "start_time": "2024-10-18T20:39:48.822Z"
   },
   {
    "duration": 35,
    "start_time": "2024-10-18T20:39:48.835Z"
   },
   {
    "duration": 17,
    "start_time": "2024-10-18T20:39:48.872Z"
   },
   {
    "duration": 4,
    "start_time": "2024-10-18T20:39:48.891Z"
   },
   {
    "duration": 12,
    "start_time": "2024-10-18T20:39:48.896Z"
   },
   {
    "duration": 11,
    "start_time": "2024-10-18T20:39:48.909Z"
   },
   {
    "duration": 3,
    "start_time": "2024-10-18T20:39:48.922Z"
   },
   {
    "duration": 8,
    "start_time": "2024-10-18T20:39:48.926Z"
   },
   {
    "duration": 4,
    "start_time": "2024-10-18T20:39:48.971Z"
   },
   {
    "duration": 13,
    "start_time": "2024-10-18T20:39:48.977Z"
   },
   {
    "duration": 6,
    "start_time": "2024-10-18T20:39:48.991Z"
   },
   {
    "duration": 21,
    "start_time": "2024-10-18T20:39:48.998Z"
   },
   {
    "duration": 3,
    "start_time": "2024-10-18T20:39:49.021Z"
   },
   {
    "duration": 7,
    "start_time": "2024-10-18T20:39:49.026Z"
   },
   {
    "duration": 52,
    "start_time": "2024-10-18T20:39:49.035Z"
   },
   {
    "duration": 3,
    "start_time": "2024-10-18T20:39:49.088Z"
   },
   {
    "duration": 251,
    "start_time": "2024-10-18T20:39:49.094Z"
   },
   {
    "duration": 169,
    "start_time": "2024-10-18T20:39:49.347Z"
   },
   {
    "duration": 3,
    "start_time": "2024-10-18T20:39:49.518Z"
   },
   {
    "duration": 3,
    "start_time": "2024-10-18T20:39:49.523Z"
   },
   {
    "duration": 158,
    "start_time": "2024-10-18T20:39:49.528Z"
   },
   {
    "duration": 208,
    "start_time": "2024-10-18T20:39:49.688Z"
   },
   {
    "duration": 176,
    "start_time": "2024-10-18T20:39:49.898Z"
   },
   {
    "duration": 3,
    "start_time": "2024-10-18T20:39:50.076Z"
   },
   {
    "duration": 3,
    "start_time": "2024-10-18T20:39:50.081Z"
   },
   {
    "duration": 150,
    "start_time": "2024-10-18T20:39:50.085Z"
   },
   {
    "duration": 192,
    "start_time": "2024-10-18T20:39:50.237Z"
   },
   {
    "duration": 176,
    "start_time": "2024-10-18T20:39:50.431Z"
   },
   {
    "duration": 3,
    "start_time": "2024-10-18T20:39:50.609Z"
   },
   {
    "duration": 3,
    "start_time": "2024-10-18T20:39:50.614Z"
   },
   {
    "duration": 160,
    "start_time": "2024-10-18T20:39:50.619Z"
   },
   {
    "duration": 208,
    "start_time": "2024-10-18T20:39:50.781Z"
   },
   {
    "duration": 218,
    "start_time": "2024-10-18T20:39:50.991Z"
   },
   {
    "duration": 4,
    "start_time": "2024-10-18T20:39:51.210Z"
   },
   {
    "duration": 4,
    "start_time": "2024-10-18T20:39:51.215Z"
   },
   {
    "duration": 145,
    "start_time": "2024-10-18T20:39:51.220Z"
   },
   {
    "duration": 4,
    "start_time": "2024-10-18T20:39:51.366Z"
   },
   {
    "duration": 2,
    "start_time": "2024-10-18T20:39:51.372Z"
   },
   {
    "duration": 218,
    "start_time": "2024-10-18T20:45:17.461Z"
   },
   {
    "duration": 17,
    "start_time": "2024-10-18T20:46:22.090Z"
   },
   {
    "duration": 17,
    "start_time": "2024-10-18T20:47:15.373Z"
   },
   {
    "duration": 1086,
    "start_time": "2024-10-18T20:48:19.529Z"
   },
   {
    "duration": 0,
    "start_time": "2024-10-18T20:48:20.619Z"
   },
   {
    "duration": 0,
    "start_time": "2024-10-18T20:48:20.620Z"
   },
   {
    "duration": 0,
    "start_time": "2024-10-18T20:48:20.621Z"
   },
   {
    "duration": 0,
    "start_time": "2024-10-18T20:48:20.622Z"
   },
   {
    "duration": 0,
    "start_time": "2024-10-18T20:48:20.623Z"
   },
   {
    "duration": 0,
    "start_time": "2024-10-18T20:48:20.624Z"
   },
   {
    "duration": 0,
    "start_time": "2024-10-18T20:48:20.625Z"
   },
   {
    "duration": 0,
    "start_time": "2024-10-18T20:48:20.626Z"
   },
   {
    "duration": 0,
    "start_time": "2024-10-18T20:48:20.627Z"
   },
   {
    "duration": 0,
    "start_time": "2024-10-18T20:48:20.629Z"
   },
   {
    "duration": 1,
    "start_time": "2024-10-18T20:48:20.629Z"
   },
   {
    "duration": 0,
    "start_time": "2024-10-18T20:48:20.630Z"
   },
   {
    "duration": 0,
    "start_time": "2024-10-18T20:48:20.632Z"
   },
   {
    "duration": 0,
    "start_time": "2024-10-18T20:48:20.635Z"
   },
   {
    "duration": 0,
    "start_time": "2024-10-18T20:48:20.636Z"
   },
   {
    "duration": 0,
    "start_time": "2024-10-18T20:48:20.638Z"
   },
   {
    "duration": 0,
    "start_time": "2024-10-18T20:48:20.639Z"
   },
   {
    "duration": 0,
    "start_time": "2024-10-18T20:48:20.639Z"
   },
   {
    "duration": 0,
    "start_time": "2024-10-18T20:48:20.640Z"
   },
   {
    "duration": 0,
    "start_time": "2024-10-18T20:48:20.640Z"
   },
   {
    "duration": 0,
    "start_time": "2024-10-18T20:48:20.669Z"
   },
   {
    "duration": 0,
    "start_time": "2024-10-18T20:48:20.672Z"
   },
   {
    "duration": 0,
    "start_time": "2024-10-18T20:48:20.673Z"
   },
   {
    "duration": 0,
    "start_time": "2024-10-18T20:48:20.674Z"
   },
   {
    "duration": 0,
    "start_time": "2024-10-18T20:48:20.675Z"
   },
   {
    "duration": 0,
    "start_time": "2024-10-18T20:48:20.675Z"
   },
   {
    "duration": 0,
    "start_time": "2024-10-18T20:48:20.677Z"
   },
   {
    "duration": 0,
    "start_time": "2024-10-18T20:48:20.678Z"
   },
   {
    "duration": 0,
    "start_time": "2024-10-18T20:48:20.679Z"
   },
   {
    "duration": 0,
    "start_time": "2024-10-18T20:48:20.680Z"
   },
   {
    "duration": 0,
    "start_time": "2024-10-18T20:48:20.680Z"
   },
   {
    "duration": 0,
    "start_time": "2024-10-18T20:48:20.682Z"
   },
   {
    "duration": 0,
    "start_time": "2024-10-18T20:48:20.683Z"
   },
   {
    "duration": 0,
    "start_time": "2024-10-18T20:48:20.684Z"
   },
   {
    "duration": 0,
    "start_time": "2024-10-18T20:48:20.685Z"
   },
   {
    "duration": 0,
    "start_time": "2024-10-18T20:48:20.686Z"
   },
   {
    "duration": 0,
    "start_time": "2024-10-18T20:48:20.687Z"
   },
   {
    "duration": 0,
    "start_time": "2024-10-18T20:48:20.688Z"
   },
   {
    "duration": 0,
    "start_time": "2024-10-18T20:48:20.689Z"
   },
   {
    "duration": 0,
    "start_time": "2024-10-18T20:48:20.690Z"
   },
   {
    "duration": 0,
    "start_time": "2024-10-18T20:48:20.691Z"
   },
   {
    "duration": 0,
    "start_time": "2024-10-18T20:48:20.692Z"
   },
   {
    "duration": 0,
    "start_time": "2024-10-18T20:48:20.693Z"
   },
   {
    "duration": 0,
    "start_time": "2024-10-18T20:48:20.694Z"
   },
   {
    "duration": 0,
    "start_time": "2024-10-18T20:48:20.695Z"
   },
   {
    "duration": 1,
    "start_time": "2024-10-18T20:48:20.695Z"
   },
   {
    "duration": 0,
    "start_time": "2024-10-18T20:48:20.696Z"
   },
   {
    "duration": 0,
    "start_time": "2024-10-18T20:48:20.697Z"
   },
   {
    "duration": 0,
    "start_time": "2024-10-18T20:48:20.698Z"
   },
   {
    "duration": 0,
    "start_time": "2024-10-18T20:48:20.700Z"
   },
   {
    "duration": 0,
    "start_time": "2024-10-18T20:48:20.701Z"
   },
   {
    "duration": 0,
    "start_time": "2024-10-18T20:48:20.702Z"
   },
   {
    "duration": 0,
    "start_time": "2024-10-18T20:48:20.703Z"
   },
   {
    "duration": 0,
    "start_time": "2024-10-18T20:48:20.704Z"
   },
   {
    "duration": 0,
    "start_time": "2024-10-18T20:48:20.705Z"
   },
   {
    "duration": 0,
    "start_time": "2024-10-18T20:48:20.706Z"
   },
   {
    "duration": 0,
    "start_time": "2024-10-18T20:48:20.707Z"
   },
   {
    "duration": 0,
    "start_time": "2024-10-18T20:48:20.708Z"
   },
   {
    "duration": 0,
    "start_time": "2024-10-18T20:48:20.771Z"
   },
   {
    "duration": 0,
    "start_time": "2024-10-18T20:48:20.773Z"
   },
   {
    "duration": 0,
    "start_time": "2024-10-18T20:48:20.774Z"
   },
   {
    "duration": 0,
    "start_time": "2024-10-18T20:48:20.776Z"
   },
   {
    "duration": 0,
    "start_time": "2024-10-18T20:48:20.777Z"
   },
   {
    "duration": 0,
    "start_time": "2024-10-18T20:48:20.779Z"
   },
   {
    "duration": 0,
    "start_time": "2024-10-18T20:48:20.781Z"
   },
   {
    "duration": 0,
    "start_time": "2024-10-18T20:48:20.782Z"
   },
   {
    "duration": 0,
    "start_time": "2024-10-18T20:48:20.784Z"
   },
   {
    "duration": 0,
    "start_time": "2024-10-18T20:48:20.785Z"
   },
   {
    "duration": 0,
    "start_time": "2024-10-18T20:48:20.787Z"
   },
   {
    "duration": 0,
    "start_time": "2024-10-18T20:48:20.788Z"
   },
   {
    "duration": 0,
    "start_time": "2024-10-18T20:48:20.789Z"
   },
   {
    "duration": 0,
    "start_time": "2024-10-18T20:48:20.791Z"
   },
   {
    "duration": 0,
    "start_time": "2024-10-18T20:48:20.792Z"
   },
   {
    "duration": 0,
    "start_time": "2024-10-18T20:48:20.794Z"
   },
   {
    "duration": 0,
    "start_time": "2024-10-18T20:48:20.795Z"
   },
   {
    "duration": 0,
    "start_time": "2024-10-18T20:48:20.797Z"
   },
   {
    "duration": 0,
    "start_time": "2024-10-18T20:48:20.798Z"
   },
   {
    "duration": 0,
    "start_time": "2024-10-18T20:48:20.800Z"
   },
   {
    "duration": 1108,
    "start_time": "2024-10-18T20:49:27.715Z"
   },
   {
    "duration": 0,
    "start_time": "2024-10-18T20:49:28.827Z"
   },
   {
    "duration": 0,
    "start_time": "2024-10-18T20:49:28.828Z"
   },
   {
    "duration": 0,
    "start_time": "2024-10-18T20:49:28.830Z"
   },
   {
    "duration": 0,
    "start_time": "2024-10-18T20:49:28.831Z"
   },
   {
    "duration": 0,
    "start_time": "2024-10-18T20:49:28.831Z"
   },
   {
    "duration": 0,
    "start_time": "2024-10-18T20:49:28.833Z"
   },
   {
    "duration": 0,
    "start_time": "2024-10-18T20:49:28.834Z"
   },
   {
    "duration": 0,
    "start_time": "2024-10-18T20:49:28.835Z"
   },
   {
    "duration": 0,
    "start_time": "2024-10-18T20:49:28.836Z"
   },
   {
    "duration": 0,
    "start_time": "2024-10-18T20:49:28.837Z"
   },
   {
    "duration": 0,
    "start_time": "2024-10-18T20:49:28.839Z"
   },
   {
    "duration": 0,
    "start_time": "2024-10-18T20:49:28.840Z"
   },
   {
    "duration": 0,
    "start_time": "2024-10-18T20:49:28.841Z"
   },
   {
    "duration": 0,
    "start_time": "2024-10-18T20:49:28.842Z"
   },
   {
    "duration": 0,
    "start_time": "2024-10-18T20:49:28.870Z"
   },
   {
    "duration": 0,
    "start_time": "2024-10-18T20:49:28.873Z"
   },
   {
    "duration": 0,
    "start_time": "2024-10-18T20:49:28.875Z"
   },
   {
    "duration": 0,
    "start_time": "2024-10-18T20:49:28.876Z"
   },
   {
    "duration": 0,
    "start_time": "2024-10-18T20:49:28.878Z"
   },
   {
    "duration": 0,
    "start_time": "2024-10-18T20:49:28.879Z"
   },
   {
    "duration": 0,
    "start_time": "2024-10-18T20:49:28.881Z"
   },
   {
    "duration": 0,
    "start_time": "2024-10-18T20:49:28.882Z"
   },
   {
    "duration": 0,
    "start_time": "2024-10-18T20:49:28.884Z"
   },
   {
    "duration": 0,
    "start_time": "2024-10-18T20:49:28.885Z"
   },
   {
    "duration": 0,
    "start_time": "2024-10-18T20:49:28.887Z"
   },
   {
    "duration": 0,
    "start_time": "2024-10-18T20:49:28.889Z"
   },
   {
    "duration": 0,
    "start_time": "2024-10-18T20:49:28.890Z"
   },
   {
    "duration": 0,
    "start_time": "2024-10-18T20:49:28.892Z"
   },
   {
    "duration": 0,
    "start_time": "2024-10-18T20:49:28.893Z"
   },
   {
    "duration": 0,
    "start_time": "2024-10-18T20:49:28.894Z"
   },
   {
    "duration": 0,
    "start_time": "2024-10-18T20:49:28.896Z"
   },
   {
    "duration": 0,
    "start_time": "2024-10-18T20:49:28.897Z"
   },
   {
    "duration": 0,
    "start_time": "2024-10-18T20:49:28.898Z"
   },
   {
    "duration": 0,
    "start_time": "2024-10-18T20:49:28.899Z"
   },
   {
    "duration": 0,
    "start_time": "2024-10-18T20:49:28.900Z"
   },
   {
    "duration": 1,
    "start_time": "2024-10-18T20:49:28.901Z"
   },
   {
    "duration": 0,
    "start_time": "2024-10-18T20:49:28.903Z"
   },
   {
    "duration": 0,
    "start_time": "2024-10-18T20:49:28.904Z"
   },
   {
    "duration": 0,
    "start_time": "2024-10-18T20:49:28.906Z"
   },
   {
    "duration": 0,
    "start_time": "2024-10-18T20:49:28.907Z"
   },
   {
    "duration": 0,
    "start_time": "2024-10-18T20:49:28.908Z"
   },
   {
    "duration": 0,
    "start_time": "2024-10-18T20:49:28.970Z"
   },
   {
    "duration": 0,
    "start_time": "2024-10-18T20:49:28.971Z"
   },
   {
    "duration": 0,
    "start_time": "2024-10-18T20:49:28.972Z"
   },
   {
    "duration": 0,
    "start_time": "2024-10-18T20:49:28.973Z"
   },
   {
    "duration": 0,
    "start_time": "2024-10-18T20:49:28.975Z"
   },
   {
    "duration": 0,
    "start_time": "2024-10-18T20:49:28.976Z"
   },
   {
    "duration": 0,
    "start_time": "2024-10-18T20:49:28.977Z"
   },
   {
    "duration": 0,
    "start_time": "2024-10-18T20:49:28.978Z"
   },
   {
    "duration": 0,
    "start_time": "2024-10-18T20:49:28.980Z"
   },
   {
    "duration": 0,
    "start_time": "2024-10-18T20:49:28.981Z"
   },
   {
    "duration": 0,
    "start_time": "2024-10-18T20:49:28.982Z"
   },
   {
    "duration": 0,
    "start_time": "2024-10-18T20:49:28.983Z"
   },
   {
    "duration": 0,
    "start_time": "2024-10-18T20:49:28.984Z"
   },
   {
    "duration": 0,
    "start_time": "2024-10-18T20:49:28.985Z"
   },
   {
    "duration": 0,
    "start_time": "2024-10-18T20:49:28.986Z"
   },
   {
    "duration": 0,
    "start_time": "2024-10-18T20:49:28.986Z"
   },
   {
    "duration": 0,
    "start_time": "2024-10-18T20:49:28.988Z"
   },
   {
    "duration": 0,
    "start_time": "2024-10-18T20:49:28.989Z"
   },
   {
    "duration": 0,
    "start_time": "2024-10-18T20:49:28.990Z"
   },
   {
    "duration": 0,
    "start_time": "2024-10-18T20:49:28.992Z"
   },
   {
    "duration": 0,
    "start_time": "2024-10-18T20:49:28.993Z"
   },
   {
    "duration": 0,
    "start_time": "2024-10-18T20:49:28.994Z"
   },
   {
    "duration": 0,
    "start_time": "2024-10-18T20:49:28.995Z"
   },
   {
    "duration": 0,
    "start_time": "2024-10-18T20:49:28.996Z"
   },
   {
    "duration": 0,
    "start_time": "2024-10-18T20:49:28.997Z"
   },
   {
    "duration": 0,
    "start_time": "2024-10-18T20:49:28.998Z"
   },
   {
    "duration": 0,
    "start_time": "2024-10-18T20:49:28.999Z"
   },
   {
    "duration": 0,
    "start_time": "2024-10-18T20:49:29.000Z"
   },
   {
    "duration": 0,
    "start_time": "2024-10-18T20:49:29.001Z"
   },
   {
    "duration": 0,
    "start_time": "2024-10-18T20:49:29.002Z"
   },
   {
    "duration": 0,
    "start_time": "2024-10-18T20:49:29.002Z"
   },
   {
    "duration": 0,
    "start_time": "2024-10-18T20:49:29.003Z"
   },
   {
    "duration": 0,
    "start_time": "2024-10-18T20:49:29.004Z"
   },
   {
    "duration": 0,
    "start_time": "2024-10-18T20:49:29.005Z"
   },
   {
    "duration": 0,
    "start_time": "2024-10-18T20:49:29.006Z"
   },
   {
    "duration": 0,
    "start_time": "2024-10-18T20:49:29.007Z"
   },
   {
    "duration": 0,
    "start_time": "2024-10-18T20:49:29.008Z"
   },
   {
    "duration": 15,
    "start_time": "2024-10-18T20:50:08.524Z"
   },
   {
    "duration": 0,
    "start_time": "2024-10-18T20:50:08.541Z"
   },
   {
    "duration": 0,
    "start_time": "2024-10-18T20:50:08.542Z"
   },
   {
    "duration": 0,
    "start_time": "2024-10-18T20:50:08.544Z"
   },
   {
    "duration": 14,
    "start_time": "2024-10-18T20:50:08.552Z"
   },
   {
    "duration": 0,
    "start_time": "2024-10-18T20:50:08.568Z"
   },
   {
    "duration": 0,
    "start_time": "2024-10-18T20:50:08.569Z"
   },
   {
    "duration": 0,
    "start_time": "2024-10-18T20:50:08.570Z"
   },
   {
    "duration": 0,
    "start_time": "2024-10-18T20:50:08.571Z"
   },
   {
    "duration": 0,
    "start_time": "2024-10-18T20:50:08.572Z"
   },
   {
    "duration": 0,
    "start_time": "2024-10-18T20:50:08.573Z"
   },
   {
    "duration": 15,
    "start_time": "2024-10-18T20:50:08.587Z"
   },
   {
    "duration": 0,
    "start_time": "2024-10-18T20:50:08.605Z"
   },
   {
    "duration": 0,
    "start_time": "2024-10-18T20:50:08.606Z"
   },
   {
    "duration": 0,
    "start_time": "2024-10-18T20:50:08.608Z"
   },
   {
    "duration": 0,
    "start_time": "2024-10-18T20:50:08.609Z"
   },
   {
    "duration": 0,
    "start_time": "2024-10-18T20:50:08.610Z"
   },
   {
    "duration": 0,
    "start_time": "2024-10-18T20:50:08.612Z"
   },
   {
    "duration": 0,
    "start_time": "2024-10-18T20:50:08.613Z"
   },
   {
    "duration": 0,
    "start_time": "2024-10-18T20:50:08.614Z"
   },
   {
    "duration": 0,
    "start_time": "2024-10-18T20:50:08.615Z"
   },
   {
    "duration": 0,
    "start_time": "2024-10-18T20:50:08.616Z"
   },
   {
    "duration": 51,
    "start_time": "2024-10-18T20:50:08.624Z"
   },
   {
    "duration": 0,
    "start_time": "2024-10-18T20:50:08.677Z"
   },
   {
    "duration": 0,
    "start_time": "2024-10-18T20:50:08.679Z"
   },
   {
    "duration": 0,
    "start_time": "2024-10-18T20:50:08.680Z"
   },
   {
    "duration": 0,
    "start_time": "2024-10-18T20:50:08.681Z"
   },
   {
    "duration": 0,
    "start_time": "2024-10-18T20:50:08.683Z"
   },
   {
    "duration": 0,
    "start_time": "2024-10-18T20:50:08.684Z"
   },
   {
    "duration": 0,
    "start_time": "2024-10-18T20:50:08.685Z"
   },
   {
    "duration": 0,
    "start_time": "2024-10-18T20:50:08.686Z"
   },
   {
    "duration": 0,
    "start_time": "2024-10-18T20:50:08.687Z"
   },
   {
    "duration": 0,
    "start_time": "2024-10-18T20:50:08.688Z"
   },
   {
    "duration": 0,
    "start_time": "2024-10-18T20:50:08.690Z"
   },
   {
    "duration": 14,
    "start_time": "2024-10-18T20:50:08.697Z"
   },
   {
    "duration": 0,
    "start_time": "2024-10-18T20:50:08.713Z"
   },
   {
    "duration": 0,
    "start_time": "2024-10-18T20:50:08.714Z"
   },
   {
    "duration": 0,
    "start_time": "2024-10-18T20:50:08.771Z"
   },
   {
    "duration": 0,
    "start_time": "2024-10-18T20:50:08.773Z"
   },
   {
    "duration": 0,
    "start_time": "2024-10-18T20:50:08.774Z"
   },
   {
    "duration": 0,
    "start_time": "2024-10-18T20:50:08.775Z"
   },
   {
    "duration": 0,
    "start_time": "2024-10-18T20:50:08.776Z"
   },
   {
    "duration": 0,
    "start_time": "2024-10-18T20:50:08.777Z"
   },
   {
    "duration": 0,
    "start_time": "2024-10-18T20:50:08.779Z"
   },
   {
    "duration": 0,
    "start_time": "2024-10-18T20:50:08.779Z"
   },
   {
    "duration": 0,
    "start_time": "2024-10-18T20:50:08.781Z"
   },
   {
    "duration": 0,
    "start_time": "2024-10-18T20:50:08.782Z"
   },
   {
    "duration": 0,
    "start_time": "2024-10-18T20:50:08.783Z"
   },
   {
    "duration": 0,
    "start_time": "2024-10-18T20:50:08.784Z"
   },
   {
    "duration": 0,
    "start_time": "2024-10-18T20:50:08.785Z"
   },
   {
    "duration": 0,
    "start_time": "2024-10-18T20:50:08.786Z"
   },
   {
    "duration": 0,
    "start_time": "2024-10-18T20:50:08.787Z"
   },
   {
    "duration": 0,
    "start_time": "2024-10-18T20:50:08.788Z"
   },
   {
    "duration": 6,
    "start_time": "2024-10-18T20:50:08.795Z"
   },
   {
    "duration": 68,
    "start_time": "2024-10-18T20:50:08.802Z"
   },
   {
    "duration": 1,
    "start_time": "2024-10-18T20:50:08.872Z"
   },
   {
    "duration": 0,
    "start_time": "2024-10-18T20:50:08.874Z"
   },
   {
    "duration": 0,
    "start_time": "2024-10-18T20:50:08.876Z"
   },
   {
    "duration": 0,
    "start_time": "2024-10-18T20:50:08.877Z"
   },
   {
    "duration": 0,
    "start_time": "2024-10-18T20:50:08.878Z"
   },
   {
    "duration": 0,
    "start_time": "2024-10-18T20:50:08.879Z"
   },
   {
    "duration": 0,
    "start_time": "2024-10-18T20:50:08.880Z"
   },
   {
    "duration": 0,
    "start_time": "2024-10-18T20:50:08.881Z"
   },
   {
    "duration": 0,
    "start_time": "2024-10-18T20:50:08.882Z"
   },
   {
    "duration": 0,
    "start_time": "2024-10-18T20:50:08.883Z"
   },
   {
    "duration": 0,
    "start_time": "2024-10-18T20:50:08.884Z"
   },
   {
    "duration": 0,
    "start_time": "2024-10-18T20:50:08.885Z"
   },
   {
    "duration": 0,
    "start_time": "2024-10-18T20:50:08.886Z"
   },
   {
    "duration": 0,
    "start_time": "2024-10-18T20:50:08.888Z"
   },
   {
    "duration": 0,
    "start_time": "2024-10-18T20:50:08.889Z"
   },
   {
    "duration": 0,
    "start_time": "2024-10-18T20:50:08.890Z"
   },
   {
    "duration": 0,
    "start_time": "2024-10-18T20:50:08.891Z"
   },
   {
    "duration": 0,
    "start_time": "2024-10-18T20:50:08.892Z"
   },
   {
    "duration": 0,
    "start_time": "2024-10-18T20:50:08.893Z"
   },
   {
    "duration": 0,
    "start_time": "2024-10-18T20:50:08.894Z"
   },
   {
    "duration": 0,
    "start_time": "2024-10-18T20:50:08.896Z"
   },
   {
    "duration": 1,
    "start_time": "2024-10-18T20:50:08.898Z"
   },
   {
    "duration": 15,
    "start_time": "2024-10-18T20:50:20.224Z"
   },
   {
    "duration": 0,
    "start_time": "2024-10-18T20:50:20.241Z"
   },
   {
    "duration": 0,
    "start_time": "2024-10-18T20:50:20.242Z"
   },
   {
    "duration": 0,
    "start_time": "2024-10-18T20:50:20.243Z"
   },
   {
    "duration": 0,
    "start_time": "2024-10-18T20:50:20.245Z"
   },
   {
    "duration": 0,
    "start_time": "2024-10-18T20:50:20.246Z"
   },
   {
    "duration": 0,
    "start_time": "2024-10-18T20:50:20.247Z"
   },
   {
    "duration": 15,
    "start_time": "2024-10-18T20:50:20.251Z"
   },
   {
    "duration": 0,
    "start_time": "2024-10-18T20:50:20.268Z"
   },
   {
    "duration": 0,
    "start_time": "2024-10-18T20:50:20.270Z"
   },
   {
    "duration": 0,
    "start_time": "2024-10-18T20:50:20.271Z"
   },
   {
    "duration": 0,
    "start_time": "2024-10-18T20:50:20.272Z"
   },
   {
    "duration": 0,
    "start_time": "2024-10-18T20:50:20.273Z"
   },
   {
    "duration": 0,
    "start_time": "2024-10-18T20:50:20.275Z"
   },
   {
    "duration": 0,
    "start_time": "2024-10-18T20:50:20.275Z"
   },
   {
    "duration": 0,
    "start_time": "2024-10-18T20:50:20.276Z"
   },
   {
    "duration": 0,
    "start_time": "2024-10-18T20:50:20.277Z"
   },
   {
    "duration": 15,
    "start_time": "2024-10-18T20:50:20.284Z"
   },
   {
    "duration": 0,
    "start_time": "2024-10-18T20:50:20.302Z"
   },
   {
    "duration": 0,
    "start_time": "2024-10-18T20:50:20.303Z"
   },
   {
    "duration": 0,
    "start_time": "2024-10-18T20:50:20.305Z"
   },
   {
    "duration": 0,
    "start_time": "2024-10-18T20:50:20.306Z"
   },
   {
    "duration": 0,
    "start_time": "2024-10-18T20:50:20.308Z"
   },
   {
    "duration": 0,
    "start_time": "2024-10-18T20:50:20.309Z"
   },
   {
    "duration": 0,
    "start_time": "2024-10-18T20:50:20.310Z"
   },
   {
    "duration": 0,
    "start_time": "2024-10-18T20:50:20.312Z"
   },
   {
    "duration": 59,
    "start_time": "2024-10-18T20:50:20.315Z"
   },
   {
    "duration": 0,
    "start_time": "2024-10-18T20:50:20.378Z"
   },
   {
    "duration": 0,
    "start_time": "2024-10-18T20:50:20.379Z"
   },
   {
    "duration": 0,
    "start_time": "2024-10-18T20:50:20.380Z"
   },
   {
    "duration": 0,
    "start_time": "2024-10-18T20:50:20.381Z"
   },
   {
    "duration": 0,
    "start_time": "2024-10-18T20:50:20.382Z"
   },
   {
    "duration": 0,
    "start_time": "2024-10-18T20:50:20.383Z"
   },
   {
    "duration": 0,
    "start_time": "2024-10-18T20:50:20.384Z"
   },
   {
    "duration": 0,
    "start_time": "2024-10-18T20:50:20.385Z"
   },
   {
    "duration": 0,
    "start_time": "2024-10-18T20:50:20.386Z"
   },
   {
    "duration": 0,
    "start_time": "2024-10-18T20:50:20.387Z"
   },
   {
    "duration": 0,
    "start_time": "2024-10-18T20:50:20.388Z"
   },
   {
    "duration": 0,
    "start_time": "2024-10-18T20:50:20.388Z"
   },
   {
    "duration": 0,
    "start_time": "2024-10-18T20:50:20.389Z"
   },
   {
    "duration": 0,
    "start_time": "2024-10-18T20:50:20.391Z"
   },
   {
    "duration": 0,
    "start_time": "2024-10-18T20:50:20.392Z"
   },
   {
    "duration": 0,
    "start_time": "2024-10-18T20:50:20.394Z"
   },
   {
    "duration": 0,
    "start_time": "2024-10-18T20:50:20.395Z"
   },
   {
    "duration": 0,
    "start_time": "2024-10-18T20:50:20.396Z"
   },
   {
    "duration": 0,
    "start_time": "2024-10-18T20:50:20.398Z"
   },
   {
    "duration": 0,
    "start_time": "2024-10-18T20:50:20.399Z"
   },
   {
    "duration": 0,
    "start_time": "2024-10-18T20:50:20.401Z"
   },
   {
    "duration": 0,
    "start_time": "2024-10-18T20:50:20.402Z"
   },
   {
    "duration": 0,
    "start_time": "2024-10-18T20:50:20.403Z"
   },
   {
    "duration": 0,
    "start_time": "2024-10-18T20:50:20.404Z"
   },
   {
    "duration": 0,
    "start_time": "2024-10-18T20:50:20.405Z"
   },
   {
    "duration": 0,
    "start_time": "2024-10-18T20:50:20.406Z"
   },
   {
    "duration": 0,
    "start_time": "2024-10-18T20:50:20.407Z"
   },
   {
    "duration": 19,
    "start_time": "2024-10-18T20:50:20.469Z"
   },
   {
    "duration": 0,
    "start_time": "2024-10-18T20:50:20.490Z"
   },
   {
    "duration": 0,
    "start_time": "2024-10-18T20:50:20.491Z"
   },
   {
    "duration": 0,
    "start_time": "2024-10-18T20:50:20.492Z"
   },
   {
    "duration": 0,
    "start_time": "2024-10-18T20:50:20.494Z"
   },
   {
    "duration": 0,
    "start_time": "2024-10-18T20:50:20.495Z"
   },
   {
    "duration": 0,
    "start_time": "2024-10-18T20:50:20.496Z"
   },
   {
    "duration": 0,
    "start_time": "2024-10-18T20:50:20.498Z"
   },
   {
    "duration": 0,
    "start_time": "2024-10-18T20:50:20.499Z"
   },
   {
    "duration": 0,
    "start_time": "2024-10-18T20:50:20.500Z"
   },
   {
    "duration": 0,
    "start_time": "2024-10-18T20:50:20.501Z"
   },
   {
    "duration": 0,
    "start_time": "2024-10-18T20:50:20.502Z"
   },
   {
    "duration": 0,
    "start_time": "2024-10-18T20:50:20.503Z"
   },
   {
    "duration": 0,
    "start_time": "2024-10-18T20:50:20.504Z"
   },
   {
    "duration": 0,
    "start_time": "2024-10-18T20:50:20.505Z"
   },
   {
    "duration": 0,
    "start_time": "2024-10-18T20:50:20.506Z"
   },
   {
    "duration": 0,
    "start_time": "2024-10-18T20:50:20.508Z"
   },
   {
    "duration": 0,
    "start_time": "2024-10-18T20:50:20.509Z"
   },
   {
    "duration": 0,
    "start_time": "2024-10-18T20:50:20.510Z"
   },
   {
    "duration": 0,
    "start_time": "2024-10-18T20:50:20.511Z"
   },
   {
    "duration": 0,
    "start_time": "2024-10-18T20:50:20.513Z"
   },
   {
    "duration": 0,
    "start_time": "2024-10-18T20:50:20.514Z"
   },
   {
    "duration": 0,
    "start_time": "2024-10-18T20:50:20.514Z"
   },
   {
    "duration": 0,
    "start_time": "2024-10-18T20:50:20.515Z"
   },
   {
    "duration": 0,
    "start_time": "2024-10-18T20:50:20.516Z"
   },
   {
    "duration": 832,
    "start_time": "2024-10-18T20:50:44.444Z"
   },
   {
    "duration": 158,
    "start_time": "2024-10-18T20:50:45.279Z"
   },
   {
    "duration": 9,
    "start_time": "2024-10-18T20:50:45.439Z"
   },
   {
    "duration": 6,
    "start_time": "2024-10-18T20:50:45.450Z"
   },
   {
    "duration": 19,
    "start_time": "2024-10-18T20:50:45.459Z"
   },
   {
    "duration": 8,
    "start_time": "2024-10-18T20:50:45.479Z"
   },
   {
    "duration": 4,
    "start_time": "2024-10-18T20:50:45.489Z"
   },
   {
    "duration": 3,
    "start_time": "2024-10-18T20:50:45.495Z"
   },
   {
    "duration": 4,
    "start_time": "2024-10-18T20:50:45.500Z"
   },
   {
    "duration": 5,
    "start_time": "2024-10-18T20:50:45.506Z"
   },
   {
    "duration": 10,
    "start_time": "2024-10-18T20:50:45.512Z"
   },
   {
    "duration": 48,
    "start_time": "2024-10-18T20:50:45.523Z"
   },
   {
    "duration": 15,
    "start_time": "2024-10-18T20:50:45.573Z"
   },
   {
    "duration": 5,
    "start_time": "2024-10-18T20:50:45.591Z"
   },
   {
    "duration": 81,
    "start_time": "2024-10-18T20:50:45.598Z"
   },
   {
    "duration": 17,
    "start_time": "2024-10-18T20:50:45.681Z"
   },
   {
    "duration": 32,
    "start_time": "2024-10-18T20:50:45.700Z"
   },
   {
    "duration": 40,
    "start_time": "2024-10-18T20:50:45.733Z"
   },
   {
    "duration": 8,
    "start_time": "2024-10-18T20:50:45.775Z"
   },
   {
    "duration": 22,
    "start_time": "2024-10-18T20:50:45.785Z"
   },
   {
    "duration": 12,
    "start_time": "2024-10-18T20:50:45.809Z"
   },
   {
    "duration": 4,
    "start_time": "2024-10-18T20:50:45.823Z"
   },
   {
    "duration": 67,
    "start_time": "2024-10-18T20:50:45.829Z"
   },
   {
    "duration": 11,
    "start_time": "2024-10-18T20:50:45.898Z"
   },
   {
    "duration": 15,
    "start_time": "2024-10-18T20:50:45.910Z"
   },
   {
    "duration": 12,
    "start_time": "2024-10-18T20:50:45.927Z"
   },
   {
    "duration": 5,
    "start_time": "2024-10-18T20:50:45.942Z"
   },
   {
    "duration": 32,
    "start_time": "2024-10-18T20:50:45.949Z"
   },
   {
    "duration": 18,
    "start_time": "2024-10-18T20:50:45.982Z"
   },
   {
    "duration": 5,
    "start_time": "2024-10-18T20:50:46.002Z"
   },
   {
    "duration": 72,
    "start_time": "2024-10-18T20:50:46.009Z"
   },
   {
    "duration": 19,
    "start_time": "2024-10-18T20:50:46.083Z"
   },
   {
    "duration": 55,
    "start_time": "2024-10-18T20:50:46.105Z"
   },
   {
    "duration": 13,
    "start_time": "2024-10-18T20:50:46.162Z"
   },
   {
    "duration": 7,
    "start_time": "2024-10-18T20:50:46.177Z"
   },
   {
    "duration": 16,
    "start_time": "2024-10-18T20:50:46.185Z"
   },
   {
    "duration": 5,
    "start_time": "2024-10-18T20:50:46.202Z"
   },
   {
    "duration": 20,
    "start_time": "2024-10-18T20:50:46.208Z"
   },
   {
    "duration": 8,
    "start_time": "2024-10-18T20:50:46.230Z"
   },
   {
    "duration": 16,
    "start_time": "2024-10-18T20:50:46.271Z"
   },
   {
    "duration": 7,
    "start_time": "2024-10-18T20:50:46.292Z"
   },
   {
    "duration": 11,
    "start_time": "2024-10-18T20:50:46.300Z"
   },
   {
    "duration": 13,
    "start_time": "2024-10-18T20:50:46.312Z"
   },
   {
    "duration": 44,
    "start_time": "2024-10-18T20:50:46.329Z"
   },
   {
    "duration": 4,
    "start_time": "2024-10-18T20:50:46.375Z"
   },
   {
    "duration": 12,
    "start_time": "2024-10-18T20:50:46.381Z"
   },
   {
    "duration": 11,
    "start_time": "2024-10-18T20:50:46.394Z"
   },
   {
    "duration": 3,
    "start_time": "2024-10-18T20:50:46.407Z"
   },
   {
    "duration": 7,
    "start_time": "2024-10-18T20:50:46.411Z"
   },
   {
    "duration": 5,
    "start_time": "2024-10-18T20:50:46.420Z"
   },
   {
    "duration": 52,
    "start_time": "2024-10-18T20:50:46.426Z"
   },
   {
    "duration": 5,
    "start_time": "2024-10-18T20:50:46.480Z"
   },
   {
    "duration": 22,
    "start_time": "2024-10-18T20:50:46.486Z"
   },
   {
    "duration": 4,
    "start_time": "2024-10-18T20:50:46.509Z"
   },
   {
    "duration": 8,
    "start_time": "2024-10-18T20:50:46.515Z"
   },
   {
    "duration": 53,
    "start_time": "2024-10-18T20:50:46.524Z"
   },
   {
    "duration": 3,
    "start_time": "2024-10-18T20:50:46.579Z"
   },
   {
    "duration": 262,
    "start_time": "2024-10-18T20:50:46.584Z"
   },
   {
    "duration": 173,
    "start_time": "2024-10-18T20:50:46.849Z"
   },
   {
    "duration": 3,
    "start_time": "2024-10-18T20:50:47.024Z"
   },
   {
    "duration": 3,
    "start_time": "2024-10-18T20:50:47.029Z"
   },
   {
    "duration": 168,
    "start_time": "2024-10-18T20:50:47.034Z"
   },
   {
    "duration": 197,
    "start_time": "2024-10-18T20:50:47.204Z"
   },
   {
    "duration": 172,
    "start_time": "2024-10-18T20:50:47.403Z"
   },
   {
    "duration": 3,
    "start_time": "2024-10-18T20:50:47.577Z"
   },
   {
    "duration": 3,
    "start_time": "2024-10-18T20:50:47.582Z"
   },
   {
    "duration": 150,
    "start_time": "2024-10-18T20:50:47.587Z"
   },
   {
    "duration": 215,
    "start_time": "2024-10-18T20:50:47.739Z"
   },
   {
    "duration": 174,
    "start_time": "2024-10-18T20:50:47.956Z"
   },
   {
    "duration": 3,
    "start_time": "2024-10-18T20:50:48.132Z"
   },
   {
    "duration": 3,
    "start_time": "2024-10-18T20:50:48.137Z"
   },
   {
    "duration": 159,
    "start_time": "2024-10-18T20:50:48.142Z"
   },
   {
    "duration": 207,
    "start_time": "2024-10-18T20:50:48.302Z"
   },
   {
    "duration": 219,
    "start_time": "2024-10-18T20:50:48.511Z"
   },
   {
    "duration": 4,
    "start_time": "2024-10-18T20:50:48.732Z"
   },
   {
    "duration": 3,
    "start_time": "2024-10-18T20:50:48.739Z"
   },
   {
    "duration": 151,
    "start_time": "2024-10-18T20:50:48.744Z"
   },
   {
    "duration": 231,
    "start_time": "2024-10-18T20:50:48.897Z"
   },
   {
    "duration": 0,
    "start_time": "2024-10-18T20:50:49.129Z"
   },
   {
    "duration": 2990,
    "start_time": "2024-10-18T22:26:09.157Z"
   },
   {
    "duration": 285,
    "start_time": "2024-10-18T22:26:12.149Z"
   },
   {
    "duration": 13,
    "start_time": "2024-10-18T22:26:12.436Z"
   },
   {
    "duration": 9,
    "start_time": "2024-10-18T22:26:12.453Z"
   },
   {
    "duration": 13,
    "start_time": "2024-10-18T22:26:12.464Z"
   },
   {
    "duration": 9,
    "start_time": "2024-10-18T22:26:12.487Z"
   },
   {
    "duration": 9,
    "start_time": "2024-10-18T22:26:12.499Z"
   },
   {
    "duration": 3,
    "start_time": "2024-10-18T22:26:12.511Z"
   },
   {
    "duration": 4,
    "start_time": "2024-10-18T22:26:12.516Z"
   },
   {
    "duration": 8,
    "start_time": "2024-10-18T22:26:12.525Z"
   },
   {
    "duration": 16,
    "start_time": "2024-10-18T22:26:12.535Z"
   },
   {
    "duration": 5,
    "start_time": "2024-10-18T22:26:12.586Z"
   },
   {
    "duration": 17,
    "start_time": "2024-10-18T22:26:12.593Z"
   },
   {
    "duration": 5,
    "start_time": "2024-10-18T22:26:12.612Z"
   },
   {
    "duration": 85,
    "start_time": "2024-10-18T22:26:12.619Z"
   },
   {
    "duration": 23,
    "start_time": "2024-10-18T22:26:12.707Z"
   },
   {
    "duration": 62,
    "start_time": "2024-10-18T22:26:12.732Z"
   },
   {
    "duration": 18,
    "start_time": "2024-10-18T22:26:12.796Z"
   },
   {
    "duration": 9,
    "start_time": "2024-10-18T22:26:12.816Z"
   },
   {
    "duration": 25,
    "start_time": "2024-10-18T22:26:12.828Z"
   },
   {
    "duration": 40,
    "start_time": "2024-10-18T22:26:12.855Z"
   },
   {
    "duration": 5,
    "start_time": "2024-10-18T22:26:12.898Z"
   },
   {
    "duration": 36,
    "start_time": "2024-10-18T22:26:12.906Z"
   },
   {
    "duration": 11,
    "start_time": "2024-10-18T22:26:12.945Z"
   },
   {
    "duration": 18,
    "start_time": "2024-10-18T22:26:12.987Z"
   },
   {
    "duration": 17,
    "start_time": "2024-10-18T22:26:13.007Z"
   },
   {
    "duration": 6,
    "start_time": "2024-10-18T22:26:13.027Z"
   },
   {
    "duration": 18,
    "start_time": "2024-10-18T22:26:13.038Z"
   },
   {
    "duration": 22,
    "start_time": "2024-10-18T22:26:13.087Z"
   },
   {
    "duration": 13,
    "start_time": "2024-10-18T22:26:13.111Z"
   },
   {
    "duration": 70,
    "start_time": "2024-10-18T22:26:13.126Z"
   },
   {
    "duration": 14,
    "start_time": "2024-10-18T22:26:13.203Z"
   },
   {
    "duration": 47,
    "start_time": "2024-10-18T22:26:13.219Z"
   },
   {
    "duration": 45,
    "start_time": "2024-10-18T22:26:13.268Z"
   },
   {
    "duration": 8,
    "start_time": "2024-10-18T22:26:13.316Z"
   },
   {
    "duration": 18,
    "start_time": "2024-10-18T22:26:13.326Z"
   },
   {
    "duration": 5,
    "start_time": "2024-10-18T22:26:13.346Z"
   },
   {
    "duration": 45,
    "start_time": "2024-10-18T22:26:13.353Z"
   },
   {
    "duration": 10,
    "start_time": "2024-10-18T22:26:13.403Z"
   },
   {
    "duration": 25,
    "start_time": "2024-10-18T22:26:13.415Z"
   },
   {
    "duration": 9,
    "start_time": "2024-10-18T22:26:13.442Z"
   },
   {
    "duration": 34,
    "start_time": "2024-10-18T22:26:13.453Z"
   },
   {
    "duration": 16,
    "start_time": "2024-10-18T22:26:13.490Z"
   },
   {
    "duration": 19,
    "start_time": "2024-10-18T22:26:13.509Z"
   },
   {
    "duration": 5,
    "start_time": "2024-10-18T22:26:13.530Z"
   },
   {
    "duration": 14,
    "start_time": "2024-10-18T22:26:13.538Z"
   },
   {
    "duration": 16,
    "start_time": "2024-10-18T22:26:13.586Z"
   },
   {
    "duration": 4,
    "start_time": "2024-10-18T22:26:13.605Z"
   },
   {
    "duration": 11,
    "start_time": "2024-10-18T22:26:13.611Z"
   },
   {
    "duration": 7,
    "start_time": "2024-10-18T22:26:13.625Z"
   },
   {
    "duration": 13,
    "start_time": "2024-10-18T22:26:13.634Z"
   },
   {
    "duration": 42,
    "start_time": "2024-10-18T22:26:13.649Z"
   },
   {
    "duration": 25,
    "start_time": "2024-10-18T22:26:13.693Z"
   },
   {
    "duration": 4,
    "start_time": "2024-10-18T22:26:13.720Z"
   },
   {
    "duration": 10,
    "start_time": "2024-10-18T22:26:13.726Z"
   },
   {
    "duration": 54,
    "start_time": "2024-10-18T22:26:13.738Z"
   },
   {
    "duration": 5,
    "start_time": "2024-10-18T22:26:13.794Z"
   },
   {
    "duration": 249,
    "start_time": "2024-10-18T22:26:13.801Z"
   },
   {
    "duration": 257,
    "start_time": "2024-10-18T22:26:14.053Z"
   },
   {
    "duration": 4,
    "start_time": "2024-10-18T22:26:14.312Z"
   },
   {
    "duration": 4,
    "start_time": "2024-10-18T22:26:14.318Z"
   },
   {
    "duration": 165,
    "start_time": "2024-10-18T22:26:14.325Z"
   },
   {
    "duration": 250,
    "start_time": "2024-10-18T22:26:14.493Z"
   },
   {
    "duration": 198,
    "start_time": "2024-10-18T22:26:14.745Z"
   },
   {
    "duration": 5,
    "start_time": "2024-10-18T22:26:14.945Z"
   },
   {
    "duration": 4,
    "start_time": "2024-10-18T22:26:14.953Z"
   },
   {
    "duration": 170,
    "start_time": "2024-10-18T22:26:14.959Z"
   },
   {
    "duration": 205,
    "start_time": "2024-10-18T22:26:15.131Z"
   },
   {
    "duration": 191,
    "start_time": "2024-10-18T22:26:15.338Z"
   },
   {
    "duration": 3,
    "start_time": "2024-10-18T22:26:15.533Z"
   },
   {
    "duration": 3,
    "start_time": "2024-10-18T22:26:15.539Z"
   },
   {
    "duration": 170,
    "start_time": "2024-10-18T22:26:15.544Z"
   },
   {
    "duration": 226,
    "start_time": "2024-10-18T22:26:15.717Z"
   },
   {
    "duration": 184,
    "start_time": "2024-10-18T22:26:15.945Z"
   },
   {
    "duration": 4,
    "start_time": "2024-10-18T22:26:16.131Z"
   },
   {
    "duration": 4,
    "start_time": "2024-10-18T22:26:16.137Z"
   },
   {
    "duration": 190,
    "start_time": "2024-10-18T22:26:16.143Z"
   },
   {
    "duration": 356,
    "start_time": "2024-10-18T22:26:16.335Z"
   },
   {
    "duration": 0,
    "start_time": "2024-10-18T22:26:16.693Z"
   },
   {
    "duration": 6,
    "start_time": "2024-10-18T22:32:35.040Z"
   },
   {
    "duration": 6,
    "start_time": "2024-10-18T22:32:43.126Z"
   },
   {
    "duration": 5,
    "start_time": "2024-10-18T22:32:51.699Z"
   },
   {
    "duration": 28,
    "start_time": "2024-10-18T22:40:25.248Z"
   },
   {
    "duration": 2488,
    "start_time": "2024-10-19T15:46:28.458Z"
   },
   {
    "duration": 202,
    "start_time": "2024-10-19T15:46:30.949Z"
   },
   {
    "duration": 9,
    "start_time": "2024-10-19T15:46:31.152Z"
   },
   {
    "duration": 6,
    "start_time": "2024-10-19T15:46:31.163Z"
   },
   {
    "duration": 16,
    "start_time": "2024-10-19T15:46:31.171Z"
   },
   {
    "duration": 9,
    "start_time": "2024-10-19T15:46:31.190Z"
   },
   {
    "duration": 6,
    "start_time": "2024-10-19T15:46:31.200Z"
   },
   {
    "duration": 4,
    "start_time": "2024-10-19T15:46:31.224Z"
   },
   {
    "duration": 4,
    "start_time": "2024-10-19T15:46:31.229Z"
   },
   {
    "duration": 5,
    "start_time": "2024-10-19T15:46:31.234Z"
   },
   {
    "duration": 10,
    "start_time": "2024-10-19T15:46:31.240Z"
   },
   {
    "duration": 3,
    "start_time": "2024-10-19T15:46:31.252Z"
   },
   {
    "duration": 15,
    "start_time": "2024-10-19T15:46:31.257Z"
   },
   {
    "duration": 4,
    "start_time": "2024-10-19T15:46:31.275Z"
   },
   {
    "duration": 92,
    "start_time": "2024-10-19T15:46:31.281Z"
   },
   {
    "duration": 15,
    "start_time": "2024-10-19T15:46:31.375Z"
   },
   {
    "duration": 43,
    "start_time": "2024-10-19T15:46:31.392Z"
   },
   {
    "duration": 15,
    "start_time": "2024-10-19T15:46:31.437Z"
   },
   {
    "duration": 8,
    "start_time": "2024-10-19T15:46:31.453Z"
   },
   {
    "duration": 17,
    "start_time": "2024-10-19T15:46:31.462Z"
   },
   {
    "duration": 12,
    "start_time": "2024-10-19T15:46:31.480Z"
   },
   {
    "duration": 31,
    "start_time": "2024-10-19T15:46:31.494Z"
   },
   {
    "duration": 34,
    "start_time": "2024-10-19T15:46:31.526Z"
   },
   {
    "duration": 10,
    "start_time": "2024-10-19T15:46:31.562Z"
   },
   {
    "duration": 14,
    "start_time": "2024-10-19T15:46:31.573Z"
   },
   {
    "duration": 36,
    "start_time": "2024-10-19T15:46:31.589Z"
   },
   {
    "duration": 5,
    "start_time": "2024-10-19T15:46:31.626Z"
   },
   {
    "duration": 13,
    "start_time": "2024-10-19T15:46:31.633Z"
   },
   {
    "duration": 13,
    "start_time": "2024-10-19T15:46:31.647Z"
   },
   {
    "duration": 5,
    "start_time": "2024-10-19T15:46:31.661Z"
   },
   {
    "duration": 75,
    "start_time": "2024-10-19T15:46:31.667Z"
   },
   {
    "duration": 13,
    "start_time": "2024-10-19T15:46:31.743Z"
   },
   {
    "duration": 32,
    "start_time": "2024-10-19T15:46:31.758Z"
   },
   {
    "duration": 35,
    "start_time": "2024-10-19T15:46:31.792Z"
   },
   {
    "duration": 6,
    "start_time": "2024-10-19T15:46:31.829Z"
   },
   {
    "duration": 16,
    "start_time": "2024-10-19T15:46:31.836Z"
   },
   {
    "duration": 6,
    "start_time": "2024-10-19T15:46:31.854Z"
   },
   {
    "duration": 18,
    "start_time": "2024-10-19T15:46:31.862Z"
   },
   {
    "duration": 7,
    "start_time": "2024-10-19T15:46:31.882Z"
   },
   {
    "duration": 46,
    "start_time": "2024-10-19T15:46:31.890Z"
   },
   {
    "duration": 5,
    "start_time": "2024-10-19T15:46:31.941Z"
   },
   {
    "duration": 11,
    "start_time": "2024-10-19T15:46:31.948Z"
   },
   {
    "duration": 10,
    "start_time": "2024-10-19T15:46:31.960Z"
   },
   {
    "duration": 15,
    "start_time": "2024-10-19T15:46:31.972Z"
   },
   {
    "duration": 4,
    "start_time": "2024-10-19T15:46:31.988Z"
   },
   {
    "duration": 38,
    "start_time": "2024-10-19T15:46:31.994Z"
   },
   {
    "duration": 11,
    "start_time": "2024-10-19T15:46:32.033Z"
   },
   {
    "duration": 3,
    "start_time": "2024-10-19T15:46:32.046Z"
   },
   {
    "duration": 8,
    "start_time": "2024-10-19T15:46:32.051Z"
   },
   {
    "duration": 6,
    "start_time": "2024-10-19T15:46:32.060Z"
   },
   {
    "duration": 10,
    "start_time": "2024-10-19T15:46:32.067Z"
   },
   {
    "duration": 6,
    "start_time": "2024-10-19T15:46:32.079Z"
   },
   {
    "duration": 57,
    "start_time": "2024-10-19T15:46:32.086Z"
   },
   {
    "duration": 3,
    "start_time": "2024-10-19T15:46:32.145Z"
   },
   {
    "duration": 7,
    "start_time": "2024-10-19T15:46:32.150Z"
   },
   {
    "duration": 19,
    "start_time": "2024-10-19T15:46:32.158Z"
   },
   {
    "duration": 3,
    "start_time": "2024-10-19T15:46:32.178Z"
   },
   {
    "duration": 219,
    "start_time": "2024-10-19T15:46:32.182Z"
   },
   {
    "duration": 205,
    "start_time": "2024-10-19T15:46:32.403Z"
   },
   {
    "duration": 3,
    "start_time": "2024-10-19T15:46:32.610Z"
   },
   {
    "duration": 2,
    "start_time": "2024-10-19T15:46:32.624Z"
   },
   {
    "duration": 151,
    "start_time": "2024-10-19T15:46:32.628Z"
   },
   {
    "duration": 194,
    "start_time": "2024-10-19T15:46:32.781Z"
   },
   {
    "duration": 158,
    "start_time": "2024-10-19T15:46:32.976Z"
   },
   {
    "duration": 3,
    "start_time": "2024-10-19T15:46:33.135Z"
   },
   {
    "duration": 3,
    "start_time": "2024-10-19T15:46:33.140Z"
   },
   {
    "duration": 146,
    "start_time": "2024-10-19T15:46:33.145Z"
   },
   {
    "duration": 186,
    "start_time": "2024-10-19T15:46:33.293Z"
   },
   {
    "duration": 175,
    "start_time": "2024-10-19T15:46:33.480Z"
   },
   {
    "duration": 5,
    "start_time": "2024-10-19T15:46:33.657Z"
   },
   {
    "duration": 3,
    "start_time": "2024-10-19T15:46:33.664Z"
   },
   {
    "duration": 163,
    "start_time": "2024-10-19T15:46:33.669Z"
   },
   {
    "duration": 209,
    "start_time": "2024-10-19T15:46:33.834Z"
   },
   {
    "duration": 150,
    "start_time": "2024-10-19T15:46:34.045Z"
   },
   {
    "duration": 2,
    "start_time": "2024-10-19T15:46:34.197Z"
   },
   {
    "duration": 4,
    "start_time": "2024-10-19T15:46:34.201Z"
   },
   {
    "duration": 140,
    "start_time": "2024-10-19T15:46:34.206Z"
   },
   {
    "duration": 6,
    "start_time": "2024-10-19T15:46:34.347Z"
   },
   {
    "duration": 0,
    "start_time": "2024-10-19T15:46:34.354Z"
   },
   {
    "duration": 197,
    "start_time": "2024-10-19T16:06:01.528Z"
   },
   {
    "duration": 6,
    "start_time": "2024-10-19T16:06:26.689Z"
   },
   {
    "duration": 2637,
    "start_time": "2024-10-21T14:38:48.225Z"
   },
   {
    "duration": 232,
    "start_time": "2024-10-21T14:38:50.864Z"
   },
   {
    "duration": 10,
    "start_time": "2024-10-21T14:38:51.097Z"
   },
   {
    "duration": 6,
    "start_time": "2024-10-21T14:38:51.109Z"
   },
   {
    "duration": 9,
    "start_time": "2024-10-21T14:38:51.117Z"
   },
   {
    "duration": 8,
    "start_time": "2024-10-21T14:38:51.128Z"
   },
   {
    "duration": 5,
    "start_time": "2024-10-21T14:38:51.139Z"
   },
   {
    "duration": 5,
    "start_time": "2024-10-21T14:38:51.145Z"
   },
   {
    "duration": 5,
    "start_time": "2024-10-21T14:38:51.151Z"
   },
   {
    "duration": 5,
    "start_time": "2024-10-21T14:38:51.159Z"
   },
   {
    "duration": 47,
    "start_time": "2024-10-21T14:38:51.166Z"
   },
   {
    "duration": 4,
    "start_time": "2024-10-21T14:38:51.215Z"
   },
   {
    "duration": 15,
    "start_time": "2024-10-21T14:38:51.221Z"
   },
   {
    "duration": 5,
    "start_time": "2024-10-21T14:38:51.237Z"
   },
   {
    "duration": 87,
    "start_time": "2024-10-21T14:38:51.243Z"
   },
   {
    "duration": 16,
    "start_time": "2024-10-21T14:38:51.332Z"
   },
   {
    "duration": 31,
    "start_time": "2024-10-21T14:38:51.350Z"
   },
   {
    "duration": 36,
    "start_time": "2024-10-21T14:38:51.383Z"
   },
   {
    "duration": 8,
    "start_time": "2024-10-21T14:38:51.421Z"
   },
   {
    "duration": 19,
    "start_time": "2024-10-21T14:38:51.430Z"
   },
   {
    "duration": 12,
    "start_time": "2024-10-21T14:38:51.450Z"
   },
   {
    "duration": 5,
    "start_time": "2024-10-21T14:38:51.463Z"
   },
   {
    "duration": 64,
    "start_time": "2024-10-21T14:38:51.469Z"
   },
   {
    "duration": 10,
    "start_time": "2024-10-21T14:38:51.535Z"
   },
   {
    "duration": 15,
    "start_time": "2024-10-21T14:38:51.546Z"
   },
   {
    "duration": 12,
    "start_time": "2024-10-21T14:38:51.562Z"
   },
   {
    "duration": 5,
    "start_time": "2024-10-21T14:38:51.576Z"
   },
   {
    "duration": 13,
    "start_time": "2024-10-21T14:38:51.611Z"
   },
   {
    "duration": 13,
    "start_time": "2024-10-21T14:38:51.625Z"
   },
   {
    "duration": 5,
    "start_time": "2024-10-21T14:38:51.639Z"
   },
   {
    "duration": 72,
    "start_time": "2024-10-21T14:38:51.646Z"
   },
   {
    "duration": 13,
    "start_time": "2024-10-21T14:38:51.720Z"
   },
   {
    "duration": 34,
    "start_time": "2024-10-21T14:38:51.735Z"
   },
   {
    "duration": 15,
    "start_time": "2024-10-21T14:38:51.770Z"
   },
   {
    "duration": 7,
    "start_time": "2024-10-21T14:38:51.808Z"
   },
   {
    "duration": 15,
    "start_time": "2024-10-21T14:38:51.817Z"
   },
   {
    "duration": 4,
    "start_time": "2024-10-21T14:38:51.834Z"
   },
   {
    "duration": 23,
    "start_time": "2024-10-21T14:38:51.840Z"
   },
   {
    "duration": 7,
    "start_time": "2024-10-21T14:38:51.865Z"
   },
   {
    "duration": 48,
    "start_time": "2024-10-21T14:38:51.875Z"
   },
   {
    "duration": 7,
    "start_time": "2024-10-21T14:38:51.924Z"
   },
   {
    "duration": 11,
    "start_time": "2024-10-21T14:38:51.932Z"
   },
   {
    "duration": 10,
    "start_time": "2024-10-21T14:38:51.945Z"
   },
   {
    "duration": 16,
    "start_time": "2024-10-21T14:38:51.956Z"
   },
   {
    "duration": 37,
    "start_time": "2024-10-21T14:38:51.973Z"
   },
   {
    "duration": 12,
    "start_time": "2024-10-21T14:38:52.011Z"
   },
   {
    "duration": 12,
    "start_time": "2024-10-21T14:38:52.024Z"
   },
   {
    "duration": 3,
    "start_time": "2024-10-21T14:38:52.038Z"
   },
   {
    "duration": 7,
    "start_time": "2024-10-21T14:38:52.043Z"
   },
   {
    "duration": 5,
    "start_time": "2024-10-21T14:38:52.052Z"
   },
   {
    "duration": 11,
    "start_time": "2024-10-21T14:38:52.059Z"
   },
   {
    "duration": 43,
    "start_time": "2024-10-21T14:38:52.072Z"
   },
   {
    "duration": 21,
    "start_time": "2024-10-21T14:38:52.117Z"
   },
   {
    "duration": 4,
    "start_time": "2024-10-21T14:38:52.141Z"
   },
   {
    "duration": 7,
    "start_time": "2024-10-21T14:38:52.147Z"
   },
   {
    "duration": 21,
    "start_time": "2024-10-21T14:38:52.156Z"
   },
   {
    "duration": 30,
    "start_time": "2024-10-21T14:38:52.179Z"
   },
   {
    "duration": 206,
    "start_time": "2024-10-21T14:38:52.211Z"
   },
   {
    "duration": 167,
    "start_time": "2024-10-21T14:38:52.419Z"
   },
   {
    "duration": 3,
    "start_time": "2024-10-21T14:38:52.588Z"
   },
   {
    "duration": 3,
    "start_time": "2024-10-21T14:38:52.593Z"
   },
   {
    "duration": 150,
    "start_time": "2024-10-21T14:38:52.609Z"
   },
   {
    "duration": 259,
    "start_time": "2024-10-21T14:38:52.761Z"
   },
   {
    "duration": 168,
    "start_time": "2024-10-21T14:38:53.021Z"
   },
   {
    "duration": 4,
    "start_time": "2024-10-21T14:38:53.190Z"
   },
   {
    "duration": 16,
    "start_time": "2024-10-21T14:38:53.195Z"
   },
   {
    "duration": 141,
    "start_time": "2024-10-21T14:38:53.212Z"
   },
   {
    "duration": 190,
    "start_time": "2024-10-21T14:38:53.355Z"
   },
   {
    "duration": 173,
    "start_time": "2024-10-21T14:38:53.546Z"
   },
   {
    "duration": 3,
    "start_time": "2024-10-21T14:38:53.721Z"
   },
   {
    "duration": 4,
    "start_time": "2024-10-21T14:38:53.726Z"
   },
   {
    "duration": 155,
    "start_time": "2024-10-21T14:38:53.732Z"
   },
   {
    "duration": 219,
    "start_time": "2024-10-21T14:38:53.889Z"
   },
   {
    "duration": 148,
    "start_time": "2024-10-21T14:38:54.110Z"
   },
   {
    "duration": 3,
    "start_time": "2024-10-21T14:38:54.259Z"
   },
   {
    "duration": 3,
    "start_time": "2024-10-21T14:38:54.264Z"
   },
   {
    "duration": 145,
    "start_time": "2024-10-21T14:38:54.269Z"
   },
   {
    "duration": 5,
    "start_time": "2024-10-21T14:38:54.416Z"
   },
   {
    "duration": 0,
    "start_time": "2024-10-21T14:38:54.423Z"
   },
   {
    "duration": 308,
    "start_time": "2024-10-21T14:44:53.640Z"
   },
   {
    "duration": 7,
    "start_time": "2024-10-21T14:45:07.003Z"
   },
   {
    "duration": 6,
    "start_time": "2024-10-21T14:46:31.228Z"
   },
   {
    "duration": 20,
    "start_time": "2024-10-21T14:46:36.546Z"
   },
   {
    "duration": 20,
    "start_time": "2024-10-21T14:46:44.671Z"
   },
   {
    "duration": 8,
    "start_time": "2024-10-21T14:49:22.352Z"
   },
   {
    "duration": 304,
    "start_time": "2024-10-21T14:50:01.601Z"
   },
   {
    "duration": 9,
    "start_time": "2024-10-21T14:50:11.739Z"
   }
  ],
  "colab": {
   "provenance": []
  },
  "kernelspec": {
   "display_name": "Python 3 (ipykernel)",
   "language": "python",
   "name": "python3"
  },
  "language_info": {
   "codemirror_mode": {
    "name": "ipython",
    "version": 3
   },
   "file_extension": ".py",
   "mimetype": "text/x-python",
   "name": "python",
   "nbconvert_exporter": "python",
   "pygments_lexer": "ipython3",
   "version": "3.9.19"
  },
  "toc": {
   "base_numbering": 1,
   "nav_menu": {},
   "number_sections": true,
   "sideBar": true,
   "skip_h1_title": false,
   "title_cell": "Table of Contents",
   "title_sidebar": "Contents",
   "toc_cell": false,
   "toc_position": {},
   "toc_section_display": true,
   "toc_window_display": true
  }
 },
 "nbformat": 4,
 "nbformat_minor": 1
}
